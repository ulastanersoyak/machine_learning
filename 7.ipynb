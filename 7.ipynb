{
  "cells": [
    {
      "cell_type": "markdown",
      "metadata": {
        "id": "pvcLEDfsRnOI"
      },
      "source": [
        "# CNN pruning and quantization\n",
        "\n",
        "\n"
      ]
    },
    {
      "cell_type": "markdown",
      "metadata": {
        "id": "jgioA_PERnOQ"
      },
      "source": [
        "Quantization allows for decreasing data memory size necessary to store them.\n",
        "\n",
        "Also allows for faster computation with dedicated devices like embedded GPU and FPGA.\n",
        "\n",
        "Applying quantization on continues data creates regions of attraction.\n",
        "\n",
        "Values from some range are assigned to proper value that represents that range.\n",
        "\n",
        "That also increase the level of correlation between quantized filters, \n",
        "\n",
        "so allows for more effective pruning.\n",
        "\n",
        "That results with much more smaller network than at the beginning.  "
      ]
    },
    {
      "cell_type": "code",
      "execution_count": 4,
      "metadata": {
        "colab": {
          "base_uri": "https://localhost:8080/"
        },
        "id": "9ISs0r1yRnOS",
        "outputId": "e3b7e9a8-5c6c-44aa-d711-00b26442fb4e"
      },
      "outputs": [
        {
          "name": "stdout",
          "output_type": "stream",
          "text": [
            "mkdir: cannot create directory ‘data’: File exists\n"
          ]
        }
      ],
      "source": [
        "!mkdir data"
      ]
    },
    {
      "cell_type": "code",
      "execution_count": 5,
      "metadata": {
        "colab": {
          "base_uri": "https://localhost:8080/"
        },
        "id": "TLlvOVshRnOW",
        "outputId": "d7b4562d-ac53-4571-a49e-a517ab8f8076"
      },
      "outputs": [
        {
          "name": "stdout",
          "output_type": "stream",
          "text": [
            "cuda\n"
          ]
        }
      ],
      "source": [
        "import torch\n",
        "from torchvision import datasets\n",
        "from torch.utils.data import DataLoader\n",
        "from torch import nn\n",
        "from torch import optim\n",
        "import numpy as np\n",
        "import matplotlib.pyplot as plt\n",
        "import random\n",
        "from typing import List, Tuple, Dict\n",
        "from copy import deepcopy\n",
        "\n",
        "# local_utils file contains util functions for training or display\n",
        "# CHECK IT\n",
        "import local_utils as lu\n",
        "\n",
        "device = torch.device('cuda') if torch.cuda.is_available() else torch.device('cpu')\n",
        "print(device)\n",
        "\n",
        "def set_random_seed(seed:int = 0):\n",
        "    torch.manual_seed(seed)\n",
        "    np.random.seed(seed)\n",
        "    random.seed(seed)\n",
        "    "
      ]
    },
    {
      "cell_type": "markdown",
      "metadata": {
        "id": "oj5BeN39RnOa"
      },
      "source": [
        "Datasets"
      ]
    },
    {
      "cell_type": "code",
      "execution_count": 6,
      "metadata": {
        "colab": {
          "base_uri": "https://localhost:8080/",
          "height": 645,
          "referenced_widgets": [
            "64f4ae0758da41f18ff8cacf0006c87e",
            "a29978129cc644f9aa0ca62dbef10f6e",
            "8c2620ef9fbf40f9a964f16f8f10380b",
            "9031672352d34871985e404ced15d4ce",
            "fbfdfcfd3a6f4db5a837be54431f9bd1",
            "645d7c8a004f4e969d3331ce12a5e878",
            "65fcdc92e72341e78b3553ebf924a371",
            "5a57dc66f278419dafcc0cd91f8ddb8c",
            "693991c9838c4dafa38f93a79e387363",
            "589ae22ea2504139a3c3b2ce67cc3d3c",
            "5af839e4cbb8430b84887da3050a5726",
            "955b0168fb5f4924a7039f0c35a12c1c",
            "3f8ef9f9bf2c40a88b25b5c2aa8a2370",
            "507be7973ecb4dc8b95fc9ef00b8fb7a",
            "6a54101903c140cdb7bf417e9be0ddbf",
            "c7bb8b3b858d46d4ac6e47465b49a87f",
            "b4c2eb1db3f44f6691e6cedfeb3e9879",
            "da9c6c6e628046729a4bf77e855ba84f",
            "d188f21dc8f24de6a6d28539ae9fb1d6",
            "baf95c4877124cd88b6593e7c19299f3",
            "07bcb74029d04d4da32eef131f525eec",
            "5cf6ae0dd2194d84893d59864c508337",
            "b8e27804fc904e22b9eb649b656c31be",
            "c804891c0a6c4d8a8950ef48a5a57c69",
            "7188f7806ea34539ac20b4ef3a9f862a",
            "854aa12b9308496294921d0ab1e405be",
            "f6d9897fa67a44fe8762d84c9ff2acca",
            "5e781fb6e2584f75a38c740a084a80c7",
            "b6dbdd51f6634814a3d1158e5f728817",
            "0f72f198fa1c4effa09d9622b3139647",
            "21b4acfac35049418550a0ce85bbf09e",
            "666b768a5ea44031aa435c2a45ed464f",
            "2ce64d6ecb394a6fbf1ad7e65acbc069",
            "29967421b2b84372b50034275969e375",
            "948f0f8074d4466798869252c1ba7a78",
            "6efe8223f1e74a818f46ae86e1ea8e31",
            "e136c7f519044b2ebdd6512609030a42",
            "a5c837484ac84fe6b462d98a04a0946a",
            "f75e034ac26a4e93a61d66eac41e3c09",
            "9fd7b4b561a047d2bbad422c34f67571",
            "ee011db4a03240ddbb8c86652f1b3229",
            "ea28d4b749d34f7d8e32e2071a573923",
            "e3bb6a1c47be44698de23135363c4666",
            "2d482dd780fe44858ec6f356c005ad33"
          ]
        },
        "id": "KMPDO5vjRnOc",
        "outputId": "c3ba30a6-e2eb-4450-aeb9-189891242481"
      },
      "outputs": [
        {
          "name": "stdout",
          "output_type": "stream",
          "text": [
            "Downloading http://yann.lecun.com/exdb/mnist/train-images-idx3-ubyte.gz\n",
            "Downloading http://yann.lecun.com/exdb/mnist/train-images-idx3-ubyte.gz to data/MNIST/raw/train-images-idx3-ubyte.gz\n"
          ]
        },
        {
          "data": {
            "application/vnd.jupyter.widget-view+json": {
              "model_id": "64f4ae0758da41f18ff8cacf0006c87e",
              "version_major": 2,
              "version_minor": 0
            },
            "text/plain": [
              "  0%|          | 0/9912422 [00:00<?, ?it/s]"
            ]
          },
          "metadata": {},
          "output_type": "display_data"
        },
        {
          "name": "stdout",
          "output_type": "stream",
          "text": [
            "Extracting data/MNIST/raw/train-images-idx3-ubyte.gz to data/MNIST/raw\n",
            "\n",
            "Downloading http://yann.lecun.com/exdb/mnist/train-labels-idx1-ubyte.gz\n",
            "Downloading http://yann.lecun.com/exdb/mnist/train-labels-idx1-ubyte.gz to data/MNIST/raw/train-labels-idx1-ubyte.gz\n"
          ]
        },
        {
          "data": {
            "application/vnd.jupyter.widget-view+json": {
              "model_id": "955b0168fb5f4924a7039f0c35a12c1c",
              "version_major": 2,
              "version_minor": 0
            },
            "text/plain": [
              "  0%|          | 0/28881 [00:00<?, ?it/s]"
            ]
          },
          "metadata": {},
          "output_type": "display_data"
        },
        {
          "name": "stdout",
          "output_type": "stream",
          "text": [
            "Extracting data/MNIST/raw/train-labels-idx1-ubyte.gz to data/MNIST/raw\n",
            "\n",
            "Downloading http://yann.lecun.com/exdb/mnist/t10k-images-idx3-ubyte.gz\n",
            "Downloading http://yann.lecun.com/exdb/mnist/t10k-images-idx3-ubyte.gz to data/MNIST/raw/t10k-images-idx3-ubyte.gz\n"
          ]
        },
        {
          "data": {
            "application/vnd.jupyter.widget-view+json": {
              "model_id": "b8e27804fc904e22b9eb649b656c31be",
              "version_major": 2,
              "version_minor": 0
            },
            "text/plain": [
              "  0%|          | 0/1648877 [00:00<?, ?it/s]"
            ]
          },
          "metadata": {},
          "output_type": "display_data"
        },
        {
          "name": "stdout",
          "output_type": "stream",
          "text": [
            "Extracting data/MNIST/raw/t10k-images-idx3-ubyte.gz to data/MNIST/raw\n",
            "\n",
            "Downloading http://yann.lecun.com/exdb/mnist/t10k-labels-idx1-ubyte.gz\n",
            "Downloading http://yann.lecun.com/exdb/mnist/t10k-labels-idx1-ubyte.gz to data/MNIST/raw/t10k-labels-idx1-ubyte.gz\n"
          ]
        },
        {
          "data": {
            "application/vnd.jupyter.widget-view+json": {
              "model_id": "29967421b2b84372b50034275969e375",
              "version_major": 2,
              "version_minor": 0
            },
            "text/plain": [
              "  0%|          | 0/4542 [00:00<?, ?it/s]"
            ]
          },
          "metadata": {},
          "output_type": "display_data"
        },
        {
          "name": "stdout",
          "output_type": "stream",
          "text": [
            "Extracting data/MNIST/raw/t10k-labels-idx1-ubyte.gz to data/MNIST/raw\n",
            "\n",
            "len(train_loader) = 938\n",
            "len(test_loader) = 157\n",
            "torch.Size([64, 1, 28, 28])\n",
            "torch.Size([64])\n"
          ]
        },
        {
          "data": {
            "text/plain": [
              "<Figure size 432x288 with 0 Axes>"
            ]
          },
          "metadata": {},
          "output_type": "display_data"
        },
        {
          "data": {
            "image/png": "[encoded data removed]",
            "text/plain": [
              "<Figure size 2304x288 with 8 Axes>"
            ]
          },
          "metadata": {
            "needs_background": "light"
          },
          "output_type": "display_data"
        }
      ],
      "source": [
        "from torchvision.transforms import ToTensor\n",
        "\n",
        "BATCH_SIZE = 64\n",
        "set_random_seed(0)\n",
        "\n",
        "train_dataset = datasets.MNIST('data', \n",
        "                              train=True,\n",
        "                              download=True,\n",
        "                              transform=ToTensor())\n",
        "test_dataset = datasets.MNIST('data', \n",
        "                              train=False,\n",
        "                              download=True,\n",
        "                              transform=ToTensor())\n",
        "\n",
        "train_loader = DataLoader(train_dataset, \n",
        "                          batch_size=BATCH_SIZE,\n",
        "                          shuffle=False)\n",
        "test_loader = DataLoader(test_dataset, \n",
        "                          batch_size=BATCH_SIZE,\n",
        "                          shuffle=False)\n",
        "\n",
        "print(\"len(train_loader) =\", len(train_loader))\n",
        "print(\"len(test_loader) =\", len(test_loader))\n",
        "\n",
        "plt.gray()\n",
        "loader = train_loader\n",
        "for X, y in loader:\n",
        "    print(X.shape)\n",
        "    print(y.shape)\n",
        "    \n",
        "    ROWS, COLS = 1, 8\n",
        "    fig, axs = plt.subplots(ROWS, COLS)\n",
        "    fig.set_size_inches(COLS*4,ROWS*4)\n",
        "    axs = np.array(axs).flatten().tolist()\n",
        "    \n",
        "    for i, ax in enumerate(axs):\n",
        "        img = X[i,...]\n",
        "        class_label = loader.dataset.classes[y[i]]\n",
        "        ax.imshow(img.squeeze())\n",
        "    plt.show()\n",
        "    break"
      ]
    },
    {
      "cell_type": "markdown",
      "metadata": {
        "id": "rKkPZj_dRnOf"
      },
      "source": [
        "Network definition and training\n",
        "\n",
        "Run network training - it spends very long time, so for only your code check you can run only one epoch.\n",
        "\n",
        "When you check your code back to 30 epochs :) ."
      ]
    },
    {
      "cell_type": "code",
      "execution_count": 7,
      "metadata": {
        "colab": {
          "base_uri": "https://localhost:8080/"
        },
        "id": "iBAJHuqzSJFq",
        "outputId": "92e9b37a-77ff-41b2-ddd5-19e4cacbf568"
      },
      "outputs": [
        {
          "name": "stdout",
          "output_type": "stream",
          "text": [
            "Looking in indexes: https://pypi.org/simple, https://us-python.pkg.dev/colab-wheels/public/simple/\n",
            "Collecting brevitas\n",
            "  Downloading brevitas-0.8.0-py3-none-any.whl (357 kB)\n",
            "\u001b[2K     \u001b[90m━━━━━━━━━━━━━━━━━━━━━━━━━━━━━━━━━━━━━━\u001b[0m \u001b[32m357.3/357.3 KB\u001b[0m \u001b[31m17.6 MB/s\u001b[0m eta \u001b[36m0:00:00\u001b[0m\n",
            "\u001b[?25hRequirement already satisfied: torch>=1.5.1 in /usr/local/lib/python3.8/dist-packages (from brevitas) (1.13.1+cu116)\n",
            "Collecting dependencies==2.0.1\n",
            "  Downloading dependencies-2.0.1-py2.py3-none-any.whl (15 kB)\n",
            "Requirement already satisfied: typing-extensions>=3.7.4 in /usr/local/lib/python3.8/dist-packages (from brevitas) (4.4.0)\n",
            "Requirement already satisfied: packaging in /usr/local/lib/python3.8/dist-packages (from brevitas) (21.3)\n",
            "Requirement already satisfied: setuptools in /usr/local/lib/python3.8/dist-packages (from brevitas) (57.4.0)\n",
            "Requirement already satisfied: pyparsing!=3.0.5,>=2.0.2 in /usr/local/lib/python3.8/dist-packages (from packaging->brevitas) (3.0.9)\n",
            "Installing collected packages: dependencies, brevitas\n",
            "Successfully installed brevitas-0.8.0 dependencies-2.0.1\n"
          ]
        }
      ],
      "source": [
        "!pip install brevitas"
      ]
    },
    {
      "cell_type": "code",
      "execution_count": 8,
      "metadata": {
        "colab": {
          "base_uri": "https://localhost:8080/"
        },
        "id": "b3bTTMMkRnOh",
        "outputId": "9a863873-faed-4fac-f3f7-fc93faefab28"
      },
      "outputs": [
        {
          "name": "stdout",
          "output_type": "stream",
          "text": [
            "CNN out map shape = [32, 3, 3]\n",
            "CNN out map numel = 288\n",
            "Network paramerters number: 30959\n",
            "Epoch 1 / 30: STARTED\n",
            "TRAINING\n",
            "Running on platform: Linux-5.10.147+-x86_64-with-glibc2.29, machine: x86_64, python_version: 3.8.10, processor: x86_64, system: Linux, \n"
          ]
        },
        {
          "name": "stderr",
          "output_type": "stream",
          "text": [
            "938it [00:34, 27.55it/s]\n"
          ]
        },
        {
          "name": "stdout",
          "output_type": "stream",
          "text": [
            "VALIDATION\n",
            "Running on platform: Linux-5.10.147+-x86_64-with-glibc2.29, machine: x86_64, python_version: 3.8.10, processor: x86_64, system: Linux, \n"
          ]
        },
        {
          "name": "stderr",
          "output_type": "stream",
          "text": [
            "157it [00:02, 64.49it/s]\n"
          ]
        },
        {
          "name": "stdout",
          "output_type": "stream",
          "text": [
            "\rAfter epoch 1: loss=1.9282 acc=0.5357 val_loss=1.6971 val_acc=0.7625\n",
            "Epoch 1 / 30: FINISHED\n",
            "\n",
            "Epoch 2 / 30: STARTED\n",
            "TRAINING\n",
            "Running on platform: Linux-5.10.147+-x86_64-with-glibc2.29, machine: x86_64, python_version: 3.8.10, processor: x86_64, system: Linux, \n"
          ]
        },
        {
          "name": "stderr",
          "output_type": "stream",
          "text": [
            "938it [00:21, 44.58it/s]\n"
          ]
        },
        {
          "name": "stdout",
          "output_type": "stream",
          "text": [
            "VALIDATION\n",
            "Running on platform: Linux-5.10.147+-x86_64-with-glibc2.29, machine: x86_64, python_version: 3.8.10, processor: x86_64, system: Linux, \n"
          ]
        },
        {
          "name": "stderr",
          "output_type": "stream",
          "text": [
            "157it [00:02, 63.90it/s]\n"
          ]
        },
        {
          "name": "stdout",
          "output_type": "stream",
          "text": [
            "\rAfter epoch 2: loss=1.6919 acc=0.7682 val_loss=1.6764 val_acc=0.7839\n",
            "Epoch 2 / 30: FINISHED\n",
            "\n",
            "Epoch 3 / 30: STARTED\n",
            "TRAINING\n",
            "Running on platform: Linux-5.10.147+-x86_64-with-glibc2.29, machine: x86_64, python_version: 3.8.10, processor: x86_64, system: Linux, \n"
          ]
        },
        {
          "name": "stderr",
          "output_type": "stream",
          "text": [
            "938it [00:20, 45.36it/s]\n"
          ]
        },
        {
          "name": "stdout",
          "output_type": "stream",
          "text": [
            "VALIDATION\n",
            "Running on platform: Linux-5.10.147+-x86_64-with-glibc2.29, machine: x86_64, python_version: 3.8.10, processor: x86_64, system: Linux, \n"
          ]
        },
        {
          "name": "stderr",
          "output_type": "stream",
          "text": [
            "157it [00:02, 63.86it/s]\n"
          ]
        },
        {
          "name": "stdout",
          "output_type": "stream",
          "text": [
            "\rAfter epoch 3: loss=1.6205 acc=0.8400 val_loss=1.5915 val_acc=0.8686\n",
            "Epoch 3 / 30: FINISHED\n",
            "\n",
            "Epoch 4 / 30: STARTED\n",
            "TRAINING\n",
            "Running on platform: Linux-5.10.147+-x86_64-with-glibc2.29, machine: x86_64, python_version: 3.8.10, processor: x86_64, system: Linux, \n"
          ]
        },
        {
          "name": "stderr",
          "output_type": "stream",
          "text": [
            "938it [00:20, 45.96it/s]\n"
          ]
        },
        {
          "name": "stdout",
          "output_type": "stream",
          "text": [
            "VALIDATION\n",
            "Running on platform: Linux-5.10.147+-x86_64-with-glibc2.29, machine: x86_64, python_version: 3.8.10, processor: x86_64, system: Linux, \n"
          ]
        },
        {
          "name": "stderr",
          "output_type": "stream",
          "text": [
            "157it [00:02, 61.87it/s]\n"
          ]
        },
        {
          "name": "stdout",
          "output_type": "stream",
          "text": [
            "\rAfter epoch 4: loss=1.5844 acc=0.8765 val_loss=1.5799 val_acc=0.8802\n",
            "Epoch 4 / 30: FINISHED\n",
            "\n",
            "Epoch 5 / 30: STARTED\n",
            "TRAINING\n",
            "Running on platform: Linux-5.10.147+-x86_64-with-glibc2.29, machine: x86_64, python_version: 3.8.10, processor: x86_64, system: Linux, \n"
          ]
        },
        {
          "name": "stderr",
          "output_type": "stream",
          "text": [
            "938it [00:20, 45.81it/s]\n"
          ]
        },
        {
          "name": "stdout",
          "output_type": "stream",
          "text": [
            "VALIDATION\n",
            "Running on platform: Linux-5.10.147+-x86_64-with-glibc2.29, machine: x86_64, python_version: 3.8.10, processor: x86_64, system: Linux, \n"
          ]
        },
        {
          "name": "stderr",
          "output_type": "stream",
          "text": [
            "157it [00:02, 63.25it/s]\n"
          ]
        },
        {
          "name": "stdout",
          "output_type": "stream",
          "text": [
            "\rAfter epoch 5: loss=1.5801 acc=0.8805 val_loss=1.5789 val_acc=0.8805\n",
            "Epoch 5 / 30: FINISHED\n",
            "\n",
            "Epoch 6 / 30: STARTED\n",
            "TRAINING\n",
            "Running on platform: Linux-5.10.147+-x86_64-with-glibc2.29, machine: x86_64, python_version: 3.8.10, processor: x86_64, system: Linux, \n"
          ]
        },
        {
          "name": "stderr",
          "output_type": "stream",
          "text": [
            "938it [00:20, 45.10it/s]\n"
          ]
        },
        {
          "name": "stdout",
          "output_type": "stream",
          "text": [
            "VALIDATION\n",
            "Running on platform: Linux-5.10.147+-x86_64-with-glibc2.29, machine: x86_64, python_version: 3.8.10, processor: x86_64, system: Linux, \n"
          ]
        },
        {
          "name": "stderr",
          "output_type": "stream",
          "text": [
            "157it [00:02, 63.28it/s]\n"
          ]
        },
        {
          "name": "stdout",
          "output_type": "stream",
          "text": [
            "\rAfter epoch 6: loss=1.5759 acc=0.8848 val_loss=1.5766 val_acc=0.8836\n",
            "Epoch 6 / 30: FINISHED\n",
            "\n",
            "Epoch 7 / 30: STARTED\n",
            "TRAINING\n",
            "Running on platform: Linux-5.10.147+-x86_64-with-glibc2.29, machine: x86_64, python_version: 3.8.10, processor: x86_64, system: Linux, \n"
          ]
        },
        {
          "name": "stderr",
          "output_type": "stream",
          "text": [
            "938it [00:20, 45.42it/s]\n"
          ]
        },
        {
          "name": "stdout",
          "output_type": "stream",
          "text": [
            "VALIDATION\n",
            "Running on platform: Linux-5.10.147+-x86_64-with-glibc2.29, machine: x86_64, python_version: 3.8.10, processor: x86_64, system: Linux, \n"
          ]
        },
        {
          "name": "stderr",
          "output_type": "stream",
          "text": [
            "157it [00:02, 63.50it/s]\n"
          ]
        },
        {
          "name": "stdout",
          "output_type": "stream",
          "text": [
            "\rAfter epoch 7: loss=1.5743 acc=0.8863 val_loss=1.5748 val_acc=0.8854\n",
            "Epoch 7 / 30: FINISHED\n",
            "\n",
            "Epoch 8 / 30: STARTED\n",
            "TRAINING\n",
            "Running on platform: Linux-5.10.147+-x86_64-with-glibc2.29, machine: x86_64, python_version: 3.8.10, processor: x86_64, system: Linux, \n"
          ]
        },
        {
          "name": "stderr",
          "output_type": "stream",
          "text": [
            "938it [00:21, 44.29it/s]\n"
          ]
        },
        {
          "name": "stdout",
          "output_type": "stream",
          "text": [
            "VALIDATION\n",
            "Running on platform: Linux-5.10.147+-x86_64-with-glibc2.29, machine: x86_64, python_version: 3.8.10, processor: x86_64, system: Linux, \n"
          ]
        },
        {
          "name": "stderr",
          "output_type": "stream",
          "text": [
            "157it [00:02, 61.48it/s]\n"
          ]
        },
        {
          "name": "stdout",
          "output_type": "stream",
          "text": [
            "\rAfter epoch 8: loss=1.5720 acc=0.8883 val_loss=1.5741 val_acc=0.8862\n",
            "Epoch 8 / 30: FINISHED\n",
            "\n",
            "Epoch 9 / 30: STARTED\n",
            "TRAINING\n",
            "Running on platform: Linux-5.10.147+-x86_64-with-glibc2.29, machine: x86_64, python_version: 3.8.10, processor: x86_64, system: Linux, \n"
          ]
        },
        {
          "name": "stderr",
          "output_type": "stream",
          "text": [
            "938it [00:21, 44.51it/s]\n"
          ]
        },
        {
          "name": "stdout",
          "output_type": "stream",
          "text": [
            "VALIDATION\n",
            "Running on platform: Linux-5.10.147+-x86_64-with-glibc2.29, machine: x86_64, python_version: 3.8.10, processor: x86_64, system: Linux, \n"
          ]
        },
        {
          "name": "stderr",
          "output_type": "stream",
          "text": [
            "157it [00:02, 63.72it/s]\n"
          ]
        },
        {
          "name": "stdout",
          "output_type": "stream",
          "text": [
            "\rAfter epoch 9: loss=1.5708 acc=0.8893 val_loss=1.5720 val_acc=0.8882\n",
            "Epoch 9 / 30: FINISHED\n",
            "\n",
            "Epoch 10 / 30: STARTED\n",
            "TRAINING\n",
            "Running on platform: Linux-5.10.147+-x86_64-with-glibc2.29, machine: x86_64, python_version: 3.8.10, processor: x86_64, system: Linux, \n"
          ]
        },
        {
          "name": "stderr",
          "output_type": "stream",
          "text": [
            "938it [00:20, 45.25it/s]\n"
          ]
        },
        {
          "name": "stdout",
          "output_type": "stream",
          "text": [
            "VALIDATION\n",
            "Running on platform: Linux-5.10.147+-x86_64-with-glibc2.29, machine: x86_64, python_version: 3.8.10, processor: x86_64, system: Linux, \n"
          ]
        },
        {
          "name": "stderr",
          "output_type": "stream",
          "text": [
            "157it [00:02, 60.42it/s]\n"
          ]
        },
        {
          "name": "stdout",
          "output_type": "stream",
          "text": [
            "\rAfter epoch 10: loss=1.5695 acc=0.8907 val_loss=1.5725 val_acc=0.8871\n",
            "Epoch 10 / 30: FINISHED\n",
            "\n",
            "Epoch 11 / 30: STARTED\n",
            "TRAINING\n",
            "Running on platform: Linux-5.10.147+-x86_64-with-glibc2.29, machine: x86_64, python_version: 3.8.10, processor: x86_64, system: Linux, \n"
          ]
        },
        {
          "name": "stderr",
          "output_type": "stream",
          "text": [
            "938it [00:20, 45.50it/s]\n"
          ]
        },
        {
          "name": "stdout",
          "output_type": "stream",
          "text": [
            "VALIDATION\n",
            "Running on platform: Linux-5.10.147+-x86_64-with-glibc2.29, machine: x86_64, python_version: 3.8.10, processor: x86_64, system: Linux, \n"
          ]
        },
        {
          "name": "stderr",
          "output_type": "stream",
          "text": [
            "157it [00:02, 60.12it/s]\n"
          ]
        },
        {
          "name": "stdout",
          "output_type": "stream",
          "text": [
            "\rAfter epoch 11: loss=1.5692 acc=0.8909 val_loss=1.5709 val_acc=0.8886\n",
            "Epoch 11 / 30: FINISHED\n",
            "\n",
            "Epoch 12 / 30: STARTED\n",
            "TRAINING\n",
            "Running on platform: Linux-5.10.147+-x86_64-with-glibc2.29, machine: x86_64, python_version: 3.8.10, processor: x86_64, system: Linux, \n"
          ]
        },
        {
          "name": "stderr",
          "output_type": "stream",
          "text": [
            "938it [00:21, 44.58it/s]\n"
          ]
        },
        {
          "name": "stdout",
          "output_type": "stream",
          "text": [
            "VALIDATION\n",
            "Running on platform: Linux-5.10.147+-x86_64-with-glibc2.29, machine: x86_64, python_version: 3.8.10, processor: x86_64, system: Linux, \n"
          ]
        },
        {
          "name": "stderr",
          "output_type": "stream",
          "text": [
            "157it [00:02, 62.76it/s]\n"
          ]
        },
        {
          "name": "stdout",
          "output_type": "stream",
          "text": [
            "\rAfter epoch 12: loss=1.5680 acc=0.8918 val_loss=1.5719 val_acc=0.8878\n",
            "Epoch 12 / 30: FINISHED\n",
            "\n",
            "Epoch 13 / 30: STARTED\n",
            "TRAINING\n",
            "Running on platform: Linux-5.10.147+-x86_64-with-glibc2.29, machine: x86_64, python_version: 3.8.10, processor: x86_64, system: Linux, \n"
          ]
        },
        {
          "name": "stderr",
          "output_type": "stream",
          "text": [
            "938it [00:20, 45.54it/s]\n"
          ]
        },
        {
          "name": "stdout",
          "output_type": "stream",
          "text": [
            "VALIDATION\n",
            "Running on platform: Linux-5.10.147+-x86_64-with-glibc2.29, machine: x86_64, python_version: 3.8.10, processor: x86_64, system: Linux, \n"
          ]
        },
        {
          "name": "stderr",
          "output_type": "stream",
          "text": [
            "157it [00:02, 63.68it/s]\n"
          ]
        },
        {
          "name": "stdout",
          "output_type": "stream",
          "text": [
            "\rAfter epoch 13: loss=1.5667 acc=0.8929 val_loss=1.5690 val_acc=0.8901\n",
            "Epoch 13 / 30: FINISHED\n",
            "\n",
            "Epoch 14 / 30: STARTED\n",
            "TRAINING\n",
            "Running on platform: Linux-5.10.147+-x86_64-with-glibc2.29, machine: x86_64, python_version: 3.8.10, processor: x86_64, system: Linux, \n"
          ]
        },
        {
          "name": "stderr",
          "output_type": "stream",
          "text": [
            "938it [00:20, 45.16it/s]\n"
          ]
        },
        {
          "name": "stdout",
          "output_type": "stream",
          "text": [
            "VALIDATION\n",
            "Running on platform: Linux-5.10.147+-x86_64-with-glibc2.29, machine: x86_64, python_version: 3.8.10, processor: x86_64, system: Linux, \n"
          ]
        },
        {
          "name": "stderr",
          "output_type": "stream",
          "text": [
            "157it [00:02, 62.46it/s]\n"
          ]
        },
        {
          "name": "stdout",
          "output_type": "stream",
          "text": [
            "\rAfter epoch 14: loss=1.5661 acc=0.8936 val_loss=1.5709 val_acc=0.8890\n",
            "Epoch 14 / 30: FINISHED\n",
            "\n",
            "Epoch 15 / 30: STARTED\n",
            "TRAINING\n",
            "Running on platform: Linux-5.10.147+-x86_64-with-glibc2.29, machine: x86_64, python_version: 3.8.10, processor: x86_64, system: Linux, \n"
          ]
        },
        {
          "name": "stderr",
          "output_type": "stream",
          "text": [
            "938it [00:21, 44.56it/s]\n"
          ]
        },
        {
          "name": "stdout",
          "output_type": "stream",
          "text": [
            "VALIDATION\n",
            "Running on platform: Linux-5.10.147+-x86_64-with-glibc2.29, machine: x86_64, python_version: 3.8.10, processor: x86_64, system: Linux, \n"
          ]
        },
        {
          "name": "stderr",
          "output_type": "stream",
          "text": [
            "157it [00:02, 63.53it/s]\n"
          ]
        },
        {
          "name": "stdout",
          "output_type": "stream",
          "text": [
            "\rAfter epoch 15: loss=1.5656 acc=0.8937 val_loss=1.5687 val_acc=0.8905\n",
            "Epoch 15 / 30: FINISHED\n",
            "\n",
            "Epoch 16 / 30: STARTED\n",
            "TRAINING\n",
            "Running on platform: Linux-5.10.147+-x86_64-with-glibc2.29, machine: x86_64, python_version: 3.8.10, processor: x86_64, system: Linux, \n"
          ]
        },
        {
          "name": "stderr",
          "output_type": "stream",
          "text": [
            "938it [00:20, 45.35it/s]\n"
          ]
        },
        {
          "name": "stdout",
          "output_type": "stream",
          "text": [
            "VALIDATION\n",
            "Running on platform: Linux-5.10.147+-x86_64-with-glibc2.29, machine: x86_64, python_version: 3.8.10, processor: x86_64, system: Linux, \n"
          ]
        },
        {
          "name": "stderr",
          "output_type": "stream",
          "text": [
            "157it [00:02, 62.98it/s]\n"
          ]
        },
        {
          "name": "stdout",
          "output_type": "stream",
          "text": [
            "\rAfter epoch 16: loss=1.5651 acc=0.8944 val_loss=1.5700 val_acc=0.8888\n",
            "Epoch 16 / 30: FINISHED\n",
            "\n",
            "Epoch 17 / 30: STARTED\n",
            "TRAINING\n",
            "Running on platform: Linux-5.10.147+-x86_64-with-glibc2.29, machine: x86_64, python_version: 3.8.10, processor: x86_64, system: Linux, \n"
          ]
        },
        {
          "name": "stderr",
          "output_type": "stream",
          "text": [
            "938it [00:20, 44.95it/s]\n"
          ]
        },
        {
          "name": "stdout",
          "output_type": "stream",
          "text": [
            "VALIDATION\n",
            "Running on platform: Linux-5.10.147+-x86_64-with-glibc2.29, machine: x86_64, python_version: 3.8.10, processor: x86_64, system: Linux, \n"
          ]
        },
        {
          "name": "stderr",
          "output_type": "stream",
          "text": [
            "157it [00:02, 61.95it/s]\n"
          ]
        },
        {
          "name": "stdout",
          "output_type": "stream",
          "text": [
            "\rAfter epoch 17: loss=1.5648 acc=0.8943 val_loss=1.5690 val_acc=0.8894\n",
            "Epoch 17 / 30: FINISHED\n",
            "\n",
            "Epoch 18 / 30: STARTED\n",
            "TRAINING\n",
            "Running on platform: Linux-5.10.147+-x86_64-with-glibc2.29, machine: x86_64, python_version: 3.8.10, processor: x86_64, system: Linux, \n"
          ]
        },
        {
          "name": "stderr",
          "output_type": "stream",
          "text": [
            "938it [00:20, 44.95it/s]\n"
          ]
        },
        {
          "name": "stdout",
          "output_type": "stream",
          "text": [
            "VALIDATION\n",
            "Running on platform: Linux-5.10.147+-x86_64-with-glibc2.29, machine: x86_64, python_version: 3.8.10, processor: x86_64, system: Linux, \n"
          ]
        },
        {
          "name": "stderr",
          "output_type": "stream",
          "text": [
            "157it [00:02, 62.66it/s]\n"
          ]
        },
        {
          "name": "stdout",
          "output_type": "stream",
          "text": [
            "\rAfter epoch 18: loss=1.5639 acc=0.8952 val_loss=1.5682 val_acc=0.8902\n",
            "Epoch 18 / 30: FINISHED\n",
            "\n",
            "Epoch 19 / 30: STARTED\n",
            "TRAINING\n",
            "Running on platform: Linux-5.10.147+-x86_64-with-glibc2.29, machine: x86_64, python_version: 3.8.10, processor: x86_64, system: Linux, \n"
          ]
        },
        {
          "name": "stderr",
          "output_type": "stream",
          "text": [
            "938it [00:20, 44.89it/s]\n"
          ]
        },
        {
          "name": "stdout",
          "output_type": "stream",
          "text": [
            "VALIDATION\n",
            "Running on platform: Linux-5.10.147+-x86_64-with-glibc2.29, machine: x86_64, python_version: 3.8.10, processor: x86_64, system: Linux, \n"
          ]
        },
        {
          "name": "stderr",
          "output_type": "stream",
          "text": [
            "157it [00:02, 63.57it/s]\n"
          ]
        },
        {
          "name": "stdout",
          "output_type": "stream",
          "text": [
            "\rAfter epoch 19: loss=1.5634 acc=0.8956 val_loss=1.5674 val_acc=0.8909\n",
            "Epoch 19 / 30: FINISHED\n",
            "\n",
            "Epoch 20 / 30: STARTED\n",
            "TRAINING\n",
            "Running on platform: Linux-5.10.147+-x86_64-with-glibc2.29, machine: x86_64, python_version: 3.8.10, processor: x86_64, system: Linux, \n"
          ]
        },
        {
          "name": "stderr",
          "output_type": "stream",
          "text": [
            "938it [00:21, 44.56it/s]\n"
          ]
        },
        {
          "name": "stdout",
          "output_type": "stream",
          "text": [
            "VALIDATION\n",
            "Running on platform: Linux-5.10.147+-x86_64-with-glibc2.29, machine: x86_64, python_version: 3.8.10, processor: x86_64, system: Linux, \n"
          ]
        },
        {
          "name": "stderr",
          "output_type": "stream",
          "text": [
            "157it [00:02, 62.93it/s]\n"
          ]
        },
        {
          "name": "stdout",
          "output_type": "stream",
          "text": [
            "\rAfter epoch 20: loss=1.5631 acc=0.8959 val_loss=1.5670 val_acc=0.8914\n",
            "Epoch 20 / 30: FINISHED\n",
            "\n",
            "Epoch 21 / 30: STARTED\n",
            "TRAINING\n",
            "Running on platform: Linux-5.10.147+-x86_64-with-glibc2.29, machine: x86_64, python_version: 3.8.10, processor: x86_64, system: Linux, \n"
          ]
        },
        {
          "name": "stderr",
          "output_type": "stream",
          "text": [
            "938it [00:20, 45.28it/s]\n"
          ]
        },
        {
          "name": "stdout",
          "output_type": "stream",
          "text": [
            "VALIDATION\n",
            "Running on platform: Linux-5.10.147+-x86_64-with-glibc2.29, machine: x86_64, python_version: 3.8.10, processor: x86_64, system: Linux, \n"
          ]
        },
        {
          "name": "stderr",
          "output_type": "stream",
          "text": [
            "157it [00:02, 63.74it/s]\n"
          ]
        },
        {
          "name": "stdout",
          "output_type": "stream",
          "text": [
            "\rAfter epoch 21: loss=1.5620 acc=0.8968 val_loss=1.5668 val_acc=0.8914\n",
            "Epoch 21 / 30: FINISHED\n",
            "\n",
            "Epoch 22 / 30: STARTED\n",
            "TRAINING\n",
            "Running on platform: Linux-5.10.147+-x86_64-with-glibc2.29, machine: x86_64, python_version: 3.8.10, processor: x86_64, system: Linux, \n"
          ]
        },
        {
          "name": "stderr",
          "output_type": "stream",
          "text": [
            "938it [00:20, 45.05it/s]\n"
          ]
        },
        {
          "name": "stdout",
          "output_type": "stream",
          "text": [
            "VALIDATION\n",
            "Running on platform: Linux-5.10.147+-x86_64-with-glibc2.29, machine: x86_64, python_version: 3.8.10, processor: x86_64, system: Linux, \n"
          ]
        },
        {
          "name": "stderr",
          "output_type": "stream",
          "text": [
            "157it [00:02, 62.43it/s]\n"
          ]
        },
        {
          "name": "stdout",
          "output_type": "stream",
          "text": [
            "\rAfter epoch 22: loss=1.5623 acc=0.8963 val_loss=1.5665 val_acc=0.8918\n",
            "Epoch 22 / 30: FINISHED\n",
            "\n",
            "Epoch 23 / 30: STARTED\n",
            "TRAINING\n",
            "Running on platform: Linux-5.10.147+-x86_64-with-glibc2.29, machine: x86_64, python_version: 3.8.10, processor: x86_64, system: Linux, \n"
          ]
        },
        {
          "name": "stderr",
          "output_type": "stream",
          "text": [
            "938it [00:20, 45.27it/s]\n"
          ]
        },
        {
          "name": "stdout",
          "output_type": "stream",
          "text": [
            "VALIDATION\n",
            "Running on platform: Linux-5.10.147+-x86_64-with-glibc2.29, machine: x86_64, python_version: 3.8.10, processor: x86_64, system: Linux, \n"
          ]
        },
        {
          "name": "stderr",
          "output_type": "stream",
          "text": [
            "157it [00:02, 64.50it/s]\n"
          ]
        },
        {
          "name": "stdout",
          "output_type": "stream",
          "text": [
            "\rAfter epoch 23: loss=1.5617 acc=0.8967 val_loss=1.5657 val_acc=0.8921\n",
            "Epoch 23 / 30: FINISHED\n",
            "\n",
            "Epoch 24 / 30: STARTED\n",
            "TRAINING\n",
            "Running on platform: Linux-5.10.147+-x86_64-with-glibc2.29, machine: x86_64, python_version: 3.8.10, processor: x86_64, system: Linux, \n"
          ]
        },
        {
          "name": "stderr",
          "output_type": "stream",
          "text": [
            "938it [00:20, 45.07it/s]\n"
          ]
        },
        {
          "name": "stdout",
          "output_type": "stream",
          "text": [
            "VALIDATION\n",
            "Running on platform: Linux-5.10.147+-x86_64-with-glibc2.29, machine: x86_64, python_version: 3.8.10, processor: x86_64, system: Linux, \n"
          ]
        },
        {
          "name": "stderr",
          "output_type": "stream",
          "text": [
            "157it [00:02, 63.95it/s]\n"
          ]
        },
        {
          "name": "stdout",
          "output_type": "stream",
          "text": [
            "\rAfter epoch 24: loss=1.5613 acc=0.8971 val_loss=1.5681 val_acc=0.8899\n",
            "Epoch 24 / 30: FINISHED\n",
            "\n",
            "Epoch 25 / 30: STARTED\n",
            "TRAINING\n",
            "Running on platform: Linux-5.10.147+-x86_64-with-glibc2.29, machine: x86_64, python_version: 3.8.10, processor: x86_64, system: Linux, \n"
          ]
        },
        {
          "name": "stderr",
          "output_type": "stream",
          "text": [
            "938it [00:20, 45.91it/s]\n"
          ]
        },
        {
          "name": "stdout",
          "output_type": "stream",
          "text": [
            "VALIDATION\n",
            "Running on platform: Linux-5.10.147+-x86_64-with-glibc2.29, machine: x86_64, python_version: 3.8.10, processor: x86_64, system: Linux, \n"
          ]
        },
        {
          "name": "stderr",
          "output_type": "stream",
          "text": [
            "157it [00:02, 60.96it/s]\n"
          ]
        },
        {
          "name": "stdout",
          "output_type": "stream",
          "text": [
            "\rAfter epoch 25: loss=1.5608 acc=0.8973 val_loss=1.5662 val_acc=0.8919\n",
            "Epoch 25 / 30: FINISHED\n",
            "\n",
            "Epoch 26 / 30: STARTED\n",
            "TRAINING\n",
            "Running on platform: Linux-5.10.147+-x86_64-with-glibc2.29, machine: x86_64, python_version: 3.8.10, processor: x86_64, system: Linux, \n"
          ]
        },
        {
          "name": "stderr",
          "output_type": "stream",
          "text": [
            "938it [00:20, 45.70it/s]\n"
          ]
        },
        {
          "name": "stdout",
          "output_type": "stream",
          "text": [
            "VALIDATION\n",
            "Running on platform: Linux-5.10.147+-x86_64-with-glibc2.29, machine: x86_64, python_version: 3.8.10, processor: x86_64, system: Linux, \n"
          ]
        },
        {
          "name": "stderr",
          "output_type": "stream",
          "text": [
            "157it [00:02, 65.11it/s]\n"
          ]
        },
        {
          "name": "stdout",
          "output_type": "stream",
          "text": [
            "\rAfter epoch 26: loss=1.5609 acc=0.8973 val_loss=1.5650 val_acc=0.8931\n",
            "Epoch 26 / 30: FINISHED\n",
            "\n",
            "Epoch 27 / 30: STARTED\n",
            "TRAINING\n",
            "Running on platform: Linux-5.10.147+-x86_64-with-glibc2.29, machine: x86_64, python_version: 3.8.10, processor: x86_64, system: Linux, \n"
          ]
        },
        {
          "name": "stderr",
          "output_type": "stream",
          "text": [
            "938it [00:20, 46.47it/s]\n"
          ]
        },
        {
          "name": "stdout",
          "output_type": "stream",
          "text": [
            "VALIDATION\n",
            "Running on platform: Linux-5.10.147+-x86_64-with-glibc2.29, machine: x86_64, python_version: 3.8.10, processor: x86_64, system: Linux, \n"
          ]
        },
        {
          "name": "stderr",
          "output_type": "stream",
          "text": [
            "157it [00:02, 64.28it/s]\n"
          ]
        },
        {
          "name": "stdout",
          "output_type": "stream",
          "text": [
            "\rAfter epoch 27: loss=1.5157 acc=0.9445 val_loss=1.4745 val_acc=0.9870\n",
            "Epoch 27 / 30: FINISHED\n",
            "\n",
            "Epoch 28 / 30: STARTED\n",
            "TRAINING\n",
            "Running on platform: Linux-5.10.147+-x86_64-with-glibc2.29, machine: x86_64, python_version: 3.8.10, processor: x86_64, system: Linux, \n"
          ]
        },
        {
          "name": "stderr",
          "output_type": "stream",
          "text": [
            "938it [00:20, 46.28it/s]\n"
          ]
        },
        {
          "name": "stdout",
          "output_type": "stream",
          "text": [
            "VALIDATION\n",
            "Running on platform: Linux-5.10.147+-x86_64-with-glibc2.29, machine: x86_64, python_version: 3.8.10, processor: x86_64, system: Linux, \n"
          ]
        },
        {
          "name": "stderr",
          "output_type": "stream",
          "text": [
            "157it [00:02, 64.19it/s]\n"
          ]
        },
        {
          "name": "stdout",
          "output_type": "stream",
          "text": [
            "\rAfter epoch 28: loss=1.4713 acc=0.9907 val_loss=1.4742 val_acc=0.9872\n",
            "Epoch 28 / 30: FINISHED\n",
            "\n",
            "Epoch 29 / 30: STARTED\n",
            "TRAINING\n",
            "Running on platform: Linux-5.10.147+-x86_64-with-glibc2.29, machine: x86_64, python_version: 3.8.10, processor: x86_64, system: Linux, \n"
          ]
        },
        {
          "name": "stderr",
          "output_type": "stream",
          "text": [
            "938it [00:20, 45.63it/s]\n"
          ]
        },
        {
          "name": "stdout",
          "output_type": "stream",
          "text": [
            "VALIDATION\n",
            "Running on platform: Linux-5.10.147+-x86_64-with-glibc2.29, machine: x86_64, python_version: 3.8.10, processor: x86_64, system: Linux, \n"
          ]
        },
        {
          "name": "stderr",
          "output_type": "stream",
          "text": [
            "157it [00:02, 61.07it/s]\n"
          ]
        },
        {
          "name": "stdout",
          "output_type": "stream",
          "text": [
            "\rAfter epoch 29: loss=1.4696 acc=0.9922 val_loss=1.4721 val_acc=0.9894\n",
            "Epoch 29 / 30: FINISHED\n",
            "\n",
            "Epoch 30 / 30: STARTED\n",
            "TRAINING\n",
            "Running on platform: Linux-5.10.147+-x86_64-with-glibc2.29, machine: x86_64, python_version: 3.8.10, processor: x86_64, system: Linux, \n"
          ]
        },
        {
          "name": "stderr",
          "output_type": "stream",
          "text": [
            "938it [00:20, 46.21it/s]\n"
          ]
        },
        {
          "name": "stdout",
          "output_type": "stream",
          "text": [
            "VALIDATION\n",
            "Running on platform: Linux-5.10.147+-x86_64-with-glibc2.29, machine: x86_64, python_version: 3.8.10, processor: x86_64, system: Linux, \n"
          ]
        },
        {
          "name": "stderr",
          "output_type": "stream",
          "text": [
            "157it [00:02, 65.04it/s]"
          ]
        },
        {
          "name": "stdout",
          "output_type": "stream",
          "text": [
            "\rAfter epoch 30: loss=1.4688 acc=0.9930 val_loss=1.4754 val_acc=0.9865\n",
            "Epoch 30 / 30: FINISHED\n",
            "\n"
          ]
        },
        {
          "name": "stderr",
          "output_type": "stream",
          "text": [
            "\n"
          ]
        }
      ],
      "source": [
        "from brevitas.nn import QuantConv2d, QuantIdentity\n",
        "from brevitas.quant.scaled_int import Int8WeightPerTensorFloat, \\\n",
        "    Int8BiasPerTensorFloatInternalScaling, Int8ActPerTensorFloat\n",
        "\n",
        "\n",
        "class NeuralNetwork(nn.Module):\n",
        "    def __init__(self, \n",
        "                 input_shape=(1,28,28), \n",
        "                 num_of_classes=10,\n",
        "                 channels = [16,32,64,128], # number of conv filters \n",
        "                 ksize   =  [3, 3, 3, 3], # kernels sizes\n",
        "                 padding =  [1, 1, 0, 0], # padding sizes\n",
        "                 max_pool = [1, 1, 0, 0], # use maxpool after conv or not\n",
        "                 quantize=True,\n",
        "                 bit_width=4\n",
        "                 ) -> None:\n",
        "        super().__init__()\n",
        "        channels = [input_shape[0]]+channels\n",
        "        padding = [1,1,0,0]\n",
        "        max_pool = [1,1,0,0]\n",
        "        \n",
        "        if quantize:\n",
        "            input_quant = QuantIdentity(Int8ActPerTensorFloat, min_val=-1.0, max_val=1.0, bit_width=bit_width)\n",
        "        else:\n",
        "            input_quant = QuantIdentity(None)\n",
        "        \n",
        "        layers = []\n",
        "        self.conv_layers = []\n",
        "        map_shape = [input_shape[0],input_shape[1],input_shape[2]]\n",
        "        for i, (ch_in, ch_out, ks, p, mp) in enumerate(zip(channels[:-1],\n",
        "                                                       channels[1:],\n",
        "                                                       ksize,\n",
        "                                                       padding,\n",
        "                                                       max_pool)):\n",
        "            conv = QuantConv2d(ch_in, ch_out, ks, padding=p, bias=True, \n",
        "                               weight_quant=Int8WeightPerTensorFloat if quantize else None,\n",
        "                               bias_quant=Int8BiasPerTensorFloatInternalScaling if quantize else None,\n",
        "                               weight_bit_width=bit_width,\n",
        "                               bias_bit_width=bit_width,\n",
        "                               return_quant_tensor=False\n",
        "                               )\n",
        "            # shape modification\n",
        "            map_shape[0] = ch_out\n",
        "            map_shape[1] = map_shape[1] - 2*(ks//2 - p)\n",
        "            map_shape[2] = map_shape[2] - 2*(ks//2 - p)\n",
        "            \n",
        "            # store conv layers for further analysis and prunning\n",
        "            self.conv_layers.append(conv)\n",
        "            # add to all layers\n",
        "            layers.append(conv)\n",
        "            \n",
        "            if quantize:\n",
        "                out_quant = QuantIdentity(Int8ActPerTensorFloat, min_val=-1.0, max_val=1.0, bit_width=bit_width)\n",
        "            else:\n",
        "                out_quant = QuantIdentity(None)\n",
        "            \n",
        "            layers.append(out_quant)\n",
        "            relu = nn.ReLU()\n",
        "            layers.append(relu)\n",
        "            \n",
        "            if mp:\n",
        "                maxpool = nn.MaxPool2d(2,2)\n",
        "                # shape modification\n",
        "                map_shape[1] = map_shape[1] // 2\n",
        "                map_shape[2] = map_shape[2] // 2\n",
        "                layers.append(maxpool)\n",
        "        \n",
        "        self.CNN = nn.Sequential(input_quant, *tuple(layers))\n",
        "        \n",
        "        CNN_flatten_len = torch.prod(torch.tensor(map_shape))\n",
        "        print(f\"CNN out map shape = {map_shape}\")\n",
        "        print(f\"CNN out map numel = {CNN_flatten_len}\")\n",
        "        self.flatten = nn.Flatten()\n",
        "        self.FC = nn.Linear(CNN_flatten_len, num_of_classes)\n",
        "        self.sm = nn.Softmax(1)\n",
        "    \n",
        "    def forward(self, x: torch.Tensor):\n",
        "        x = self.CNN(x)\n",
        "        x = self.flatten(x)\n",
        "        x = self.FC(x)\n",
        "        x = self.sm(x)\n",
        "        return x\n",
        "\n",
        "set_random_seed(0)\n",
        "net = NeuralNetwork(input_shape=(1,28,28), \n",
        "                    num_of_classes=10,\n",
        "                    channels = [32,32,32,32], # number of conv filters \n",
        "                    ksize   =  [3, 3, 3, 3], # kernels sizes\n",
        "                    padding =  [1, 1, 0, 0], # padding sizes\n",
        "                    max_pool = [1, 1, 0, 0], # use maxpool after conv or not\n",
        "                    quantize=True\n",
        "                    ).to(device)\n",
        "net_param_number = lu.count_params(net)\n",
        "print(f\"Network paramerters number: {net_param_number}\")\n",
        "\n",
        "set_random_seed(0)\n",
        "metric = lu.AccuracyMetic()\n",
        "criterion = torch.nn.CrossEntropyLoss()\n",
        "optimizer = torch.optim.SGD(net.parameters(), lr=0.1, momentum=0.8, weight_decay=0.0001)\n",
        "\n",
        "set_random_seed(0)\n",
        "net, history = lu.training(net, train_loader, test_loader, criterion, metric, optimizer, 5, 30, device=device)"
      ]
    },
    {
      "cell_type": "markdown",
      "metadata": {
        "id": "NR0bcQGqRnOm"
      },
      "source": [
        "1. Extract state dict from each conv layer (`net.conv_layers` is a list of Conv2d submodules) and store it in a list `state_dicts_float`.\n",
        "\n",
        "Create second list `state_dicts_quant` with the same structure, \n",
        "\n",
        "but extract weights and biases after applied quantization (`.quant_weight()`, `.quant_bias()` -> `QuantTensor` - extract float tensor from it).\n",
        "\n",
        "Also create `state_dicts_quant_2` as a copy of `state_dicts_quant` elements - deep copy.\n",
        "\n",
        "Print layer index (in list) and shapes of weights and biases.\n",
        "\n",
        "Extract state dict of FC subnetwork. \n",
        "Store it as `sd_fc` and copy to `sd_fc_2`. \n",
        "Print weight and bias shapes for FC layer.\n",
        "\n",
        "\n",
        "Compare (display Sum of Absolute Difference value) weight for first convolution before(float) and after quantization.\n",
        "\n",
        "Note: state dict of Conv2d and QuantConv2d contains: `weight` and `bias` (optional) keys only.\n",
        "\n",
        "Remember about `torch.no_grad()` context"
      ]
    },
    {
      "cell_type": "code",
      "execution_count": 9,
      "metadata": {
        "id": "Ug8hxcgaRnOp"
      },
      "outputs": [],
      "source": [
        "state_dicts_float: List[Dict[str, torch.Tensor]] = []\n",
        "state_dicts_quant: List[Dict[str, torch.Tensor]] = []\n",
        "state_dicts_quant_2: List[Dict[str, torch.Tensor]] = []\n",
        "sd_fc = net.FC.state_dict()\n",
        "sd_fc_2 = sd_fc.copy()\n",
        "\n",
        "with torch.no_grad():\n",
        "    for i, x in enumerate(net.conv_layers):\n",
        "        L: QuantConv2d = L\n",
        "        state_dicts_float.append({\"state\": x.state_dict})\n",
        "        state_dicts_quant.append({\"weight\": x.quant_weight()[0], \"bias\" : x.quant_bias()[0]})\n",
        "    state_dicts_quant_2 = deepcopy(state_dicts_quant)\n"
      ]
    },
    {
      "cell_type": "code",
      "execution_count": 10,
      "metadata": {
        "id": "wFglN1O0RnOq"
      },
      "outputs": [],
      "source": [
        "def get_mask(parameter: torch.Tensor, threshold: float):\n",
        "    \"\"\"\n",
        "    Function returns the mask of filters which should not be removed. \n",
        "\n",
        "    :param parameter: weight tensor with shape = (num_of_filters, input_channels, Optional[kernel_height, kernel_width]]\n",
        "    :param threshold float: threshold value - cos of \"angle\" between filters \n",
        "    :return: tensor - bool mask\n",
        "    \"\"\"\n",
        "    original_shape = parameter.shape\n",
        "    parameter = parameter.reshape(original_shape[0],-1)\n",
        "    parameter = parameter / (parameter.square().sum(1).reshape(-1,1).sqrt())\n",
        "    \n",
        "    # correlation matrix\n",
        "    corr = torch.matmul(parameter, parameter.transpose(0,1))\n",
        "    \n",
        "    # highly correlated filters mask \n",
        "    corr_mask = corr.abs() > threshold\n",
        "\n",
        "    # print(corr.shape)\n",
        "    \n",
        "    # over diagonal matrix\n",
        "    row_idx, col_idx = torch.meshgrid(torch.arange(0,corr.shape[0]), torch.arange(0,corr.shape[0]),)\n",
        "    analysis_mask = col_idx > row_idx\n",
        "    \n",
        "    # over diagonal part of mask\n",
        "    filters_correlation = corr_mask * analysis_mask.to(parameter.device)\n",
        "\n",
        "    channels_mask = filters_correlation.sum(0) == 0\n",
        "    \n",
        "    return channels_mask\n"
      ]
    },
    {
      "cell_type": "markdown",
      "metadata": {
        "id": "9MN5aw1GRnOr"
      },
      "source": [
        "2. Calculate pruning masks (`get_mask`) for each quantized weights from `state_dicts_quant` list.\n",
        "\n",
        "Store them in list `masks`.\n",
        "\n",
        "Calculate number of filters of convolutional layers after pruning for each layer\n",
        "\n",
        "and print it.\n",
        "\n",
        "Use thresholds for next CNN layers: `thresholds = [0.5, 0.5, 0.5, 0.5]`\n",
        "\n",
        "Hint: work on copy of weights - `torch.Tensor.clone` "
      ]
    },
    {
      "cell_type": "code",
      "execution_count": 19,
      "metadata": {
        "colab": {
          "base_uri": "https://localhost:8080/"
        },
        "id": "hnsWukm6RnOs",
        "outputId": "2800ba16-9129-41af-fdd0-489d099ff580"
      },
      "outputs": [
        {
          "name": "stdout",
          "output_type": "stream",
          "text": [
            "Layer 0: filters after pruning:[tensor(7, device='cuda:0')]\n",
            "Layer 1: filters after pruning:[tensor(7, device='cuda:0'), tensor(27, device='cuda:0')]\n",
            "Layer 2: filters after pruning:[tensor(7, device='cuda:0'), tensor(27, device='cuda:0'), tensor(32, device='cuda:0')]\n",
            "Layer 3: filters after pruning:[tensor(7, device='cuda:0'), tensor(27, device='cuda:0'), tensor(32, device='cuda:0'), tensor(32, device='cuda:0')]\n"
          ]
        }
      ],
      "source": [
        "masks: List[torch.Tensor] = []\n",
        "num_of_filters_after_pruning = []\n",
        "thresholds = [0.5, 0.5, 0.5, 0.5]\n",
        "\n",
        "for i, (sd_q, th) in enumerate(zip(state_dicts_quant, thresholds)):\n",
        "    f = sd_q['weight'].clone()\n",
        "    x = get_mask(f, th)\n",
        "    masks.append(x)\n",
        "    num_of_filters_after_pruning.append(a.sum())\n",
        "    print(f\"Layer {i}: filters after pruning: {f}\")"
      ]
    },
    {
      "cell_type": "markdown",
      "metadata": {
        "id": "v9IPS1KkRnOu"
      },
      "source": [
        "3. Slice weights and biases from `state_dicts_quant` based on created `masks`.\n",
        "\n",
        "Results assign to proper indices and keys of `state_dicts_quant_2`.\n",
        "\n",
        "Slice weight of fc layer from `sd_fc` and result assign to `sd_fc_2` based on last mask.\n",
        "\n",
        "Print shapes of weights and biases.\n",
        "\n",
        "Note: Pruning of channels one layer affects to next one layer, but not to the previous layer.\n",
        "\n",
        "Note: bias is related with layer output channel.\n",
        "\n",
        "Note: first layer must contain the same number of input channels.\n",
        "\n",
        "Hint: For slicing of few dimensions, use it separately on results of previous dim slice.\n",
        "\n",
        "Hint: Do it in loop: store mask for previous mask as variable like `prev_mask`.\n",
        "\n",
        "For init `prev_mask` use tensor of True and shape (1,) - input channels.\n",
        "\n",
        "Note: Fc layer is forwarded by flatten layer ((BS,CH,H,W) -> (BS, CH * H * W)), \n",
        "\n",
        "so the input mask should be properly modified:\n",
        "\n",
        "```fc_in_mask = prev_mask.reshape(-1,1,1).tile(1,H,W).flatten()```\n",
        "\n",
        "CH,H,W sizes are printed, when the network is instantiated. "
      ]
    },
    {
      "cell_type": "code",
      "execution_count": 20,
      "metadata": {
        "colab": {
          "base_uri": "https://localhost:8080/"
        },
        "id": "e4wWSF7XRnOv",
        "outputId": "5dc2a263-94db-43d7-e7e3-5dadaa964425"
      },
      "outputs": [
        {
          "name": "stdout",
          "output_type": "stream",
          "text": [
            "Layer 0: weight: torch.Size([7, 1, 3, 3])\n",
            "Layer 0: bias: torch.Size([7])\n",
            "Layer 1: weight: torch.Size([27, 7, 3, 3])\n",
            "Layer 1: bias: torch.Size([27])\n",
            "Layer 2: weight: torch.Size([32, 27, 3, 3])\n",
            "Layer 2: bias: torch.Size([32])\n",
            "Layer 3: weight: torch.Size([32, 32, 3, 3])\n",
            "Layer 3: bias: torch.Size([32])\n",
            "Layer FC: weight: torch.Size([10, 288])\n",
            "Layer FC: bias: torch.Size([10])\n"
          ]
        }
      ],
      "source": [
        "prev_mask = torch.ones((1,), dtype=torch.bool, device=device)\n",
        "\n",
        "for i, (mask, sd_q, sd_q_2) in enumerate(zip(masks, state_dicts_quant, state_dicts_quant_2)):\n",
        "    w = sd_q[\"weight\"][mask, :][:, prev_mask]\n",
        "    b = sd_q[\"bias\"][mask]\n",
        "\n",
        "    sd_q_2[\"weight\"] = w\n",
        "    sd_q_2[\"bias\"] = b\n",
        "    \n",
        "    print(f\"Layer {i}: weight: {w.shape}\")\n",
        "    print(f\"Layer {i}: bias: {b.shape}\")\n",
        "    prev_mask = mask.clone()\n",
        "\n",
        "fc_in_mask = prev_mask.reshape(-1,1,1).tile(1,3,3).flatten()\n",
        "\n",
        "w = sd_fc[\"weight\"]\n",
        "b = sd_fc[\"bias\"]\n",
        "sd_fc_2['weight'] = sd_fc[\"weight\"][fc_in_mask]\n",
        "\n",
        "print(f\"Layer FC: weight: {w.shape}\")\n",
        "print(f\"Layer FC: bias: {b.shape}\")"
      ]
    },
    {
      "cell_type": "markdown",
      "metadata": {
        "id": "nLzqRKVWRnOw"
      },
      "source": [
        "4. Instantiate second `NeuralNetwork` as `net_2` with channels number defined by `num_of_filters_after_pruning`.\n",
        "\n",
        "Initialize conv subnetwork (`net_2.conv_layers`) with state dicts from `state_dicts_quant_2`.\n",
        "\n",
        "Initialize FC layer with `sd_fc_2`.\n",
        "\n",
        "Print number of parameters."
      ]
    },
    {
      "cell_type": "code",
      "execution_count": 21,
      "metadata": {
        "colab": {
          "base_uri": "https://localhost:8080/"
        },
        "id": "EVI7LZKERnOw",
        "outputId": "ed51c69d-abcb-4826-cb4c-443efb2a5815"
      },
      "outputs": [
        {
          "name": "stdout",
          "output_type": "stream",
          "text": [
            "CNN out map shape = [3, 3, 3]\n",
            "CNN out map numel = 27\n",
            "Network parameters number: 970\n"
          ]
        }
      ],
      "source": [
        "set_random_seed(0)\n",
        "net_2 = NeuralNetwork(input_shape=(1,28,28), \n",
        "                      num_of_classes=10,\n",
        "                      channels = [30, 1, 3, 3], # number of conv filters \n",
        "                      ksize   =  [3, 3, 3, 3], # kernels sizes\n",
        "                      padding =  [1, 1, 0, 0], # padding sizes\n",
        "                      max_pool = [1, 1, 0, 0], # use maxpool after conv or not\n",
        "                      quantize=True\n",
        "                      ).to(device)\n",
        "net_2_param_number = lu.count_params(net_2)\n",
        "print(f\"Network parameters number: {net_2_param_number}\")"
      ]
    },
    {
      "cell_type": "markdown",
      "metadata": {
        "id": "Ssz80eKiRnOx"
      },
      "source": [
        "5. Calculate accuracy and loss for training and validation datasets.\n"
      ]
    },
    {
      "cell_type": "code",
      "execution_count": 24,
      "metadata": {
        "colab": {
          "base_uri": "https://localhost:8080/"
        },
        "id": "nETaoV21RnOy",
        "outputId": "eb0c92e0-85df-40f4-dca4-65c0038b800e"
      },
      "outputs": [
        {
          "name": "stdout",
          "output_type": "stream",
          "text": [
            "Running on platform: Linux-5.10.147+-x86_64-with-glibc2.29, machine: x86_64, python_version: 3.8.10, processor: x86_64, system: Linux, \n"
          ]
        },
        {
          "name": "stderr",
          "output_type": "stream",
          "text": [
            "938it [00:24, 38.66it/s]\n"
          ]
        },
        {
          "name": "stdout",
          "output_type": "stream",
          "text": [
            "2.302432529703776 0.10441666666666667\n",
            "Running on platform: Linux-5.10.147+-x86_64-with-glibc2.29, machine: x86_64, python_version: 3.8.10, processor: x86_64, system: Linux, \n"
          ]
        },
        {
          "name": "stderr",
          "output_type": "stream",
          "text": [
            "157it [00:02, 56.04it/s]"
          ]
        },
        {
          "name": "stdout",
          "output_type": "stream",
          "text": [
            "2.302552379989624 0.1028\n"
          ]
        },
        {
          "name": "stderr",
          "output_type": "stream",
          "text": [
            "\n"
          ]
        }
      ],
      "source": [
        "loss, acc = lu.train_test_pass(net_2,\n",
        "                               train_loader,\n",
        "                               criterion,\n",
        "                               metric,\n",
        "                               optimizer=optimizer,\n",
        "                               update_period=2,\n",
        "                               mode='train',\n",
        "                               device=device)[1:]\n",
        "print(loss, acc)\n",
        "loss, acc = lu.train_test_pass(net_2,\n",
        "                               test_loader,\n",
        "                               criterion,\n",
        "                               metric,\n",
        "                               optimizer=optimizer,\n",
        "                               update_period=2,\n",
        "                               mode='test',\n",
        "                               device=device)[1:]\n",
        "print(loss, acc)"
      ]
    },
    {
      "cell_type": "markdown",
      "metadata": {
        "id": "SJXtkJQORnOz"
      },
      "source": [
        "6. *Aditional: Try 5 different thresholds setting (5 lists of settings) for `get_mask` function.\n",
        "\n",
        "Print resulted sizes."
      ]
    },
    {
      "cell_type": "code",
      "execution_count": 32,
      "metadata": {
        "colab": {
          "base_uri": "https://localhost:8080/"
        },
        "id": "pfL136M5RnOz",
        "outputId": "34944e10-5462-4c4b-e271-f704b336b68a"
      },
      "outputs": [
        {
          "name": "stdout",
          "output_type": "stream",
          "text": [
            "Layer 0: filters after pruning: 3\n",
            "Layer 1: filters after pruning: 11\n",
            "Layer 2: filters after pruning: 23\n",
            "Layer 3: filters after pruning: 29\n",
            "---------------------------------------------------------------------\n",
            "Layer 0: filters after pruning: 4\n",
            "Layer 1: filters after pruning: 16\n",
            "Layer 2: filters after pruning: 30\n",
            "Layer 3: filters after pruning: 31\n",
            "---------------------------------------------------------------------\n",
            "Layer 0: filters after pruning: 7\n",
            "Layer 1: filters after pruning: 27\n",
            "Layer 2: filters after pruning: 32\n",
            "Layer 3: filters after pruning: 32\n",
            "---------------------------------------------------------------------\n",
            "Layer 0: filters after pruning: 7\n",
            "Layer 1: filters after pruning: 31\n",
            "Layer 2: filters after pruning: 32\n",
            "Layer 3: filters after pruning: 32\n",
            "---------------------------------------------------------------------\n",
            "Layer 0: filters after pruning: 11\n",
            "Layer 1: filters after pruning: 32\n",
            "Layer 2: filters after pruning: 32\n",
            "Layer 3: filters after pruning: 32\n",
            "---------------------------------------------------------------------\n"
          ]
        }
      ],
      "source": [
        "\n",
        "threshold1 = [0.3, 0.3, 0.3, 0.3]\n",
        "threshold2 = [0.4, 0.4, 0.4, 0.4]\n",
        "threshold3 = [0.5, 0.5, 0.5, 0.5]\n",
        "threshold4 = [0.5, 0.6, 0.6, 0.6]\n",
        "threshold5 = [0.7, 0.7, 0.7, 0.7]\n",
        "\n",
        "def x (thresholds):\n",
        "  masks: List[torch.Tensor] = []\n",
        "  num_of_filters_after_pruning = []\n",
        "  for i, (sd_q, th) in enumerate(zip(state_dicts_quant, thresholds)):\n",
        "      w = sd_q['weight'].clone()\n",
        "      mask = get_mask(w, th)\n",
        "      \n",
        "      masks.append(mask)\n",
        "      num_of_filters_after_pruning.append(mask.sum())\n",
        "      \n",
        "      print(f\"Layer {i}: filters after pruning: {num_of_filters_after_pruning[i]}\")\n",
        "  print(\"---------------------------------------------------------------------\")\n",
        "x(threshold1)\n",
        "x(threshold2)\n",
        "x(threshold3)\n",
        "x(threshold4)\n",
        "x(threshold5)\n"
      ]
    },
    {
      "cell_type": "markdown",
      "metadata": {
        "id": "O4v9SaZ0RnO0"
      },
      "source": [
        "9. **Additional: Fine tune pruned model (`net_2`) - train it."
      ]
    },
    {
      "cell_type": "code",
      "execution_count": null,
      "metadata": {
        "id": "QlTckXGiRnO0"
      },
      "outputs": [],
      "source": []
    },
    {
      "cell_type": "markdown",
      "metadata": {
        "id": "BH9hksXURnO0"
      },
      "source": [
        "6. You can leave a feedback, if you want :)"
      ]
    },
    {
      "cell_type": "markdown",
      "metadata": {
        "id": "334iUfO9RnO1"
      },
      "source": []
    },
    {
      "cell_type": "markdown",
      "metadata": {
        "id": "0uzDrtCsRnO1"
      },
      "source": [
        "7. Exercises please upload this file (*.ipynb) to UPEL."
      ]
    },
    {
      "cell_type": "markdown",
      "metadata": {
        "id": "wj85OCuoRnO1"
      },
      "source": []
    }
  ],
  "metadata": {
    "accelerator": "GPU",
    "colab": {
      "provenance": []
    },
    "gpuClass": "standard",
    "kernelspec": {
      "display_name": "Python 3.10.7 64-bit",
      "language": "python",
      "name": "python3"
    },
    "language_info": {
      "codemirror_mode": {
        "name": "ipython",
        "version": 3
      },
      "file_extension": ".py",
      "mimetype": "text/x-python",
      "name": "python",
      "nbconvert_exporter": "python",
      "pygments_lexer": "ipython3",
      "version": "3.10.7"
    },
    "orig_nbformat": 4,
    "vscode": {
      "interpreter": {
        "hash": "814e3fea5aed7c4aab3ab1a9ee8ce6861cb7a1485cdc7c835a0bbd4579d59261"
      }
    },
    "widgets": {
      "application/vnd.jupyter.widget-state+json": {
        "07bcb74029d04d4da32eef131f525eec": {
          "model_module": "@jupyter-widgets/base",
          "model_module_version": "1.2.0",
          "model_name": "LayoutModel",
          "state": {
            "_model_module": "@jupyter-widgets/base",
            "_model_module_version": "1.2.0",
            "_model_name": "LayoutModel",
            "_view_count": null,
            "_view_module": "@jupyter-widgets/base",
            "_view_module_version": "1.2.0",
            "_view_name": "LayoutView",
            "align_content": null,
            "align_items": null,
            "align_self": null,
            "border": null,
            "bottom": null,
            "display": null,
            "flex": null,
            "flex_flow": null,
            "grid_area": null,
            "grid_auto_columns": null,
            "grid_auto_flow": null,
            "grid_auto_rows": null,
            "grid_column": null,
            "grid_gap": null,
            "grid_row": null,
            "grid_template_areas": null,
            "grid_template_columns": null,
            "grid_template_rows": null,
            "height": null,
            "justify_content": null,
            "justify_items": null,
            "left": null,
            "margin": null,
            "max_height": null,
            "max_width": null,
            "min_height": null,
            "min_width": null,
            "object_fit": null,
            "object_position": null,
            "order": null,
            "overflow": null,
            "overflow_x": null,
            "overflow_y": null,
            "padding": null,
            "right": null,
            "top": null,
            "visibility": null,
            "width": null
          }
        },
        "0f72f198fa1c4effa09d9622b3139647": {
          "model_module": "@jupyter-widgets/base",
          "model_module_version": "1.2.0",
          "model_name": "LayoutModel",
          "state": {
            "_model_module": "@jupyter-widgets/base",
            "_model_module_version": "1.2.0",
            "_model_name": "LayoutModel",
            "_view_count": null,
            "_view_module": "@jupyter-widgets/base",
            "_view_module_version": "1.2.0",
            "_view_name": "LayoutView",
            "align_content": null,
            "align_items": null,
            "align_self": null,
            "border": null,
            "bottom": null,
            "display": null,
            "flex": null,
            "flex_flow": null,
            "grid_area": null,
            "grid_auto_columns": null,
            "grid_auto_flow": null,
            "grid_auto_rows": null,
            "grid_column": null,
            "grid_gap": null,
            "grid_row": null,
            "grid_template_areas": null,
            "grid_template_columns": null,
            "grid_template_rows": null,
            "height": null,
            "justify_content": null,
            "justify_items": null,
            "left": null,
            "margin": null,
            "max_height": null,
            "max_width": null,
            "min_height": null,
            "min_width": null,
            "object_fit": null,
            "object_position": null,
            "order": null,
            "overflow": null,
            "overflow_x": null,
            "overflow_y": null,
            "padding": null,
            "right": null,
            "top": null,
            "visibility": null,
            "width": null
          }
        },
        "21b4acfac35049418550a0ce85bbf09e": {
          "model_module": "@jupyter-widgets/controls",
          "model_module_version": "1.5.0",
          "model_name": "ProgressStyleModel",
          "state": {
            "_model_module": "@jupyter-widgets/controls",
            "_model_module_version": "1.5.0",
            "_model_name": "ProgressStyleModel",
            "_view_count": null,
            "_view_module": "@jupyter-widgets/base",
            "_view_module_version": "1.2.0",
            "_view_name": "StyleView",
            "bar_color": null,
            "description_width": ""
          }
        },
        "29967421b2b84372b50034275969e375": {
          "model_module": "@jupyter-widgets/controls",
          "model_module_version": "1.5.0",
          "model_name": "HBoxModel",
          "state": {
            "_dom_classes": [],
            "_model_module": "@jupyter-widgets/controls",
            "_model_module_version": "1.5.0",
            "_model_name": "HBoxModel",
            "_view_count": null,
            "_view_module": "@jupyter-widgets/controls",
            "_view_module_version": "1.5.0",
            "_view_name": "HBoxView",
            "box_style": "",
            "children": [
              "IPY_MODEL_948f0f8074d4466798869252c1ba7a78",
              "IPY_MODEL_6efe8223f1e74a818f46ae86e1ea8e31",
              "IPY_MODEL_e136c7f519044b2ebdd6512609030a42"
            ],
            "layout": "IPY_MODEL_a5c837484ac84fe6b462d98a04a0946a"
          }
        },
        "2ce64d6ecb394a6fbf1ad7e65acbc069": {
          "model_module": "@jupyter-widgets/controls",
          "model_module_version": "1.5.0",
          "model_name": "DescriptionStyleModel",
          "state": {
            "_model_module": "@jupyter-widgets/controls",
            "_model_module_version": "1.5.0",
            "_model_name": "DescriptionStyleModel",
            "_view_count": null,
            "_view_module": "@jupyter-widgets/base",
            "_view_module_version": "1.2.0",
            "_view_name": "StyleView",
            "description_width": ""
          }
        },
        "2d482dd780fe44858ec6f356c005ad33": {
          "model_module": "@jupyter-widgets/controls",
          "model_module_version": "1.5.0",
          "model_name": "DescriptionStyleModel",
          "state": {
            "_model_module": "@jupyter-widgets/controls",
            "_model_module_version": "1.5.0",
            "_model_name": "DescriptionStyleModel",
            "_view_count": null,
            "_view_module": "@jupyter-widgets/base",
            "_view_module_version": "1.2.0",
            "_view_name": "StyleView",
            "description_width": ""
          }
        },
        "3f8ef9f9bf2c40a88b25b5c2aa8a2370": {
          "model_module": "@jupyter-widgets/controls",
          "model_module_version": "1.5.0",
          "model_name": "HTMLModel",
          "state": {
            "_dom_classes": [],
            "_model_module": "@jupyter-widgets/controls",
            "_model_module_version": "1.5.0",
            "_model_name": "HTMLModel",
            "_view_count": null,
            "_view_module": "@jupyter-widgets/controls",
            "_view_module_version": "1.5.0",
            "_view_name": "HTMLView",
            "description": "",
            "description_tooltip": null,
            "layout": "IPY_MODEL_b4c2eb1db3f44f6691e6cedfeb3e9879",
            "placeholder": "​",
            "style": "IPY_MODEL_da9c6c6e628046729a4bf77e855ba84f",
            "value": "100%"
          }
        },
        "507be7973ecb4dc8b95fc9ef00b8fb7a": {
          "model_module": "@jupyter-widgets/controls",
          "model_module_version": "1.5.0",
          "model_name": "FloatProgressModel",
          "state": {
            "_dom_classes": [],
            "_model_module": "@jupyter-widgets/controls",
            "_model_module_version": "1.5.0",
            "_model_name": "FloatProgressModel",
            "_view_count": null,
            "_view_module": "@jupyter-widgets/controls",
            "_view_module_version": "1.5.0",
            "_view_name": "ProgressView",
            "bar_style": "success",
            "description": "",
            "description_tooltip": null,
            "layout": "IPY_MODEL_d188f21dc8f24de6a6d28539ae9fb1d6",
            "max": 28881,
            "min": 0,
            "orientation": "horizontal",
            "style": "IPY_MODEL_baf95c4877124cd88b6593e7c19299f3",
            "value": 28881
          }
        },
        "589ae22ea2504139a3c3b2ce67cc3d3c": {
          "model_module": "@jupyter-widgets/base",
          "model_module_version": "1.2.0",
          "model_name": "LayoutModel",
          "state": {
            "_model_module": "@jupyter-widgets/base",
            "_model_module_version": "1.2.0",
            "_model_name": "LayoutModel",
            "_view_count": null,
            "_view_module": "@jupyter-widgets/base",
            "_view_module_version": "1.2.0",
            "_view_name": "LayoutView",
            "align_content": null,
            "align_items": null,
            "align_self": null,
            "border": null,
            "bottom": null,
            "display": null,
            "flex": null,
            "flex_flow": null,
            "grid_area": null,
            "grid_auto_columns": null,
            "grid_auto_flow": null,
            "grid_auto_rows": null,
            "grid_column": null,
            "grid_gap": null,
            "grid_row": null,
            "grid_template_areas": null,
            "grid_template_columns": null,
            "grid_template_rows": null,
            "height": null,
            "justify_content": null,
            "justify_items": null,
            "left": null,
            "margin": null,
            "max_height": null,
            "max_width": null,
            "min_height": null,
            "min_width": null,
            "object_fit": null,
            "object_position": null,
            "order": null,
            "overflow": null,
            "overflow_x": null,
            "overflow_y": null,
            "padding": null,
            "right": null,
            "top": null,
            "visibility": null,
            "width": null
          }
        },
        "5a57dc66f278419dafcc0cd91f8ddb8c": {
          "model_module": "@jupyter-widgets/base",
          "model_module_version": "1.2.0",
          "model_name": "LayoutModel",
          "state": {
            "_model_module": "@jupyter-widgets/base",
            "_model_module_version": "1.2.0",
            "_model_name": "LayoutModel",
            "_view_count": null,
            "_view_module": "@jupyter-widgets/base",
            "_view_module_version": "1.2.0",
            "_view_name": "LayoutView",
            "align_content": null,
            "align_items": null,
            "align_self": null,
            "border": null,
            "bottom": null,
            "display": null,
            "flex": null,
            "flex_flow": null,
            "grid_area": null,
            "grid_auto_columns": null,
            "grid_auto_flow": null,
            "grid_auto_rows": null,
            "grid_column": null,
            "grid_gap": null,
            "grid_row": null,
            "grid_template_areas": null,
            "grid_template_columns": null,
            "grid_template_rows": null,
            "height": null,
            "justify_content": null,
            "justify_items": null,
            "left": null,
            "margin": null,
            "max_height": null,
            "max_width": null,
            "min_height": null,
            "min_width": null,
            "object_fit": null,
            "object_position": null,
            "order": null,
            "overflow": null,
            "overflow_x": null,
            "overflow_y": null,
            "padding": null,
            "right": null,
            "top": null,
            "visibility": null,
            "width": null
          }
        },
        "5af839e4cbb8430b84887da3050a5726": {
          "model_module": "@jupyter-widgets/controls",
          "model_module_version": "1.5.0",
          "model_name": "DescriptionStyleModel",
          "state": {
            "_model_module": "@jupyter-widgets/controls",
            "_model_module_version": "1.5.0",
            "_model_name": "DescriptionStyleModel",
            "_view_count": null,
            "_view_module": "@jupyter-widgets/base",
            "_view_module_version": "1.2.0",
            "_view_name": "StyleView",
            "description_width": ""
          }
        },
        "5cf6ae0dd2194d84893d59864c508337": {
          "model_module": "@jupyter-widgets/controls",
          "model_module_version": "1.5.0",
          "model_name": "DescriptionStyleModel",
          "state": {
            "_model_module": "@jupyter-widgets/controls",
            "_model_module_version": "1.5.0",
            "_model_name": "DescriptionStyleModel",
            "_view_count": null,
            "_view_module": "@jupyter-widgets/base",
            "_view_module_version": "1.2.0",
            "_view_name": "StyleView",
            "description_width": ""
          }
        },
        "5e781fb6e2584f75a38c740a084a80c7": {
          "model_module": "@jupyter-widgets/base",
          "model_module_version": "1.2.0",
          "model_name": "LayoutModel",
          "state": {
            "_model_module": "@jupyter-widgets/base",
            "_model_module_version": "1.2.0",
            "_model_name": "LayoutModel",
            "_view_count": null,
            "_view_module": "@jupyter-widgets/base",
            "_view_module_version": "1.2.0",
            "_view_name": "LayoutView",
            "align_content": null,
            "align_items": null,
            "align_self": null,
            "border": null,
            "bottom": null,
            "display": null,
            "flex": null,
            "flex_flow": null,
            "grid_area": null,
            "grid_auto_columns": null,
            "grid_auto_flow": null,
            "grid_auto_rows": null,
            "grid_column": null,
            "grid_gap": null,
            "grid_row": null,
            "grid_template_areas": null,
            "grid_template_columns": null,
            "grid_template_rows": null,
            "height": null,
            "justify_content": null,
            "justify_items": null,
            "left": null,
            "margin": null,
            "max_height": null,
            "max_width": null,
            "min_height": null,
            "min_width": null,
            "object_fit": null,
            "object_position": null,
            "order": null,
            "overflow": null,
            "overflow_x": null,
            "overflow_y": null,
            "padding": null,
            "right": null,
            "top": null,
            "visibility": null,
            "width": null
          }
        },
        "645d7c8a004f4e969d3331ce12a5e878": {
          "model_module": "@jupyter-widgets/base",
          "model_module_version": "1.2.0",
          "model_name": "LayoutModel",
          "state": {
            "_model_module": "@jupyter-widgets/base",
            "_model_module_version": "1.2.0",
            "_model_name": "LayoutModel",
            "_view_count": null,
            "_view_module": "@jupyter-widgets/base",
            "_view_module_version": "1.2.0",
            "_view_name": "LayoutView",
            "align_content": null,
            "align_items": null,
            "align_self": null,
            "border": null,
            "bottom": null,
            "display": null,
            "flex": null,
            "flex_flow": null,
            "grid_area": null,
            "grid_auto_columns": null,
            "grid_auto_flow": null,
            "grid_auto_rows": null,
            "grid_column": null,
            "grid_gap": null,
            "grid_row": null,
            "grid_template_areas": null,
            "grid_template_columns": null,
            "grid_template_rows": null,
            "height": null,
            "justify_content": null,
            "justify_items": null,
            "left": null,
            "margin": null,
            "max_height": null,
            "max_width": null,
            "min_height": null,
            "min_width": null,
            "object_fit": null,
            "object_position": null,
            "order": null,
            "overflow": null,
            "overflow_x": null,
            "overflow_y": null,
            "padding": null,
            "right": null,
            "top": null,
            "visibility": null,
            "width": null
          }
        },
        "64f4ae0758da41f18ff8cacf0006c87e": {
          "model_module": "@jupyter-widgets/controls",
          "model_module_version": "1.5.0",
          "model_name": "HBoxModel",
          "state": {
            "_dom_classes": [],
            "_model_module": "@jupyter-widgets/controls",
            "_model_module_version": "1.5.0",
            "_model_name": "HBoxModel",
            "_view_count": null,
            "_view_module": "@jupyter-widgets/controls",
            "_view_module_version": "1.5.0",
            "_view_name": "HBoxView",
            "box_style": "",
            "children": [
              "IPY_MODEL_a29978129cc644f9aa0ca62dbef10f6e",
              "IPY_MODEL_8c2620ef9fbf40f9a964f16f8f10380b",
              "IPY_MODEL_9031672352d34871985e404ced15d4ce"
            ],
            "layout": "IPY_MODEL_fbfdfcfd3a6f4db5a837be54431f9bd1"
          }
        },
        "65fcdc92e72341e78b3553ebf924a371": {
          "model_module": "@jupyter-widgets/controls",
          "model_module_version": "1.5.0",
          "model_name": "DescriptionStyleModel",
          "state": {
            "_model_module": "@jupyter-widgets/controls",
            "_model_module_version": "1.5.0",
            "_model_name": "DescriptionStyleModel",
            "_view_count": null,
            "_view_module": "@jupyter-widgets/base",
            "_view_module_version": "1.2.0",
            "_view_name": "StyleView",
            "description_width": ""
          }
        },
        "666b768a5ea44031aa435c2a45ed464f": {
          "model_module": "@jupyter-widgets/base",
          "model_module_version": "1.2.0",
          "model_name": "LayoutModel",
          "state": {
            "_model_module": "@jupyter-widgets/base",
            "_model_module_version": "1.2.0",
            "_model_name": "LayoutModel",
            "_view_count": null,
            "_view_module": "@jupyter-widgets/base",
            "_view_module_version": "1.2.0",
            "_view_name": "LayoutView",
            "align_content": null,
            "align_items": null,
            "align_self": null,
            "border": null,
            "bottom": null,
            "display": null,
            "flex": null,
            "flex_flow": null,
            "grid_area": null,
            "grid_auto_columns": null,
            "grid_auto_flow": null,
            "grid_auto_rows": null,
            "grid_column": null,
            "grid_gap": null,
            "grid_row": null,
            "grid_template_areas": null,
            "grid_template_columns": null,
            "grid_template_rows": null,
            "height": null,
            "justify_content": null,
            "justify_items": null,
            "left": null,
            "margin": null,
            "max_height": null,
            "max_width": null,
            "min_height": null,
            "min_width": null,
            "object_fit": null,
            "object_position": null,
            "order": null,
            "overflow": null,
            "overflow_x": null,
            "overflow_y": null,
            "padding": null,
            "right": null,
            "top": null,
            "visibility": null,
            "width": null
          }
        },
        "693991c9838c4dafa38f93a79e387363": {
          "model_module": "@jupyter-widgets/controls",
          "model_module_version": "1.5.0",
          "model_name": "ProgressStyleModel",
          "state": {
            "_model_module": "@jupyter-widgets/controls",
            "_model_module_version": "1.5.0",
            "_model_name": "ProgressStyleModel",
            "_view_count": null,
            "_view_module": "@jupyter-widgets/base",
            "_view_module_version": "1.2.0",
            "_view_name": "StyleView",
            "bar_color": null,
            "description_width": ""
          }
        },
        "6a54101903c140cdb7bf417e9be0ddbf": {
          "model_module": "@jupyter-widgets/controls",
          "model_module_version": "1.5.0",
          "model_name": "HTMLModel",
          "state": {
            "_dom_classes": [],
            "_model_module": "@jupyter-widgets/controls",
            "_model_module_version": "1.5.0",
            "_model_name": "HTMLModel",
            "_view_count": null,
            "_view_module": "@jupyter-widgets/controls",
            "_view_module_version": "1.5.0",
            "_view_name": "HTMLView",
            "description": "",
            "description_tooltip": null,
            "layout": "IPY_MODEL_07bcb74029d04d4da32eef131f525eec",
            "placeholder": "​",
            "style": "IPY_MODEL_5cf6ae0dd2194d84893d59864c508337",
            "value": " 28881/28881 [00:00&lt;00:00, 356263.64it/s]"
          }
        },
        "6efe8223f1e74a818f46ae86e1ea8e31": {
          "model_module": "@jupyter-widgets/controls",
          "model_module_version": "1.5.0",
          "model_name": "FloatProgressModel",
          "state": {
            "_dom_classes": [],
            "_model_module": "@jupyter-widgets/controls",
            "_model_module_version": "1.5.0",
            "_model_name": "FloatProgressModel",
            "_view_count": null,
            "_view_module": "@jupyter-widgets/controls",
            "_view_module_version": "1.5.0",
            "_view_name": "ProgressView",
            "bar_style": "success",
            "description": "",
            "description_tooltip": null,
            "layout": "IPY_MODEL_ee011db4a03240ddbb8c86652f1b3229",
            "max": 4542,
            "min": 0,
            "orientation": "horizontal",
            "style": "IPY_MODEL_ea28d4b749d34f7d8e32e2071a573923",
            "value": 4542
          }
        },
        "7188f7806ea34539ac20b4ef3a9f862a": {
          "model_module": "@jupyter-widgets/controls",
          "model_module_version": "1.5.0",
          "model_name": "FloatProgressModel",
          "state": {
            "_dom_classes": [],
            "_model_module": "@jupyter-widgets/controls",
            "_model_module_version": "1.5.0",
            "_model_name": "FloatProgressModel",
            "_view_count": null,
            "_view_module": "@jupyter-widgets/controls",
            "_view_module_version": "1.5.0",
            "_view_name": "ProgressView",
            "bar_style": "success",
            "description": "",
            "description_tooltip": null,
            "layout": "IPY_MODEL_0f72f198fa1c4effa09d9622b3139647",
            "max": 1648877,
            "min": 0,
            "orientation": "horizontal",
            "style": "IPY_MODEL_21b4acfac35049418550a0ce85bbf09e",
            "value": 1648877
          }
        },
        "854aa12b9308496294921d0ab1e405be": {
          "model_module": "@jupyter-widgets/controls",
          "model_module_version": "1.5.0",
          "model_name": "HTMLModel",
          "state": {
            "_dom_classes": [],
            "_model_module": "@jupyter-widgets/controls",
            "_model_module_version": "1.5.0",
            "_model_name": "HTMLModel",
            "_view_count": null,
            "_view_module": "@jupyter-widgets/controls",
            "_view_module_version": "1.5.0",
            "_view_name": "HTMLView",
            "description": "",
            "description_tooltip": null,
            "layout": "IPY_MODEL_666b768a5ea44031aa435c2a45ed464f",
            "placeholder": "​",
            "style": "IPY_MODEL_2ce64d6ecb394a6fbf1ad7e65acbc069",
            "value": " 1648877/1648877 [00:00&lt;00:00, 25073475.56it/s]"
          }
        },
        "8c2620ef9fbf40f9a964f16f8f10380b": {
          "model_module": "@jupyter-widgets/controls",
          "model_module_version": "1.5.0",
          "model_name": "FloatProgressModel",
          "state": {
            "_dom_classes": [],
            "_model_module": "@jupyter-widgets/controls",
            "_model_module_version": "1.5.0",
            "_model_name": "FloatProgressModel",
            "_view_count": null,
            "_view_module": "@jupyter-widgets/controls",
            "_view_module_version": "1.5.0",
            "_view_name": "ProgressView",
            "bar_style": "success",
            "description": "",
            "description_tooltip": null,
            "layout": "IPY_MODEL_5a57dc66f278419dafcc0cd91f8ddb8c",
            "max": 9912422,
            "min": 0,
            "orientation": "horizontal",
            "style": "IPY_MODEL_693991c9838c4dafa38f93a79e387363",
            "value": 9912422
          }
        },
        "9031672352d34871985e404ced15d4ce": {
          "model_module": "@jupyter-widgets/controls",
          "model_module_version": "1.5.0",
          "model_name": "HTMLModel",
          "state": {
            "_dom_classes": [],
            "_model_module": "@jupyter-widgets/controls",
            "_model_module_version": "1.5.0",
            "_model_name": "HTMLModel",
            "_view_count": null,
            "_view_module": "@jupyter-widgets/controls",
            "_view_module_version": "1.5.0",
            "_view_name": "HTMLView",
            "description": "",
            "description_tooltip": null,
            "layout": "IPY_MODEL_589ae22ea2504139a3c3b2ce67cc3d3c",
            "placeholder": "​",
            "style": "IPY_MODEL_5af839e4cbb8430b84887da3050a5726",
            "value": " 9912422/9912422 [00:00&lt;00:00, 157243125.08it/s]"
          }
        },
        "948f0f8074d4466798869252c1ba7a78": {
          "model_module": "@jupyter-widgets/controls",
          "model_module_version": "1.5.0",
          "model_name": "HTMLModel",
          "state": {
            "_dom_classes": [],
            "_model_module": "@jupyter-widgets/controls",
            "_model_module_version": "1.5.0",
            "_model_name": "HTMLModel",
            "_view_count": null,
            "_view_module": "@jupyter-widgets/controls",
            "_view_module_version": "1.5.0",
            "_view_name": "HTMLView",
            "description": "",
            "description_tooltip": null,
            "layout": "IPY_MODEL_f75e034ac26a4e93a61d66eac41e3c09",
            "placeholder": "​",
            "style": "IPY_MODEL_9fd7b4b561a047d2bbad422c34f67571",
            "value": "100%"
          }
        },
        "955b0168fb5f4924a7039f0c35a12c1c": {
          "model_module": "@jupyter-widgets/controls",
          "model_module_version": "1.5.0",
          "model_name": "HBoxModel",
          "state": {
            "_dom_classes": [],
            "_model_module": "@jupyter-widgets/controls",
            "_model_module_version": "1.5.0",
            "_model_name": "HBoxModel",
            "_view_count": null,
            "_view_module": "@jupyter-widgets/controls",
            "_view_module_version": "1.5.0",
            "_view_name": "HBoxView",
            "box_style": "",
            "children": [
              "IPY_MODEL_3f8ef9f9bf2c40a88b25b5c2aa8a2370",
              "IPY_MODEL_507be7973ecb4dc8b95fc9ef00b8fb7a",
              "IPY_MODEL_6a54101903c140cdb7bf417e9be0ddbf"
            ],
            "layout": "IPY_MODEL_c7bb8b3b858d46d4ac6e47465b49a87f"
          }
        },
        "9fd7b4b561a047d2bbad422c34f67571": {
          "model_module": "@jupyter-widgets/controls",
          "model_module_version": "1.5.0",
          "model_name": "DescriptionStyleModel",
          "state": {
            "_model_module": "@jupyter-widgets/controls",
            "_model_module_version": "1.5.0",
            "_model_name": "DescriptionStyleModel",
            "_view_count": null,
            "_view_module": "@jupyter-widgets/base",
            "_view_module_version": "1.2.0",
            "_view_name": "StyleView",
            "description_width": ""
          }
        },
        "a29978129cc644f9aa0ca62dbef10f6e": {
          "model_module": "@jupyter-widgets/controls",
          "model_module_version": "1.5.0",
          "model_name": "HTMLModel",
          "state": {
            "_dom_classes": [],
            "_model_module": "@jupyter-widgets/controls",
            "_model_module_version": "1.5.0",
            "_model_name": "HTMLModel",
            "_view_count": null,
            "_view_module": "@jupyter-widgets/controls",
            "_view_module_version": "1.5.0",
            "_view_name": "HTMLView",
            "description": "",
            "description_tooltip": null,
            "layout": "IPY_MODEL_645d7c8a004f4e969d3331ce12a5e878",
            "placeholder": "​",
            "style": "IPY_MODEL_65fcdc92e72341e78b3553ebf924a371",
            "value": "100%"
          }
        },
        "a5c837484ac84fe6b462d98a04a0946a": {
          "model_module": "@jupyter-widgets/base",
          "model_module_version": "1.2.0",
          "model_name": "LayoutModel",
          "state": {
            "_model_module": "@jupyter-widgets/base",
            "_model_module_version": "1.2.0",
            "_model_name": "LayoutModel",
            "_view_count": null,
            "_view_module": "@jupyter-widgets/base",
            "_view_module_version": "1.2.0",
            "_view_name": "LayoutView",
            "align_content": null,
            "align_items": null,
            "align_self": null,
            "border": null,
            "bottom": null,
            "display": null,
            "flex": null,
            "flex_flow": null,
            "grid_area": null,
            "grid_auto_columns": null,
            "grid_auto_flow": null,
            "grid_auto_rows": null,
            "grid_column": null,
            "grid_gap": null,
            "grid_row": null,
            "grid_template_areas": null,
            "grid_template_columns": null,
            "grid_template_rows": null,
            "height": null,
            "justify_content": null,
            "justify_items": null,
            "left": null,
            "margin": null,
            "max_height": null,
            "max_width": null,
            "min_height": null,
            "min_width": null,
            "object_fit": null,
            "object_position": null,
            "order": null,
            "overflow": null,
            "overflow_x": null,
            "overflow_y": null,
            "padding": null,
            "right": null,
            "top": null,
            "visibility": null,
            "width": null
          }
        },
        "b4c2eb1db3f44f6691e6cedfeb3e9879": {
          "model_module": "@jupyter-widgets/base",
          "model_module_version": "1.2.0",
          "model_name": "LayoutModel",
          "state": {
            "_model_module": "@jupyter-widgets/base",
            "_model_module_version": "1.2.0",
            "_model_name": "LayoutModel",
            "_view_count": null,
            "_view_module": "@jupyter-widgets/base",
            "_view_module_version": "1.2.0",
            "_view_name": "LayoutView",
            "align_content": null,
            "align_items": null,
            "align_self": null,
            "border": null,
            "bottom": null,
            "display": null,
            "flex": null,
            "flex_flow": null,
            "grid_area": null,
            "grid_auto_columns": null,
            "grid_auto_flow": null,
            "grid_auto_rows": null,
            "grid_column": null,
            "grid_gap": null,
            "grid_row": null,
            "grid_template_areas": null,
            "grid_template_columns": null,
            "grid_template_rows": null,
            "height": null,
            "justify_content": null,
            "justify_items": null,
            "left": null,
            "margin": null,
            "max_height": null,
            "max_width": null,
            "min_height": null,
            "min_width": null,
            "object_fit": null,
            "object_position": null,
            "order": null,
            "overflow": null,
            "overflow_x": null,
            "overflow_y": null,
            "padding": null,
            "right": null,
            "top": null,
            "visibility": null,
            "width": null
          }
        },
        "b6dbdd51f6634814a3d1158e5f728817": {
          "model_module": "@jupyter-widgets/controls",
          "model_module_version": "1.5.0",
          "model_name": "DescriptionStyleModel",
          "state": {
            "_model_module": "@jupyter-widgets/controls",
            "_model_module_version": "1.5.0",
            "_model_name": "DescriptionStyleModel",
            "_view_count": null,
            "_view_module": "@jupyter-widgets/base",
            "_view_module_version": "1.2.0",
            "_view_name": "StyleView",
            "description_width": ""
          }
        },
        "b8e27804fc904e22b9eb649b656c31be": {
          "model_module": "@jupyter-widgets/controls",
          "model_module_version": "1.5.0",
          "model_name": "HBoxModel",
          "state": {
            "_dom_classes": [],
            "_model_module": "@jupyter-widgets/controls",
            "_model_module_version": "1.5.0",
            "_model_name": "HBoxModel",
            "_view_count": null,
            "_view_module": "@jupyter-widgets/controls",
            "_view_module_version": "1.5.0",
            "_view_name": "HBoxView",
            "box_style": "",
            "children": [
              "IPY_MODEL_c804891c0a6c4d8a8950ef48a5a57c69",
              "IPY_MODEL_7188f7806ea34539ac20b4ef3a9f862a",
              "IPY_MODEL_854aa12b9308496294921d0ab1e405be"
            ],
            "layout": "IPY_MODEL_f6d9897fa67a44fe8762d84c9ff2acca"
          }
        },
        "baf95c4877124cd88b6593e7c19299f3": {
          "model_module": "@jupyter-widgets/controls",
          "model_module_version": "1.5.0",
          "model_name": "ProgressStyleModel",
          "state": {
            "_model_module": "@jupyter-widgets/controls",
            "_model_module_version": "1.5.0",
            "_model_name": "ProgressStyleModel",
            "_view_count": null,
            "_view_module": "@jupyter-widgets/base",
            "_view_module_version": "1.2.0",
            "_view_name": "StyleView",
            "bar_color": null,
            "description_width": ""
          }
        },
        "c7bb8b3b858d46d4ac6e47465b49a87f": {
          "model_module": "@jupyter-widgets/base",
          "model_module_version": "1.2.0",
          "model_name": "LayoutModel",
          "state": {
            "_model_module": "@jupyter-widgets/base",
            "_model_module_version": "1.2.0",
            "_model_name": "LayoutModel",
            "_view_count": null,
            "_view_module": "@jupyter-widgets/base",
            "_view_module_version": "1.2.0",
            "_view_name": "LayoutView",
            "align_content": null,
            "align_items": null,
            "align_self": null,
            "border": null,
            "bottom": null,
            "display": null,
            "flex": null,
            "flex_flow": null,
            "grid_area": null,
            "grid_auto_columns": null,
            "grid_auto_flow": null,
            "grid_auto_rows": null,
            "grid_column": null,
            "grid_gap": null,
            "grid_row": null,
            "grid_template_areas": null,
            "grid_template_columns": null,
            "grid_template_rows": null,
            "height": null,
            "justify_content": null,
            "justify_items": null,
            "left": null,
            "margin": null,
            "max_height": null,
            "max_width": null,
            "min_height": null,
            "min_width": null,
            "object_fit": null,
            "object_position": null,
            "order": null,
            "overflow": null,
            "overflow_x": null,
            "overflow_y": null,
            "padding": null,
            "right": null,
            "top": null,
            "visibility": null,
            "width": null
          }
        },
        "c804891c0a6c4d8a8950ef48a5a57c69": {
          "model_module": "@jupyter-widgets/controls",
          "model_module_version": "1.5.0",
          "model_name": "HTMLModel",
          "state": {
            "_dom_classes": [],
            "_model_module": "@jupyter-widgets/controls",
            "_model_module_version": "1.5.0",
            "_model_name": "HTMLModel",
            "_view_count": null,
            "_view_module": "@jupyter-widgets/controls",
            "_view_module_version": "1.5.0",
            "_view_name": "HTMLView",
            "description": "",
            "description_tooltip": null,
            "layout": "IPY_MODEL_5e781fb6e2584f75a38c740a084a80c7",
            "placeholder": "​",
            "style": "IPY_MODEL_b6dbdd51f6634814a3d1158e5f728817",
            "value": "100%"
          }
        },
        "d188f21dc8f24de6a6d28539ae9fb1d6": {
          "model_module": "@jupyter-widgets/base",
          "model_module_version": "1.2.0",
          "model_name": "LayoutModel",
          "state": {
            "_model_module": "@jupyter-widgets/base",
            "_model_module_version": "1.2.0",
            "_model_name": "LayoutModel",
            "_view_count": null,
            "_view_module": "@jupyter-widgets/base",
            "_view_module_version": "1.2.0",
            "_view_name": "LayoutView",
            "align_content": null,
            "align_items": null,
            "align_self": null,
            "border": null,
            "bottom": null,
            "display": null,
            "flex": null,
            "flex_flow": null,
            "grid_area": null,
            "grid_auto_columns": null,
            "grid_auto_flow": null,
            "grid_auto_rows": null,
            "grid_column": null,
            "grid_gap": null,
            "grid_row": null,
            "grid_template_areas": null,
            "grid_template_columns": null,
            "grid_template_rows": null,
            "height": null,
            "justify_content": null,
            "justify_items": null,
            "left": null,
            "margin": null,
            "max_height": null,
            "max_width": null,
            "min_height": null,
            "min_width": null,
            "object_fit": null,
            "object_position": null,
            "order": null,
            "overflow": null,
            "overflow_x": null,
            "overflow_y": null,
            "padding": null,
            "right": null,
            "top": null,
            "visibility": null,
            "width": null
          }
        },
        "da9c6c6e628046729a4bf77e855ba84f": {
          "model_module": "@jupyter-widgets/controls",
          "model_module_version": "1.5.0",
          "model_name": "DescriptionStyleModel",
          "state": {
            "_model_module": "@jupyter-widgets/controls",
            "_model_module_version": "1.5.0",
            "_model_name": "DescriptionStyleModel",
            "_view_count": null,
            "_view_module": "@jupyter-widgets/base",
            "_view_module_version": "1.2.0",
            "_view_name": "StyleView",
            "description_width": ""
          }
        },
        "e136c7f519044b2ebdd6512609030a42": {
          "model_module": "@jupyter-widgets/controls",
          "model_module_version": "1.5.0",
          "model_name": "HTMLModel",
          "state": {
            "_dom_classes": [],
            "_model_module": "@jupyter-widgets/controls",
            "_model_module_version": "1.5.0",
            "_model_name": "HTMLModel",
            "_view_count": null,
            "_view_module": "@jupyter-widgets/controls",
            "_view_module_version": "1.5.0",
            "_view_name": "HTMLView",
            "description": "",
            "description_tooltip": null,
            "layout": "IPY_MODEL_e3bb6a1c47be44698de23135363c4666",
            "placeholder": "​",
            "style": "IPY_MODEL_2d482dd780fe44858ec6f356c005ad33",
            "value": " 4542/4542 [00:00&lt;00:00, 299706.26it/s]"
          }
        },
        "e3bb6a1c47be44698de23135363c4666": {
          "model_module": "@jupyter-widgets/base",
          "model_module_version": "1.2.0",
          "model_name": "LayoutModel",
          "state": {
            "_model_module": "@jupyter-widgets/base",
            "_model_module_version": "1.2.0",
            "_model_name": "LayoutModel",
            "_view_count": null,
            "_view_module": "@jupyter-widgets/base",
            "_view_module_version": "1.2.0",
            "_view_name": "LayoutView",
            "align_content": null,
            "align_items": null,
            "align_self": null,
            "border": null,
            "bottom": null,
            "display": null,
            "flex": null,
            "flex_flow": null,
            "grid_area": null,
            "grid_auto_columns": null,
            "grid_auto_flow": null,
            "grid_auto_rows": null,
            "grid_column": null,
            "grid_gap": null,
            "grid_row": null,
            "grid_template_areas": null,
            "grid_template_columns": null,
            "grid_template_rows": null,
            "height": null,
            "justify_content": null,
            "justify_items": null,
            "left": null,
            "margin": null,
            "max_height": null,
            "max_width": null,
            "min_height": null,
            "min_width": null,
            "object_fit": null,
            "object_position": null,
            "order": null,
            "overflow": null,
            "overflow_x": null,
            "overflow_y": null,
            "padding": null,
            "right": null,
            "top": null,
            "visibility": null,
            "width": null
          }
        },
        "ea28d4b749d34f7d8e32e2071a573923": {
          "model_module": "@jupyter-widgets/controls",
          "model_module_version": "1.5.0",
          "model_name": "ProgressStyleModel",
          "state": {
            "_model_module": "@jupyter-widgets/controls",
            "_model_module_version": "1.5.0",
            "_model_name": "ProgressStyleModel",
            "_view_count": null,
            "_view_module": "@jupyter-widgets/base",
            "_view_module_version": "1.2.0",
            "_view_name": "StyleView",
            "bar_color": null,
            "description_width": ""
          }
        },
        "ee011db4a03240ddbb8c86652f1b3229": {
          "model_module": "@jupyter-widgets/base",
          "model_module_version": "1.2.0",
          "model_name": "LayoutModel",
          "state": {
            "_model_module": "@jupyter-widgets/base",
            "_model_module_version": "1.2.0",
            "_model_name": "LayoutModel",
            "_view_count": null,
            "_view_module": "@jupyter-widgets/base",
            "_view_module_version": "1.2.0",
            "_view_name": "LayoutView",
            "align_content": null,
            "align_items": null,
            "align_self": null,
            "border": null,
            "bottom": null,
            "display": null,
            "flex": null,
            "flex_flow": null,
            "grid_area": null,
            "grid_auto_columns": null,
            "grid_auto_flow": null,
            "grid_auto_rows": null,
            "grid_column": null,
            "grid_gap": null,
            "grid_row": null,
            "grid_template_areas": null,
            "grid_template_columns": null,
            "grid_template_rows": null,
            "height": null,
            "justify_content": null,
            "justify_items": null,
            "left": null,
            "margin": null,
            "max_height": null,
            "max_width": null,
            "min_height": null,
            "min_width": null,
            "object_fit": null,
            "object_position": null,
            "order": null,
            "overflow": null,
            "overflow_x": null,
            "overflow_y": null,
            "padding": null,
            "right": null,
            "top": null,
            "visibility": null,
            "width": null
          }
        },
        "f6d9897fa67a44fe8762d84c9ff2acca": {
          "model_module": "@jupyter-widgets/base",
          "model_module_version": "1.2.0",
          "model_name": "LayoutModel",
          "state": {
            "_model_module": "@jupyter-widgets/base",
            "_model_module_version": "1.2.0",
            "_model_name": "LayoutModel",
            "_view_count": null,
            "_view_module": "@jupyter-widgets/base",
            "_view_module_version": "1.2.0",
            "_view_name": "LayoutView",
            "align_content": null,
            "align_items": null,
            "align_self": null,
            "border": null,
            "bottom": null,
            "display": null,
            "flex": null,
            "flex_flow": null,
            "grid_area": null,
            "grid_auto_columns": null,
            "grid_auto_flow": null,
            "grid_auto_rows": null,
            "grid_column": null,
            "grid_gap": null,
            "grid_row": null,
            "grid_template_areas": null,
            "grid_template_columns": null,
            "grid_template_rows": null,
            "height": null,
            "justify_content": null,
            "justify_items": null,
            "left": null,
            "margin": null,
            "max_height": null,
            "max_width": null,
            "min_height": null,
            "min_width": null,
            "object_fit": null,
            "object_position": null,
            "order": null,
            "overflow": null,
            "overflow_x": null,
            "overflow_y": null,
            "padding": null,
            "right": null,
            "top": null,
            "visibility": null,
            "width": null
          }
        },
        "f75e034ac26a4e93a61d66eac41e3c09": {
          "model_module": "@jupyter-widgets/base",
          "model_module_version": "1.2.0",
          "model_name": "LayoutModel",
          "state": {
            "_model_module": "@jupyter-widgets/base",
            "_model_module_version": "1.2.0",
            "_model_name": "LayoutModel",
            "_view_count": null,
            "_view_module": "@jupyter-widgets/base",
            "_view_module_version": "1.2.0",
            "_view_name": "LayoutView",
            "align_content": null,
            "align_items": null,
            "align_self": null,
            "border": null,
            "bottom": null,
            "display": null,
            "flex": null,
            "flex_flow": null,
            "grid_area": null,
            "grid_auto_columns": null,
            "grid_auto_flow": null,
            "grid_auto_rows": null,
            "grid_column": null,
            "grid_gap": null,
            "grid_row": null,
            "grid_template_areas": null,
            "grid_template_columns": null,
            "grid_template_rows": null,
            "height": null,
            "justify_content": null,
            "justify_items": null,
            "left": null,
            "margin": null,
            "max_height": null,
            "max_width": null,
            "min_height": null,
            "min_width": null,
            "object_fit": null,
            "object_position": null,
            "order": null,
            "overflow": null,
            "overflow_x": null,
            "overflow_y": null,
            "padding": null,
            "right": null,
            "top": null,
            "visibility": null,
            "width": null
          }
        },
        "fbfdfcfd3a6f4db5a837be54431f9bd1": {
          "model_module": "@jupyter-widgets/base",
          "model_module_version": "1.2.0",
          "model_name": "LayoutModel",
          "state": {
            "_model_module": "@jupyter-widgets/base",
            "_model_module_version": "1.2.0",
            "_model_name": "LayoutModel",
            "_view_count": null,
            "_view_module": "@jupyter-widgets/base",
            "_view_module_version": "1.2.0",
            "_view_name": "LayoutView",
            "align_content": null,
            "align_items": null,
            "align_self": null,
            "border": null,
            "bottom": null,
            "display": null,
            "flex": null,
            "flex_flow": null,
            "grid_area": null,
            "grid_auto_columns": null,
            "grid_auto_flow": null,
            "grid_auto_rows": null,
            "grid_column": null,
            "grid_gap": null,
            "grid_row": null,
            "grid_template_areas": null,
            "grid_template_columns": null,
            "grid_template_rows": null,
            "height": null,
            "justify_content": null,
            "justify_items": null,
            "left": null,
            "margin": null,
            "max_height": null,
            "max_width": null,
            "min_height": null,
            "min_width": null,
            "object_fit": null,
            "object_position": null,
            "order": null,
            "overflow": null,
            "overflow_x": null,
            "overflow_y": null,
            "padding": null,
            "right": null,
            "top": null,
            "visibility": null,
            "width": null
          }
        }
      }
    }
  },
  "nbformat": 4,
  "nbformat_minor": 0
}
