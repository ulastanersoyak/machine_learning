{
  "nbformat": 4,
  "nbformat_minor": 0,
  "metadata": {
    "colab": {
      "provenance": []
    },
    "kernelspec": {
      "name": "python3",
      "display_name": "Python 3"
    },
    "language_info": {
      "name": "python"
    }
  },
  "cells": [
    {
      "cell_type": "code",
      "execution_count": 3,
      "metadata": {
        "id": "_oDGAV1lRYlQ"
      },
      "outputs": [],
      "source": [
        "import numpy as np\n",
        "from random import random\n",
        "from sklearn.model_selection import train_test_split\n",
        "import tensorflow as tf"
      ]
    },
    {
      "cell_type": "code",
      "source": [
        "def generate_data(num_sample,test_size):\n",
        "    x = np.array([[random()/2 for _ in range(2)] for _ in range(num_sample)])\n",
        "    y = np.array([[i[0] + i[1]] for i in x])\n",
        "\n",
        "    x_train, x_test, y_train, y_test = train_test_split(x,y,test_size=test_size)\n",
        "    return x_train, x_test, y_train, y_test"
      ],
      "metadata": {
        "id": "7caQ8pxERcPJ"
      },
      "execution_count": 2,
      "outputs": []
    },
    {
      "cell_type": "code",
      "source": [
        " x_train, x_test, y_train, y_test = generate_data(5000,0.2)"
      ],
      "metadata": {
        "id": "JlPtsclsS1ps"
      },
      "execution_count": 8,
      "outputs": []
    },
    {
      "cell_type": "code",
      "source": [
        "model = tf.keras.Sequential([\n",
        "    tf.keras.layers.Dense(5,input_dim=2,activation=\"sigmoid\"),\n",
        "    tf.keras.layers.Dense(1,activation=\"sigmoid\")\n",
        "\n",
        "])\n",
        "\n",
        "optimizer = tf.keras.optimizers.SGD(learning_rate = 0.1)\n",
        "model.compile(optimizer=optimizer,loss=\"MSE\")"
      ],
      "metadata": {
        "id": "apzAWbHpRkY0"
      },
      "execution_count": 9,
      "outputs": []
    },
    {
      "cell_type": "code",
      "source": [
        "model.fit(x_train,y_train,epochs=100)"
      ],
      "metadata": {
        "colab": {
          "base_uri": "https://localhost:8080/"
        },
        "id": "pOjhI3mASxwj",
        "outputId": "02ebf2fb-e397-44a9-cf05-d430448edb37"
      },
      "execution_count": 10,
      "outputs": [
        {
          "output_type": "stream",
          "name": "stdout",
          "text": [
            "Epoch 1/100\n",
            "125/125 [==============================] - 1s 2ms/step - loss: 0.0478\n",
            "Epoch 2/100\n",
            "125/125 [==============================] - 0s 2ms/step - loss: 0.0443\n",
            "Epoch 3/100\n",
            "125/125 [==============================] - 0s 2ms/step - loss: 0.0436\n",
            "Epoch 4/100\n",
            "125/125 [==============================] - 0s 2ms/step - loss: 0.0429\n",
            "Epoch 5/100\n",
            "125/125 [==============================] - 0s 2ms/step - loss: 0.0423\n",
            "Epoch 6/100\n",
            "125/125 [==============================] - 0s 2ms/step - loss: 0.0417\n",
            "Epoch 7/100\n",
            "125/125 [==============================] - 0s 2ms/step - loss: 0.0411\n",
            "Epoch 8/100\n",
            "125/125 [==============================] - 0s 2ms/step - loss: 0.0405\n",
            "Epoch 9/100\n",
            "125/125 [==============================] - 0s 2ms/step - loss: 0.0398\n",
            "Epoch 10/100\n",
            "125/125 [==============================] - 0s 2ms/step - loss: 0.0392\n",
            "Epoch 11/100\n",
            "125/125 [==============================] - 0s 2ms/step - loss: 0.0386\n",
            "Epoch 12/100\n",
            "125/125 [==============================] - 0s 2ms/step - loss: 0.0380\n",
            "Epoch 13/100\n",
            "125/125 [==============================] - 0s 2ms/step - loss: 0.0373\n",
            "Epoch 14/100\n",
            "125/125 [==============================] - 0s 2ms/step - loss: 0.0367\n",
            "Epoch 15/100\n",
            "125/125 [==============================] - 0s 1ms/step - loss: 0.0360\n",
            "Epoch 16/100\n",
            "125/125 [==============================] - 0s 1ms/step - loss: 0.0353\n",
            "Epoch 17/100\n",
            "125/125 [==============================] - 0s 1ms/step - loss: 0.0346\n",
            "Epoch 18/100\n",
            "125/125 [==============================] - 0s 1ms/step - loss: 0.0338\n",
            "Epoch 19/100\n",
            "125/125 [==============================] - 0s 1ms/step - loss: 0.0331\n",
            "Epoch 20/100\n",
            "125/125 [==============================] - 0s 2ms/step - loss: 0.0323\n",
            "Epoch 21/100\n",
            "125/125 [==============================] - 0s 2ms/step - loss: 0.0315\n",
            "Epoch 22/100\n",
            "125/125 [==============================] - 0s 2ms/step - loss: 0.0307\n",
            "Epoch 23/100\n",
            "125/125 [==============================] - 0s 2ms/step - loss: 0.0298\n",
            "Epoch 24/100\n",
            "125/125 [==============================] - 1s 5ms/step - loss: 0.0289\n",
            "Epoch 25/100\n",
            "125/125 [==============================] - 1s 10ms/step - loss: 0.0280\n",
            "Epoch 26/100\n",
            "125/125 [==============================] - 1s 7ms/step - loss: 0.0271\n",
            "Epoch 27/100\n",
            "125/125 [==============================] - 1s 6ms/step - loss: 0.0262\n",
            "Epoch 28/100\n",
            "125/125 [==============================] - 1s 7ms/step - loss: 0.0252\n",
            "Epoch 29/100\n",
            "125/125 [==============================] - 1s 7ms/step - loss: 0.0243\n",
            "Epoch 30/100\n",
            "125/125 [==============================] - 1s 10ms/step - loss: 0.0233\n",
            "Epoch 31/100\n",
            "125/125 [==============================] - 0s 3ms/step - loss: 0.0223\n",
            "Epoch 32/100\n",
            "125/125 [==============================] - 0s 2ms/step - loss: 0.0213\n",
            "Epoch 33/100\n",
            "125/125 [==============================] - 0s 2ms/step - loss: 0.0204\n",
            "Epoch 34/100\n",
            "125/125 [==============================] - 0s 2ms/step - loss: 0.0194\n",
            "Epoch 35/100\n",
            "125/125 [==============================] - 0s 2ms/step - loss: 0.0185\n",
            "Epoch 36/100\n",
            "125/125 [==============================] - 0s 2ms/step - loss: 0.0175\n",
            "Epoch 37/100\n",
            "125/125 [==============================] - 0s 2ms/step - loss: 0.0166\n",
            "Epoch 38/100\n",
            "125/125 [==============================] - 0s 2ms/step - loss: 0.0157\n",
            "Epoch 39/100\n",
            "125/125 [==============================] - 0s 2ms/step - loss: 0.0148\n",
            "Epoch 40/100\n",
            "125/125 [==============================] - 0s 2ms/step - loss: 0.0139\n",
            "Epoch 41/100\n",
            "125/125 [==============================] - 0s 2ms/step - loss: 0.0131\n",
            "Epoch 42/100\n",
            "125/125 [==============================] - 0s 2ms/step - loss: 0.0123\n",
            "Epoch 43/100\n",
            "125/125 [==============================] - 0s 2ms/step - loss: 0.0115\n",
            "Epoch 44/100\n",
            "125/125 [==============================] - 0s 2ms/step - loss: 0.0108\n",
            "Epoch 45/100\n",
            "125/125 [==============================] - 0s 2ms/step - loss: 0.0101\n",
            "Epoch 46/100\n",
            "125/125 [==============================] - 0s 2ms/step - loss: 0.0094\n",
            "Epoch 47/100\n",
            "125/125 [==============================] - 0s 2ms/step - loss: 0.0088\n",
            "Epoch 48/100\n",
            "125/125 [==============================] - 0s 2ms/step - loss: 0.0082\n",
            "Epoch 49/100\n",
            "125/125 [==============================] - 0s 2ms/step - loss: 0.0076\n",
            "Epoch 50/100\n",
            "125/125 [==============================] - 0s 2ms/step - loss: 0.0071\n",
            "Epoch 51/100\n",
            "125/125 [==============================] - 0s 1ms/step - loss: 0.0066\n",
            "Epoch 52/100\n",
            "125/125 [==============================] - 0s 1ms/step - loss: 0.0062\n",
            "Epoch 53/100\n",
            "125/125 [==============================] - 0s 2ms/step - loss: 0.0057\n",
            "Epoch 54/100\n",
            "125/125 [==============================] - 0s 1ms/step - loss: 0.0053\n",
            "Epoch 55/100\n",
            "125/125 [==============================] - 0s 2ms/step - loss: 0.0049\n",
            "Epoch 56/100\n",
            "125/125 [==============================] - 0s 1ms/step - loss: 0.0046\n",
            "Epoch 57/100\n",
            "125/125 [==============================] - 0s 1ms/step - loss: 0.0043\n",
            "Epoch 58/100\n",
            "125/125 [==============================] - 0s 2ms/step - loss: 0.0040\n",
            "Epoch 59/100\n",
            "125/125 [==============================] - 0s 2ms/step - loss: 0.0037\n",
            "Epoch 60/100\n",
            "125/125 [==============================] - 0s 1ms/step - loss: 0.0034\n",
            "Epoch 61/100\n",
            "125/125 [==============================] - 0s 1ms/step - loss: 0.0032\n",
            "Epoch 62/100\n",
            "125/125 [==============================] - 0s 2ms/step - loss: 0.0029\n",
            "Epoch 63/100\n",
            "125/125 [==============================] - 0s 1ms/step - loss: 0.0027\n",
            "Epoch 64/100\n",
            "125/125 [==============================] - 0s 1ms/step - loss: 0.0026\n",
            "Epoch 65/100\n",
            "125/125 [==============================] - 0s 1ms/step - loss: 0.0024\n",
            "Epoch 66/100\n",
            "125/125 [==============================] - 0s 1ms/step - loss: 0.0022\n",
            "Epoch 67/100\n",
            "125/125 [==============================] - 0s 1ms/step - loss: 0.0021\n",
            "Epoch 68/100\n",
            "125/125 [==============================] - 0s 1ms/step - loss: 0.0019\n",
            "Epoch 69/100\n",
            "125/125 [==============================] - 0s 2ms/step - loss: 0.0018\n",
            "Epoch 70/100\n",
            "125/125 [==============================] - 0s 2ms/step - loss: 0.0017\n",
            "Epoch 71/100\n",
            "125/125 [==============================] - 0s 1ms/step - loss: 0.0016\n",
            "Epoch 72/100\n",
            "125/125 [==============================] - 0s 1ms/step - loss: 0.0015\n",
            "Epoch 73/100\n",
            "125/125 [==============================] - 0s 1ms/step - loss: 0.0014\n",
            "Epoch 74/100\n",
            "125/125 [==============================] - 0s 2ms/step - loss: 0.0013\n",
            "Epoch 75/100\n",
            "125/125 [==============================] - 0s 1ms/step - loss: 0.0012\n",
            "Epoch 76/100\n",
            "125/125 [==============================] - 0s 1ms/step - loss: 0.0012\n",
            "Epoch 77/100\n",
            "125/125 [==============================] - 0s 1ms/step - loss: 0.0011\n",
            "Epoch 78/100\n",
            "125/125 [==============================] - 0s 2ms/step - loss: 0.0011\n",
            "Epoch 79/100\n",
            "125/125 [==============================] - 0s 2ms/step - loss: 9.9693e-04\n",
            "Epoch 80/100\n",
            "125/125 [==============================] - 0s 2ms/step - loss: 9.4739e-04\n",
            "Epoch 81/100\n",
            "125/125 [==============================] - 0s 2ms/step - loss: 9.0203e-04\n",
            "Epoch 82/100\n",
            "125/125 [==============================] - 0s 2ms/step - loss: 8.6025e-04\n",
            "Epoch 83/100\n",
            "125/125 [==============================] - 0s 2ms/step - loss: 8.2185e-04\n",
            "Epoch 84/100\n",
            "125/125 [==============================] - 0s 2ms/step - loss: 7.8636e-04\n",
            "Epoch 85/100\n",
            "125/125 [==============================] - 0s 2ms/step - loss: 7.5455e-04\n",
            "Epoch 86/100\n",
            "125/125 [==============================] - 0s 2ms/step - loss: 7.2489e-04\n",
            "Epoch 87/100\n",
            "125/125 [==============================] - 0s 2ms/step - loss: 6.9798e-04\n",
            "Epoch 88/100\n",
            "125/125 [==============================] - 0s 2ms/step - loss: 6.7266e-04\n",
            "Epoch 89/100\n",
            "125/125 [==============================] - 0s 2ms/step - loss: 6.5004e-04\n",
            "Epoch 90/100\n",
            "125/125 [==============================] - 0s 2ms/step - loss: 6.2892e-04\n",
            "Epoch 91/100\n",
            "125/125 [==============================] - 0s 1ms/step - loss: 6.0969e-04\n",
            "Epoch 92/100\n",
            "125/125 [==============================] - 0s 1ms/step - loss: 5.9209e-04\n",
            "Epoch 93/100\n",
            "125/125 [==============================] - 0s 2ms/step - loss: 5.7573e-04\n",
            "Epoch 94/100\n",
            "125/125 [==============================] - 0s 2ms/step - loss: 5.6074e-04\n",
            "Epoch 95/100\n",
            "125/125 [==============================] - 0s 2ms/step - loss: 5.4724e-04\n",
            "Epoch 96/100\n",
            "125/125 [==============================] - 0s 1ms/step - loss: 5.3459e-04\n",
            "Epoch 97/100\n",
            "125/125 [==============================] - 0s 2ms/step - loss: 5.2312e-04\n",
            "Epoch 98/100\n",
            "125/125 [==============================] - 0s 1ms/step - loss: 5.1251e-04\n",
            "Epoch 99/100\n",
            "125/125 [==============================] - 0s 2ms/step - loss: 5.0283e-04\n",
            "Epoch 100/100\n",
            "125/125 [==============================] - 0s 2ms/step - loss: 4.9384e-04\n"
          ]
        },
        {
          "output_type": "execute_result",
          "data": {
            "text/plain": [
              "<keras.callbacks.History at 0x7f8b3ce3c490>"
            ]
          },
          "metadata": {},
          "execution_count": 10
        }
      ]
    },
    {
      "cell_type": "code",
      "source": [
        "model.evaluate(x_test,y_test,verbose=1)"
      ],
      "metadata": {
        "colab": {
          "base_uri": "https://localhost:8080/"
        },
        "id": "35iYzurOTM0M",
        "outputId": "96cc663c-373c-457d-eee9-3f1b08fb9aa5"
      },
      "execution_count": 12,
      "outputs": [
        {
          "output_type": "stream",
          "name": "stdout",
          "text": [
            "32/32 [==============================] - 0s 1ms/step - loss: 4.5928e-04\n"
          ]
        },
        {
          "output_type": "execute_result",
          "data": {
            "text/plain": [
              "0.0004592752375174314"
            ]
          },
          "metadata": {},
          "execution_count": 12
        }
      ]
    },
    {
      "cell_type": "code",
      "source": [
        "data = np.array([[0.1 , 0.2] , [0.2 , 0.2]])\n",
        "predictions = model.predict(data,verbose=1)\n",
        "\n",
        "for d,p in zip(data,predictions):\n",
        "  print(f\"original data:{d[0]}+ {d[1]} = {p}\")"
      ],
      "metadata": {
        "colab": {
          "base_uri": "https://localhost:8080/"
        },
        "id": "v_LIuevsUnmT",
        "outputId": "803888ce-db63-48a4-f59c-38e958415a8c"
      },
      "execution_count": 18,
      "outputs": [
        {
          "output_type": "stream",
          "name": "stdout",
          "text": [
            "1/1 [==============================] - 0s 44ms/step\n",
            "original data:0.1+ 0.2 = [0.2969387]\n",
            "original data:0.2+ 0.2 = [0.3948518]\n"
          ]
        }
      ]
    }
  ]
}