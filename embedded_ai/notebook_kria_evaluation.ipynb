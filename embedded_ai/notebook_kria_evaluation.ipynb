{
  "cells": [
    {
      "cell_type": "code",
      "execution_count": 1,
      "id": "635f5b47",
      "metadata": {
        "id": "635f5b47"
      },
      "outputs": [],
      "source": [
        "import time\n",
        "import sys\n",
        "import numpy as np\n",
        "import torch as tc\n",
        "import platform\n",
        "import tqdm\n",
        "from typing import Tuple, List, Union, Any\n",
        "from math import exp\n",
        "\n",
        "\n",
        "\n",
        "class EvalLoader:\n",
        "    def __init__(self, \n",
        "                 batch_size: int = 1, \n",
        "                 npz_path: str = 'eval_data.npz') :\n",
        "        data = np.load(npz_path)\n",
        "        self.data = data['data'].astype(np.float32) / 255\n",
        "        self.targets = data['targets']\n",
        "        self.batch_size = batch_size\n",
        "    \n",
        "    def __getitem__(self, i):\n",
        "        if i >= len(self):\n",
        "            raise StopIteration\n",
        "\n",
        "        beg = min(i * self.batch_size, self.data.shape[0])\n",
        "        end = min(beg + self.batch_size, self.data.shape[0])\n",
        "\n",
        "        return self.data[beg:end], self.targets[beg:end]\n",
        "    \n",
        "    def __len__(self):\n",
        "        return self.data.shape[0] // self.batch_size\n",
        "\n",
        "\n",
        "class TimeMeasurement:\n",
        "    def __init__(self, context_name: str, frames: int) -> None:\n",
        "        self.context_name: str = context_name\n",
        "        self.frames: int = frames\n",
        "        self.begin: float = None\n",
        "        self.end: float = None\n",
        "\n",
        "    def __enter__(self):\n",
        "        self.begin = time.time()\n",
        "        return self\n",
        "\n",
        "    def __exit__(self, *args):\n",
        "        self.end =  time.time()\n",
        "\n",
        "    @property\n",
        "    def time(self) -> float:\n",
        "        if self.begin is None or self.end is None:\n",
        "            raise RuntimeError()\n",
        "        return int(self.end - self.begin)\n",
        "\n",
        "    @property\n",
        "    def fps(self):\n",
        "        return self.frames / self.time\n",
        "\n",
        "    def __str__(self) -> str:\n",
        "        t = self.time\n",
        "        h = t // 60\n",
        "        min = (t - h*60) // 60\n",
        "        s = int(t - h*60 - min*60)\n",
        "        ms = int((t - np.floor(t))*1000)\n",
        "\n",
        "        return f\"Execution time: {h}:{min}:{s}:{ms}, processed {self.frames} frames, throughput: {self.fps} fps.\"\n",
        "\n",
        "    def __repr__(self) -> str:\n",
        "        t = self.time\n",
        "        h = t // 60\n",
        "        min = (t - h*60) // 60\n",
        "        s = np.floor(t - h*60 - min*60)\n",
        "        ms = np.floor((t - np.floor(t))*1000)\n",
        "\n",
        "        return f'TimeMeasurement(context=\"{self.context_name}\",\"{h}:{min}:{s}:{ms}\", frames={self.frames}, throughput={self.fps})'\n"
      ]
    },
    {
      "cell_type": "markdown",
      "id": "6363babd",
      "metadata": {
        "id": "6363babd"
      },
      "source": [
        "1. Define Accuracy metric calculation (method __call__)."
      ]
    },
    {
      "cell_type": "code",
      "execution_count": 2,
      "id": "ae866502",
      "metadata": {
        "id": "ae866502"
      },
      "outputs": [],
      "source": [
        "class AccuracyMetic:\n",
        "    \n",
        "    def __init__(self) -> None:\n",
        "        pass\n",
        "\n",
        "    def __call__(self, y_pred: np.ndarray, y_ref: np.ndarray) -> float:\n",
        "        \"\"\"\n",
        "        :param y_pred: array of shape (batch_size, num_of_classes) type float\n",
        "        :param y_ref: array with shape (batch_size,) and type int\n",
        "        :return: scalar as accuracy metric for batch\n",
        "        \"\"\"\n",
        "        y_pred = y_pred.argmax(1)\n",
        "        cmp = y_pred == y_ref\n",
        "        # scalar value\n",
        "        score =  cmp.sum() / cmp.shape[0]\n",
        "\n",
        "        return score"
      ]
    },
    {
      "cell_type": "markdown",
      "id": "bb8cd9e7",
      "metadata": {
        "id": "bb8cd9e7"
      },
      "source": [
        "*Additional task: \n",
        "\n",
        "Define CrossEntropy loss function:"
      ]
    },
    {
      "cell_type": "code",
      "execution_count": 3,
      "id": "6eb0a082",
      "metadata": {
        "id": "6eb0a082"
      },
      "outputs": [],
      "source": [
        "class CrossEntropyLoss:\n",
        "    def __init__(self) -> None:\n",
        "        pass\n",
        "        \n",
        "    def __call__(self, \n",
        "                 y_pred: np.ndarray, \n",
        "                 y_ref: np.ndarray\n",
        "                 ) -> Any:\n",
        "        loss = 0\n",
        "        for i in range(len(y_pred)):\n",
        "            loss += y_ref[i] - y_pred[i] \n",
        "        return loss"
      ]
    },
    {
      "cell_type": "markdown",
      "id": "592772ad",
      "metadata": {
        "id": "592772ad"
      },
      "source": [
        "2. Instantiate:\n",
        "- `EvalLoader` as `loader`\n",
        "- `AccuracyMetric` as `metric`\n",
        "- `CrossEntropyLoss` (you can allow it to return 0.0) as `criterion`"
      ]
    },
    {
      "cell_type": "code",
      "execution_count": 4,
      "id": "37ac42ed",
      "metadata": {
        "colab": {
          "base_uri": "https://localhost:8080/",
          "height": 363
        },
        "id": "37ac42ed",
        "outputId": "0b77f22c-0534-4dfb-e01c-b63dc2e29bf3"
      },
      "outputs": [
        {
          "output_type": "error",
          "ename": "FileNotFoundError",
          "evalue": "ignored",
          "traceback": [
            "\u001b[0;31m---------------------------------------------------------------------------\u001b[0m",
            "\u001b[0;31mFileNotFoundError\u001b[0m                         Traceback (most recent call last)",
            "\u001b[0;32m<ipython-input-4-60245e0ab250>\u001b[0m in \u001b[0;36m<module>\u001b[0;34m\u001b[0m\n\u001b[0;32m----> 1\u001b[0;31m \u001b[0mloader\u001b[0m \u001b[0;34m=\u001b[0m \u001b[0mEvalLoader\u001b[0m\u001b[0;34m(\u001b[0m\u001b[0;34m)\u001b[0m\u001b[0;34m\u001b[0m\u001b[0;34m\u001b[0m\u001b[0m\n\u001b[0m\u001b[1;32m      2\u001b[0m \u001b[0mmetric\u001b[0m \u001b[0;34m=\u001b[0m \u001b[0mAccuracyMetic\u001b[0m\u001b[0;34m(\u001b[0m\u001b[0;34m)\u001b[0m\u001b[0;34m\u001b[0m\u001b[0;34m\u001b[0m\u001b[0m\n\u001b[1;32m      3\u001b[0m \u001b[0mcriterion\u001b[0m \u001b[0;34m=\u001b[0m \u001b[0mtc\u001b[0m\u001b[0;34m.\u001b[0m\u001b[0mnn\u001b[0m\u001b[0;34m.\u001b[0m\u001b[0mCrossEntropyLoss\u001b[0m\u001b[0;34m(\u001b[0m\u001b[0;34m)\u001b[0m\u001b[0;34m\u001b[0m\u001b[0;34m\u001b[0m\u001b[0m\n\u001b[1;32m      4\u001b[0m \u001b[0mtm\u001b[0m \u001b[0;34m=\u001b[0m \u001b[0mTimeMeasurement\u001b[0m\u001b[0;34m(\u001b[0m\u001b[0;34m\"Evaluation on KV260\"\u001b[0m\u001b[0;34m,\u001b[0m \u001b[0mloader\u001b[0m\u001b[0;34m.\u001b[0m\u001b[0mbatch_size\u001b[0m \u001b[0;34m*\u001b[0m \u001b[0mlen\u001b[0m\u001b[0;34m(\u001b[0m\u001b[0mloader\u001b[0m\u001b[0;34m)\u001b[0m\u001b[0;34m)\u001b[0m\u001b[0;34m\u001b[0m\u001b[0;34m\u001b[0m\u001b[0m\n",
            "\u001b[0;32m<ipython-input-1-eacfb002df6f>\u001b[0m in \u001b[0;36m__init__\u001b[0;34m(self, batch_size, npz_path)\u001b[0m\n\u001b[1;32m     14\u001b[0m                  \u001b[0mbatch_size\u001b[0m\u001b[0;34m:\u001b[0m \u001b[0mint\u001b[0m \u001b[0;34m=\u001b[0m \u001b[0;36m1\u001b[0m\u001b[0;34m,\u001b[0m\u001b[0;34m\u001b[0m\u001b[0;34m\u001b[0m\u001b[0m\n\u001b[1;32m     15\u001b[0m                  npz_path: str = 'eval_data.npz') :\n\u001b[0;32m---> 16\u001b[0;31m         \u001b[0mdata\u001b[0m \u001b[0;34m=\u001b[0m \u001b[0mnp\u001b[0m\u001b[0;34m.\u001b[0m\u001b[0mload\u001b[0m\u001b[0;34m(\u001b[0m\u001b[0mnpz_path\u001b[0m\u001b[0;34m)\u001b[0m\u001b[0;34m\u001b[0m\u001b[0;34m\u001b[0m\u001b[0m\n\u001b[0m\u001b[1;32m     17\u001b[0m         \u001b[0mself\u001b[0m\u001b[0;34m.\u001b[0m\u001b[0mdata\u001b[0m \u001b[0;34m=\u001b[0m \u001b[0mdata\u001b[0m\u001b[0;34m[\u001b[0m\u001b[0;34m'data'\u001b[0m\u001b[0;34m]\u001b[0m\u001b[0;34m.\u001b[0m\u001b[0mastype\u001b[0m\u001b[0;34m(\u001b[0m\u001b[0mnp\u001b[0m\u001b[0;34m.\u001b[0m\u001b[0mfloat32\u001b[0m\u001b[0;34m)\u001b[0m \u001b[0;34m/\u001b[0m \u001b[0;36m255\u001b[0m\u001b[0;34m\u001b[0m\u001b[0;34m\u001b[0m\u001b[0m\n\u001b[1;32m     18\u001b[0m         \u001b[0mself\u001b[0m\u001b[0;34m.\u001b[0m\u001b[0mtargets\u001b[0m \u001b[0;34m=\u001b[0m \u001b[0mdata\u001b[0m\u001b[0;34m[\u001b[0m\u001b[0;34m'targets'\u001b[0m\u001b[0;34m]\u001b[0m\u001b[0;34m\u001b[0m\u001b[0;34m\u001b[0m\u001b[0m\n",
            "\u001b[0;32m/usr/local/lib/python3.8/dist-packages/numpy/lib/npyio.py\u001b[0m in \u001b[0;36mload\u001b[0;34m(file, mmap_mode, allow_pickle, fix_imports, encoding)\u001b[0m\n\u001b[1;32m    415\u001b[0m             \u001b[0mown_fid\u001b[0m \u001b[0;34m=\u001b[0m \u001b[0;32mFalse\u001b[0m\u001b[0;34m\u001b[0m\u001b[0;34m\u001b[0m\u001b[0m\n\u001b[1;32m    416\u001b[0m         \u001b[0;32melse\u001b[0m\u001b[0;34m:\u001b[0m\u001b[0;34m\u001b[0m\u001b[0;34m\u001b[0m\u001b[0m\n\u001b[0;32m--> 417\u001b[0;31m             \u001b[0mfid\u001b[0m \u001b[0;34m=\u001b[0m \u001b[0mstack\u001b[0m\u001b[0;34m.\u001b[0m\u001b[0menter_context\u001b[0m\u001b[0;34m(\u001b[0m\u001b[0mopen\u001b[0m\u001b[0;34m(\u001b[0m\u001b[0mos_fspath\u001b[0m\u001b[0;34m(\u001b[0m\u001b[0mfile\u001b[0m\u001b[0;34m)\u001b[0m\u001b[0;34m,\u001b[0m \u001b[0;34m\"rb\"\u001b[0m\u001b[0;34m)\u001b[0m\u001b[0;34m)\u001b[0m\u001b[0;34m\u001b[0m\u001b[0;34m\u001b[0m\u001b[0m\n\u001b[0m\u001b[1;32m    418\u001b[0m             \u001b[0mown_fid\u001b[0m \u001b[0;34m=\u001b[0m \u001b[0;32mTrue\u001b[0m\u001b[0;34m\u001b[0m\u001b[0;34m\u001b[0m\u001b[0m\n\u001b[1;32m    419\u001b[0m \u001b[0;34m\u001b[0m\u001b[0m\n",
            "\u001b[0;31mFileNotFoundError\u001b[0m: [Errno 2] No such file or directory: 'eval_data.npz'"
          ]
        }
      ],
      "source": [
        "loader = EvalLoader() \n",
        "metric = AccuracyMetic()\n",
        "criterion = tc.nn.CrossEntropyLoss()\n",
        "tm = TimeMeasurement(\"Evaluation on KV260\", loader.batch_size * len(loader))"
      ]
    },
    {
      "cell_type": "markdown",
      "id": "5cfafb34",
      "metadata": {
        "id": "5cfafb34"
      },
      "source": [
        "3. Define softmax function:\n",
        "\n",
        "P.S. You can look at the PyTorch documentation of softmax function. "
      ]
    },
    {
      "cell_type": "code",
      "execution_count": null,
      "id": "a2229e6a",
      "metadata": {
        "id": "a2229e6a"
      },
      "outputs": [],
      "source": [
        "def softmax(x: np.ndarray, axis=1):\n",
        "\n",
        "    return tc.nn.Softmax(dim=axis)"
      ]
    },
    {
      "cell_type": "markdown",
      "id": "bcb90dce",
      "metadata": {
        "id": "bcb90dce"
      },
      "source": [
        "Define conversion methods:\n",
        "4. `input_float_to_int8(x)` - conversion from floating point number of range [0.0;1.0] \n",
        "to signed 8 bit signed type (np.int8):\n",
        "- divide x by fixed point precision\n",
        "- apply floor function\n",
        "- limit values to range [-128; 127]\n",
        "- convert to type np.int8 \n",
        "\n",
        "5. `output_int8_to_float(y)` - conversion from int8 value as fixed point to floating point value:\n",
        "- multiply y by precision\n",
        "- convert type to np.float32"
      ]
    },
    {
      "cell_type": "code",
      "execution_count": null,
      "id": "364364fd",
      "metadata": {
        "id": "364364fd"
      },
      "outputs": [],
      "source": [
        "class NetworkDPU:\n",
        "    \n",
        "    def __init__(self, xmodel_path: str = 'MiniResnet_VAI.xmodel', dpu_path: str = 'dpu.bit'):\n",
        "        # loading hardware architecture\n",
        "        self.ov: pynq_dpu.DpuOverlay = pynq_dpu.DpuOverlay(dpu_path, download=True)\n",
        "        # loading network architecture\n",
        "        self.ov.load_model(xmodel_path)\n",
        "        self.dpu = self.ov.runner\n",
        "        \n",
        "        # get in/out tensors descriptions\n",
        "        inputTensors = self.dpu.get_input_tensors()\n",
        "        outputTensors = self.dpu.get_output_tensors()\n",
        "        \n",
        "        # get list of shapes\n",
        "        shapeIn = np.array([it.dims for it in inputTensors])\n",
        "        shapeOut = np.array([ot.dims for ot in outputTensors])\n",
        "        self.shapeIn = shapeIn\n",
        "        self.shapeOut = shapeOut\n",
        "        # create buffers for accelerator\n",
        "        self.buff_in = [np.zeros(sh, np.int8, order='C') for sh in shapeIn]\n",
        "        self.buff_out = [np.zeros(sh, np.int8, order='C') for sh in shapeOut]\n",
        "        # get fixed point representation format (signed) \n",
        "        self.input_repr = [(it.get_attr('bit_width'), it.get_attr('fix_point')) for it in inputTensors]\n",
        "        self.output_repr = [(ot.get_attr('bit_width'), ot.get_attr('fix_point')) for ot in outputTensors]\n",
        "    \n",
        "    def input_float_to_int8(self, x: np.ndarray) -> np.ndarray:\n",
        "        BIT_WIDTH, PRECISION_BITS = self.input_repr[0]\n",
        "        \n",
        "        # int space \n",
        "        x = x * (2**PRECISION_BITS)\n",
        "        x = np.floor(x)\n",
        "        x = np.clip(x,-128, 127)\n",
        "        x = x.astype(np.int8)\n",
        "        \n",
        "        return x\n",
        "    \n",
        "    def output_int8_to_float(self, y: np.ndarray):\n",
        "        BIT_WIDTH, PRECISION_BITS = self.output_repr[0]\n",
        "        PRECISION = 1 / 2**PRECISION_BITS\n",
        "        y = y * PRECISION\n",
        "        return y\n",
        "    \n",
        "    def process(self, x: np.ndarray):\n",
        "        x = self.input_float_to_int8(x)\n",
        "        \n",
        "        # fill input buffer\n",
        "        self.buff_in[0] = x\n",
        "        # start DPU thread\n",
        "        job_id = self.dpu.execute_async(self.buff_in, self.buff_out)\n",
        "        # wait for thread end to join it\n",
        "        self.dpu.wait(job_id)\n",
        "        # read from output buffer\n",
        "        y = self.buff_out[0]\n",
        "        \n",
        "        y = self.output_int8_to_float(y)\n",
        "        \n",
        "        y = softmax(y)\n",
        "        return y\n",
        "    \n",
        "    def __call__(self, x: np.ndarray) -> Any:\n",
        "        return self.process(x)\n",
        "    "
      ]
    },
    {
      "cell_type": "markdown",
      "id": "2f150c17",
      "metadata": {
        "id": "2f150c17"
      },
      "source": [
        "6. Instantiate network:\n",
        "- use path to file `*.xmodel` as xmodel_path \n",
        "- use path to file `*.bit` as dpu_path \n",
        "\n",
        "Notes:\n",
        "- files `*.bit`, `*.xclbin` and `*.hwh` must be located in the same directory \n",
        "\n",
        "and have the same base name"
      ]
    },
    {
      "cell_type": "code",
      "execution_count": null,
      "id": "3e3fb127",
      "metadata": {
        "id": "3e3fb127"
      },
      "outputs": [],
      "source": [
        "net = NetworkDPU()"
      ]
    },
    {
      "cell_type": "code",
      "execution_count": null,
      "id": "e61b7ff3",
      "metadata": {
        "id": "e61b7ff3"
      },
      "outputs": [],
      "source": [
        "def evaluation(model: NetworkDPU,\n",
        "               data_loader: EvalLoader,\n",
        "               criterion: CrossEntropyLoss,\n",
        "               metric: AccuracyMetic,\n",
        "               ) -> Tuple[float, float]:\n",
        "    \"\"\"\n",
        "    Eval pass generator data through the model.\n",
        "    \n",
        "    :param model: network\n",
        "    :param data_generator: data loader\n",
        "    :param criterion: criterion / loss two arg function\n",
        "    :param metric: metric object - two arg function\n",
        "    :return: loss_value, metric_value\n",
        "    \"\"\"\n",
        "    print(f\"Running on platform: {platform.platform()}, \"\n",
        "          f\"machine: {platform.machine()}, \"\n",
        "          f\"python_version: {platform.python_version()}, \"\n",
        "          f\"processor: {platform.processor()}, \"\n",
        "          f\"system: {platform.system()}, \"\n",
        "          )\n",
        "    total_loss: float = 0.0\n",
        "    total_accuracy: float = 0.0\n",
        "    samples_num: int = 0\n",
        "    \n",
        "    for i, (X, y_ref) in tqdm.tqdm(enumerate(data_loader),):\n",
        "        y_pred = model(X)\n",
        "        \n",
        "        # calculate loss\n",
        "        loss = criterion(y_pred, y_ref)\n",
        "        \n",
        "        # calculate accuracy\n",
        "        accuracy = metric(y_pred, y_ref)\n",
        "\n",
        "        total_loss += loss * y_pred.shape[0]\n",
        "        total_accuracy += accuracy * y_pred.shape[0]\n",
        "        samples_num += y_pred.shape[0]\n",
        "\n",
        "    if samples_num == 0:\n",
        "        return 0.0, 0.0\n",
        "\n",
        "    return total_loss / samples_num, total_accuracy / samples_num\n"
      ]
    },
    {
      "cell_type": "markdown",
      "id": "85113b4c",
      "metadata": {
        "id": "85113b4c"
      },
      "source": [
        "7. Run evaluation function with proper arguments:"
      ]
    },
    {
      "cell_type": "code",
      "execution_count": null,
      "id": "6c5236e6",
      "metadata": {
        "id": "6c5236e6"
      },
      "outputs": [],
      "source": [
        "with tm:\n",
        "    loss, acc = evaluation(model=net,data_loader=EvalLoader,criterion=CrossEntropyLoss,metric=AccuracyMetic)\n",
        "    \n",
        "print(str(tm))\n",
        "print(\"Loss: \", loss)\n",
        "print(\"Accuracy: \", acc)\n"
      ]
    },
    {
      "cell_type": "code",
      "execution_count": null,
      "id": "d8338271",
      "metadata": {
        "id": "d8338271"
      },
      "outputs": [],
      "source": []
    }
  ],
  "metadata": {
    "kernelspec": {
      "display_name": "Python 3.8.8 ('base')",
      "language": "python",
      "name": "python3"
    },
    "language_info": {
      "codemirror_mode": {
        "name": "ipython",
        "version": 3
      },
      "file_extension": ".py",
      "mimetype": "text/x-python",
      "name": "python",
      "nbconvert_exporter": "python",
      "pygments_lexer": "ipython3",
      "version": "3.8.8"
    },
    "vscode": {
      "interpreter": {
        "hash": "5f8983bddda93f81dfa77202df1e7f4d1cde96e239aa7ad80697fb7e3c19a16c"
      }
    },
    "colab": {
      "provenance": []
    }
  },
  "nbformat": 4,
  "nbformat_minor": 5
}