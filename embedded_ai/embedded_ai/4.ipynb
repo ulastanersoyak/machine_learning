{
  "cells": [
    {
      "cell_type": "markdown",
      "metadata": {
        "id": "l9QVe805pNgl"
      },
      "source": [
        "# Quantization - introduction "
      ]
    },
    {
      "cell_type": "code",
      "execution_count": 2,
      "metadata": {
        "id": "b1meIFktpNgx"
      },
      "outputs": [],
      "source": [
        "import torch\n",
        "import matplotlib.pyplot as plt\n",
        "# default size of figures\n",
        "plt.rcParams['figure.figsize'] = [10, 10]"
      ]
    },
    {
      "cell_type": "markdown",
      "metadata": {
        "id": "w_S3ADbmpNg0"
      },
      "source": [
        "Quantization is a process of representation change: from real values to discrete space.\n",
        "\n",
        "Floating point representation has good enough precision to assume it as a real value.\n",
        "\n",
        "As our discrete space, we select fixed point representation with:\n",
        "- sign (most significant bit (MSB))\n",
        "- width of 8 bits\n",
        "- point position after second bit (counted from the less significant bit (LSB)) (precision).\n",
        "\n",
        "Note: bit of sign is one of integer bits.\n",
        "\n",
        "Process of quantization is based on few steps:\n",
        "\n",
        "1) transformation real value $V$ to discrete space $q$:\n",
        "\n",
        "$q = \\max\\left(0; \\min\\left(UINT\\_MAX;round \\left(\\frac{V}{precision} - offset \\right) \\right)\\right)$\n",
        "\n",
        "2) retransformation from discrete space to floating point space:\n",
        "\n",
        "$Q = precision \\times \\left(q - offset \\right)$ "
      ]
    },
    {
      "cell_type": "markdown",
      "metadata": {
        "id": "GbSrNy14pNg3"
      },
      "source": [
        "1. Calculate number of integer bits."
      ]
    },
    {
      "cell_type": "code",
      "execution_count": 3,
      "metadata": {
        "id": "5PmfDiyopNg4"
      },
      "outputs": [],
      "source": [
        "SIGNED = 1\n",
        "BIT_WIDTH = 4\n",
        "PRECISION_BITS = 2  # point position\n",
        "\n",
        "INT_BITS = BIT_WIDTH - PRECISION_BITS\n",
        "\n",
        "# SIGN bit is also integer bit !"
      ]
    },
    {
      "cell_type": "markdown",
      "metadata": {
        "id": "j5HStUxjpNg6"
      },
      "source": [
        "2. To perform quantization, there is needed a set of real values.\n",
        "\n",
        "Please, create a tensor `R` with values from linear space of range -2.5 to 2.5 and length of 1000 elements.\n",
        "\n",
        "Plot tensor on both axis X and Y."
      ]
    },
    {
      "cell_type": "code",
      "execution_count": 7,
      "metadata": {
        "colab": {
          "base_uri": "https://localhost:8080/",
          "height": 592
        },
        "id": "aK4z2JRRpNg8",
        "outputId": "6fb8deb4-ba88-45f6-a5a4-3d54a2999273"
      },
      "outputs": [
        {
          "output_type": "display_data",
          "data": {
            "text/plain": [
              "<Figure size 720x720 with 1 Axes>"
            ],
            "image/png": "[encoded data removed]"
          },
          "metadata": {
            "needs_background": "light"
          }
        }
      ],
      "source": [
        "R = torch.linspace(-2.5, 2.5, 1000)\n",
        "\n",
        "plt.plot(R)\n",
        "plt.show()"
      ]
    },
    {
      "cell_type": "markdown",
      "metadata": {
        "id": "4fbBu0f4pNg9"
      },
      "source": [
        "3. Determinate some descriptive constants of fixed point representation:\n",
        "- MIN_INT_VALUE  - for the whole representation, so for integer on `BIT_WIDTH` \n",
        "- MAX_UINT_VALUE  - for the whole representation, so for unsigned integer on `BIT_WIDTH`\n",
        "- PRECISION - distance between next fixed point numbers, based on `PRECISION_BITS`(size of fractional part) - minimal fractional value"
      ]
    },
    {
      "cell_type": "code",
      "execution_count": 11,
      "metadata": {
        "colab": {
          "base_uri": "https://localhost:8080/"
        },
        "id": "BfKNQGZgpNhA",
        "outputId": "af968305-519f-449f-aa4e-8bf6120ec96f"
      },
      "outputs": [
        {
          "output_type": "stream",
          "name": "stdout",
          "text": [
            "-8\n",
            "7\n",
            "0.25\n"
          ]
        }
      ],
      "source": [
        "MIN_INT_VALUE = -(2 ** (BIT_WIDTH - 1))\n",
        "MAX_UINT_VALUE = 2 ** (BIT_WIDTH - 1) - 1\n",
        "PRECISION = 2 ** -PRECISION_BITS\n",
        "\n",
        "\n",
        "print(MIN_INT_VALUE, MAX_UINT_VALUE, PRECISION, sep=\"\\n\")"
      ]
    },
    {
      "cell_type": "markdown",
      "metadata": {
        "id": "kMle_zkBpNhB"
      },
      "source": [
        "For tasks 4 - 9 plot resulted tensors.\n",
        "\n",
        "Add XY labels, title, legend.\n",
        "\n",
        "As X coordinates use `R` tensor."
      ]
    },
    {
      "cell_type": "markdown",
      "metadata": {
        "id": "Ff66DychpNhD"
      },
      "source": [
        "4. Scale: Transform tensor `R` to \"continues integer\" space:\n",
        "\n",
        "Hint: use `PRECISION`.\n",
        "\n",
        "Result tensor: `scaled`\n"
      ]
    },
    {
      "cell_type": "code",
      "execution_count": 12,
      "metadata": {
        "id": "dCftL_BipNhE"
      },
      "outputs": [],
      "source": [
        "scaled = R/PRECISION"
      ]
    },
    {
      "cell_type": "markdown",
      "metadata": {
        "id": "AI_k7zsopNhG"
      },
      "source": [
        "5. Translate: Transform tensor `scaled` to \"continues unsigned integer\" space:\n",
        "\n",
        "Hint: use `MIN_INT_VALUE`.\n",
        "\n",
        "Result tensor: `transposed`"
      ]
    },
    {
      "cell_type": "code",
      "execution_count": 13,
      "metadata": {
        "id": "tMq0zW4JpNhH"
      },
      "outputs": [],
      "source": [
        "scaled = R/PRECISION"
      ]
    },
    {
      "cell_type": "markdown",
      "metadata": {
        "id": "JItSSm97pNhJ"
      },
      "source": [
        "6. Round: Transform tensor `transposed` to discrete space with `floor` method:\n",
        "\n",
        "This operation is the main part of quantization.\n",
        "\n",
        "It is not possible to revert this operation.\n",
        "\n",
        "Result tensor: `rounded`"
      ]
    },
    {
      "cell_type": "code",
      "execution_count": 15,
      "metadata": {
        "id": "XTgLEMpHpNhK"
      },
      "outputs": [],
      "source": [
        "rounded = torch.floor(scaled)"
      ]
    },
    {
      "cell_type": "markdown",
      "metadata": {
        "id": "2lejJnrZpNhL"
      },
      "source": [
        "7. Limit: Limit tensor `rounded` to range `[0;MAX_UINT_VALUE]`:\n",
        "\n",
        "It is not possible to revert this operation, the same as previous.\n",
        "\n",
        "Result tensor: `limited`"
      ]
    },
    {
      "cell_type": "code",
      "execution_count": 16,
      "metadata": {
        "id": "yN7wsdw1pNhN"
      },
      "outputs": [],
      "source": [
        "limited = (7/20)*torch.add(rounded, 2)"
      ]
    },
    {
      "cell_type": "markdown",
      "metadata": {
        "id": "lVVbPjOJpNhO"
      },
      "source": [
        "8. Retranslate: Transform tensor `limited` to integer space:\n",
        "\n",
        "Hint: see point 5.\n",
        "\n",
        "Result tensor: `retranslated`"
      ]
    },
    {
      "cell_type": "code",
      "execution_count": 17,
      "metadata": {
        "id": "c8X-OP1mpNhP"
      },
      "outputs": [],
      "source": [
        "retranslated = limited - MIN_INT_VALUE"
      ]
    },
    {
      "cell_type": "markdown",
      "metadata": {
        "id": "qVva60NGpNhQ"
      },
      "source": [
        "9. Rescale: Transform tensor `retranslated` to real space:\n",
        "\n",
        "Hint: see point 4.\n",
        "\n",
        "Result tensor: `rescaled`"
      ]
    },
    {
      "cell_type": "code",
      "execution_count": 18,
      "metadata": {
        "id": "Iamfj__5pNhR"
      },
      "outputs": [],
      "source": [
        "rescaled = retranslated/PRECISION"
      ]
    },
    {
      "cell_type": "markdown",
      "metadata": {
        "id": "2_vTd2TCpNhS"
      },
      "source": [
        "10. Assign `rescaled` tensor to `quantized` variable.\n",
        "\n",
        "Plot `quantized` and `R` tensors on the same plot."
      ]
    },
    {
      "cell_type": "code",
      "execution_count": null,
      "metadata": {
        "id": "gHg8owe0pNhS"
      },
      "outputs": [],
      "source": [
        "all_transforms = [scaled, transposed, rounded, limited, retranslated, rescaled]\n",
        "all_transforms_legends = ats_lgs = [\"scaled\", \"transposed\", \"rounded\", \"limited\", \"retranslated\", \"rescaled\"]\n",
        "for i in range(6):\n",
        "    plt.plot(all_transforms[i])\n",
        "plt.legend(ats_lgs)\n",
        "plt.show()\n",
        "\n",
        "quantized = rescaled\n",
        "\n",
        "\n",
        "plt.subplot(1, 2, 1)\n",
        "plt.plot(quantized)\n",
        "plt.title(\"quantized\")\n",
        "plt.subplot(1, 2, 2)\n",
        "plt.plot(R)\n",
        "plt.title(\"R\")\n",
        "plt.show()"
      ]
    },
    {
      "cell_type": "markdown",
      "metadata": {
        "id": "MDh1HeaCpNhT"
      },
      "source": [
        "11. Based on the steps 3 - 9 define a function `fixed_point_quantize`.\n",
        "\n",
        "Function should takes arguments:\n",
        "- `R` - floating point tensor, which will be quantized\n",
        "- `bit_width` - fixed point bit width\n",
        "- `precision_bits` - number of precision bits / point position\n",
        "- `round_method` - method of rounding, one of 'round', 'floor', 'ceil'.\n",
        "\n",
        "Function should return quantized tensor.\n",
        "\n",
        "Note: Do not plot anything inside function."
      ]
    },
    {
      "cell_type": "code",
      "execution_count": 19,
      "metadata": {
        "colab": {
          "base_uri": "https://localhost:8080/",
          "height": 269
        },
        "id": "9EpyuhpcpNhU",
        "outputId": "f754a229-d46c-405b-9ce9-3fa6151fcc4d"
      },
      "outputs": [
        {
          "output_type": "error",
          "ename": "NameError",
          "evalue": "ignored",
          "traceback": [
            "\u001b[0;31m---------------------------------------------------------------------------\u001b[0m",
            "\u001b[0;31mNameError\u001b[0m                                 Traceback (most recent call last)",
            "\u001b[0;32m<ipython-input-19-caf3b94050b8>\u001b[0m in \u001b[0;36m<module>\u001b[0;34m\u001b[0m\n\u001b[0;32m----> 1\u001b[0;31m \u001b[0mall_transforms\u001b[0m \u001b[0;34m=\u001b[0m \u001b[0;34m[\u001b[0m\u001b[0mscaled\u001b[0m\u001b[0;34m,\u001b[0m \u001b[0mtransposed\u001b[0m\u001b[0;34m,\u001b[0m \u001b[0mrounded\u001b[0m\u001b[0;34m,\u001b[0m \u001b[0mlimited\u001b[0m\u001b[0;34m,\u001b[0m \u001b[0mretranslated\u001b[0m\u001b[0;34m,\u001b[0m \u001b[0mrescaled\u001b[0m\u001b[0;34m]\u001b[0m\u001b[0;34m\u001b[0m\u001b[0;34m\u001b[0m\u001b[0m\n\u001b[0m\u001b[1;32m      2\u001b[0m \u001b[0mall_transforms_legends\u001b[0m \u001b[0;34m=\u001b[0m \u001b[0mats_lgs\u001b[0m \u001b[0;34m=\u001b[0m \u001b[0;34m[\u001b[0m\u001b[0;34m\"scaled\"\u001b[0m\u001b[0;34m,\u001b[0m \u001b[0;34m\"transposed\"\u001b[0m\u001b[0;34m,\u001b[0m \u001b[0;34m\"rounded\"\u001b[0m\u001b[0;34m,\u001b[0m \u001b[0;34m\"limited\"\u001b[0m\u001b[0;34m,\u001b[0m \u001b[0;34m\"retranslated\"\u001b[0m\u001b[0;34m,\u001b[0m \u001b[0;34m\"rescaled\"\u001b[0m\u001b[0;34m]\u001b[0m\u001b[0;34m\u001b[0m\u001b[0;34m\u001b[0m\u001b[0m\n\u001b[1;32m      3\u001b[0m \u001b[0;32mfor\u001b[0m \u001b[0mi\u001b[0m \u001b[0;32min\u001b[0m \u001b[0mrange\u001b[0m\u001b[0;34m(\u001b[0m\u001b[0;36m6\u001b[0m\u001b[0;34m)\u001b[0m\u001b[0;34m:\u001b[0m\u001b[0;34m\u001b[0m\u001b[0;34m\u001b[0m\u001b[0m\n\u001b[1;32m      4\u001b[0m     \u001b[0mplt\u001b[0m\u001b[0;34m.\u001b[0m\u001b[0mplot\u001b[0m\u001b[0;34m(\u001b[0m\u001b[0mall_transforms\u001b[0m\u001b[0;34m[\u001b[0m\u001b[0mi\u001b[0m\u001b[0;34m]\u001b[0m\u001b[0;34m)\u001b[0m\u001b[0;34m\u001b[0m\u001b[0;34m\u001b[0m\u001b[0m\n\u001b[1;32m      5\u001b[0m \u001b[0mplt\u001b[0m\u001b[0;34m.\u001b[0m\u001b[0mlegend\u001b[0m\u001b[0;34m(\u001b[0m\u001b[0mats_lgs\u001b[0m\u001b[0;34m)\u001b[0m\u001b[0;34m\u001b[0m\u001b[0;34m\u001b[0m\u001b[0m\n",
            "\u001b[0;31mNameError\u001b[0m: name 'transposed' is not defined"
          ]
        }
      ],
      "source": [
        "def signed_fixed_point_quantize(R: torch.Tensor,\n",
        "                                bit_width: int,\n",
        "                                precision_bits: int,\n",
        "                                round_method:str = 'round') -> torch.Tensor:\n",
        "    ...\n",
        "    quantized = ...\n",
        "    \n",
        "    return quantized\n"
      ]
    },
    {
      "cell_type": "markdown",
      "metadata": {
        "id": "AdVF9WhjpNhU"
      },
      "source": [
        "12. Test function on previously created `R` tensor.\n",
        "\n",
        "Display results in the same way as in point 9."
      ]
    },
    {
      "cell_type": "code",
      "execution_count": 21,
      "metadata": {
        "colab": {
          "base_uri": "https://localhost:8080/",
          "height": 1000
        },
        "id": "TIYTlxKrpNhV",
        "outputId": "3f40dba1-4fba-415e-9dc1-45619a1aa5f4"
      },
      "outputs": [
        {
          "output_type": "display_data",
          "data": {
            "text/plain": [
              "<Figure size 720x720 with 1 Axes>"
            ],
            "image/png": "[encoded data removed]"
          },
          "metadata": {
            "needs_background": "light"
          }
        },
        {
          "output_type": "display_data",
          "data": {
            "text/plain": [
              "<Figure size 720x720 with 2 Axes>"
            ],
            "image/png": "[encoded data removed]"
          },
          "metadata": {
            "needs_background": "light"
          }
        }
      ],
      "source": [
        "all_transforms = [scaled, rounded, limited, retranslated, rescaled]\n",
        "all_transforms_legends = ats_lgs = [\"scaled\", \"transposed\", \"rounded\", \"limited\", \"retranslated\", \"rescaled\"]\n",
        "for i in range(len(all_transforms)):\n",
        "    plt.plot(all_transforms[i])\n",
        "plt.legend(ats_lgs)\n",
        "plt.show()\n",
        "\n",
        "quantized = rescaled\n",
        "\n",
        "\n",
        "plt.subplot(1, 2, 1)\n",
        "plt.plot(quantized)\n",
        "plt.title(\"quantized\")\n",
        "plt.subplot(1, 2, 2)\n",
        "plt.plot(R)\n",
        "plt.title(\"R\")\n",
        "plt.show()"
      ]
    },
    {
      "cell_type": "markdown",
      "metadata": {
        "id": "ytPpQ4x6pNhV"
      },
      "source": [
        "13. `*` Additional:\n",
        "\n",
        "Define unsigned quantization function and test it on `R` tensor."
      ]
    },
    {
      "cell_type": "code",
      "execution_count": 22,
      "metadata": {
        "id": "e_o7_Pg6pNhW"
      },
      "outputs": [],
      "source": [
        "def unsigned_fixed_point_quantize(R: torch.Tensor,\n",
        "                                  bit_width: int,\n",
        "                                  precision_bits: int,\n",
        "                                  round_method:str = 'round') -> torch.Tensor:\n",
        "    MIN_INT_VALUE = -(2 ** (bit_width - 1))\n",
        "    MAX_UINT_VALUE = 2 ** (bit_width - 1) - 1\n",
        "    PRECISION = 2 ** -(precision_bits)\n",
        "    scaled = R/PRECISION\n",
        "    transposed = scaled - MIN_INT_VALUE\n",
        "    if round_method == \"round\":\n",
        "       rounded = torch.round(transposed)\n",
        "    elif round_method == \"floor\":\n",
        "       rounded = torch.floor(transposed)\n",
        "    elif round_method == \"ceil\":\n",
        "       rounded = torch.ceil(transposed)\n",
        "    else:\n",
        "       rounded = torch.round(transposed)  # Use the default method if method is invalid\n",
        "    limited = (7/20)*torch.add(rounded, 2)\n",
        "    retranslated = limited - MIN_INT_VALUE\n",
        "    quantized = retranslated/PRECISION\n",
        "   \n",
        "    return quantized\n",
        "\n"
      ]
    },
    {
      "cell_type": "markdown",
      "metadata": {
        "id": "Qbylgbd6pNhW"
      },
      "source": [
        "14. `**` Additional:\n",
        "\n",
        "Apply quantization on image `mandrill.jpg`.\n",
        "\n",
        "Use opencv function `imread` to read image with arguments: path_to_file and value 0 (as second arg).\n",
        "\n",
        "Function returns numpy ndarray. Convert it to torch.Tensor and divide by 255 (normalization).\n",
        "\n",
        "Display image with `plt.imshow`.\n",
        "\n",
        "Apply signed quantization of 4 bits, 3 bits of precision and 'floor' rounding.\n",
        "\n",
        "Plot resultant image. \n"
      ]
    },
    {
      "cell_type": "code",
      "execution_count": null,
      "metadata": {
        "id": "CB1jW8OKpNhX"
      },
      "outputs": [],
      "source": [
        "import cv2 as cv # import opencv package\n"
      ]
    },
    {
      "cell_type": "markdown",
      "metadata": {
        "id": "TaF1rdkspNhX"
      },
      "source": []
    },
    {
      "cell_type": "markdown",
      "metadata": {
        "id": "hSbej6PIpNhX"
      },
      "source": [
        "15. You can leave a feedback, if you want :)"
      ]
    },
    {
      "cell_type": "markdown",
      "metadata": {
        "id": "StvKxyxkpNhY"
      },
      "source": []
    },
    {
      "cell_type": "markdown",
      "metadata": {
        "id": "QHXl94JzpNhY"
      },
      "source": [
        "16. Exercises please upload this file (*.ipynb) to UPEL."
      ]
    },
    {
      "cell_type": "markdown",
      "metadata": {
        "id": "J2HPLB8cpNhY"
      },
      "source": []
    }
  ],
  "metadata": {
    "kernelspec": {
      "display_name": "Python 3.8.10 64-bit",
      "language": "python",
      "name": "python3"
    },
    "language_info": {
      "codemirror_mode": {
        "name": "ipython",
        "version": 3
      },
      "file_extension": ".py",
      "mimetype": "text/x-python",
      "name": "python",
      "nbconvert_exporter": "python",
      "pygments_lexer": "ipython3",
      "version": "3.8.10"
    },
    "orig_nbformat": 4,
    "vscode": {
      "interpreter": {
        "hash": "e7370f93d1d0cde622a1f8e1c04877d8463912d04d973331ad4851f04de6915a"
      }
    },
    "colab": {
      "provenance": []
    }
  },
  "nbformat": 4,
  "nbformat_minor": 0
}