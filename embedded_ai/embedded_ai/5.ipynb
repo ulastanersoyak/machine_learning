{
  "cells": [
    {
      "cell_type": "markdown",
      "metadata": {
        "id": "b7CErMNVGmq9"
      },
      "source": [
        "# Introduction to Brevitas - Quantization Aware Training \n",
        "\n",
        "Brevitas library allows so called quantization aware training.\n",
        "\n",
        "That means at the time of training we assume that our model's (network's) destination inference is implemented in lower precision.\n",
        "\n",
        "We know quantization change inference results.\n",
        "\n",
        "We can prevent it by appropriate model training, which includes quantization operation \"simulation\" - our computations are still on floating points.\n",
        "\n",
        "\n",
        "For this laboratory we will use mentioned brevitas library.\n",
        "\n",
        "You can install it by running following cell."
      ]
    },
    {
      "cell_type": "code",
      "execution_count": 2,
      "metadata": {
        "colab": {
          "base_uri": "https://localhost:8080/"
        },
        "id": "V9OCDO6KGmrB",
        "outputId": "9d9d23f2-c8b7-4cf0-a5ee-42c9f19f1983"
      },
      "outputs": [
        {
          "output_type": "stream",
          "name": "stdout",
          "text": [
            "Looking in indexes: https://pypi.org/simple, https://us-python.pkg.dev/colab-wheels/public/simple/\n",
            "Collecting brevitas==0.7.1\n",
            "  Downloading brevitas-0.7.1-py3-none-any.whl (403 kB)\n",
            "\u001b[2K     \u001b[90m━━━━━━━━━━━━━━━━━━━━━━━━━━━━━━━━━━━━━━\u001b[0m \u001b[32m403.1/403.1 KB\u001b[0m \u001b[31m12.2 MB/s\u001b[0m eta \u001b[36m0:00:00\u001b[0m\n",
            "\u001b[?25hRequirement already satisfied: packaging in /usr/local/lib/python3.8/dist-packages (from brevitas==0.7.1) (21.3)\n",
            "Requirement already satisfied: setuptools in /usr/local/lib/python3.8/dist-packages (from brevitas==0.7.1) (57.4.0)\n",
            "Collecting dependencies==2.0.1\n",
            "  Downloading dependencies-2.0.1-py2.py3-none-any.whl (15 kB)\n",
            "Requirement already satisfied: torch>=1.1.0 in /usr/local/lib/python3.8/dist-packages (from brevitas==0.7.1) (1.13.1+cu116)\n",
            "Requirement already satisfied: typing-extensions>=3.7.4 in /usr/local/lib/python3.8/dist-packages (from brevitas==0.7.1) (4.4.0)\n",
            "Collecting future-annotations\n",
            "  Downloading future_annotations-1.0.0-py2.py3-none-any.whl (5.6 kB)\n",
            "Collecting tokenize-rt>=3\n",
            "  Downloading tokenize_rt-5.0.0-py2.py3-none-any.whl (5.8 kB)\n",
            "Requirement already satisfied: pyparsing!=3.0.5,>=2.0.2 in /usr/local/lib/python3.8/dist-packages (from packaging->brevitas==0.7.1) (3.0.9)\n",
            "Installing collected packages: tokenize-rt, dependencies, future-annotations, brevitas\n",
            "Successfully installed brevitas-0.7.1 dependencies-2.0.1 future-annotations-1.0.0 tokenize-rt-5.0.0\n"
          ]
        }
      ],
      "source": [
        "%pip install brevitas==0.7.1"
      ]
    },
    {
      "cell_type": "code",
      "execution_count": 3,
      "metadata": {
        "id": "KQzvsFmWGmrE"
      },
      "outputs": [],
      "source": [
        "!mkdir data"
      ]
    },
    {
      "cell_type": "code",
      "execution_count": 5,
      "metadata": {
        "colab": {
          "base_uri": "https://localhost:8080/"
        },
        "id": "hduOdLNDGmrF",
        "outputId": "72c1bd9d-7789-4949-cfe0-7dc886251e3f"
      },
      "outputs": [
        {
          "output_type": "stream",
          "name": "stdout",
          "text": [
            "cpu\n"
          ]
        }
      ],
      "source": [
        "import torch\n",
        "from torchvision import datasets\n",
        "from torch.utils.data import DataLoader\n",
        "from torch import nn\n",
        "from torch import optim\n",
        "import numpy as np\n",
        "import matplotlib.pyplot as plt\n",
        "\n",
        "# local_utils file contains util functions for training or display\n",
        "# CHECK IT\n",
        "import local_utils as lu\n",
        "\n",
        "device = torch.device('cuda') if torch.cuda.is_available() else torch.device('cpu')\n",
        "print(device)"
      ]
    },
    {
      "cell_type": "markdown",
      "metadata": {
        "id": "eJnWWlUIGmrG"
      },
      "source": [
        "Datasets"
      ]
    },
    {
      "cell_type": "code",
      "execution_count": 6,
      "metadata": {
        "colab": {
          "base_uri": "https://localhost:8080/",
          "height": 1000,
          "referenced_widgets": [
            "8ba1b26d4e5245969e7e0e837aa95ad8",
            "70a7e83a2cb3407981f1e262c47954f2",
            "cfc690ad4fff4b3793daf3b08779982d",
            "77cb7764fdb04dc7a251decce397b9dd",
            "65631fb814394b399b082df1502f8653",
            "96778fd64e3e42039974e369b3192f25",
            "db74bc34eb5d4e1a9687e88ceac232aa",
            "a84db3eb45c04ae5ac0f58da67f14783",
            "99215b3af0354a46826e78c7e039a1d2",
            "5a074e2885e34d3c912e19d565b3638d",
            "70d434d895e24ac681d8cb1bc4c8612a",
            "8a0802274e7644afb8a72d07823f9192",
            "3b197a8a5fdb4189a46048ba0f44ec3d",
            "9fd44a490599451fbb487dbee781d12b",
            "d53d2a37a6a042be98cd0c76722881fd",
            "640db59f78b247e79a22139e20caa992",
            "f6c2ba08f5ac45e0b96b1de8a27d837a",
            "5a5111c6043641e29dbe60a816ddd65c",
            "eb6b5b11d2b4458ab6f740e76a8f4f8d",
            "9356f558a0aa4e46bab8b88d0ee7e3e2",
            "06ea2903cde5423cb97440b4c040c18e",
            "adeecad545704d0ba75f6a81f2d43697",
            "5c69b834f1f74d23967f0c3903cceb0e",
            "d8019a329f9d45be8835fff64d90b612",
            "1d72535200964433b782304e81057cd9",
            "37faebf70933403bb398f25518e406fd",
            "d8b25c4f3a714b63937f1020f96c68b4",
            "fbcb570f6d804dc3bf816a3a94d948e6",
            "2cf645ca9164440cbbd1f976fc47359e",
            "858ba91bf0f5416fa538fdbe3186b20d",
            "806e859c28434fa0886cbdcfad5473fe",
            "95ab19f9e6744c519385e4d97760e14c",
            "043896e8784f46aab9d95f11ba8262ad",
            "9bdc43548d67413faae5d637ba7f393c",
            "611976861612439ba384e986dc0f79c2",
            "cf289d9480e5453e8a1fe34b805bb375",
            "8761b10d6d6f454aa35050ceb3833cbd",
            "9e9796cae0084b859f5aa062b04cf2dd",
            "a2b48e04fa52456d8367a5f09b18c8f3",
            "fa997e190a7c4e6b9a1eb41df16e05b6",
            "7d50273174924790b1ab3623d7b0662d",
            "87d576e937364ffb9d71e410adefbe80",
            "edfb7eaff8de4735a249fb252aa11cd1",
            "30b5463dfbc34349a8c688005b81f463"
          ]
        },
        "id": "AThJwGTeGmrH",
        "outputId": "77ed57ce-4adb-4faf-8ca0-3b3da9b4af62"
      },
      "outputs": [
        {
          "output_type": "stream",
          "name": "stdout",
          "text": [
            "Downloading http://yann.lecun.com/exdb/mnist/train-images-idx3-ubyte.gz\n",
            "Downloading http://yann.lecun.com/exdb/mnist/train-images-idx3-ubyte.gz to data/MNIST/raw/train-images-idx3-ubyte.gz\n"
          ]
        },
        {
          "output_type": "display_data",
          "data": {
            "text/plain": [
              "  0%|          | 0/9912422 [00:00<?, ?it/s]"
            ],
            "application/vnd.jupyter.widget-view+json": {
              "version_major": 2,
              "version_minor": 0,
              "model_id": "8ba1b26d4e5245969e7e0e837aa95ad8"
            }
          },
          "metadata": {}
        },
        {
          "output_type": "stream",
          "name": "stdout",
          "text": [
            "Extracting data/MNIST/raw/train-images-idx3-ubyte.gz to data/MNIST/raw\n",
            "\n",
            "Downloading http://yann.lecun.com/exdb/mnist/train-labels-idx1-ubyte.gz\n",
            "Downloading http://yann.lecun.com/exdb/mnist/train-labels-idx1-ubyte.gz to data/MNIST/raw/train-labels-idx1-ubyte.gz\n"
          ]
        },
        {
          "output_type": "display_data",
          "data": {
            "text/plain": [
              "  0%|          | 0/28881 [00:00<?, ?it/s]"
            ],
            "application/vnd.jupyter.widget-view+json": {
              "version_major": 2,
              "version_minor": 0,
              "model_id": "8a0802274e7644afb8a72d07823f9192"
            }
          },
          "metadata": {}
        },
        {
          "output_type": "stream",
          "name": "stdout",
          "text": [
            "Extracting data/MNIST/raw/train-labels-idx1-ubyte.gz to data/MNIST/raw\n",
            "\n",
            "Downloading http://yann.lecun.com/exdb/mnist/t10k-images-idx3-ubyte.gz\n",
            "Downloading http://yann.lecun.com/exdb/mnist/t10k-images-idx3-ubyte.gz to data/MNIST/raw/t10k-images-idx3-ubyte.gz\n"
          ]
        },
        {
          "output_type": "display_data",
          "data": {
            "text/plain": [
              "  0%|          | 0/1648877 [00:00<?, ?it/s]"
            ],
            "application/vnd.jupyter.widget-view+json": {
              "version_major": 2,
              "version_minor": 0,
              "model_id": "5c69b834f1f74d23967f0c3903cceb0e"
            }
          },
          "metadata": {}
        },
        {
          "output_type": "stream",
          "name": "stdout",
          "text": [
            "Extracting data/MNIST/raw/t10k-images-idx3-ubyte.gz to data/MNIST/raw\n",
            "\n",
            "Downloading http://yann.lecun.com/exdb/mnist/t10k-labels-idx1-ubyte.gz\n",
            "Downloading http://yann.lecun.com/exdb/mnist/t10k-labels-idx1-ubyte.gz to data/MNIST/raw/t10k-labels-idx1-ubyte.gz\n"
          ]
        },
        {
          "output_type": "display_data",
          "data": {
            "text/plain": [
              "  0%|          | 0/4542 [00:00<?, ?it/s]"
            ],
            "application/vnd.jupyter.widget-view+json": {
              "version_major": 2,
              "version_minor": 0,
              "model_id": "9bdc43548d67413faae5d637ba7f393c"
            }
          },
          "metadata": {}
        },
        {
          "output_type": "stream",
          "name": "stdout",
          "text": [
            "Extracting data/MNIST/raw/t10k-labels-idx1-ubyte.gz to data/MNIST/raw\n",
            "\n",
            "len(train_loader) = 938\n",
            "len(test_loader) = 157\n",
            "torch.Size([64, 1, 28, 28])\n",
            "torch.Size([64])\n"
          ]
        },
        {
          "output_type": "display_data",
          "data": {
            "text/plain": [
              "<Figure size 432x288 with 0 Axes>"
            ]
          },
          "metadata": {}
        },
        {
          "output_type": "display_data",
          "data": {
            "text/plain": [
              "<Figure size 2304x1152 with 32 Axes>"
            ],
            "image/png": "[encoded data removed]"
          },
          "metadata": {
            "needs_background": "light"
          }
        }
      ],
      "source": [
        "from torchvision.transforms import ToTensor, Compose, RandomAffine  # RandomEqualize, \n",
        "from torchvision.transforms import RandomRotation\n",
        "\n",
        "transforms = Compose([\n",
        "                    RandomAffine(10, (0.1,0.1), (0.8, 1.2)),\n",
        "                    RandomRotation(5),\n",
        "                    # RandomEqualize(),\n",
        "                    ToTensor(),\n",
        "                    ])\n",
        "\n",
        "BATCH_SIZE = 64\n",
        "\n",
        "train_dataset = datasets.MNIST('data', \n",
        "                              train=True,\n",
        "                              download=True,\n",
        "                              transform=transforms)\n",
        "test_dataset = datasets.MNIST('data', \n",
        "                              train=False,\n",
        "                              download=True,\n",
        "                              transform=ToTensor())\n",
        "\n",
        "train_loader = DataLoader(train_dataset, \n",
        "                          batch_size=BATCH_SIZE,\n",
        "                          shuffle=True)\n",
        "test_loader = DataLoader(test_dataset, \n",
        "                          batch_size=BATCH_SIZE,\n",
        "                          shuffle=False)\n",
        "\n",
        "print(\"len(train_loader) =\", len(train_loader))\n",
        "print(\"len(test_loader) =\", len(test_loader))\n",
        "\n",
        "plt.gray()\n",
        "loader = train_loader\n",
        "for X, y in loader:\n",
        "    print(X.shape)\n",
        "    print(y.shape)\n",
        "    \n",
        "    ROWS, COLS = 4, 8\n",
        "    fig, axs = plt.subplots(ROWS, COLS)\n",
        "    fig.set_size_inches(COLS*4,ROWS*4)\n",
        "    axs = np.array(axs).flatten().tolist()\n",
        "    \n",
        "    for i, ax in enumerate(axs):\n",
        "        img = X[i,...]\n",
        "        class_label = loader.dataset.classes[y[i]]\n",
        "        ax.imshow(img.squeeze())\n",
        "    plt.show()\n",
        "            \n",
        "    break\n",
        "        "
      ]
    },
    {
      "cell_type": "markdown",
      "metadata": {
        "id": "mEm2F_NfGmrI"
      },
      "source": [
        "1. Brevitas - QuantIdentity\n",
        "\n",
        "Layer takes arguments:\n",
        "- quantizer - appropriate object from brvitas library which implements proper quantization method for data type - activation \n",
        "\n",
        "    Here is used `Int8ActPerTensorFloatMinMaxInit` - signed fixed point quantization \n",
        "- quantizer's arguments: \n",
        "    - for used quantizer these are: `min_val` and `max_val`, \n",
        "    \n",
        "    but for quantization is used only maximal absolute value of both.\n",
        "    \n",
        "    `bit_width` is also possible to change from default 8 bit. \n",
        "    \n",
        "- `return_quant_tensor` - when to return or not QuantTensor - float tensor with quantization description.\n",
        "\n",
        "Your task is to explore quantization for all possible fixed point precisions for mentioned quantizer.\n",
        "\n",
        "How many different precisions exist for this quantizer?\n",
        "\n",
        "Note: brevitas allows for max_val/min_val to different than power of 2, but here use only power of 2.\n"
      ]
    },
    {
      "cell_type": "code",
      "execution_count": 7,
      "metadata": {
        "colab": {
          "base_uri": "https://localhost:8080/"
        },
        "id": "uKm2E_ynGmrJ",
        "outputId": "e803fd14-6d16-4521-a22c-0eb36be2891b"
      },
      "outputs": [
        {
          "output_type": "stream",
          "name": "stderr",
          "text": [
            "No CUDA runtime is found, using CUDA_HOME='/usr/local/cuda'\n"
          ]
        },
        {
          "output_type": "stream",
          "name": "stdout",
          "text": [
            "INPUT TENSOR =  [4.8389, 0.4622, -7.3032, -3.8233, -2.0917, -9.6834, -5.3006, 2.7721, 1.4066, -7.8249, -1.1125, 7.5436, -9.7211, -0.1896, 7.4038, 7.502, -0.1797, 5.5426, -9.3691, -7.5776]\n",
            "MAX_VAL = 1\n",
            "INTEGER BITS = 1\n",
            "Result tensor =  [4.832677841186523, 0.4714807868003845, -7.307952404022217, -3.8307814598083496, -2.0627284049987793, -7.543692588806152, -5.304158687591553, 2.7699496746063232, 1.4144423007965088, -7.543692588806152, -1.1197668313980103, 7.484757423400879, -7.543692588806152, -0.1768052875995636, 7.4258222579956055, 7.484757423400879, -0.1768052875995636, 5.5398993492126465, -7.543692588806152, -7.543692588806152]\n",
            "Scale =  0.058935098350048065\n",
            "Precision Bits =  4\n",
            "Bit width =  8\n"
          ]
        }
      ],
      "source": [
        "from brevitas.nn import QuantIdentity\n",
        "from brevitas.quant.scaled_int import Int8ActPerTensorFloatMinMaxInit\n",
        "\n",
        "inp = (torch.rand(1, 1, 4, 5, requires_grad=False) - 0.5) * 20\n",
        "print(\"INPUT TENSOR = \",[e*10**4//1 / 10**4 for e in inp.flatten().tolist()])\n",
        "\n",
        "for i in range(len(inp)):\n",
        "    max_val = torch.max(inp)\n",
        "\n",
        "    print(f\"MAX_VAL = {i+1}\")\n",
        "    print(f\"INTEGER BITS = {i+1}\")\n",
        "    identity = QuantIdentity(Int8ActPerTensorFloatMinMaxInit, \n",
        "                             min_val=-max_val, \n",
        "                             max_val=max_val, \n",
        "                             bit_width=8,\n",
        "                             return_quant_tensor=True)\n",
        "    identity.train(False)\n",
        "\n",
        "    # Process by quant identity\n",
        "    t, scale, zp, bw, is_signed, is_from_training_mode = identity(inp)\n",
        "    \n",
        "    precision_bits = -torch.log2(scale).round().to(torch.int).item()\n",
        "    print(\"Result tensor = \", t.flatten().tolist())\n",
        "    print(\"Scale = \", scale.item())\n",
        "    print(\"Precision Bits = \", precision_bits)\n",
        "    print(\"Bit width = \", bw.to(torch.int).item())\n"
      ]
    },
    {
      "cell_type": "markdown",
      "metadata": {
        "id": "gez-FPmIGmrL"
      },
      "source": [
        "2. QuantConv2d\n",
        "For quantization of convolution there is needed also weights and bias quantization.\n",
        "\n",
        "`QuantConv2d` module is a subclass of `torch.nn.Conv2d` and all it's arguments are also available.\n",
        "\n",
        "Additional arguments:\n",
        "- `input_quant` - input quantization - it's not necessary to use it, if input is quantized before the layer\n",
        "- `output_quant` - output quantization - it's not necessary to use it, if output is quantized after the layer,\n",
        "- `weight_quant` - quantization of convolution weights. Here is used quantizer:\n",
        "\n",
        "    `Int8WeightPerTensorFloat` - allows for signed fixed point quantization with maximal precision,\n",
        "\n",
        "- `bias_quant`   - quantization of convolution bias. Here is used quantizer:\n",
        "\n",
        "    `Int8BiasPerTensorFloatInternalScaling` - allows for signed quantization with scale set internally by \n",
        "    \n",
        "    analysis of weights' quantization,\n",
        "\n",
        "- `return_quant_tensor` - when to return or not QuantTensor - float tensor with quantization description.\n",
        "\n",
        "- layer takes also quantizers' parameters with proper prefix f.e. for weight quantizer parameter bit_width is named `weight_bit_widths` \n",
        "\n",
        "Your task:\n",
        "\n",
        "Print weight and bias non-quantized - raw floating point tensors.\n",
        "\n",
        "Next use methods `quant_weight` and `quant_bias` to obtain their quantized versions. \n",
        "\n",
        "For QuantTensors `[input_tq, conv_tq, output_tq]` and quantized tensors of weight and bias: \n",
        "\n",
        "print number of theirs' precision bits, bit widths, scale and result tensor, \n",
        "\n",
        "Note the number of bits at each level of processing."
      ]
    },
    {
      "cell_type": "code",
      "execution_count": 8,
      "metadata": {
        "colab": {
          "base_uri": "https://localhost:8080/"
        },
        "id": "AHIwvRE9GmrM",
        "outputId": "2333fa54-95ae-4854-c1f1-8f4408bfd43c"
      },
      "outputs": [
        {
          "output_type": "stream",
          "name": "stdout",
          "text": [
            "Result tensor =  QuantTensor(value=tensor([[[[0.3984, 0.7344, 0.2344],\n",
            "          [0.0156, 0.5625, 0.6094],\n",
            "          [0.3125, 0.1016, 0.8750]]]], grad_fn=<MulBackward0>), scale=tensor(0.0078, grad_fn=<DivBackward0>), zero_point=tensor(0.), bit_width=tensor(8.), signed_t=tensor(True), training_t=tensor(True))\n",
            "Bit width =  tensor(8.)\n",
            "Scale =  tensor(0.0078, grad_fn=<DivBackward0>)\n",
            "Precision Bits =  7\n",
            "Result tensor =  QuantTensor(value=tensor([[[[0.0804, 0.5487, 0.4404],\n",
            "          [0.0868, 0.4087, 0.6793],\n",
            "          [0.0451, 0.0055, 0.3128]]]], grad_fn=<ConvolutionBackward0>), scale=tensor([[[[2.0424e-05]]]], grad_fn=<MulBackward0>), zero_point=tensor([[[[155.0660]]]], grad_fn=<DivBackward0>), bit_width=tensor(21.), signed_t=tensor(True), training_t=tensor(True))\n",
            "Bit width =  tensor(21.)\n",
            "Scale =  tensor([[[[2.0424e-05]]]], grad_fn=<MulBackward0>)\n",
            "Precision Bits =  16\n",
            "Result tensor =  QuantTensor(value=tensor([[[[0.3984, 0.7344, 0.2344],\n",
            "          [0.0156, 0.5625, 0.6094],\n",
            "          [0.3125, 0.1016, 0.8750]]]], grad_fn=<MulBackward0>), scale=tensor(0.0078, grad_fn=<DivBackward0>), zero_point=tensor(0.), bit_width=tensor(8.), signed_t=tensor(True), training_t=tensor(True))\n",
            "Bit width =  tensor(8.)\n",
            "Scale =  tensor(0.0312, grad_fn=<DivBackward0>)\n",
            "Precision Bits =  5\n"
          ]
        }
      ],
      "source": [
        "from brevitas.nn import QuantConv2d\n",
        "from brevitas.quant.scaled_int import Int8ActPerTensorFloatMinMaxInit, \\\n",
        "    Int8WeightPerTensorFloat, Int8BiasPerTensorFloatInternalScaling, Int8ActPerTensorFloat\n",
        "\n",
        "\n",
        "conv_layer = QuantConv2d(1,1,3,padding=1,bias=True, \n",
        "                         weight_quant=Int8WeightPerTensorFloat,\n",
        "                         weight_bit_width=8,\n",
        "                         bias_quant=Int8BiasPerTensorFloatInternalScaling,\n",
        "                         return_quant_tensor=True\n",
        "                         )\n",
        "input_layer = QuantIdentity(Int8ActPerTensorFloatMinMaxInit, min_val=-1.0, max_val=1.0, return_quant_tensor=True)\n",
        "output_layer = QuantIdentity(Int8ActPerTensorFloatMinMaxInit, min_val=-4.0, max_val=4.0, return_quant_tensor=True)\n",
        "\n",
        "input_tensor = torch.rand(1,1,3,3)\n",
        "\n",
        "input_tq = input_layer(input_tensor)\n",
        "conv_tq = conv_layer(input_tq)\n",
        "output_tq = output_layer(conv_tq)\n",
        "\n",
        "print(\"Result tensor = \", input_tq)\n",
        "print(\"Bit width = \",input_tq.bit_width)\n",
        "print(\"Scale = \", input_tq.scale)\n",
        "print(\"Precision Bits = \", -torch.log2(input_tq.scale).round().to(torch.int).item())\n",
        "\n",
        "print(\"Result tensor = \", conv_tq)\n",
        "print(\"Bit width = \",conv_tq.bit_width)\n",
        "print(\"Scale = \", conv_tq.scale)\n",
        "print(\"Precision Bits = \", -torch.log2(conv_tq.scale).round().to(torch.int).item())\n",
        "\n",
        "print(\"Result tensor = \", input_tq)\n",
        "print(\"Bit width = \",output_tq.bit_width)\n",
        "print(\"Scale = \", output_tq.scale)\n",
        "print(\"Precision Bits = \", -torch.log2(output_tq.scale).round().to(torch.int).item())\n",
        "\n",
        "\n",
        "weight_tq = conv_layer.quant_weight()\n",
        "bias_tq = conv_layer.quant_bias()"
      ]
    },
    {
      "cell_type": "markdown",
      "metadata": {
        "id": "bdZyi-0qGmrN"
      },
      "source": [
        "3. Floating point Network quantization allows to obtain so called Quantized Neural Network.\n",
        "\n",
        "Both networks have the same topology, but QNN has additional nonlinearities - quantization.\n",
        "\n",
        "Your tasks:\n",
        "\n",
        "- Create two models of `NeuralNetwork`:\n",
        "    - floating point model \n",
        "    - quantized model\n",
        "\n",
        "- print parameters names and theirs shapes for both models. \n",
        "    \n",
        "    Are there any differences ?\n",
        "    "
      ]
    },
    {
      "cell_type": "code",
      "execution_count": 16,
      "metadata": {
        "colab": {
          "base_uri": "https://localhost:8080/"
        },
        "id": "vQqD_MsgGmrN",
        "outputId": "85a22fa1-897a-4732-9462-ca537cd6ec42"
      },
      "outputs": [
        {
          "output_type": "stream",
          "name": "stdout",
          "text": [
            "CNN out shape = [128, 3, 3]\n",
            "CNN numel = 1152\n",
            "CNN parameters:<bound method Module.parameters of NeuralNetwork(\n",
            "  (CNN): Sequential(\n",
            "    (0): QuantIdentity(\n",
            "      (input_quant): ActQuantProxyFromInjector(\n",
            "        (_zero_hw_sentinel): StatelessBuffer()\n",
            "      )\n",
            "      (act_quant): ActQuantProxyFromInjector(\n",
            "        (_zero_hw_sentinel): StatelessBuffer()\n",
            "      )\n",
            "    )\n",
            "    (1): QuantConv2d(\n",
            "      1, 16, kernel_size=(3, 3), stride=(1, 1), padding=(1, 1)\n",
            "      (input_quant): ActQuantProxyFromInjector(\n",
            "        (_zero_hw_sentinel): StatelessBuffer()\n",
            "      )\n",
            "      (output_quant): ActQuantProxyFromInjector(\n",
            "        (_zero_hw_sentinel): StatelessBuffer()\n",
            "      )\n",
            "      (weight_quant): WeightQuantProxyFromInjector(\n",
            "        (_zero_hw_sentinel): StatelessBuffer()\n",
            "      )\n",
            "      (bias_quant): BiasQuantProxyFromInjector(\n",
            "        (_zero_hw_sentinel): StatelessBuffer()\n",
            "      )\n",
            "    )\n",
            "    (2): QuantIdentity(\n",
            "      (input_quant): ActQuantProxyFromInjector(\n",
            "        (_zero_hw_sentinel): StatelessBuffer()\n",
            "      )\n",
            "      (act_quant): ActQuantProxyFromInjector(\n",
            "        (_zero_hw_sentinel): StatelessBuffer()\n",
            "      )\n",
            "    )\n",
            "    (3): ReLU()\n",
            "    (4): MaxPool2d(kernel_size=2, stride=2, padding=0, dilation=1, ceil_mode=False)\n",
            "    (5): QuantConv2d(\n",
            "      16, 32, kernel_size=(3, 3), stride=(1, 1), padding=(1, 1)\n",
            "      (input_quant): ActQuantProxyFromInjector(\n",
            "        (_zero_hw_sentinel): StatelessBuffer()\n",
            "      )\n",
            "      (output_quant): ActQuantProxyFromInjector(\n",
            "        (_zero_hw_sentinel): StatelessBuffer()\n",
            "      )\n",
            "      (weight_quant): WeightQuantProxyFromInjector(\n",
            "        (_zero_hw_sentinel): StatelessBuffer()\n",
            "      )\n",
            "      (bias_quant): BiasQuantProxyFromInjector(\n",
            "        (_zero_hw_sentinel): StatelessBuffer()\n",
            "      )\n",
            "    )\n",
            "    (6): QuantIdentity(\n",
            "      (input_quant): ActQuantProxyFromInjector(\n",
            "        (_zero_hw_sentinel): StatelessBuffer()\n",
            "      )\n",
            "      (act_quant): ActQuantProxyFromInjector(\n",
            "        (_zero_hw_sentinel): StatelessBuffer()\n",
            "      )\n",
            "    )\n",
            "    (7): ReLU()\n",
            "    (8): MaxPool2d(kernel_size=2, stride=2, padding=0, dilation=1, ceil_mode=False)\n",
            "    (9): QuantConv2d(\n",
            "      32, 64, kernel_size=(3, 3), stride=(1, 1)\n",
            "      (input_quant): ActQuantProxyFromInjector(\n",
            "        (_zero_hw_sentinel): StatelessBuffer()\n",
            "      )\n",
            "      (output_quant): ActQuantProxyFromInjector(\n",
            "        (_zero_hw_sentinel): StatelessBuffer()\n",
            "      )\n",
            "      (weight_quant): WeightQuantProxyFromInjector(\n",
            "        (_zero_hw_sentinel): StatelessBuffer()\n",
            "      )\n",
            "      (bias_quant): BiasQuantProxyFromInjector(\n",
            "        (_zero_hw_sentinel): StatelessBuffer()\n",
            "      )\n",
            "    )\n",
            "    (10): QuantIdentity(\n",
            "      (input_quant): ActQuantProxyFromInjector(\n",
            "        (_zero_hw_sentinel): StatelessBuffer()\n",
            "      )\n",
            "      (act_quant): ActQuantProxyFromInjector(\n",
            "        (_zero_hw_sentinel): StatelessBuffer()\n",
            "      )\n",
            "    )\n",
            "    (11): ReLU()\n",
            "    (12): QuantConv2d(\n",
            "      64, 128, kernel_size=(3, 3), stride=(1, 1)\n",
            "      (input_quant): ActQuantProxyFromInjector(\n",
            "        (_zero_hw_sentinel): StatelessBuffer()\n",
            "      )\n",
            "      (output_quant): ActQuantProxyFromInjector(\n",
            "        (_zero_hw_sentinel): StatelessBuffer()\n",
            "      )\n",
            "      (weight_quant): WeightQuantProxyFromInjector(\n",
            "        (_zero_hw_sentinel): StatelessBuffer()\n",
            "      )\n",
            "      (bias_quant): BiasQuantProxyFromInjector(\n",
            "        (_zero_hw_sentinel): StatelessBuffer()\n",
            "      )\n",
            "    )\n",
            "    (13): QuantIdentity(\n",
            "      (input_quant): ActQuantProxyFromInjector(\n",
            "        (_zero_hw_sentinel): StatelessBuffer()\n",
            "      )\n",
            "      (act_quant): ActQuantProxyFromInjector(\n",
            "        (_zero_hw_sentinel): StatelessBuffer()\n",
            "      )\n",
            "    )\n",
            "    (14): ReLU()\n",
            "  )\n",
            "  (FC): Sequential(\n",
            "    (0): Flatten(start_dim=1, end_dim=-1)\n",
            "    (1): Linear(in_features=1152, out_features=10, bias=True)\n",
            "    (2): Softmax(dim=1)\n",
            "  )\n",
            ")>\n",
            "----------------------------------------------------------------------------------------------------\n",
            "----------------------------------------------------------------------------------------------------\n",
            "----------------------------------------------------------------------------------------------------\n",
            "CNN out shape = [128, 3, 3]\n",
            "CNN numel = 1152\n",
            "CNN parameters:<bound method Module.parameters of NeuralNetwork(\n",
            "  (CNN): Sequential(\n",
            "    (0): QuantIdentity(\n",
            "      (input_quant): ActQuantProxyFromInjector(\n",
            "        (_zero_hw_sentinel): StatelessBuffer()\n",
            "      )\n",
            "      (act_quant): ActQuantProxyFromInjector(\n",
            "        (_zero_hw_sentinel): StatelessBuffer()\n",
            "      )\n",
            "    )\n",
            "    (1): QuantConv2d(\n",
            "      1, 16, kernel_size=(3, 3), stride=(1, 1), padding=(1, 1)\n",
            "      (input_quant): ActQuantProxyFromInjector(\n",
            "        (_zero_hw_sentinel): StatelessBuffer()\n",
            "      )\n",
            "      (output_quant): ActQuantProxyFromInjector(\n",
            "        (_zero_hw_sentinel): StatelessBuffer()\n",
            "      )\n",
            "      (weight_quant): WeightQuantProxyFromInjector(\n",
            "        (_zero_hw_sentinel): StatelessBuffer()\n",
            "      )\n",
            "      (bias_quant): BiasQuantProxyFromInjector(\n",
            "        (_zero_hw_sentinel): StatelessBuffer()\n",
            "      )\n",
            "    )\n",
            "    (2): QuantIdentity(\n",
            "      (input_quant): ActQuantProxyFromInjector(\n",
            "        (_zero_hw_sentinel): StatelessBuffer()\n",
            "      )\n",
            "      (act_quant): ActQuantProxyFromInjector(\n",
            "        (_zero_hw_sentinel): StatelessBuffer()\n",
            "      )\n",
            "    )\n",
            "    (3): ReLU()\n",
            "    (4): MaxPool2d(kernel_size=2, stride=2, padding=0, dilation=1, ceil_mode=False)\n",
            "    (5): QuantConv2d(\n",
            "      16, 32, kernel_size=(3, 3), stride=(1, 1), padding=(1, 1)\n",
            "      (input_quant): ActQuantProxyFromInjector(\n",
            "        (_zero_hw_sentinel): StatelessBuffer()\n",
            "      )\n",
            "      (output_quant): ActQuantProxyFromInjector(\n",
            "        (_zero_hw_sentinel): StatelessBuffer()\n",
            "      )\n",
            "      (weight_quant): WeightQuantProxyFromInjector(\n",
            "        (_zero_hw_sentinel): StatelessBuffer()\n",
            "      )\n",
            "      (bias_quant): BiasQuantProxyFromInjector(\n",
            "        (_zero_hw_sentinel): StatelessBuffer()\n",
            "      )\n",
            "    )\n",
            "    (6): QuantIdentity(\n",
            "      (input_quant): ActQuantProxyFromInjector(\n",
            "        (_zero_hw_sentinel): StatelessBuffer()\n",
            "      )\n",
            "      (act_quant): ActQuantProxyFromInjector(\n",
            "        (_zero_hw_sentinel): StatelessBuffer()\n",
            "      )\n",
            "    )\n",
            "    (7): ReLU()\n",
            "    (8): MaxPool2d(kernel_size=2, stride=2, padding=0, dilation=1, ceil_mode=False)\n",
            "    (9): QuantConv2d(\n",
            "      32, 64, kernel_size=(3, 3), stride=(1, 1)\n",
            "      (input_quant): ActQuantProxyFromInjector(\n",
            "        (_zero_hw_sentinel): StatelessBuffer()\n",
            "      )\n",
            "      (output_quant): ActQuantProxyFromInjector(\n",
            "        (_zero_hw_sentinel): StatelessBuffer()\n",
            "      )\n",
            "      (weight_quant): WeightQuantProxyFromInjector(\n",
            "        (_zero_hw_sentinel): StatelessBuffer()\n",
            "      )\n",
            "      (bias_quant): BiasQuantProxyFromInjector(\n",
            "        (_zero_hw_sentinel): StatelessBuffer()\n",
            "      )\n",
            "    )\n",
            "    (10): QuantIdentity(\n",
            "      (input_quant): ActQuantProxyFromInjector(\n",
            "        (_zero_hw_sentinel): StatelessBuffer()\n",
            "      )\n",
            "      (act_quant): ActQuantProxyFromInjector(\n",
            "        (_zero_hw_sentinel): StatelessBuffer()\n",
            "      )\n",
            "    )\n",
            "    (11): ReLU()\n",
            "    (12): QuantConv2d(\n",
            "      64, 128, kernel_size=(3, 3), stride=(1, 1)\n",
            "      (input_quant): ActQuantProxyFromInjector(\n",
            "        (_zero_hw_sentinel): StatelessBuffer()\n",
            "      )\n",
            "      (output_quant): ActQuantProxyFromInjector(\n",
            "        (_zero_hw_sentinel): StatelessBuffer()\n",
            "      )\n",
            "      (weight_quant): WeightQuantProxyFromInjector(\n",
            "        (_zero_hw_sentinel): StatelessBuffer()\n",
            "      )\n",
            "      (bias_quant): BiasQuantProxyFromInjector(\n",
            "        (_zero_hw_sentinel): StatelessBuffer()\n",
            "      )\n",
            "    )\n",
            "    (13): QuantIdentity(\n",
            "      (input_quant): ActQuantProxyFromInjector(\n",
            "        (_zero_hw_sentinel): StatelessBuffer()\n",
            "      )\n",
            "      (act_quant): ActQuantProxyFromInjector(\n",
            "        (_zero_hw_sentinel): StatelessBuffer()\n",
            "      )\n",
            "    )\n",
            "    (14): ReLU()\n",
            "  )\n",
            "  (FC): Sequential(\n",
            "    (0): Flatten(start_dim=1, end_dim=-1)\n",
            "    (1): Linear(in_features=1152, out_features=10, bias=True)\n",
            "    (2): Softmax(dim=1)\n",
            "  )\n",
            ")>\n",
            "----------------------------------------------------------------------------------------------------\n",
            "----------------------------------------------------------------------------------------------------\n",
            "----------------------------------------------------------------------------------------------------\n"
          ]
        }
      ],
      "source": [
        "from brevitas.nn import QuantConv2d, QuantIdentity\n",
        "from brevitas.quant.scaled_int import Int8ActPerTensorFloatMinMaxInit, \\\n",
        "    Int8WeightPerTensorFloat, Int8BiasPerTensorFloatInternalScaling, Int8ActPerTensorFloat\n",
        "\n",
        "\n",
        "class NeuralNetwork(nn.Module):\n",
        "    def __init__(self, \n",
        "                 input_shape=(1,28,28), \n",
        "                 num_of_classes=10,\n",
        "                 quantize=True\n",
        "                 ) -> None:\n",
        "        super().__init__()\n",
        "        channels = [input_shape[0],16,32,64,128]\n",
        "        padding = [1,1,0,0]\n",
        "        max_pool = [1,1,0,0]\n",
        "         \n",
        "        if quantize:\n",
        "            input_quant = QuantIdentity(Int8ActPerTensorFloat, min_val=-1.0, max_val=1.0)\n",
        "        else:\n",
        "            input_quant = QuantIdentity(None)\n",
        "        \n",
        "        layers = []\n",
        "        for i, (ch_in, ch_out, p, mp) in enumerate(zip(channels[:-1],\n",
        "                                                       channels[1:],\n",
        "                                                       padding,\n",
        "                                                       max_pool)):\n",
        "            conv = QuantConv2d(ch_in, ch_out, 3, padding=p, bias=True, \n",
        "                               weight_quant=Int8WeightPerTensorFloat if quantize else None,\n",
        "                               bias_quant=Int8BiasPerTensorFloatInternalScaling if quantize else None,\n",
        "                               return_quant_tensor=False\n",
        "                               )\n",
        "            layers.append(conv)\n",
        "            \n",
        "            if quantize:\n",
        "                out_quant = QuantIdentity(Int8ActPerTensorFloat, min_val=-1.0, max_val=1.0)\n",
        "            else:\n",
        "                out_quant = QuantIdentity(None)\n",
        "            \n",
        "            layers.append(out_quant)\n",
        "            relu = nn.ReLU()\n",
        "            layers.append(relu)\n",
        "            \n",
        "            if mp:\n",
        "                maxpool = nn.MaxPool2d(2,2)\n",
        "                layers.append(maxpool)\n",
        "        \n",
        "        self.CNN = nn.Sequential(input_quant, *tuple(layers))\n",
        "        \n",
        "        CNN_out_shape = [\n",
        "                         channels[-1],\n",
        "                         input_shape[-2]//2//2 - 3//2*2 - 3//2*2,\n",
        "                         input_shape[-1]//2//2 - 3//2*2 - 3//2*2\n",
        "                        ]\n",
        "        CNN_flatten_len = torch.prod(torch.tensor(CNN_out_shape))\n",
        "        print(f\"CNN out shape = {CNN_out_shape}\")\n",
        "        print(f\"CNN numel = {CNN_flatten_len}\")\n",
        "        print(f\"CNN parameters:{net.parameters}\")\n",
        "        print(\"----------------------------------------------------------------------------------------------------\")\n",
        "        print(\"----------------------------------------------------------------------------------------------------\")\n",
        "        print(\"----------------------------------------------------------------------------------------------------\")\n",
        "\n",
        "        self.FC = nn.Sequential(\n",
        "                               nn.Flatten(),\n",
        "                               nn.Linear(CNN_flatten_len, num_of_classes),\n",
        "                               nn.Softmax(1),\n",
        "                               )\n",
        "    \n",
        "    def forward(self, x: torch.Tensor):\n",
        "        return self.FC(self.CNN(x))\n",
        "        \n",
        "        \n",
        "net = NeuralNetwork(quantize=False)\n",
        "qnet = NeuralNetwork(quantize=True)"
      ]
    },
    {
      "cell_type": "markdown",
      "metadata": {
        "id": "fj6zNyROGmrP"
      },
      "source": [
        "4. Train floating model:\n",
        "- for 8 epochs, \n",
        "- `SGD` optimizer,\n",
        "- learning rate = 0.01,\n",
        "- momentum = 0.6,\n",
        "- weight_decay = 1e-6 - penalty for weights values\n",
        "- update period of 5 batches\n",
        "- cross entropy loss\n",
        "- accuracy metric\n",
        "\n",
        "\n",
        "Hint. `local_utils`"
      ]
    },
    {
      "cell_type": "code",
      "execution_count": null,
      "metadata": {
        "colab": {
          "base_uri": "https://localhost:8080/"
        },
        "id": "MMdxfEBCGmrP",
        "outputId": "983a6ab0-25fd-4b8f-91e6-bc165125ae2c"
      },
      "outputs": [
        {
          "output_type": "stream",
          "name": "stdout",
          "text": [
            "Epoch 1 / 8: STARTED\n",
            "TRAINING"
          ]
        },
        {
          "output_type": "stream",
          "name": "stderr",
          "text": [
            "938it [01:04, 14.58it/s]\n"
          ]
        },
        {
          "output_type": "stream",
          "name": "stdout",
          "text": [
            "\rVALIDATION"
          ]
        },
        {
          "output_type": "stream",
          "name": "stderr",
          "text": [
            "157it [00:08, 17.55it/s]\n"
          ]
        },
        {
          "output_type": "stream",
          "name": "stdout",
          "text": [
            "\rAfter epoch 1: loss=2.3023 acc=0.1074 val_loss=2.3015 val_acc=0.1301\n",
            "Epoch 1 / 8: FINISHED\n",
            "\n",
            "Epoch 2 / 8: STARTED\n",
            "TRAINING"
          ]
        },
        {
          "output_type": "stream",
          "name": "stderr",
          "text": [
            "938it [01:01, 15.25it/s]\n"
          ]
        },
        {
          "output_type": "stream",
          "name": "stdout",
          "text": [
            "\rVALIDATION"
          ]
        },
        {
          "output_type": "stream",
          "name": "stderr",
          "text": [
            "157it [00:08, 18.72it/s]\n"
          ]
        },
        {
          "output_type": "stream",
          "name": "stdout",
          "text": [
            "\rAfter epoch 2: loss=2.3009 acc=0.1834 val_loss=2.2982 val_acc=0.2457\n",
            "Epoch 2 / 8: FINISHED\n",
            "\n",
            "Epoch 3 / 8: STARTED\n",
            "TRAINING"
          ]
        },
        {
          "output_type": "stream",
          "name": "stderr",
          "text": [
            "938it [01:02, 15.11it/s]\n"
          ]
        },
        {
          "output_type": "stream",
          "name": "stdout",
          "text": [
            "\rVALIDATION"
          ]
        },
        {
          "output_type": "stream",
          "name": "stderr",
          "text": [
            "157it [00:08, 18.87it/s]\n"
          ]
        },
        {
          "output_type": "stream",
          "name": "stdout",
          "text": [
            "\rAfter epoch 3: loss=2.2708 acc=0.1920 val_loss=1.9976 val_acc=0.5182\n",
            "Epoch 3 / 8: FINISHED\n",
            "\n",
            "Epoch 4 / 8: STARTED\n",
            "TRAINING"
          ]
        },
        {
          "output_type": "stream",
          "name": "stderr",
          "text": [
            "938it [01:02, 14.92it/s]\n"
          ]
        },
        {
          "output_type": "stream",
          "name": "stdout",
          "text": [
            "\rVALIDATION"
          ]
        },
        {
          "output_type": "stream",
          "name": "stderr",
          "text": [
            "157it [00:08, 18.32it/s]\n"
          ]
        },
        {
          "output_type": "stream",
          "name": "stdout",
          "text": [
            "\rAfter epoch 4: loss=1.9465 acc=0.5234 val_loss=1.7436 val_acc=0.7238\n",
            "Epoch 4 / 8: FINISHED\n",
            "\n",
            "Epoch 5 / 8: STARTED\n",
            "TRAINING"
          ]
        },
        {
          "output_type": "stream",
          "name": "stderr",
          "text": [
            "938it [01:00, 15.47it/s]\n"
          ]
        },
        {
          "output_type": "stream",
          "name": "stdout",
          "text": [
            "\rVALIDATION"
          ]
        },
        {
          "output_type": "stream",
          "name": "stderr",
          "text": [
            "157it [00:08, 19.39it/s]\n"
          ]
        },
        {
          "output_type": "stream",
          "name": "stdout",
          "text": [
            "\rAfter epoch 5: loss=1.8097 acc=0.6607 val_loss=1.6538 val_acc=0.8156\n",
            "Epoch 5 / 8: FINISHED\n",
            "\n",
            "Epoch 6 / 8: STARTED\n",
            "TRAINING"
          ]
        },
        {
          "output_type": "stream",
          "name": "stderr",
          "text": [
            "938it [01:01, 15.17it/s]\n"
          ]
        },
        {
          "output_type": "stream",
          "name": "stdout",
          "text": [
            "\rVALIDATION"
          ]
        },
        {
          "output_type": "stream",
          "name": "stderr",
          "text": [
            "157it [00:08, 18.91it/s]\n"
          ]
        },
        {
          "output_type": "stream",
          "name": "stdout",
          "text": [
            "\rAfter epoch 6: loss=1.7172 acc=0.7531 val_loss=1.6420 val_acc=0.8260\n",
            "Epoch 6 / 8: FINISHED\n",
            "\n",
            "Epoch 7 / 8: STARTED\n",
            "TRAINING"
          ]
        },
        {
          "output_type": "stream",
          "name": "stderr",
          "text": [
            "938it [01:01, 15.28it/s]\n"
          ]
        },
        {
          "output_type": "stream",
          "name": "stdout",
          "text": [
            "\rVALIDATION"
          ]
        },
        {
          "output_type": "stream",
          "name": "stderr",
          "text": [
            "157it [00:08, 19.06it/s]\n"
          ]
        },
        {
          "output_type": "stream",
          "name": "stdout",
          "text": [
            "\rAfter epoch 7: loss=1.6798 acc=0.7861 val_loss=1.6047 val_acc=0.8591\n",
            "Epoch 7 / 8: FINISHED\n",
            "\n",
            "Epoch 8 / 8: STARTED\n",
            "TRAINING"
          ]
        },
        {
          "output_type": "stream",
          "name": "stderr",
          "text": [
            "938it [01:00, 15.41it/s]\n"
          ]
        },
        {
          "output_type": "stream",
          "name": "stdout",
          "text": [
            "\rVALIDATION"
          ]
        },
        {
          "output_type": "stream",
          "name": "stderr",
          "text": [
            "157it [00:08, 19.05it/s]"
          ]
        },
        {
          "output_type": "stream",
          "name": "stdout",
          "text": [
            "\rAfter epoch 8: loss=1.6567 acc=0.8092 val_loss=1.5971 val_acc=0.8667\n",
            "Epoch 8 / 8: FINISHED\n",
            "\n"
          ]
        },
        {
          "output_type": "stream",
          "name": "stderr",
          "text": [
            "\n"
          ]
        }
      ],
      "source": [
        "import local_utils\n",
        "\n",
        "history = local_utils.training(model=net,\n",
        "train_loader=train_loader,\n",
        "test_loader=test_loader,\n",
        "loss_fcn=nn.CrossEntropyLoss(),\n",
        "metric=local_utils.AccuracyMetic(),\n",
        "optimizer=torch.optim.SGD(params=net.parameters(),lr=0.01,momentum=0.6),\n",
        "update_period = 5,\n",
        "epoch_max = 8,\n",
        "device=device\n",
        ")\n",
        "\n"
      ]
    },
    {
      "cell_type": "markdown",
      "metadata": {
        "id": "iqqaZJY9GmrQ"
      },
      "source": [
        "5. Display history and print validation/test loss and accuracy for last epoch. "
      ]
    },
    {
      "cell_type": "code",
      "execution_count": null,
      "metadata": {
        "colab": {
          "base_uri": "https://localhost:8080/",
          "height": 545
        },
        "id": "oBrZR7jNGmrQ",
        "outputId": "7750bcea-da42-41fe-c085-94f9d644f365"
      },
      "outputs": [
        {
          "output_type": "display_data",
          "data": {
            "text/plain": [
              "<Figure size 432x288 with 1 Axes>"
            ],
            "image/png": "[encoded data removed]"
          },
          "metadata": {
            "needs_background": "light"
          }
        },
        {
          "output_type": "display_data",
          "data": {
            "text/plain": [
              "<Figure size 432x288 with 1 Axes>"
            ],
            "image/png": "[encoded data removed]"
          },
          "metadata": {
            "needs_background": "light"
          }
        }
      ],
      "source": [
        "local_utils.plot_history(history[1])"
      ]
    },
    {
      "cell_type": "markdown",
      "metadata": {
        "id": "cw90lgbUGmrR"
      },
      "source": [
        "6. Extract state dict from trained floating point model.\n",
        "\n",
        "Load it into quantized model (`load_state_dict` method). "
      ]
    },
    {
      "cell_type": "code",
      "execution_count": null,
      "metadata": {
        "colab": {
          "base_uri": "https://localhost:8080/"
        },
        "id": "6Bq4-v3CGmrR",
        "outputId": "2e0db545-ca4a-43f3-e621-81bac74f43ae"
      },
      "outputs": [
        {
          "output_type": "stream",
          "name": "stderr",
          "text": [
            "/usr/local/lib/python3.8/dist-packages/torch/nn/modules/module.py:1428: UserWarning: Positional args are being deprecated, use kwargs instead. Refer to https://pytorch.org/docs/master/generated/torch.nn.Module.html#torch.nn.Module.state_dict for details.\n",
            "  warnings.warn(\n"
          ]
        },
        {
          "output_type": "execute_result",
          "data": {
            "text/plain": [
              "_IncompatibleKeys(missing_keys=['CNN.0.act_quant.fused_activation_quant_proxy.tensor_quant.scaling_impl.value', 'CNN.2.act_quant.fused_activation_quant_proxy.tensor_quant.scaling_impl.value', 'CNN.6.act_quant.fused_activation_quant_proxy.tensor_quant.scaling_impl.value', 'CNN.10.act_quant.fused_activation_quant_proxy.tensor_quant.scaling_impl.value', 'CNN.13.act_quant.fused_activation_quant_proxy.tensor_quant.scaling_impl.value'], unexpected_keys=[])"
            ]
          },
          "metadata": {},
          "execution_count": 13
        }
      ],
      "source": [
        "torch.save(net.state_dict(),\"floatModel.pth\")\n",
        "qnet.load_state_dict(torch.load(\"floatModel.pth\"),strict=False)"
      ]
    },
    {
      "cell_type": "markdown",
      "metadata": {
        "id": "Z_n-6GHRGmrR"
      },
      "source": [
        "7. Calculate validation loss and metric for quantized model. "
      ]
    },
    {
      "cell_type": "code",
      "execution_count": null,
      "metadata": {
        "id": "Mi53zx9lGmrS"
      },
      "outputs": [],
      "source": []
    },
    {
      "cell_type": "markdown",
      "metadata": {
        "id": "JyCpgo2iGmrS"
      },
      "source": [
        "8. Train quantized model with the same parameters as floating point model.\n"
      ]
    },
    {
      "cell_type": "code",
      "execution_count": null,
      "metadata": {
        "colab": {
          "base_uri": "https://localhost:8080/"
        },
        "id": "pvSgl-Y1GmrS",
        "outputId": "db203ee2-4fd8-4425-bba8-fcd185cae03c"
      },
      "outputs": [
        {
          "output_type": "stream",
          "name": "stdout",
          "text": [
            "Epoch 1 / 1: STARTED\n",
            "TRAINING"
          ]
        },
        {
          "output_type": "stream",
          "name": "stderr",
          "text": [
            "938it [02:04,  7.54it/s]\n"
          ]
        },
        {
          "output_type": "stream",
          "name": "stdout",
          "text": [
            "\rVALIDATION"
          ]
        },
        {
          "output_type": "stream",
          "name": "stderr",
          "text": [
            "157it [00:17,  8.75it/s]"
          ]
        },
        {
          "output_type": "stream",
          "name": "stdout",
          "text": [
            "\rAfter epoch 1: loss=1.6453 acc=0.8204 val_loss=1.5971 val_acc=0.8669\n",
            "Epoch 1 / 1: FINISHED\n",
            "\n"
          ]
        },
        {
          "output_type": "stream",
          "name": "stderr",
          "text": [
            "\n"
          ]
        }
      ],
      "source": [
        "import local_utils\n",
        "history_new = local_utils.training(model=qnet,\n",
        "train_loader=train_loader,\n",
        "test_loader=test_loader,\n",
        "loss_fcn=nn.CrossEntropyLoss(),\n",
        "metric=local_utils.AccuracyMetic(),\n",
        "optimizer=torch.optim.SGD(params=net.parameters(),lr=0.01,momentum=0.6),\n",
        "update_period = 5,\n",
        "epoch_max = 1,\n",
        "device=device\n",
        ")"
      ]
    },
    {
      "cell_type": "markdown",
      "metadata": {
        "id": "-bd50TenGmrT"
      },
      "source": [
        "9. Display history of training and validation loss and metric.\n",
        "\n",
        "Compare results with floating point model training. "
      ]
    },
    {
      "cell_type": "code",
      "execution_count": null,
      "metadata": {
        "colab": {
          "base_uri": "https://localhost:8080/",
          "height": 545
        },
        "id": "TPZv4VqFGmrT",
        "outputId": "96569e1d-643d-4db8-c86b-352d613a4cf1"
      },
      "outputs": [
        {
          "output_type": "display_data",
          "data": {
            "text/plain": [
              "<Figure size 432x288 with 1 Axes>"
            ],
            "image/png": "[encoded data removed]"
          },
          "metadata": {
            "needs_background": "light"
          }
        },
        {
          "output_type": "display_data",
          "data": {
            "text/plain": [
              "<Figure size 432x288 with 1 Axes>"
            ],
            "image/png": "[encoded data removed]"
          },
          "metadata": {
            "needs_background": "light"
          }
        }
      ],
      "source": [
        "local_utils.plot_history(history_new[1])"
      ]
    },
    {
      "cell_type": "markdown",
      "metadata": {
        "id": "5Pp03pg2GmrT"
      },
      "source": [
        "10. *Additional - Train quantized model without initialization by pretrained floating point model.\n",
        "\n",
        "You can change training hyperparameters.\n",
        "\n",
        "Display training history and final validation accuracy and loss.\n",
        "\n",
        "Compare result with previously trained models of `NeuralNetwork`s' architectures."
      ]
    },
    {
      "cell_type": "code",
      "execution_count": null,
      "metadata": {
        "colab": {
          "base_uri": "https://localhost:8080/"
        },
        "id": "DVemD01pGmrU",
        "outputId": "363f0bf4-9a10-4b0a-bafd-506d234a4dfb"
      },
      "outputs": [
        {
          "output_type": "stream",
          "name": "stdout",
          "text": [
            "CNN out shape = [128, 3, 3]\n",
            "CNN numel = 1152\n",
            "Epoch 1 / 4: STARTED\n",
            "TRAINING"
          ]
        },
        {
          "output_type": "stream",
          "name": "stderr",
          "text": [
            "69it [00:08,  8.44it/s]"
          ]
        }
      ],
      "source": [
        "qnetNew = NeuralNetwork(quantize=True)\n",
        "\n",
        "history3= local_utils.training(model=qnet,\n",
        "train_loader=train_loader,\n",
        "test_loader=test_loader,\n",
        "loss_fcn=nn.CrossEntropyLoss(),\n",
        "metric=local_utils.AccuracyMetic(),\n",
        "optimizer=torch.optim.SGD(params=net.parameters(),lr=0.01,momentum=0.6),\n",
        "update_period = 5,\n",
        "epoch_max = 4,\n",
        "device=device\n",
        ")\n",
        "\n",
        "local_utils.plot_history(history3[1])"
      ]
    },
    {
      "cell_type": "markdown",
      "metadata": {
        "id": "a6N_YVvKGmrU"
      },
      "source": [
        "6. You can leave a feedback, if you want :)"
      ]
    },
    {
      "cell_type": "markdown",
      "metadata": {
        "id": "d1-T6_YSGmrU"
      },
      "source": []
    },
    {
      "cell_type": "markdown",
      "metadata": {
        "id": "iUipo2reGmrV"
      },
      "source": [
        "7. Exercises please upload this file (*.ipynb) to UPEL."
      ]
    },
    {
      "cell_type": "markdown",
      "metadata": {
        "id": "dPHzPsK3GmrV"
      },
      "source": []
    }
  ],
  "metadata": {
    "kernelspec": {
      "display_name": "Python 3.8.10 64-bit",
      "language": "python",
      "name": "python3"
    },
    "language_info": {
      "codemirror_mode": {
        "name": "ipython",
        "version": 3
      },
      "file_extension": ".py",
      "mimetype": "text/x-python",
      "name": "python",
      "nbconvert_exporter": "python",
      "pygments_lexer": "ipython3",
      "version": "3.8.10"
    },
    "orig_nbformat": 4,
    "vscode": {
      "interpreter": {
        "hash": "e7370f93d1d0cde622a1f8e1c04877d8463912d04d973331ad4851f04de6915a"
      }
    },
    "colab": {
      "provenance": []
    },
    "widgets": {
      "application/vnd.jupyter.widget-state+json": {
        "8ba1b26d4e5245969e7e0e837aa95ad8": {
          "model_module": "@jupyter-widgets/controls",
          "model_name": "HBoxModel",
          "model_module_version": "1.5.0",
          "state": {
            "_dom_classes": [],
            "_model_module": "@jupyter-widgets/controls",
            "_model_module_version": "1.5.0",
            "_model_name": "HBoxModel",
            "_view_count": null,
            "_view_module": "@jupyter-widgets/controls",
            "_view_module_version": "1.5.0",
            "_view_name": "HBoxView",
            "box_style": "",
            "children": [
              "IPY_MODEL_70a7e83a2cb3407981f1e262c47954f2",
              "IPY_MODEL_cfc690ad4fff4b3793daf3b08779982d",
              "IPY_MODEL_77cb7764fdb04dc7a251decce397b9dd"
            ],
            "layout": "IPY_MODEL_65631fb814394b399b082df1502f8653"
          }
        },
        "70a7e83a2cb3407981f1e262c47954f2": {
          "model_module": "@jupyter-widgets/controls",
          "model_name": "HTMLModel",
          "model_module_version": "1.5.0",
          "state": {
            "_dom_classes": [],
            "_model_module": "@jupyter-widgets/controls",
            "_model_module_version": "1.5.0",
            "_model_name": "HTMLModel",
            "_view_count": null,
            "_view_module": "@jupyter-widgets/controls",
            "_view_module_version": "1.5.0",
            "_view_name": "HTMLView",
            "description": "",
            "description_tooltip": null,
            "layout": "IPY_MODEL_96778fd64e3e42039974e369b3192f25",
            "placeholder": "​",
            "style": "IPY_MODEL_db74bc34eb5d4e1a9687e88ceac232aa",
            "value": "100%"
          }
        },
        "cfc690ad4fff4b3793daf3b08779982d": {
          "model_module": "@jupyter-widgets/controls",
          "model_name": "FloatProgressModel",
          "model_module_version": "1.5.0",
          "state": {
            "_dom_classes": [],
            "_model_module": "@jupyter-widgets/controls",
            "_model_module_version": "1.5.0",
            "_model_name": "FloatProgressModel",
            "_view_count": null,
            "_view_module": "@jupyter-widgets/controls",
            "_view_module_version": "1.5.0",
            "_view_name": "ProgressView",
            "bar_style": "success",
            "description": "",
            "description_tooltip": null,
            "layout": "IPY_MODEL_a84db3eb45c04ae5ac0f58da67f14783",
            "max": 9912422,
            "min": 0,
            "orientation": "horizontal",
            "style": "IPY_MODEL_99215b3af0354a46826e78c7e039a1d2",
            "value": 9912422
          }
        },
        "77cb7764fdb04dc7a251decce397b9dd": {
          "model_module": "@jupyter-widgets/controls",
          "model_name": "HTMLModel",
          "model_module_version": "1.5.0",
          "state": {
            "_dom_classes": [],
            "_model_module": "@jupyter-widgets/controls",
            "_model_module_version": "1.5.0",
            "_model_name": "HTMLModel",
            "_view_count": null,
            "_view_module": "@jupyter-widgets/controls",
            "_view_module_version": "1.5.0",
            "_view_name": "HTMLView",
            "description": "",
            "description_tooltip": null,
            "layout": "IPY_MODEL_5a074e2885e34d3c912e19d565b3638d",
            "placeholder": "​",
            "style": "IPY_MODEL_70d434d895e24ac681d8cb1bc4c8612a",
            "value": " 9912422/9912422 [00:00&lt;00:00, 4222155.41it/s]"
          }
        },
        "65631fb814394b399b082df1502f8653": {
          "model_module": "@jupyter-widgets/base",
          "model_name": "LayoutModel",
          "model_module_version": "1.2.0",
          "state": {
            "_model_module": "@jupyter-widgets/base",
            "_model_module_version": "1.2.0",
            "_model_name": "LayoutModel",
            "_view_count": null,
            "_view_module": "@jupyter-widgets/base",
            "_view_module_version": "1.2.0",
            "_view_name": "LayoutView",
            "align_content": null,
            "align_items": null,
            "align_self": null,
            "border": null,
            "bottom": null,
            "display": null,
            "flex": null,
            "flex_flow": null,
            "grid_area": null,
            "grid_auto_columns": null,
            "grid_auto_flow": null,
            "grid_auto_rows": null,
            "grid_column": null,
            "grid_gap": null,
            "grid_row": null,
            "grid_template_areas": null,
            "grid_template_columns": null,
            "grid_template_rows": null,
            "height": null,
            "justify_content": null,
            "justify_items": null,
            "left": null,
            "margin": null,
            "max_height": null,
            "max_width": null,
            "min_height": null,
            "min_width": null,
            "object_fit": null,
            "object_position": null,
            "order": null,
            "overflow": null,
            "overflow_x": null,
            "overflow_y": null,
            "padding": null,
            "right": null,
            "top": null,
            "visibility": null,
            "width": null
          }
        },
        "96778fd64e3e42039974e369b3192f25": {
          "model_module": "@jupyter-widgets/base",
          "model_name": "LayoutModel",
          "model_module_version": "1.2.0",
          "state": {
            "_model_module": "@jupyter-widgets/base",
            "_model_module_version": "1.2.0",
            "_model_name": "LayoutModel",
            "_view_count": null,
            "_view_module": "@jupyter-widgets/base",
            "_view_module_version": "1.2.0",
            "_view_name": "LayoutView",
            "align_content": null,
            "align_items": null,
            "align_self": null,
            "border": null,
            "bottom": null,
            "display": null,
            "flex": null,
            "flex_flow": null,
            "grid_area": null,
            "grid_auto_columns": null,
            "grid_auto_flow": null,
            "grid_auto_rows": null,
            "grid_column": null,
            "grid_gap": null,
            "grid_row": null,
            "grid_template_areas": null,
            "grid_template_columns": null,
            "grid_template_rows": null,
            "height": null,
            "justify_content": null,
            "justify_items": null,
            "left": null,
            "margin": null,
            "max_height": null,
            "max_width": null,
            "min_height": null,
            "min_width": null,
            "object_fit": null,
            "object_position": null,
            "order": null,
            "overflow": null,
            "overflow_x": null,
            "overflow_y": null,
            "padding": null,
            "right": null,
            "top": null,
            "visibility": null,
            "width": null
          }
        },
        "db74bc34eb5d4e1a9687e88ceac232aa": {
          "model_module": "@jupyter-widgets/controls",
          "model_name": "DescriptionStyleModel",
          "model_module_version": "1.5.0",
          "state": {
            "_model_module": "@jupyter-widgets/controls",
            "_model_module_version": "1.5.0",
            "_model_name": "DescriptionStyleModel",
            "_view_count": null,
            "_view_module": "@jupyter-widgets/base",
            "_view_module_version": "1.2.0",
            "_view_name": "StyleView",
            "description_width": ""
          }
        },
        "a84db3eb45c04ae5ac0f58da67f14783": {
          "model_module": "@jupyter-widgets/base",
          "model_name": "LayoutModel",
          "model_module_version": "1.2.0",
          "state": {
            "_model_module": "@jupyter-widgets/base",
            "_model_module_version": "1.2.0",
            "_model_name": "LayoutModel",
            "_view_count": null,
            "_view_module": "@jupyter-widgets/base",
            "_view_module_version": "1.2.0",
            "_view_name": "LayoutView",
            "align_content": null,
            "align_items": null,
            "align_self": null,
            "border": null,
            "bottom": null,
            "display": null,
            "flex": null,
            "flex_flow": null,
            "grid_area": null,
            "grid_auto_columns": null,
            "grid_auto_flow": null,
            "grid_auto_rows": null,
            "grid_column": null,
            "grid_gap": null,
            "grid_row": null,
            "grid_template_areas": null,
            "grid_template_columns": null,
            "grid_template_rows": null,
            "height": null,
            "justify_content": null,
            "justify_items": null,
            "left": null,
            "margin": null,
            "max_height": null,
            "max_width": null,
            "min_height": null,
            "min_width": null,
            "object_fit": null,
            "object_position": null,
            "order": null,
            "overflow": null,
            "overflow_x": null,
            "overflow_y": null,
            "padding": null,
            "right": null,
            "top": null,
            "visibility": null,
            "width": null
          }
        },
        "99215b3af0354a46826e78c7e039a1d2": {
          "model_module": "@jupyter-widgets/controls",
          "model_name": "ProgressStyleModel",
          "model_module_version": "1.5.0",
          "state": {
            "_model_module": "@jupyter-widgets/controls",
            "_model_module_version": "1.5.0",
            "_model_name": "ProgressStyleModel",
            "_view_count": null,
            "_view_module": "@jupyter-widgets/base",
            "_view_module_version": "1.2.0",
            "_view_name": "StyleView",
            "bar_color": null,
            "description_width": ""
          }
        },
        "5a074e2885e34d3c912e19d565b3638d": {
          "model_module": "@jupyter-widgets/base",
          "model_name": "LayoutModel",
          "model_module_version": "1.2.0",
          "state": {
            "_model_module": "@jupyter-widgets/base",
            "_model_module_version": "1.2.0",
            "_model_name": "LayoutModel",
            "_view_count": null,
            "_view_module": "@jupyter-widgets/base",
            "_view_module_version": "1.2.0",
            "_view_name": "LayoutView",
            "align_content": null,
            "align_items": null,
            "align_self": null,
            "border": null,
            "bottom": null,
            "display": null,
            "flex": null,
            "flex_flow": null,
            "grid_area": null,
            "grid_auto_columns": null,
            "grid_auto_flow": null,
            "grid_auto_rows": null,
            "grid_column": null,
            "grid_gap": null,
            "grid_row": null,
            "grid_template_areas": null,
            "grid_template_columns": null,
            "grid_template_rows": null,
            "height": null,
            "justify_content": null,
            "justify_items": null,
            "left": null,
            "margin": null,
            "max_height": null,
            "max_width": null,
            "min_height": null,
            "min_width": null,
            "object_fit": null,
            "object_position": null,
            "order": null,
            "overflow": null,
            "overflow_x": null,
            "overflow_y": null,
            "padding": null,
            "right": null,
            "top": null,
            "visibility": null,
            "width": null
          }
        },
        "70d434d895e24ac681d8cb1bc4c8612a": {
          "model_module": "@jupyter-widgets/controls",
          "model_name": "DescriptionStyleModel",
          "model_module_version": "1.5.0",
          "state": {
            "_model_module": "@jupyter-widgets/controls",
            "_model_module_version": "1.5.0",
            "_model_name": "DescriptionStyleModel",
            "_view_count": null,
            "_view_module": "@jupyter-widgets/base",
            "_view_module_version": "1.2.0",
            "_view_name": "StyleView",
            "description_width": ""
          }
        },
        "8a0802274e7644afb8a72d07823f9192": {
          "model_module": "@jupyter-widgets/controls",
          "model_name": "HBoxModel",
          "model_module_version": "1.5.0",
          "state": {
            "_dom_classes": [],
            "_model_module": "@jupyter-widgets/controls",
            "_model_module_version": "1.5.0",
            "_model_name": "HBoxModel",
            "_view_count": null,
            "_view_module": "@jupyter-widgets/controls",
            "_view_module_version": "1.5.0",
            "_view_name": "HBoxView",
            "box_style": "",
            "children": [
              "IPY_MODEL_3b197a8a5fdb4189a46048ba0f44ec3d",
              "IPY_MODEL_9fd44a490599451fbb487dbee781d12b",
              "IPY_MODEL_d53d2a37a6a042be98cd0c76722881fd"
            ],
            "layout": "IPY_MODEL_640db59f78b247e79a22139e20caa992"
          }
        },
        "3b197a8a5fdb4189a46048ba0f44ec3d": {
          "model_module": "@jupyter-widgets/controls",
          "model_name": "HTMLModel",
          "model_module_version": "1.5.0",
          "state": {
            "_dom_classes": [],
            "_model_module": "@jupyter-widgets/controls",
            "_model_module_version": "1.5.0",
            "_model_name": "HTMLModel",
            "_view_count": null,
            "_view_module": "@jupyter-widgets/controls",
            "_view_module_version": "1.5.0",
            "_view_name": "HTMLView",
            "description": "",
            "description_tooltip": null,
            "layout": "IPY_MODEL_f6c2ba08f5ac45e0b96b1de8a27d837a",
            "placeholder": "​",
            "style": "IPY_MODEL_5a5111c6043641e29dbe60a816ddd65c",
            "value": "100%"
          }
        },
        "9fd44a490599451fbb487dbee781d12b": {
          "model_module": "@jupyter-widgets/controls",
          "model_name": "FloatProgressModel",
          "model_module_version": "1.5.0",
          "state": {
            "_dom_classes": [],
            "_model_module": "@jupyter-widgets/controls",
            "_model_module_version": "1.5.0",
            "_model_name": "FloatProgressModel",
            "_view_count": null,
            "_view_module": "@jupyter-widgets/controls",
            "_view_module_version": "1.5.0",
            "_view_name": "ProgressView",
            "bar_style": "success",
            "description": "",
            "description_tooltip": null,
            "layout": "IPY_MODEL_eb6b5b11d2b4458ab6f740e76a8f4f8d",
            "max": 28881,
            "min": 0,
            "orientation": "horizontal",
            "style": "IPY_MODEL_9356f558a0aa4e46bab8b88d0ee7e3e2",
            "value": 28881
          }
        },
        "d53d2a37a6a042be98cd0c76722881fd": {
          "model_module": "@jupyter-widgets/controls",
          "model_name": "HTMLModel",
          "model_module_version": "1.5.0",
          "state": {
            "_dom_classes": [],
            "_model_module": "@jupyter-widgets/controls",
            "_model_module_version": "1.5.0",
            "_model_name": "HTMLModel",
            "_view_count": null,
            "_view_module": "@jupyter-widgets/controls",
            "_view_module_version": "1.5.0",
            "_view_name": "HTMLView",
            "description": "",
            "description_tooltip": null,
            "layout": "IPY_MODEL_06ea2903cde5423cb97440b4c040c18e",
            "placeholder": "​",
            "style": "IPY_MODEL_adeecad545704d0ba75f6a81f2d43697",
            "value": " 28881/28881 [00:00&lt;00:00, 1622063.39it/s]"
          }
        },
        "640db59f78b247e79a22139e20caa992": {
          "model_module": "@jupyter-widgets/base",
          "model_name": "LayoutModel",
          "model_module_version": "1.2.0",
          "state": {
            "_model_module": "@jupyter-widgets/base",
            "_model_module_version": "1.2.0",
            "_model_name": "LayoutModel",
            "_view_count": null,
            "_view_module": "@jupyter-widgets/base",
            "_view_module_version": "1.2.0",
            "_view_name": "LayoutView",
            "align_content": null,
            "align_items": null,
            "align_self": null,
            "border": null,
            "bottom": null,
            "display": null,
            "flex": null,
            "flex_flow": null,
            "grid_area": null,
            "grid_auto_columns": null,
            "grid_auto_flow": null,
            "grid_auto_rows": null,
            "grid_column": null,
            "grid_gap": null,
            "grid_row": null,
            "grid_template_areas": null,
            "grid_template_columns": null,
            "grid_template_rows": null,
            "height": null,
            "justify_content": null,
            "justify_items": null,
            "left": null,
            "margin": null,
            "max_height": null,
            "max_width": null,
            "min_height": null,
            "min_width": null,
            "object_fit": null,
            "object_position": null,
            "order": null,
            "overflow": null,
            "overflow_x": null,
            "overflow_y": null,
            "padding": null,
            "right": null,
            "top": null,
            "visibility": null,
            "width": null
          }
        },
        "f6c2ba08f5ac45e0b96b1de8a27d837a": {
          "model_module": "@jupyter-widgets/base",
          "model_name": "LayoutModel",
          "model_module_version": "1.2.0",
          "state": {
            "_model_module": "@jupyter-widgets/base",
            "_model_module_version": "1.2.0",
            "_model_name": "LayoutModel",
            "_view_count": null,
            "_view_module": "@jupyter-widgets/base",
            "_view_module_version": "1.2.0",
            "_view_name": "LayoutView",
            "align_content": null,
            "align_items": null,
            "align_self": null,
            "border": null,
            "bottom": null,
            "display": null,
            "flex": null,
            "flex_flow": null,
            "grid_area": null,
            "grid_auto_columns": null,
            "grid_auto_flow": null,
            "grid_auto_rows": null,
            "grid_column": null,
            "grid_gap": null,
            "grid_row": null,
            "grid_template_areas": null,
            "grid_template_columns": null,
            "grid_template_rows": null,
            "height": null,
            "justify_content": null,
            "justify_items": null,
            "left": null,
            "margin": null,
            "max_height": null,
            "max_width": null,
            "min_height": null,
            "min_width": null,
            "object_fit": null,
            "object_position": null,
            "order": null,
            "overflow": null,
            "overflow_x": null,
            "overflow_y": null,
            "padding": null,
            "right": null,
            "top": null,
            "visibility": null,
            "width": null
          }
        },
        "5a5111c6043641e29dbe60a816ddd65c": {
          "model_module": "@jupyter-widgets/controls",
          "model_name": "DescriptionStyleModel",
          "model_module_version": "1.5.0",
          "state": {
            "_model_module": "@jupyter-widgets/controls",
            "_model_module_version": "1.5.0",
            "_model_name": "DescriptionStyleModel",
            "_view_count": null,
            "_view_module": "@jupyter-widgets/base",
            "_view_module_version": "1.2.0",
            "_view_name": "StyleView",
            "description_width": ""
          }
        },
        "eb6b5b11d2b4458ab6f740e76a8f4f8d": {
          "model_module": "@jupyter-widgets/base",
          "model_name": "LayoutModel",
          "model_module_version": "1.2.0",
          "state": {
            "_model_module": "@jupyter-widgets/base",
            "_model_module_version": "1.2.0",
            "_model_name": "LayoutModel",
            "_view_count": null,
            "_view_module": "@jupyter-widgets/base",
            "_view_module_version": "1.2.0",
            "_view_name": "LayoutView",
            "align_content": null,
            "align_items": null,
            "align_self": null,
            "border": null,
            "bottom": null,
            "display": null,
            "flex": null,
            "flex_flow": null,
            "grid_area": null,
            "grid_auto_columns": null,
            "grid_auto_flow": null,
            "grid_auto_rows": null,
            "grid_column": null,
            "grid_gap": null,
            "grid_row": null,
            "grid_template_areas": null,
            "grid_template_columns": null,
            "grid_template_rows": null,
            "height": null,
            "justify_content": null,
            "justify_items": null,
            "left": null,
            "margin": null,
            "max_height": null,
            "max_width": null,
            "min_height": null,
            "min_width": null,
            "object_fit": null,
            "object_position": null,
            "order": null,
            "overflow": null,
            "overflow_x": null,
            "overflow_y": null,
            "padding": null,
            "right": null,
            "top": null,
            "visibility": null,
            "width": null
          }
        },
        "9356f558a0aa4e46bab8b88d0ee7e3e2": {
          "model_module": "@jupyter-widgets/controls",
          "model_name": "ProgressStyleModel",
          "model_module_version": "1.5.0",
          "state": {
            "_model_module": "@jupyter-widgets/controls",
            "_model_module_version": "1.5.0",
            "_model_name": "ProgressStyleModel",
            "_view_count": null,
            "_view_module": "@jupyter-widgets/base",
            "_view_module_version": "1.2.0",
            "_view_name": "StyleView",
            "bar_color": null,
            "description_width": ""
          }
        },
        "06ea2903cde5423cb97440b4c040c18e": {
          "model_module": "@jupyter-widgets/base",
          "model_name": "LayoutModel",
          "model_module_version": "1.2.0",
          "state": {
            "_model_module": "@jupyter-widgets/base",
            "_model_module_version": "1.2.0",
            "_model_name": "LayoutModel",
            "_view_count": null,
            "_view_module": "@jupyter-widgets/base",
            "_view_module_version": "1.2.0",
            "_view_name": "LayoutView",
            "align_content": null,
            "align_items": null,
            "align_self": null,
            "border": null,
            "bottom": null,
            "display": null,
            "flex": null,
            "flex_flow": null,
            "grid_area": null,
            "grid_auto_columns": null,
            "grid_auto_flow": null,
            "grid_auto_rows": null,
            "grid_column": null,
            "grid_gap": null,
            "grid_row": null,
            "grid_template_areas": null,
            "grid_template_columns": null,
            "grid_template_rows": null,
            "height": null,
            "justify_content": null,
            "justify_items": null,
            "left": null,
            "margin": null,
            "max_height": null,
            "max_width": null,
            "min_height": null,
            "min_width": null,
            "object_fit": null,
            "object_position": null,
            "order": null,
            "overflow": null,
            "overflow_x": null,
            "overflow_y": null,
            "padding": null,
            "right": null,
            "top": null,
            "visibility": null,
            "width": null
          }
        },
        "adeecad545704d0ba75f6a81f2d43697": {
          "model_module": "@jupyter-widgets/controls",
          "model_name": "DescriptionStyleModel",
          "model_module_version": "1.5.0",
          "state": {
            "_model_module": "@jupyter-widgets/controls",
            "_model_module_version": "1.5.0",
            "_model_name": "DescriptionStyleModel",
            "_view_count": null,
            "_view_module": "@jupyter-widgets/base",
            "_view_module_version": "1.2.0",
            "_view_name": "StyleView",
            "description_width": ""
          }
        },
        "5c69b834f1f74d23967f0c3903cceb0e": {
          "model_module": "@jupyter-widgets/controls",
          "model_name": "HBoxModel",
          "model_module_version": "1.5.0",
          "state": {
            "_dom_classes": [],
            "_model_module": "@jupyter-widgets/controls",
            "_model_module_version": "1.5.0",
            "_model_name": "HBoxModel",
            "_view_count": null,
            "_view_module": "@jupyter-widgets/controls",
            "_view_module_version": "1.5.0",
            "_view_name": "HBoxView",
            "box_style": "",
            "children": [
              "IPY_MODEL_d8019a329f9d45be8835fff64d90b612",
              "IPY_MODEL_1d72535200964433b782304e81057cd9",
              "IPY_MODEL_37faebf70933403bb398f25518e406fd"
            ],
            "layout": "IPY_MODEL_d8b25c4f3a714b63937f1020f96c68b4"
          }
        },
        "d8019a329f9d45be8835fff64d90b612": {
          "model_module": "@jupyter-widgets/controls",
          "model_name": "HTMLModel",
          "model_module_version": "1.5.0",
          "state": {
            "_dom_classes": [],
            "_model_module": "@jupyter-widgets/controls",
            "_model_module_version": "1.5.0",
            "_model_name": "HTMLModel",
            "_view_count": null,
            "_view_module": "@jupyter-widgets/controls",
            "_view_module_version": "1.5.0",
            "_view_name": "HTMLView",
            "description": "",
            "description_tooltip": null,
            "layout": "IPY_MODEL_fbcb570f6d804dc3bf816a3a94d948e6",
            "placeholder": "​",
            "style": "IPY_MODEL_2cf645ca9164440cbbd1f976fc47359e",
            "value": "100%"
          }
        },
        "1d72535200964433b782304e81057cd9": {
          "model_module": "@jupyter-widgets/controls",
          "model_name": "FloatProgressModel",
          "model_module_version": "1.5.0",
          "state": {
            "_dom_classes": [],
            "_model_module": "@jupyter-widgets/controls",
            "_model_module_version": "1.5.0",
            "_model_name": "FloatProgressModel",
            "_view_count": null,
            "_view_module": "@jupyter-widgets/controls",
            "_view_module_version": "1.5.0",
            "_view_name": "ProgressView",
            "bar_style": "success",
            "description": "",
            "description_tooltip": null,
            "layout": "IPY_MODEL_858ba91bf0f5416fa538fdbe3186b20d",
            "max": 1648877,
            "min": 0,
            "orientation": "horizontal",
            "style": "IPY_MODEL_806e859c28434fa0886cbdcfad5473fe",
            "value": 1648877
          }
        },
        "37faebf70933403bb398f25518e406fd": {
          "model_module": "@jupyter-widgets/controls",
          "model_name": "HTMLModel",
          "model_module_version": "1.5.0",
          "state": {
            "_dom_classes": [],
            "_model_module": "@jupyter-widgets/controls",
            "_model_module_version": "1.5.0",
            "_model_name": "HTMLModel",
            "_view_count": null,
            "_view_module": "@jupyter-widgets/controls",
            "_view_module_version": "1.5.0",
            "_view_name": "HTMLView",
            "description": "",
            "description_tooltip": null,
            "layout": "IPY_MODEL_95ab19f9e6744c519385e4d97760e14c",
            "placeholder": "​",
            "style": "IPY_MODEL_043896e8784f46aab9d95f11ba8262ad",
            "value": " 1648877/1648877 [00:00&lt;00:00, 69984025.63it/s]"
          }
        },
        "d8b25c4f3a714b63937f1020f96c68b4": {
          "model_module": "@jupyter-widgets/base",
          "model_name": "LayoutModel",
          "model_module_version": "1.2.0",
          "state": {
            "_model_module": "@jupyter-widgets/base",
            "_model_module_version": "1.2.0",
            "_model_name": "LayoutModel",
            "_view_count": null,
            "_view_module": "@jupyter-widgets/base",
            "_view_module_version": "1.2.0",
            "_view_name": "LayoutView",
            "align_content": null,
            "align_items": null,
            "align_self": null,
            "border": null,
            "bottom": null,
            "display": null,
            "flex": null,
            "flex_flow": null,
            "grid_area": null,
            "grid_auto_columns": null,
            "grid_auto_flow": null,
            "grid_auto_rows": null,
            "grid_column": null,
            "grid_gap": null,
            "grid_row": null,
            "grid_template_areas": null,
            "grid_template_columns": null,
            "grid_template_rows": null,
            "height": null,
            "justify_content": null,
            "justify_items": null,
            "left": null,
            "margin": null,
            "max_height": null,
            "max_width": null,
            "min_height": null,
            "min_width": null,
            "object_fit": null,
            "object_position": null,
            "order": null,
            "overflow": null,
            "overflow_x": null,
            "overflow_y": null,
            "padding": null,
            "right": null,
            "top": null,
            "visibility": null,
            "width": null
          }
        },
        "fbcb570f6d804dc3bf816a3a94d948e6": {
          "model_module": "@jupyter-widgets/base",
          "model_name": "LayoutModel",
          "model_module_version": "1.2.0",
          "state": {
            "_model_module": "@jupyter-widgets/base",
            "_model_module_version": "1.2.0",
            "_model_name": "LayoutModel",
            "_view_count": null,
            "_view_module": "@jupyter-widgets/base",
            "_view_module_version": "1.2.0",
            "_view_name": "LayoutView",
            "align_content": null,
            "align_items": null,
            "align_self": null,
            "border": null,
            "bottom": null,
            "display": null,
            "flex": null,
            "flex_flow": null,
            "grid_area": null,
            "grid_auto_columns": null,
            "grid_auto_flow": null,
            "grid_auto_rows": null,
            "grid_column": null,
            "grid_gap": null,
            "grid_row": null,
            "grid_template_areas": null,
            "grid_template_columns": null,
            "grid_template_rows": null,
            "height": null,
            "justify_content": null,
            "justify_items": null,
            "left": null,
            "margin": null,
            "max_height": null,
            "max_width": null,
            "min_height": null,
            "min_width": null,
            "object_fit": null,
            "object_position": null,
            "order": null,
            "overflow": null,
            "overflow_x": null,
            "overflow_y": null,
            "padding": null,
            "right": null,
            "top": null,
            "visibility": null,
            "width": null
          }
        },
        "2cf645ca9164440cbbd1f976fc47359e": {
          "model_module": "@jupyter-widgets/controls",
          "model_name": "DescriptionStyleModel",
          "model_module_version": "1.5.0",
          "state": {
            "_model_module": "@jupyter-widgets/controls",
            "_model_module_version": "1.5.0",
            "_model_name": "DescriptionStyleModel",
            "_view_count": null,
            "_view_module": "@jupyter-widgets/base",
            "_view_module_version": "1.2.0",
            "_view_name": "StyleView",
            "description_width": ""
          }
        },
        "858ba91bf0f5416fa538fdbe3186b20d": {
          "model_module": "@jupyter-widgets/base",
          "model_name": "LayoutModel",
          "model_module_version": "1.2.0",
          "state": {
            "_model_module": "@jupyter-widgets/base",
            "_model_module_version": "1.2.0",
            "_model_name": "LayoutModel",
            "_view_count": null,
            "_view_module": "@jupyter-widgets/base",
            "_view_module_version": "1.2.0",
            "_view_name": "LayoutView",
            "align_content": null,
            "align_items": null,
            "align_self": null,
            "border": null,
            "bottom": null,
            "display": null,
            "flex": null,
            "flex_flow": null,
            "grid_area": null,
            "grid_auto_columns": null,
            "grid_auto_flow": null,
            "grid_auto_rows": null,
            "grid_column": null,
            "grid_gap": null,
            "grid_row": null,
            "grid_template_areas": null,
            "grid_template_columns": null,
            "grid_template_rows": null,
            "height": null,
            "justify_content": null,
            "justify_items": null,
            "left": null,
            "margin": null,
            "max_height": null,
            "max_width": null,
            "min_height": null,
            "min_width": null,
            "object_fit": null,
            "object_position": null,
            "order": null,
            "overflow": null,
            "overflow_x": null,
            "overflow_y": null,
            "padding": null,
            "right": null,
            "top": null,
            "visibility": null,
            "width": null
          }
        },
        "806e859c28434fa0886cbdcfad5473fe": {
          "model_module": "@jupyter-widgets/controls",
          "model_name": "ProgressStyleModel",
          "model_module_version": "1.5.0",
          "state": {
            "_model_module": "@jupyter-widgets/controls",
            "_model_module_version": "1.5.0",
            "_model_name": "ProgressStyleModel",
            "_view_count": null,
            "_view_module": "@jupyter-widgets/base",
            "_view_module_version": "1.2.0",
            "_view_name": "StyleView",
            "bar_color": null,
            "description_width": ""
          }
        },
        "95ab19f9e6744c519385e4d97760e14c": {
          "model_module": "@jupyter-widgets/base",
          "model_name": "LayoutModel",
          "model_module_version": "1.2.0",
          "state": {
            "_model_module": "@jupyter-widgets/base",
            "_model_module_version": "1.2.0",
            "_model_name": "LayoutModel",
            "_view_count": null,
            "_view_module": "@jupyter-widgets/base",
            "_view_module_version": "1.2.0",
            "_view_name": "LayoutView",
            "align_content": null,
            "align_items": null,
            "align_self": null,
            "border": null,
            "bottom": null,
            "display": null,
            "flex": null,
            "flex_flow": null,
            "grid_area": null,
            "grid_auto_columns": null,
            "grid_auto_flow": null,
            "grid_auto_rows": null,
            "grid_column": null,
            "grid_gap": null,
            "grid_row": null,
            "grid_template_areas": null,
            "grid_template_columns": null,
            "grid_template_rows": null,
            "height": null,
            "justify_content": null,
            "justify_items": null,
            "left": null,
            "margin": null,
            "max_height": null,
            "max_width": null,
            "min_height": null,
            "min_width": null,
            "object_fit": null,
            "object_position": null,
            "order": null,
            "overflow": null,
            "overflow_x": null,
            "overflow_y": null,
            "padding": null,
            "right": null,
            "top": null,
            "visibility": null,
            "width": null
          }
        },
        "043896e8784f46aab9d95f11ba8262ad": {
          "model_module": "@jupyter-widgets/controls",
          "model_name": "DescriptionStyleModel",
          "model_module_version": "1.5.0",
          "state": {
            "_model_module": "@jupyter-widgets/controls",
            "_model_module_version": "1.5.0",
            "_model_name": "DescriptionStyleModel",
            "_view_count": null,
            "_view_module": "@jupyter-widgets/base",
            "_view_module_version": "1.2.0",
            "_view_name": "StyleView",
            "description_width": ""
          }
        },
        "9bdc43548d67413faae5d637ba7f393c": {
          "model_module": "@jupyter-widgets/controls",
          "model_name": "HBoxModel",
          "model_module_version": "1.5.0",
          "state": {
            "_dom_classes": [],
            "_model_module": "@jupyter-widgets/controls",
            "_model_module_version": "1.5.0",
            "_model_name": "HBoxModel",
            "_view_count": null,
            "_view_module": "@jupyter-widgets/controls",
            "_view_module_version": "1.5.0",
            "_view_name": "HBoxView",
            "box_style": "",
            "children": [
              "IPY_MODEL_611976861612439ba384e986dc0f79c2",
              "IPY_MODEL_cf289d9480e5453e8a1fe34b805bb375",
              "IPY_MODEL_8761b10d6d6f454aa35050ceb3833cbd"
            ],
            "layout": "IPY_MODEL_9e9796cae0084b859f5aa062b04cf2dd"
          }
        },
        "611976861612439ba384e986dc0f79c2": {
          "model_module": "@jupyter-widgets/controls",
          "model_name": "HTMLModel",
          "model_module_version": "1.5.0",
          "state": {
            "_dom_classes": [],
            "_model_module": "@jupyter-widgets/controls",
            "_model_module_version": "1.5.0",
            "_model_name": "HTMLModel",
            "_view_count": null,
            "_view_module": "@jupyter-widgets/controls",
            "_view_module_version": "1.5.0",
            "_view_name": "HTMLView",
            "description": "",
            "description_tooltip": null,
            "layout": "IPY_MODEL_a2b48e04fa52456d8367a5f09b18c8f3",
            "placeholder": "​",
            "style": "IPY_MODEL_fa997e190a7c4e6b9a1eb41df16e05b6",
            "value": "100%"
          }
        },
        "cf289d9480e5453e8a1fe34b805bb375": {
          "model_module": "@jupyter-widgets/controls",
          "model_name": "FloatProgressModel",
          "model_module_version": "1.5.0",
          "state": {
            "_dom_classes": [],
            "_model_module": "@jupyter-widgets/controls",
            "_model_module_version": "1.5.0",
            "_model_name": "FloatProgressModel",
            "_view_count": null,
            "_view_module": "@jupyter-widgets/controls",
            "_view_module_version": "1.5.0",
            "_view_name": "ProgressView",
            "bar_style": "success",
            "description": "",
            "description_tooltip": null,
            "layout": "IPY_MODEL_7d50273174924790b1ab3623d7b0662d",
            "max": 4542,
            "min": 0,
            "orientation": "horizontal",
            "style": "IPY_MODEL_87d576e937364ffb9d71e410adefbe80",
            "value": 4542
          }
        },
        "8761b10d6d6f454aa35050ceb3833cbd": {
          "model_module": "@jupyter-widgets/controls",
          "model_name": "HTMLModel",
          "model_module_version": "1.5.0",
          "state": {
            "_dom_classes": [],
            "_model_module": "@jupyter-widgets/controls",
            "_model_module_version": "1.5.0",
            "_model_name": "HTMLModel",
            "_view_count": null,
            "_view_module": "@jupyter-widgets/controls",
            "_view_module_version": "1.5.0",
            "_view_name": "HTMLView",
            "description": "",
            "description_tooltip": null,
            "layout": "IPY_MODEL_edfb7eaff8de4735a249fb252aa11cd1",
            "placeholder": "​",
            "style": "IPY_MODEL_30b5463dfbc34349a8c688005b81f463",
            "value": " 4542/4542 [00:00&lt;00:00, 153214.43it/s]"
          }
        },
        "9e9796cae0084b859f5aa062b04cf2dd": {
          "model_module": "@jupyter-widgets/base",
          "model_name": "LayoutModel",
          "model_module_version": "1.2.0",
          "state": {
            "_model_module": "@jupyter-widgets/base",
            "_model_module_version": "1.2.0",
            "_model_name": "LayoutModel",
            "_view_count": null,
            "_view_module": "@jupyter-widgets/base",
            "_view_module_version": "1.2.0",
            "_view_name": "LayoutView",
            "align_content": null,
            "align_items": null,
            "align_self": null,
            "border": null,
            "bottom": null,
            "display": null,
            "flex": null,
            "flex_flow": null,
            "grid_area": null,
            "grid_auto_columns": null,
            "grid_auto_flow": null,
            "grid_auto_rows": null,
            "grid_column": null,
            "grid_gap": null,
            "grid_row": null,
            "grid_template_areas": null,
            "grid_template_columns": null,
            "grid_template_rows": null,
            "height": null,
            "justify_content": null,
            "justify_items": null,
            "left": null,
            "margin": null,
            "max_height": null,
            "max_width": null,
            "min_height": null,
            "min_width": null,
            "object_fit": null,
            "object_position": null,
            "order": null,
            "overflow": null,
            "overflow_x": null,
            "overflow_y": null,
            "padding": null,
            "right": null,
            "top": null,
            "visibility": null,
            "width": null
          }
        },
        "a2b48e04fa52456d8367a5f09b18c8f3": {
          "model_module": "@jupyter-widgets/base",
          "model_name": "LayoutModel",
          "model_module_version": "1.2.0",
          "state": {
            "_model_module": "@jupyter-widgets/base",
            "_model_module_version": "1.2.0",
            "_model_name": "LayoutModel",
            "_view_count": null,
            "_view_module": "@jupyter-widgets/base",
            "_view_module_version": "1.2.0",
            "_view_name": "LayoutView",
            "align_content": null,
            "align_items": null,
            "align_self": null,
            "border": null,
            "bottom": null,
            "display": null,
            "flex": null,
            "flex_flow": null,
            "grid_area": null,
            "grid_auto_columns": null,
            "grid_auto_flow": null,
            "grid_auto_rows": null,
            "grid_column": null,
            "grid_gap": null,
            "grid_row": null,
            "grid_template_areas": null,
            "grid_template_columns": null,
            "grid_template_rows": null,
            "height": null,
            "justify_content": null,
            "justify_items": null,
            "left": null,
            "margin": null,
            "max_height": null,
            "max_width": null,
            "min_height": null,
            "min_width": null,
            "object_fit": null,
            "object_position": null,
            "order": null,
            "overflow": null,
            "overflow_x": null,
            "overflow_y": null,
            "padding": null,
            "right": null,
            "top": null,
            "visibility": null,
            "width": null
          }
        },
        "fa997e190a7c4e6b9a1eb41df16e05b6": {
          "model_module": "@jupyter-widgets/controls",
          "model_name": "DescriptionStyleModel",
          "model_module_version": "1.5.0",
          "state": {
            "_model_module": "@jupyter-widgets/controls",
            "_model_module_version": "1.5.0",
            "_model_name": "DescriptionStyleModel",
            "_view_count": null,
            "_view_module": "@jupyter-widgets/base",
            "_view_module_version": "1.2.0",
            "_view_name": "StyleView",
            "description_width": ""
          }
        },
        "7d50273174924790b1ab3623d7b0662d": {
          "model_module": "@jupyter-widgets/base",
          "model_name": "LayoutModel",
          "model_module_version": "1.2.0",
          "state": {
            "_model_module": "@jupyter-widgets/base",
            "_model_module_version": "1.2.0",
            "_model_name": "LayoutModel",
            "_view_count": null,
            "_view_module": "@jupyter-widgets/base",
            "_view_module_version": "1.2.0",
            "_view_name": "LayoutView",
            "align_content": null,
            "align_items": null,
            "align_self": null,
            "border": null,
            "bottom": null,
            "display": null,
            "flex": null,
            "flex_flow": null,
            "grid_area": null,
            "grid_auto_columns": null,
            "grid_auto_flow": null,
            "grid_auto_rows": null,
            "grid_column": null,
            "grid_gap": null,
            "grid_row": null,
            "grid_template_areas": null,
            "grid_template_columns": null,
            "grid_template_rows": null,
            "height": null,
            "justify_content": null,
            "justify_items": null,
            "left": null,
            "margin": null,
            "max_height": null,
            "max_width": null,
            "min_height": null,
            "min_width": null,
            "object_fit": null,
            "object_position": null,
            "order": null,
            "overflow": null,
            "overflow_x": null,
            "overflow_y": null,
            "padding": null,
            "right": null,
            "top": null,
            "visibility": null,
            "width": null
          }
        },
        "87d576e937364ffb9d71e410adefbe80": {
          "model_module": "@jupyter-widgets/controls",
          "model_name": "ProgressStyleModel",
          "model_module_version": "1.5.0",
          "state": {
            "_model_module": "@jupyter-widgets/controls",
            "_model_module_version": "1.5.0",
            "_model_name": "ProgressStyleModel",
            "_view_count": null,
            "_view_module": "@jupyter-widgets/base",
            "_view_module_version": "1.2.0",
            "_view_name": "StyleView",
            "bar_color": null,
            "description_width": ""
          }
        },
        "edfb7eaff8de4735a249fb252aa11cd1": {
          "model_module": "@jupyter-widgets/base",
          "model_name": "LayoutModel",
          "model_module_version": "1.2.0",
          "state": {
            "_model_module": "@jupyter-widgets/base",
            "_model_module_version": "1.2.0",
            "_model_name": "LayoutModel",
            "_view_count": null,
            "_view_module": "@jupyter-widgets/base",
            "_view_module_version": "1.2.0",
            "_view_name": "LayoutView",
            "align_content": null,
            "align_items": null,
            "align_self": null,
            "border": null,
            "bottom": null,
            "display": null,
            "flex": null,
            "flex_flow": null,
            "grid_area": null,
            "grid_auto_columns": null,
            "grid_auto_flow": null,
            "grid_auto_rows": null,
            "grid_column": null,
            "grid_gap": null,
            "grid_row": null,
            "grid_template_areas": null,
            "grid_template_columns": null,
            "grid_template_rows": null,
            "height": null,
            "justify_content": null,
            "justify_items": null,
            "left": null,
            "margin": null,
            "max_height": null,
            "max_width": null,
            "min_height": null,
            "min_width": null,
            "object_fit": null,
            "object_position": null,
            "order": null,
            "overflow": null,
            "overflow_x": null,
            "overflow_y": null,
            "padding": null,
            "right": null,
            "top": null,
            "visibility": null,
            "width": null
          }
        },
        "30b5463dfbc34349a8c688005b81f463": {
          "model_module": "@jupyter-widgets/controls",
          "model_name": "DescriptionStyleModel",
          "model_module_version": "1.5.0",
          "state": {
            "_model_module": "@jupyter-widgets/controls",
            "_model_module_version": "1.5.0",
            "_model_name": "DescriptionStyleModel",
            "_view_count": null,
            "_view_module": "@jupyter-widgets/base",
            "_view_module_version": "1.2.0",
            "_view_name": "StyleView",
            "description_width": ""
          }
        }
      }
    }
  },
  "nbformat": 4,
  "nbformat_minor": 0
}