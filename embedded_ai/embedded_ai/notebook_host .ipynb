{
  "cells": [
    {
      "cell_type": "markdown",
      "metadata": {
        "id": "3YTdlzRxFUjU"
      },
      "source": [
        "## TensorRT\n",
        "TensorRT is a library delivered by NVIDIA.\n",
        "\n",
        "It allows for efficient inference computation of neural networks models.\n",
        "\n",
        "Library delivers many tools like model optimization or pruning.\n",
        "\n",
        "Access to mentioned functionality is available for may popular DNN frameworks like PyTorch or Tensor-Flow.\n",
        "\n",
        "Presented notebook shows usage of library on the example of semantic segmentation.\n",
        "\n",
        "The goal of semantic segmentation is to assign a class (in some cases classes) for each pixel of image.\n",
        "\n",
        "Pixels that are the part of the object(s) of the same type/class should have the same class.\n",
        "\n",
        "For that task for a single image we need to assign array of the same size with class ids or \n",
        "\n",
        "n boolean arrays - each represents separate class.     \n",
        "\n",
        "Your task is to design Deep Neural Network architecture to achieve \n",
        "\n",
        "Binary Accuracy metric higher than 0.99 on validation dataset.\n",
        "\n",
        "\n",
        "Helpful links:\n",
        "- U-net https://arxiv.org/pdf/1505.04597v1.pdf\n",
        "- Semantic segmentation datasets - https://paperswithcode.com/task/semantic-segmentation\n",
        "- Autoencoders - https://towardsdatascience.com/applied-deep-learning-part-3-autoencoders-1c083af4d798\n",
        "- Autoencoders - https://en.wikipedia.org/wiki/Autoencoder"
      ]
    },
    {
      "cell_type": "markdown",
      "metadata": {
        "id": "nj8iTqwMFUjY"
      },
      "source": [
        "Install required packages (if not installed):"
      ]
    },
    {
      "cell_type": "code",
      "execution_count": 23,
      "metadata": {
        "colab": {
          "base_uri": "https://localhost:8080/"
        },
        "id": "nspD8_fWFUjZ",
        "outputId": "6cd77ff3-f706-4761-d94d-d3e18129f5bd"
      },
      "outputs": [
        {
          "output_type": "stream",
          "name": "stdout",
          "text": [
            "Looking in indexes: https://pypi.org/simple, https://us-python.pkg.dev/colab-wheels/public/simple/, https://pypi.ngc.nvidia.com\n",
            "Requirement already satisfied: nvidia-pyindex in /usr/local/lib/python3.8/dist-packages (1.0.9)\n",
            "Requirement already satisfied: nvidia-tensorrt in /usr/local/lib/python3.8/dist-packages (8.4.1.5)\n",
            "Requirement already satisfied: tensorflow in /usr/local/lib/python3.8/dist-packages (2.9.2)\n",
            "Requirement already satisfied: nvidia-cuda-runtime-cu11 in /usr/local/lib/python3.8/dist-packages (from nvidia-tensorrt) (11.8.89)\n",
            "Requirement already satisfied: nvidia-cudnn-cu11 in /usr/local/lib/python3.8/dist-packages (from nvidia-tensorrt) (8.7.0.84)\n",
            "Requirement already satisfied: nvidia-cublas-cu11 in /usr/local/lib/python3.8/dist-packages (from nvidia-tensorrt) (11.11.3.6)\n",
            "Requirement already satisfied: opt-einsum>=2.3.2 in /usr/local/lib/python3.8/dist-packages (from tensorflow) (3.3.0)\n",
            "Requirement already satisfied: gast<=0.4.0,>=0.2.1 in /usr/local/lib/python3.8/dist-packages (from tensorflow) (0.4.0)\n",
            "Requirement already satisfied: keras<2.10.0,>=2.9.0rc0 in /usr/local/lib/python3.8/dist-packages (from tensorflow) (2.9.0)\n",
            "Requirement already satisfied: typing-extensions>=3.6.6 in /usr/local/lib/python3.8/dist-packages (from tensorflow) (4.4.0)\n",
            "Requirement already satisfied: termcolor>=1.1.0 in /usr/local/lib/python3.8/dist-packages (from tensorflow) (2.2.0)\n",
            "Requirement already satisfied: protobuf<3.20,>=3.9.2 in /usr/local/lib/python3.8/dist-packages (from tensorflow) (3.19.6)\n",
            "Requirement already satisfied: tensorboard<2.10,>=2.9 in /usr/local/lib/python3.8/dist-packages (from tensorflow) (2.9.1)\n",
            "Requirement already satisfied: setuptools in /usr/local/lib/python3.8/dist-packages (from tensorflow) (57.4.0)\n",
            "Requirement already satisfied: grpcio<2.0,>=1.24.3 in /usr/local/lib/python3.8/dist-packages (from tensorflow) (1.51.1)\n",
            "Requirement already satisfied: tensorflow-estimator<2.10.0,>=2.9.0rc0 in /usr/local/lib/python3.8/dist-packages (from tensorflow) (2.9.0)\n",
            "Requirement already satisfied: tensorflow-io-gcs-filesystem>=0.23.1 in /usr/local/lib/python3.8/dist-packages (from tensorflow) (0.29.0)\n",
            "Requirement already satisfied: astunparse>=1.6.0 in /usr/local/lib/python3.8/dist-packages (from tensorflow) (1.6.3)\n",
            "Requirement already satisfied: flatbuffers<2,>=1.12 in /usr/local/lib/python3.8/dist-packages (from tensorflow) (1.12)\n",
            "Requirement already satisfied: keras-preprocessing>=1.1.1 in /usr/local/lib/python3.8/dist-packages (from tensorflow) (1.1.2)\n",
            "Requirement already satisfied: numpy>=1.20 in /usr/local/lib/python3.8/dist-packages (from tensorflow) (1.21.6)\n",
            "Requirement already satisfied: packaging in /usr/local/lib/python3.8/dist-packages (from tensorflow) (21.3)\n",
            "Requirement already satisfied: six>=1.12.0 in /usr/local/lib/python3.8/dist-packages (from tensorflow) (1.15.0)\n",
            "Requirement already satisfied: h5py>=2.9.0 in /usr/local/lib/python3.8/dist-packages (from tensorflow) (3.1.0)\n",
            "Requirement already satisfied: libclang>=13.0.0 in /usr/local/lib/python3.8/dist-packages (from tensorflow) (15.0.6.1)\n",
            "Requirement already satisfied: wrapt>=1.11.0 in /usr/local/lib/python3.8/dist-packages (from tensorflow) (1.14.1)\n",
            "Requirement already satisfied: google-pasta>=0.1.1 in /usr/local/lib/python3.8/dist-packages (from tensorflow) (0.2.0)\n",
            "Requirement already satisfied: absl-py>=1.0.0 in /usr/local/lib/python3.8/dist-packages (from tensorflow) (1.3.0)\n",
            "Requirement already satisfied: wheel<1.0,>=0.23.0 in /usr/local/lib/python3.8/dist-packages (from astunparse>=1.6.0->tensorflow) (0.38.4)\n",
            "Requirement already satisfied: tensorboard-data-server<0.7.0,>=0.6.0 in /usr/local/lib/python3.8/dist-packages (from tensorboard<2.10,>=2.9->tensorflow) (0.6.1)\n",
            "Requirement already satisfied: requests<3,>=2.21.0 in /usr/local/lib/python3.8/dist-packages (from tensorboard<2.10,>=2.9->tensorflow) (2.25.1)\n",
            "Requirement already satisfied: tensorboard-plugin-wit>=1.6.0 in /usr/local/lib/python3.8/dist-packages (from tensorboard<2.10,>=2.9->tensorflow) (1.8.1)\n",
            "Requirement already satisfied: google-auth<3,>=1.6.3 in /usr/local/lib/python3.8/dist-packages (from tensorboard<2.10,>=2.9->tensorflow) (2.16.0)\n",
            "Requirement already satisfied: werkzeug>=1.0.1 in /usr/local/lib/python3.8/dist-packages (from tensorboard<2.10,>=2.9->tensorflow) (1.0.1)\n",
            "Requirement already satisfied: google-auth-oauthlib<0.5,>=0.4.1 in /usr/local/lib/python3.8/dist-packages (from tensorboard<2.10,>=2.9->tensorflow) (0.4.6)\n",
            "Requirement already satisfied: markdown>=2.6.8 in /usr/local/lib/python3.8/dist-packages (from tensorboard<2.10,>=2.9->tensorflow) (3.4.1)\n",
            "Requirement already satisfied: pyparsing!=3.0.5,>=2.0.2 in /usr/local/lib/python3.8/dist-packages (from packaging->tensorflow) (3.0.9)\n",
            "Requirement already satisfied: rsa<5,>=3.1.4 in /usr/local/lib/python3.8/dist-packages (from google-auth<3,>=1.6.3->tensorboard<2.10,>=2.9->tensorflow) (4.9)\n",
            "Requirement already satisfied: cachetools<6.0,>=2.0.0 in /usr/local/lib/python3.8/dist-packages (from google-auth<3,>=1.6.3->tensorboard<2.10,>=2.9->tensorflow) (5.2.1)\n",
            "Requirement already satisfied: pyasn1-modules>=0.2.1 in /usr/local/lib/python3.8/dist-packages (from google-auth<3,>=1.6.3->tensorboard<2.10,>=2.9->tensorflow) (0.2.8)\n",
            "Requirement already satisfied: requests-oauthlib>=0.7.0 in /usr/local/lib/python3.8/dist-packages (from google-auth-oauthlib<0.5,>=0.4.1->tensorboard<2.10,>=2.9->tensorflow) (1.3.1)\n",
            "Requirement already satisfied: importlib-metadata>=4.4 in /usr/local/lib/python3.8/dist-packages (from markdown>=2.6.8->tensorboard<2.10,>=2.9->tensorflow) (6.0.0)\n",
            "Requirement already satisfied: certifi>=2017.4.17 in /usr/local/lib/python3.8/dist-packages (from requests<3,>=2.21.0->tensorboard<2.10,>=2.9->tensorflow) (2022.12.7)\n",
            "Requirement already satisfied: chardet<5,>=3.0.2 in /usr/local/lib/python3.8/dist-packages (from requests<3,>=2.21.0->tensorboard<2.10,>=2.9->tensorflow) (4.0.0)\n",
            "Requirement already satisfied: urllib3<1.27,>=1.21.1 in /usr/local/lib/python3.8/dist-packages (from requests<3,>=2.21.0->tensorboard<2.10,>=2.9->tensorflow) (1.24.3)\n",
            "Requirement already satisfied: idna<3,>=2.5 in /usr/local/lib/python3.8/dist-packages (from requests<3,>=2.21.0->tensorboard<2.10,>=2.9->tensorflow) (2.10)\n",
            "Requirement already satisfied: zipp>=0.5 in /usr/local/lib/python3.8/dist-packages (from importlib-metadata>=4.4->markdown>=2.6.8->tensorboard<2.10,>=2.9->tensorflow) (3.11.0)\n",
            "Requirement already satisfied: pyasn1<0.5.0,>=0.4.6 in /usr/local/lib/python3.8/dist-packages (from pyasn1-modules>=0.2.1->google-auth<3,>=1.6.3->tensorboard<2.10,>=2.9->tensorflow) (0.4.8)\n",
            "Requirement already satisfied: oauthlib>=3.0.0 in /usr/local/lib/python3.8/dist-packages (from requests-oauthlib>=0.7.0->google-auth-oauthlib<0.5,>=0.4.1->tensorboard<2.10,>=2.9->tensorflow) (3.2.2)\n",
            "Looking in indexes: https://pypi.org/simple, https://us-python.pkg.dev/colab-wheels/public/simple/, https://pypi.ngc.nvidia.com\n",
            "Looking in links: https://github.com/pytorch/TensorRT/releases/expanded_assets/v1.3.0\n",
            "Requirement already satisfied: torch-tensorrt==1.3.0 in /usr/local/lib/python3.8/dist-packages (1.3.0)\n",
            "Requirement already satisfied: torch<1.14.0,>=1.13.0 in /usr/local/lib/python3.8/dist-packages (from torch-tensorrt==1.3.0) (1.13.1+cu116)\n",
            "Requirement already satisfied: tensorrt<8.6.0,>=8.5.1.7 in /usr/local/lib/python3.8/dist-packages (from torch-tensorrt==1.3.0) (8.5.2.2)\n",
            "Requirement already satisfied: nvidia-cudnn-cu11 in /usr/local/lib/python3.8/dist-packages (from tensorrt<8.6.0,>=8.5.1.7->torch-tensorrt==1.3.0) (8.7.0.84)\n",
            "Requirement already satisfied: nvidia-cuda-runtime-cu11 in /usr/local/lib/python3.8/dist-packages (from tensorrt<8.6.0,>=8.5.1.7->torch-tensorrt==1.3.0) (11.8.89)\n",
            "Requirement already satisfied: nvidia-cublas-cu11 in /usr/local/lib/python3.8/dist-packages (from tensorrt<8.6.0,>=8.5.1.7->torch-tensorrt==1.3.0) (11.11.3.6)\n",
            "Requirement already satisfied: typing-extensions in /usr/local/lib/python3.8/dist-packages (from torch<1.14.0,>=1.13.0->torch-tensorrt==1.3.0) (4.4.0)\n",
            "Looking in indexes: https://pypi.org/simple, https://us-python.pkg.dev/colab-wheels/public/simple/, https://pypi.ngc.nvidia.com\n",
            "Collecting git+https://github.com/LukeTonin/simple-deep-learning\n",
            "  Cloning https://github.com/LukeTonin/simple-deep-learning to /tmp/pip-req-build-lgfssesp\n",
            "  Running command git clone --filter=blob:none --quiet https://github.com/LukeTonin/simple-deep-learning /tmp/pip-req-build-lgfssesp\n",
            "  Resolved https://github.com/LukeTonin/simple-deep-learning to commit 18005bf4cfe0d67470a0b80b763fb0565c8cfcac\n",
            "  Preparing metadata (setup.py) ... \u001b[?25l\u001b[?25hdone\n"
          ]
        }
      ],
      "source": [
        "! pip install nvidia-pyindex nvidia-tensorrt tensorflow\n",
        "! pip install torch-tensorrt==1.3.0 --find-links https://github.com/pytorch/TensorRT/releases/expanded_assets/v1.3.0\n",
        "! pip install git+https://github.com/LukeTonin/simple-deep-learning --no-deps"
      ]
    },
    {
      "cell_type": "code",
      "execution_count": 24,
      "metadata": {
        "id": "n2eTMF7rFUjb"
      },
      "outputs": [],
      "source": [
        "from simple_deep_learning.mnist_extended.semantic_segmentation import create_semantic_segmentation_dataset\n",
        "import matplotlib.pyplot as plt\n",
        "import numpy as np\n",
        "import torch\n",
        "import local_utils as lu"
      ]
    },
    {
      "cell_type": "code",
      "execution_count": 25,
      "metadata": {
        "colab": {
          "base_uri": "https://localhost:8080/"
        },
        "id": "lAjynxImFUjb",
        "outputId": "ef49b290-ebbb-46b1-bd84-74e068b0d47c"
      },
      "outputs": [
        {
          "output_type": "stream",
          "name": "stdout",
          "text": [
            "cpu\n"
          ]
        }
      ],
      "source": [
        "BATCH_SIZE = 32\n",
        "NUM_OF_CLASSES = 10\n",
        "NUM_OF_TRAINING_SAMPLES = BATCH_SIZE * 32\n",
        "NUM_OF_TEST_SAMPLES = BATCH_SIZE * 4\n",
        "INPUT_WIDTH = 64\n",
        "INPUT_HEIGHT = 64\n",
        "INPUT_CHANNELS = 1\n",
        "device = torch.device('cuda') if torch.cuda.is_available() else torch.device('cpu')\n",
        "print(device)"
      ]
    },
    {
      "cell_type": "code",
      "execution_count": 26,
      "metadata": {
        "colab": {
          "base_uri": "https://localhost:8080/"
        },
        "id": "ZWj29fWXFUjc",
        "outputId": "6989f567-c5a9-4d6a-b3e7-2390bb2020a9"
      },
      "outputs": [
        {
          "output_type": "stream",
          "name": "stdout",
          "text": [
            "torch.Size([1024, 10, 64, 64])\n",
            "torch.Size([1024, 1, 64, 64])\n",
            "torch.Size([128, 10, 64, 64])\n",
            "torch.Size([128, 1, 64, 64])\n"
          ]
        }
      ],
      "source": [
        "np.random.seed(0)\n",
        "train_x, train_y, _, _ = create_semantic_segmentation_dataset(NUM_OF_TRAINING_SAMPLES, 1, (INPUT_WIDTH, INPUT_HEIGHT), 2, 9, NUM_OF_CLASSES, 0.1)\n",
        "np.random.seed(5)\n",
        "_, _, test_x, test_y = create_semantic_segmentation_dataset(1, NUM_OF_TEST_SAMPLES, (INPUT_WIDTH, INPUT_HEIGHT), 2, 9, NUM_OF_CLASSES, 0.1)\n",
        "train_x = torch.from_numpy(np.moveaxis(train_x,-1, 1)).to(torch.float32)\n",
        "train_y = torch.from_numpy(np.moveaxis(train_y,-1, 1)).to(torch.float32)\n",
        "test_x = torch.from_numpy(np.moveaxis(test_x,-1, 1)).to(torch.float32)\n",
        "test_y = torch.from_numpy(np.moveaxis(test_y,-1, 1)).to(torch.float32)\n",
        "print(train_y.shape)\n",
        "print(train_x.shape)\n",
        "print(test_y.shape)\n",
        "print(test_x.shape)\n",
        "\n",
        "train_loader = lu.CustomDataLoader(train_x, train_y, batch_size=BATCH_SIZE)\n",
        "test_loader = lu.CustomDataLoader(test_x, test_y, batch_size=BATCH_SIZE)\n",
        "eval_loader = lu.CustomDataLoader(test_x, test_y, batch_size=1)"
      ]
    },
    {
      "cell_type": "code",
      "execution_count": 27,
      "metadata": {
        "colab": {
          "base_uri": "https://localhost:8080/",
          "height": 1000
        },
        "id": "oa1jMGuDFUjd",
        "outputId": "1c0b2a56-93a7-400f-82fe-a480b659ab07"
      },
      "outputs": [
        {
          "output_type": "display_data",
          "data": {
            "text/plain": [
              "<Figure size 432x288 with 1 Axes>"
            ],
            "image/png": "[encoded data removed]"
          },
          "metadata": {}
        },
        {
          "output_type": "display_data",
          "data": {
            "text/plain": [
              "<Figure size 1440x144 with 10 Axes>"
            ],
            "image/png": "[encoded data removed]"
          },
          "metadata": {}
        },
        {
          "output_type": "display_data",
          "data": {
            "text/plain": [
              "<Figure size 432x288 with 1 Axes>"
            ],
            "image/png": "[encoded data removed]"
          },
          "metadata": {}
        },
        {
          "output_type": "display_data",
          "data": {
            "text/plain": [
              "<Figure size 1440x144 with 10 Axes>"
            ],
            "image/png": "[encoded data removed]"
          },
          "metadata": {}
        },
        {
          "output_type": "display_data",
          "data": {
            "text/plain": [
              "<Figure size 432x288 with 1 Axes>"
            ],
            "image/png": "[encoded data removed]"
          },
          "metadata": {}
        },
        {
          "output_type": "display_data",
          "data": {
            "text/plain": [
              "<Figure size 1440x144 with 10 Axes>"
            ],
            "image/png": "[encoded data removed]"
          },
          "metadata": {}
        },
        {
          "output_type": "display_data",
          "data": {
            "text/plain": [
              "<Figure size 432x288 with 1 Axes>"
            ],
            "image/png": "[encoded data removed]"
          },
          "metadata": {}
        },
        {
          "output_type": "display_data",
          "data": {
            "text/plain": [
              "<Figure size 1440x144 with 10 Axes>"
            ],
            "image/png": "[encoded data removed]"
          },
          "metadata": {}
        }
      ],
      "source": [
        "for X, Y in train_loader:\n",
        "    for i in range(min(4, train_loader.batch_size)):\n",
        "        plt.gray()\n",
        "        plt.imshow(X[i][0])\n",
        "        plt.show()\n",
        "        fig, axes = plt.subplots(1, Y[i].shape[0], figsize=(20,2))\n",
        "        axes = np.array(axes).flatten().tolist()\n",
        "        for cls, (a, y) in enumerate(zip(axes, Y[i])):\n",
        "            a.imshow(y)\n",
        "            a.set_title(str(cls))\n",
        "        plt.show()\n",
        "    break"
      ]
    },
    {
      "cell_type": "code",
      "execution_count": 28,
      "metadata": {
        "id": "91VRaZA3FUjd"
      },
      "outputs": [],
      "source": [
        "criterion = lu.BinaryCrossEntropyLoss(1)\n",
        "metric = lu.BinaryAccuracy()\n",
        "from torch import nn\n",
        "# DEFINE HERE YOUR MODEL :)\n",
        "\n",
        "\n",
        "\n",
        "\n",
        "class MyModel(nn.Module):\n",
        "    def __init__(self,input_shape,num_of_classes=10,):\n",
        "      super().__init__()\n",
        "      self.net = nn.Sequential(\n",
        "                                nn.Conv2d(input_shape[0], 16, 3, padding=1),\n",
        "                                nn.BatchNorm2d(16),\n",
        "                                nn.ReLU(),\n",
        "                                nn.Conv2d(16, 32, 3, padding=1),\n",
        "                                nn.BatchNorm2d(32),\n",
        "                                nn.ReLU(),\n",
        "                                nn.Conv2d(32, 64, 3, padding=1),\n",
        "                                nn.BatchNorm2d(64),\n",
        "                                nn.ReLU(),\n",
        "                                nn.Conv2d(64, 64, 3, padding=1),\n",
        "                                nn.BatchNorm2d(64),\n",
        "                                nn.ReLU(),\n",
        "                                nn.Conv2d(64, 64, 3, padding=1),\n",
        "                                nn.BatchNorm2d(64), \n",
        "                                nn.ReLU(),\n",
        "                                nn.Conv2d(64, 64, 3, padding=1),\n",
        "                                nn.BatchNorm2d(64), \n",
        "                                nn.ReLU(),\n",
        "                                nn.Conv2d(64, 128, 3, padding=1),\n",
        "                                nn.BatchNorm2d(128), \n",
        "                                nn.ReLU(),\n",
        "                                nn.Conv2d(128, 128, 3, padding=1),\n",
        "                                nn.BatchNorm2d(128), \n",
        "                                nn.ReLU(),\n",
        "                                nn.Conv2d(128, 64, 3, padding=1),\n",
        "                                nn.BatchNorm2d(64), \n",
        "                                nn.ReLU(),\n",
        "                                nn.Conv2d(64, 32, 3, padding=1),\n",
        "                                nn.BatchNorm2d(32), \n",
        "                                nn.ReLU(),  \n",
        "                                nn.Conv2d(32, num_of_classes, 1),\n",
        "                                nn.Sigmoid(),\n",
        "                                )\n",
        "\n",
        "    def forward(self, x):\n",
        "        x = self.net(x)\n",
        "        return x\n",
        "###########\n",
        "\n",
        "net = MyModel((INPUT_CHANNELS, INPUT_HEIGHT, INPUT_WIDTH), num_of_classes=NUM_OF_CLASSES)\n",
        "optimizer = torch.optim.Adam(net.parameters(), lr=0.0001)"
      ]
    },
    {
      "cell_type": "code",
      "execution_count": 29,
      "metadata": {
        "colab": {
          "base_uri": "https://localhost:8080/",
          "height": 1000
        },
        "id": "SfzrzDkhFUje",
        "outputId": "132f902a-ff89-4ab5-843e-f4d527a1fa49"
      },
      "outputs": [
        {
          "output_type": "stream",
          "name": "stdout",
          "text": [
            "Epoch 1 / 60: STARTED\n",
            "TRAINING\n",
            "Running on platform: Linux-5.10.147+-x86_64-with-glibc2.29, machine: x86_64, python_version: 3.8.10, processor: x86_64, system: Linux, \n"
          ]
        },
        {
          "output_type": "stream",
          "name": "stderr",
          "text": [
            "100%|██████████| 32/32 [04:02<00:00,  7.57s/it]\n"
          ]
        },
        {
          "output_type": "stream",
          "name": "stdout",
          "text": [
            "VALIDATION\n",
            "Running on platform: Linux-5.10.147+-x86_64-with-glibc2.29, machine: x86_64, python_version: 3.8.10, processor: x86_64, system: Linux, \n"
          ]
        },
        {
          "output_type": "stream",
          "name": "stderr",
          "text": [
            "100%|██████████| 4/4 [00:07<00:00,  1.87s/it]\n"
          ]
        },
        {
          "output_type": "stream",
          "name": "stdout",
          "text": [
            "\rAfter epoch 1: loss=0.7327 metric=0.6176 val_loss=0.7073 val_metric=0.7028\n",
            "Epoch 1 / 60: FINISHED\n",
            "\n",
            "Epoch 2 / 60: STARTED\n",
            "TRAINING\n",
            "Running on platform: Linux-5.10.147+-x86_64-with-glibc2.29, machine: x86_64, python_version: 3.8.10, processor: x86_64, system: Linux, \n"
          ]
        },
        {
          "output_type": "stream",
          "name": "stderr",
          "text": [
            "100%|██████████| 32/32 [04:04<00:00,  7.63s/it]\n"
          ]
        },
        {
          "output_type": "stream",
          "name": "stdout",
          "text": [
            "VALIDATION\n",
            "Running on platform: Linux-5.10.147+-x86_64-with-glibc2.29, machine: x86_64, python_version: 3.8.10, processor: x86_64, system: Linux, \n"
          ]
        },
        {
          "output_type": "stream",
          "name": "stderr",
          "text": [
            "100%|██████████| 4/4 [00:07<00:00,  1.88s/it]\n"
          ]
        },
        {
          "output_type": "stream",
          "name": "stdout",
          "text": [
            "\rAfter epoch 2: loss=0.6968 metric=0.6771 val_loss=0.6857 val_metric=0.7026\n",
            "Epoch 2 / 60: FINISHED\n",
            "\n",
            "Epoch 3 / 60: STARTED\n",
            "TRAINING\n",
            "Running on platform: Linux-5.10.147+-x86_64-with-glibc2.29, machine: x86_64, python_version: 3.8.10, processor: x86_64, system: Linux, \n"
          ]
        },
        {
          "output_type": "stream",
          "name": "stderr",
          "text": [
            "100%|██████████| 32/32 [03:53<00:00,  7.29s/it]\n"
          ]
        },
        {
          "output_type": "stream",
          "name": "stdout",
          "text": [
            "VALIDATION\n",
            "Running on platform: Linux-5.10.147+-x86_64-with-glibc2.29, machine: x86_64, python_version: 3.8.10, processor: x86_64, system: Linux, \n"
          ]
        },
        {
          "output_type": "stream",
          "name": "stderr",
          "text": [
            "100%|██████████| 4/4 [00:07<00:00,  1.89s/it]\n"
          ]
        },
        {
          "output_type": "stream",
          "name": "stdout",
          "text": [
            "\rAfter epoch 3: loss=0.6744 metric=0.7078 val_loss=0.6646 val_metric=0.7392\n",
            "Epoch 3 / 60: FINISHED\n",
            "\n",
            "Epoch 4 / 60: STARTED\n",
            "TRAINING\n",
            "Running on platform: Linux-5.10.147+-x86_64-with-glibc2.29, machine: x86_64, python_version: 3.8.10, processor: x86_64, system: Linux, \n"
          ]
        },
        {
          "output_type": "stream",
          "name": "stderr",
          "text": [
            "100%|██████████| 32/32 [04:00<00:00,  7.50s/it]\n"
          ]
        },
        {
          "output_type": "stream",
          "name": "stdout",
          "text": [
            "VALIDATION\n",
            "Running on platform: Linux-5.10.147+-x86_64-with-glibc2.29, machine: x86_64, python_version: 3.8.10, processor: x86_64, system: Linux, \n"
          ]
        },
        {
          "output_type": "stream",
          "name": "stderr",
          "text": [
            "100%|██████████| 4/4 [00:07<00:00,  1.90s/it]\n"
          ]
        },
        {
          "output_type": "stream",
          "name": "stdout",
          "text": [
            "\rAfter epoch 4: loss=0.6560 metric=0.7601 val_loss=0.6478 val_metric=0.7795\n",
            "Epoch 4 / 60: FINISHED\n",
            "\n",
            "Epoch 5 / 60: STARTED\n",
            "TRAINING\n",
            "Running on platform: Linux-5.10.147+-x86_64-with-glibc2.29, machine: x86_64, python_version: 3.8.10, processor: x86_64, system: Linux, \n"
          ]
        },
        {
          "output_type": "stream",
          "name": "stderr",
          "text": [
            "100%|██████████| 32/32 [03:54<00:00,  7.33s/it]\n"
          ]
        },
        {
          "output_type": "stream",
          "name": "stdout",
          "text": [
            "VALIDATION\n",
            "Running on platform: Linux-5.10.147+-x86_64-with-glibc2.29, machine: x86_64, python_version: 3.8.10, processor: x86_64, system: Linux, \n"
          ]
        },
        {
          "output_type": "stream",
          "name": "stderr",
          "text": [
            "100%|██████████| 4/4 [00:07<00:00,  1.90s/it]\n"
          ]
        },
        {
          "output_type": "stream",
          "name": "stdout",
          "text": [
            "\rAfter epoch 5: loss=0.6397 metric=0.8003 val_loss=0.6335 val_metric=0.8193\n",
            "Epoch 5 / 60: FINISHED\n",
            "\n",
            "Epoch 6 / 60: STARTED\n",
            "TRAINING\n",
            "Running on platform: Linux-5.10.147+-x86_64-with-glibc2.29, machine: x86_64, python_version: 3.8.10, processor: x86_64, system: Linux, \n"
          ]
        },
        {
          "output_type": "stream",
          "name": "stderr",
          "text": [
            "100%|██████████| 32/32 [03:55<00:00,  7.36s/it]\n"
          ]
        },
        {
          "output_type": "stream",
          "name": "stdout",
          "text": [
            "VALIDATION\n",
            "Running on platform: Linux-5.10.147+-x86_64-with-glibc2.29, machine: x86_64, python_version: 3.8.10, processor: x86_64, system: Linux, \n"
          ]
        },
        {
          "output_type": "stream",
          "name": "stderr",
          "text": [
            "100%|██████████| 4/4 [00:07<00:00,  1.86s/it]\n"
          ]
        },
        {
          "output_type": "stream",
          "name": "stdout",
          "text": [
            "\rAfter epoch 6: loss=0.6261 metric=0.8290 val_loss=0.6201 val_metric=0.8376\n",
            "Epoch 6 / 60: FINISHED\n",
            "\n",
            "Epoch 7 / 60: STARTED\n",
            "TRAINING\n",
            "Running on platform: Linux-5.10.147+-x86_64-with-glibc2.29, machine: x86_64, python_version: 3.8.10, processor: x86_64, system: Linux, \n"
          ]
        },
        {
          "output_type": "stream",
          "name": "stderr",
          "text": [
            "100%|██████████| 32/32 [03:56<00:00,  7.38s/it]\n"
          ]
        },
        {
          "output_type": "stream",
          "name": "stdout",
          "text": [
            "VALIDATION\n",
            "Running on platform: Linux-5.10.147+-x86_64-with-glibc2.29, machine: x86_64, python_version: 3.8.10, processor: x86_64, system: Linux, \n"
          ]
        },
        {
          "output_type": "stream",
          "name": "stderr",
          "text": [
            "100%|██████████| 4/4 [00:07<00:00,  1.87s/it]\n"
          ]
        },
        {
          "output_type": "stream",
          "name": "stdout",
          "text": [
            "\rAfter epoch 7: loss=0.6146 metric=0.8440 val_loss=0.6129 val_metric=0.8478\n",
            "Epoch 7 / 60: FINISHED\n",
            "\n",
            "Epoch 8 / 60: STARTED\n",
            "TRAINING\n",
            "Running on platform: Linux-5.10.147+-x86_64-with-glibc2.29, machine: x86_64, python_version: 3.8.10, processor: x86_64, system: Linux, \n"
          ]
        },
        {
          "output_type": "stream",
          "name": "stderr",
          "text": [
            "100%|██████████| 32/32 [03:55<00:00,  7.35s/it]\n"
          ]
        },
        {
          "output_type": "stream",
          "name": "stdout",
          "text": [
            "VALIDATION\n",
            "Running on platform: Linux-5.10.147+-x86_64-with-glibc2.29, machine: x86_64, python_version: 3.8.10, processor: x86_64, system: Linux, \n"
          ]
        },
        {
          "output_type": "stream",
          "name": "stderr",
          "text": [
            "100%|██████████| 4/4 [00:07<00:00,  1.88s/it]\n"
          ]
        },
        {
          "output_type": "stream",
          "name": "stdout",
          "text": [
            "\rAfter epoch 8: loss=0.6036 metric=0.8722 val_loss=0.6015 val_metric=0.8861\n",
            "Epoch 8 / 60: FINISHED\n",
            "\n",
            "Epoch 9 / 60: STARTED\n",
            "TRAINING\n",
            "Running on platform: Linux-5.10.147+-x86_64-with-glibc2.29, machine: x86_64, python_version: 3.8.10, processor: x86_64, system: Linux, \n"
          ]
        },
        {
          "output_type": "stream",
          "name": "stderr",
          "text": [
            "100%|██████████| 32/32 [03:54<00:00,  7.34s/it]\n"
          ]
        },
        {
          "output_type": "stream",
          "name": "stdout",
          "text": [
            "VALIDATION\n",
            "Running on platform: Linux-5.10.147+-x86_64-with-glibc2.29, machine: x86_64, python_version: 3.8.10, processor: x86_64, system: Linux, \n"
          ]
        },
        {
          "output_type": "stream",
          "name": "stderr",
          "text": [
            "100%|██████████| 4/4 [00:07<00:00,  1.89s/it]\n"
          ]
        },
        {
          "output_type": "stream",
          "name": "stdout",
          "text": [
            "\rAfter epoch 9: loss=0.5933 metric=0.8909 val_loss=0.5917 val_metric=0.8932\n",
            "Epoch 9 / 60: FINISHED\n",
            "\n",
            "Epoch 10 / 60: STARTED\n",
            "TRAINING\n",
            "Running on platform: Linux-5.10.147+-x86_64-with-glibc2.29, machine: x86_64, python_version: 3.8.10, processor: x86_64, system: Linux, \n"
          ]
        },
        {
          "output_type": "stream",
          "name": "stderr",
          "text": [
            "100%|██████████| 32/32 [03:53<00:00,  7.30s/it]\n"
          ]
        },
        {
          "output_type": "stream",
          "name": "stdout",
          "text": [
            "VALIDATION\n",
            "Running on platform: Linux-5.10.147+-x86_64-with-glibc2.29, machine: x86_64, python_version: 3.8.10, processor: x86_64, system: Linux, \n"
          ]
        },
        {
          "output_type": "stream",
          "name": "stderr",
          "text": [
            "100%|██████████| 4/4 [00:07<00:00,  1.87s/it]\n"
          ]
        },
        {
          "output_type": "stream",
          "name": "stdout",
          "text": [
            "\rAfter epoch 10: loss=0.5833 metric=0.8989 val_loss=0.5847 val_metric=0.8997\n",
            "Epoch 10 / 60: FINISHED\n",
            "\n",
            "Epoch 11 / 60: STARTED\n",
            "TRAINING\n",
            "Running on platform: Linux-5.10.147+-x86_64-with-glibc2.29, machine: x86_64, python_version: 3.8.10, processor: x86_64, system: Linux, \n"
          ]
        },
        {
          "output_type": "stream",
          "name": "stderr",
          "text": [
            "100%|██████████| 32/32 [03:53<00:00,  7.30s/it]\n"
          ]
        },
        {
          "output_type": "stream",
          "name": "stdout",
          "text": [
            "VALIDATION\n",
            "Running on platform: Linux-5.10.147+-x86_64-with-glibc2.29, machine: x86_64, python_version: 3.8.10, processor: x86_64, system: Linux, \n"
          ]
        },
        {
          "output_type": "stream",
          "name": "stderr",
          "text": [
            "100%|██████████| 4/4 [00:07<00:00,  1.86s/it]\n"
          ]
        },
        {
          "output_type": "stream",
          "name": "stdout",
          "text": [
            "\rAfter epoch 11: loss=0.5735 metric=0.9098 val_loss=0.5723 val_metric=0.9151\n",
            "Epoch 11 / 60: FINISHED\n",
            "\n",
            "Epoch 12 / 60: STARTED\n",
            "TRAINING\n",
            "Running on platform: Linux-5.10.147+-x86_64-with-glibc2.29, machine: x86_64, python_version: 3.8.10, processor: x86_64, system: Linux, \n"
          ]
        },
        {
          "output_type": "stream",
          "name": "stderr",
          "text": [
            "100%|██████████| 32/32 [03:53<00:00,  7.30s/it]\n"
          ]
        },
        {
          "output_type": "stream",
          "name": "stdout",
          "text": [
            "VALIDATION\n",
            "Running on platform: Linux-5.10.147+-x86_64-with-glibc2.29, machine: x86_64, python_version: 3.8.10, processor: x86_64, system: Linux, \n"
          ]
        },
        {
          "output_type": "stream",
          "name": "stderr",
          "text": [
            "100%|██████████| 4/4 [00:07<00:00,  1.86s/it]\n"
          ]
        },
        {
          "output_type": "stream",
          "name": "stdout",
          "text": [
            "\rAfter epoch 12: loss=0.5637 metric=0.9330 val_loss=0.5630 val_metric=0.9389\n",
            "Epoch 12 / 60: FINISHED\n",
            "\n",
            "Epoch 13 / 60: STARTED\n",
            "TRAINING\n",
            "Running on platform: Linux-5.10.147+-x86_64-with-glibc2.29, machine: x86_64, python_version: 3.8.10, processor: x86_64, system: Linux, \n"
          ]
        },
        {
          "output_type": "stream",
          "name": "stderr",
          "text": [
            "100%|██████████| 32/32 [03:54<00:00,  7.33s/it]\n"
          ]
        },
        {
          "output_type": "stream",
          "name": "stdout",
          "text": [
            "VALIDATION\n",
            "Running on platform: Linux-5.10.147+-x86_64-with-glibc2.29, machine: x86_64, python_version: 3.8.10, processor: x86_64, system: Linux, \n"
          ]
        },
        {
          "output_type": "stream",
          "name": "stderr",
          "text": [
            "100%|██████████| 4/4 [00:07<00:00,  1.86s/it]\n"
          ]
        },
        {
          "output_type": "stream",
          "name": "stdout",
          "text": [
            "\rAfter epoch 13: loss=0.5541 metric=0.9577 val_loss=0.5537 val_metric=0.9448\n",
            "Epoch 13 / 60: FINISHED\n",
            "\n",
            "Epoch 14 / 60: STARTED\n",
            "TRAINING\n",
            "Running on platform: Linux-5.10.147+-x86_64-with-glibc2.29, machine: x86_64, python_version: 3.8.10, processor: x86_64, system: Linux, \n"
          ]
        },
        {
          "output_type": "stream",
          "name": "stderr",
          "text": [
            "100%|██████████| 32/32 [03:53<00:00,  7.31s/it]\n"
          ]
        },
        {
          "output_type": "stream",
          "name": "stdout",
          "text": [
            "VALIDATION\n",
            "Running on platform: Linux-5.10.147+-x86_64-with-glibc2.29, machine: x86_64, python_version: 3.8.10, processor: x86_64, system: Linux, \n"
          ]
        },
        {
          "output_type": "stream",
          "name": "stderr",
          "text": [
            "100%|██████████| 4/4 [00:07<00:00,  1.87s/it]\n"
          ]
        },
        {
          "output_type": "stream",
          "name": "stdout",
          "text": [
            "\rAfter epoch 14: loss=0.5444 metric=0.9776 val_loss=0.5445 val_metric=0.9499\n",
            "Epoch 14 / 60: FINISHED\n",
            "\n",
            "Epoch 15 / 60: STARTED\n",
            "TRAINING\n",
            "Running on platform: Linux-5.10.147+-x86_64-with-glibc2.29, machine: x86_64, python_version: 3.8.10, processor: x86_64, system: Linux, \n"
          ]
        },
        {
          "output_type": "stream",
          "name": "stderr",
          "text": [
            "100%|██████████| 32/32 [03:53<00:00,  7.31s/it]\n"
          ]
        },
        {
          "output_type": "stream",
          "name": "stdout",
          "text": [
            "VALIDATION\n",
            "Running on platform: Linux-5.10.147+-x86_64-with-glibc2.29, machine: x86_64, python_version: 3.8.10, processor: x86_64, system: Linux, \n"
          ]
        },
        {
          "output_type": "stream",
          "name": "stderr",
          "text": [
            "100%|██████████| 4/4 [00:07<00:00,  1.88s/it]\n"
          ]
        },
        {
          "output_type": "stream",
          "name": "stdout",
          "text": [
            "\rAfter epoch 15: loss=0.5347 metric=0.9838 val_loss=0.5326 val_metric=0.9856\n",
            "Epoch 15 / 60: FINISHED\n",
            "\n",
            "Epoch 16 / 60: STARTED\n",
            "TRAINING\n",
            "Running on platform: Linux-5.10.147+-x86_64-with-glibc2.29, machine: x86_64, python_version: 3.8.10, processor: x86_64, system: Linux, \n"
          ]
        },
        {
          "output_type": "stream",
          "name": "stderr",
          "text": [
            "100%|██████████| 32/32 [03:54<00:00,  7.31s/it]\n"
          ]
        },
        {
          "output_type": "stream",
          "name": "stdout",
          "text": [
            "VALIDATION\n",
            "Running on platform: Linux-5.10.147+-x86_64-with-glibc2.29, machine: x86_64, python_version: 3.8.10, processor: x86_64, system: Linux, \n"
          ]
        },
        {
          "output_type": "stream",
          "name": "stderr",
          "text": [
            "100%|██████████| 4/4 [00:07<00:00,  1.87s/it]\n"
          ]
        },
        {
          "output_type": "stream",
          "name": "stdout",
          "text": [
            "\rAfter epoch 16: loss=0.5250 metric=0.9865 val_loss=0.5233 val_metric=0.9871\n",
            "Epoch 16 / 60: FINISHED\n",
            "\n",
            "Epoch 17 / 60: STARTED\n",
            "TRAINING\n",
            "Running on platform: Linux-5.10.147+-x86_64-with-glibc2.29, machine: x86_64, python_version: 3.8.10, processor: x86_64, system: Linux, \n"
          ]
        },
        {
          "output_type": "stream",
          "name": "stderr",
          "text": [
            "100%|██████████| 32/32 [03:55<00:00,  7.36s/it]\n"
          ]
        },
        {
          "output_type": "stream",
          "name": "stdout",
          "text": [
            "VALIDATION\n",
            "Running on platform: Linux-5.10.147+-x86_64-with-glibc2.29, machine: x86_64, python_version: 3.8.10, processor: x86_64, system: Linux, \n"
          ]
        },
        {
          "output_type": "stream",
          "name": "stderr",
          "text": [
            "100%|██████████| 4/4 [00:07<00:00,  1.88s/it]\n"
          ]
        },
        {
          "output_type": "stream",
          "name": "stdout",
          "text": [
            "\rAfter epoch 17: loss=0.5151 metric=0.9885 val_loss=0.5159 val_metric=0.9889\n",
            "Epoch 17 / 60: FINISHED\n",
            "\n",
            "Epoch 18 / 60: STARTED\n",
            "TRAINING\n",
            "Running on platform: Linux-5.10.147+-x86_64-with-glibc2.29, machine: x86_64, python_version: 3.8.10, processor: x86_64, system: Linux, \n"
          ]
        },
        {
          "output_type": "stream",
          "name": "stderr",
          "text": [
            "100%|██████████| 32/32 [03:54<00:00,  7.33s/it]\n"
          ]
        },
        {
          "output_type": "stream",
          "name": "stdout",
          "text": [
            "VALIDATION\n",
            "Running on platform: Linux-5.10.147+-x86_64-with-glibc2.29, machine: x86_64, python_version: 3.8.10, processor: x86_64, system: Linux, \n"
          ]
        },
        {
          "output_type": "stream",
          "name": "stderr",
          "text": [
            "100%|██████████| 4/4 [00:07<00:00,  1.88s/it]\n"
          ]
        },
        {
          "output_type": "stream",
          "name": "stdout",
          "text": [
            "\rAfter epoch 18: loss=0.5051 metric=0.9894 val_loss=0.5058 val_metric=0.9896\n",
            "Epoch 18 / 60: FINISHED\n",
            "\n",
            "Epoch 19 / 60: STARTED\n",
            "TRAINING\n",
            "Running on platform: Linux-5.10.147+-x86_64-with-glibc2.29, machine: x86_64, python_version: 3.8.10, processor: x86_64, system: Linux, \n"
          ]
        },
        {
          "output_type": "stream",
          "name": "stderr",
          "text": [
            "100%|██████████| 32/32 [03:54<00:00,  7.31s/it]\n"
          ]
        },
        {
          "output_type": "stream",
          "name": "stdout",
          "text": [
            "VALIDATION\n",
            "Running on platform: Linux-5.10.147+-x86_64-with-glibc2.29, machine: x86_64, python_version: 3.8.10, processor: x86_64, system: Linux, \n"
          ]
        },
        {
          "output_type": "stream",
          "name": "stderr",
          "text": [
            "100%|██████████| 4/4 [00:07<00:00,  1.87s/it]\n"
          ]
        },
        {
          "output_type": "stream",
          "name": "stdout",
          "text": [
            "\rAfter epoch 19: loss=0.4953 metric=0.9901 val_loss=0.4947 val_metric=0.9902\n",
            "Epoch 19 / 60: FINISHED\n",
            "\n",
            "Epoch 20 / 60: STARTED\n",
            "TRAINING\n",
            "Running on platform: Linux-5.10.147+-x86_64-with-glibc2.29, machine: x86_64, python_version: 3.8.10, processor: x86_64, system: Linux, \n"
          ]
        },
        {
          "output_type": "stream",
          "name": "stderr",
          "text": [
            "100%|██████████| 32/32 [03:54<00:00,  7.32s/it]\n"
          ]
        },
        {
          "output_type": "stream",
          "name": "stdout",
          "text": [
            "VALIDATION\n",
            "Running on platform: Linux-5.10.147+-x86_64-with-glibc2.29, machine: x86_64, python_version: 3.8.10, processor: x86_64, system: Linux, \n"
          ]
        },
        {
          "output_type": "stream",
          "name": "stderr",
          "text": [
            "100%|██████████| 4/4 [00:07<00:00,  1.88s/it]\n"
          ]
        },
        {
          "output_type": "stream",
          "name": "stdout",
          "text": [
            "\rAfter epoch 20: loss=0.4856 metric=0.9906 val_loss=0.4846 val_metric=0.9908\n",
            "Epoch 20 / 60: FINISHED\n",
            "\n",
            "Epoch 21 / 60: STARTED\n",
            "TRAINING\n",
            "Running on platform: Linux-5.10.147+-x86_64-with-glibc2.29, machine: x86_64, python_version: 3.8.10, processor: x86_64, system: Linux, \n"
          ]
        },
        {
          "output_type": "stream",
          "name": "stderr",
          "text": [
            "100%|██████████| 32/32 [03:56<00:00,  7.39s/it]\n"
          ]
        },
        {
          "output_type": "stream",
          "name": "stdout",
          "text": [
            "VALIDATION\n",
            "Running on platform: Linux-5.10.147+-x86_64-with-glibc2.29, machine: x86_64, python_version: 3.8.10, processor: x86_64, system: Linux, \n"
          ]
        },
        {
          "output_type": "stream",
          "name": "stderr",
          "text": [
            "100%|██████████| 4/4 [00:07<00:00,  1.89s/it]\n"
          ]
        },
        {
          "output_type": "stream",
          "name": "stdout",
          "text": [
            "\rAfter epoch 21: loss=0.4762 metric=0.9909 val_loss=0.4771 val_metric=0.9909\n",
            "Epoch 21 / 60: FINISHED\n",
            "\n",
            "Epoch 22 / 60: STARTED\n",
            "TRAINING\n",
            "Running on platform: Linux-5.10.147+-x86_64-with-glibc2.29, machine: x86_64, python_version: 3.8.10, processor: x86_64, system: Linux, \n"
          ]
        },
        {
          "output_type": "stream",
          "name": "stderr",
          "text": [
            "100%|██████████| 32/32 [03:55<00:00,  7.35s/it]\n"
          ]
        },
        {
          "output_type": "stream",
          "name": "stdout",
          "text": [
            "VALIDATION\n",
            "Running on platform: Linux-5.10.147+-x86_64-with-glibc2.29, machine: x86_64, python_version: 3.8.10, processor: x86_64, system: Linux, \n"
          ]
        },
        {
          "output_type": "stream",
          "name": "stderr",
          "text": [
            "100%|██████████| 4/4 [00:07<00:00,  1.88s/it]\n"
          ]
        },
        {
          "output_type": "stream",
          "name": "stdout",
          "text": [
            "\rAfter epoch 22: loss=0.4669 metric=0.9910 val_loss=0.4667 val_metric=0.9909\n",
            "Epoch 22 / 60: FINISHED\n",
            "\n",
            "Epoch 23 / 60: STARTED\n",
            "TRAINING\n",
            "Running on platform: Linux-5.10.147+-x86_64-with-glibc2.29, machine: x86_64, python_version: 3.8.10, processor: x86_64, system: Linux, \n"
          ]
        },
        {
          "output_type": "stream",
          "name": "stderr",
          "text": [
            "100%|██████████| 32/32 [03:56<00:00,  7.39s/it]\n"
          ]
        },
        {
          "output_type": "stream",
          "name": "stdout",
          "text": [
            "VALIDATION\n",
            "Running on platform: Linux-5.10.147+-x86_64-with-glibc2.29, machine: x86_64, python_version: 3.8.10, processor: x86_64, system: Linux, \n"
          ]
        },
        {
          "output_type": "stream",
          "name": "stderr",
          "text": [
            "100%|██████████| 4/4 [00:07<00:00,  1.87s/it]\n"
          ]
        },
        {
          "output_type": "stream",
          "name": "stdout",
          "text": [
            "\rAfter epoch 23: loss=0.4576 metric=0.9910 val_loss=0.4585 val_metric=0.9910\n",
            "Epoch 23 / 60: FINISHED\n",
            "\n",
            "Epoch 24 / 60: STARTED\n",
            "TRAINING\n",
            "Running on platform: Linux-5.10.147+-x86_64-with-glibc2.29, machine: x86_64, python_version: 3.8.10, processor: x86_64, system: Linux, \n"
          ]
        },
        {
          "output_type": "stream",
          "name": "stderr",
          "text": [
            "100%|██████████| 32/32 [03:54<00:00,  7.34s/it]\n"
          ]
        },
        {
          "output_type": "stream",
          "name": "stdout",
          "text": [
            "VALIDATION\n",
            "Running on platform: Linux-5.10.147+-x86_64-with-glibc2.29, machine: x86_64, python_version: 3.8.10, processor: x86_64, system: Linux, \n"
          ]
        },
        {
          "output_type": "stream",
          "name": "stderr",
          "text": [
            "100%|██████████| 4/4 [00:07<00:00,  1.87s/it]\n"
          ]
        },
        {
          "output_type": "stream",
          "name": "stdout",
          "text": [
            "\rAfter epoch 24: loss=0.4484 metric=0.9911 val_loss=0.4477 val_metric=0.9910\n",
            "Epoch 24 / 60: FINISHED\n",
            "\n",
            "Epoch 25 / 60: STARTED\n",
            "TRAINING\n",
            "Running on platform: Linux-5.10.147+-x86_64-with-glibc2.29, machine: x86_64, python_version: 3.8.10, processor: x86_64, system: Linux, \n"
          ]
        },
        {
          "output_type": "stream",
          "name": "stderr",
          "text": [
            "100%|██████████| 32/32 [03:56<00:00,  7.39s/it]\n"
          ]
        },
        {
          "output_type": "stream",
          "name": "stdout",
          "text": [
            "VALIDATION\n",
            "Running on platform: Linux-5.10.147+-x86_64-with-glibc2.29, machine: x86_64, python_version: 3.8.10, processor: x86_64, system: Linux, \n"
          ]
        },
        {
          "output_type": "stream",
          "name": "stderr",
          "text": [
            "100%|██████████| 4/4 [00:07<00:00,  1.86s/it]\n"
          ]
        },
        {
          "output_type": "stream",
          "name": "stdout",
          "text": [
            "\rAfter epoch 25: loss=0.4392 metric=0.9911 val_loss=0.4401 val_metric=0.9911\n",
            "Epoch 25 / 60: FINISHED\n",
            "\n",
            "Epoch 26 / 60: STARTED\n",
            "TRAINING\n",
            "Running on platform: Linux-5.10.147+-x86_64-with-glibc2.29, machine: x86_64, python_version: 3.8.10, processor: x86_64, system: Linux, \n"
          ]
        },
        {
          "output_type": "stream",
          "name": "stderr",
          "text": [
            "100%|██████████| 32/32 [03:54<00:00,  7.33s/it]\n"
          ]
        },
        {
          "output_type": "stream",
          "name": "stdout",
          "text": [
            "VALIDATION\n",
            "Running on platform: Linux-5.10.147+-x86_64-with-glibc2.29, machine: x86_64, python_version: 3.8.10, processor: x86_64, system: Linux, \n"
          ]
        },
        {
          "output_type": "stream",
          "name": "stderr",
          "text": [
            "100%|██████████| 4/4 [00:07<00:00,  1.89s/it]\n"
          ]
        },
        {
          "output_type": "stream",
          "name": "stdout",
          "text": [
            "\rAfter epoch 26: loss=0.4303 metric=0.9912 val_loss=0.4283 val_metric=0.9911\n",
            "Epoch 26 / 60: FINISHED\n",
            "\n",
            "Epoch 27 / 60: STARTED\n",
            "TRAINING\n",
            "Running on platform: Linux-5.10.147+-x86_64-with-glibc2.29, machine: x86_64, python_version: 3.8.10, processor: x86_64, system: Linux, \n"
          ]
        },
        {
          "output_type": "stream",
          "name": "stderr",
          "text": [
            "100%|██████████| 32/32 [03:55<00:00,  7.36s/it]\n"
          ]
        },
        {
          "output_type": "stream",
          "name": "stdout",
          "text": [
            "VALIDATION\n",
            "Running on platform: Linux-5.10.147+-x86_64-with-glibc2.29, machine: x86_64, python_version: 3.8.10, processor: x86_64, system: Linux, \n"
          ]
        },
        {
          "output_type": "stream",
          "name": "stderr",
          "text": [
            "100%|██████████| 4/4 [00:07<00:00,  1.88s/it]\n"
          ]
        },
        {
          "output_type": "stream",
          "name": "stdout",
          "text": [
            "\rAfter epoch 27: loss=0.4216 metric=0.9912 val_loss=0.4227 val_metric=0.9911\n",
            "Epoch 27 / 60: FINISHED\n",
            "\n",
            "Epoch 28 / 60: STARTED\n",
            "TRAINING\n",
            "Running on platform: Linux-5.10.147+-x86_64-with-glibc2.29, machine: x86_64, python_version: 3.8.10, processor: x86_64, system: Linux, \n"
          ]
        },
        {
          "output_type": "stream",
          "name": "stderr",
          "text": [
            "100%|██████████| 32/32 [03:55<00:00,  7.34s/it]\n"
          ]
        },
        {
          "output_type": "stream",
          "name": "stdout",
          "text": [
            "VALIDATION\n",
            "Running on platform: Linux-5.10.147+-x86_64-with-glibc2.29, machine: x86_64, python_version: 3.8.10, processor: x86_64, system: Linux, \n"
          ]
        },
        {
          "output_type": "stream",
          "name": "stderr",
          "text": [
            "100%|██████████| 4/4 [00:07<00:00,  1.87s/it]\n"
          ]
        },
        {
          "output_type": "stream",
          "name": "stdout",
          "text": [
            "\rAfter epoch 28: loss=0.4131 metric=0.9912 val_loss=0.4154 val_metric=0.9912\n",
            "Epoch 28 / 60: FINISHED\n",
            "\n",
            "Epoch 29 / 60: STARTED\n",
            "TRAINING\n",
            "Running on platform: Linux-5.10.147+-x86_64-with-glibc2.29, machine: x86_64, python_version: 3.8.10, processor: x86_64, system: Linux, \n"
          ]
        },
        {
          "output_type": "stream",
          "name": "stderr",
          "text": [
            "100%|██████████| 32/32 [03:54<00:00,  7.34s/it]\n"
          ]
        },
        {
          "output_type": "stream",
          "name": "stdout",
          "text": [
            "VALIDATION\n",
            "Running on platform: Linux-5.10.147+-x86_64-with-glibc2.29, machine: x86_64, python_version: 3.8.10, processor: x86_64, system: Linux, \n"
          ]
        },
        {
          "output_type": "stream",
          "name": "stderr",
          "text": [
            "100%|██████████| 4/4 [00:08<00:00,  2.14s/it]\n"
          ]
        },
        {
          "output_type": "stream",
          "name": "stdout",
          "text": [
            "\rAfter epoch 29: loss=0.4049 metric=0.9912 val_loss=0.4063 val_metric=0.9912\n",
            "Epoch 29 / 60: FINISHED\n",
            "\n",
            "Epoch 30 / 60: STARTED\n",
            "TRAINING\n",
            "Running on platform: Linux-5.10.147+-x86_64-with-glibc2.29, machine: x86_64, python_version: 3.8.10, processor: x86_64, system: Linux, \n"
          ]
        },
        {
          "output_type": "stream",
          "name": "stderr",
          "text": [
            "100%|██████████| 32/32 [03:54<00:00,  7.33s/it]\n"
          ]
        },
        {
          "output_type": "stream",
          "name": "stdout",
          "text": [
            "VALIDATION\n",
            "Running on platform: Linux-5.10.147+-x86_64-with-glibc2.29, machine: x86_64, python_version: 3.8.10, processor: x86_64, system: Linux, \n"
          ]
        },
        {
          "output_type": "stream",
          "name": "stderr",
          "text": [
            "100%|██████████| 4/4 [00:07<00:00,  1.88s/it]\n"
          ]
        },
        {
          "output_type": "stream",
          "name": "stdout",
          "text": [
            "\rAfter epoch 30: loss=0.3968 metric=0.9912 val_loss=0.3995 val_metric=0.9912\n",
            "Epoch 30 / 60: FINISHED\n",
            "\n",
            "Epoch 31 / 60: STARTED\n",
            "TRAINING\n",
            "Running on platform: Linux-5.10.147+-x86_64-with-glibc2.29, machine: x86_64, python_version: 3.8.10, processor: x86_64, system: Linux, \n"
          ]
        },
        {
          "output_type": "stream",
          "name": "stderr",
          "text": [
            "100%|██████████| 32/32 [03:55<00:00,  7.37s/it]\n"
          ]
        },
        {
          "output_type": "stream",
          "name": "stdout",
          "text": [
            "VALIDATION\n",
            "Running on platform: Linux-5.10.147+-x86_64-with-glibc2.29, machine: x86_64, python_version: 3.8.10, processor: x86_64, system: Linux, \n"
          ]
        },
        {
          "output_type": "stream",
          "name": "stderr",
          "text": [
            "100%|██████████| 4/4 [00:07<00:00,  1.86s/it]\n"
          ]
        },
        {
          "output_type": "stream",
          "name": "stdout",
          "text": [
            "\rAfter epoch 31: loss=0.3889 metric=0.9913 val_loss=0.3911 val_metric=0.9912\n",
            "Epoch 31 / 60: FINISHED\n",
            "\n",
            "Epoch 32 / 60: STARTED\n",
            "TRAINING\n",
            "Running on platform: Linux-5.10.147+-x86_64-with-glibc2.29, machine: x86_64, python_version: 3.8.10, processor: x86_64, system: Linux, \n"
          ]
        },
        {
          "output_type": "stream",
          "name": "stderr",
          "text": [
            "100%|██████████| 32/32 [03:55<00:00,  7.36s/it]\n"
          ]
        },
        {
          "output_type": "stream",
          "name": "stdout",
          "text": [
            "VALIDATION\n",
            "Running on platform: Linux-5.10.147+-x86_64-with-glibc2.29, machine: x86_64, python_version: 3.8.10, processor: x86_64, system: Linux, \n"
          ]
        },
        {
          "output_type": "stream",
          "name": "stderr",
          "text": [
            "100%|██████████| 4/4 [00:07<00:00,  1.87s/it]\n"
          ]
        },
        {
          "output_type": "stream",
          "name": "stdout",
          "text": [
            "\rAfter epoch 32: loss=0.3812 metric=0.9913 val_loss=0.3834 val_metric=0.9912\n",
            "Epoch 32 / 60: FINISHED\n",
            "\n",
            "Epoch 33 / 60: STARTED\n",
            "TRAINING\n",
            "Running on platform: Linux-5.10.147+-x86_64-with-glibc2.29, machine: x86_64, python_version: 3.8.10, processor: x86_64, system: Linux, \n"
          ]
        },
        {
          "output_type": "stream",
          "name": "stderr",
          "text": [
            "100%|██████████| 32/32 [03:54<00:00,  7.33s/it]\n"
          ]
        },
        {
          "output_type": "stream",
          "name": "stdout",
          "text": [
            "VALIDATION\n",
            "Running on platform: Linux-5.10.147+-x86_64-with-glibc2.29, machine: x86_64, python_version: 3.8.10, processor: x86_64, system: Linux, \n"
          ]
        },
        {
          "output_type": "stream",
          "name": "stderr",
          "text": [
            "100%|██████████| 4/4 [00:07<00:00,  1.86s/it]\n"
          ]
        },
        {
          "output_type": "stream",
          "name": "stdout",
          "text": [
            "\rAfter epoch 33: loss=0.3736 metric=0.9913 val_loss=0.3751 val_metric=0.9912\n",
            "Epoch 33 / 60: FINISHED\n",
            "\n",
            "Epoch 34 / 60: STARTED\n",
            "TRAINING\n",
            "Running on platform: Linux-5.10.147+-x86_64-with-glibc2.29, machine: x86_64, python_version: 3.8.10, processor: x86_64, system: Linux, \n"
          ]
        },
        {
          "output_type": "stream",
          "name": "stderr",
          "text": [
            " 56%|█████▋    | 18/32 [02:20<01:49,  7.79s/it]\n"
          ]
        },
        {
          "output_type": "error",
          "ename": "KeyboardInterrupt",
          "evalue": "ignored",
          "traceback": [
            "\u001b[0;31m---------------------------------------------------------------------------\u001b[0m",
            "\u001b[0;31mKeyboardInterrupt\u001b[0m                         Traceback (most recent call last)",
            "\u001b[0;32m<ipython-input-29-ed79ab121d1d>\u001b[0m in \u001b[0;36m<module>\u001b[0;34m\u001b[0m\n\u001b[0;32m----> 1\u001b[0;31m net, history = lu.training(net,\n\u001b[0m\u001b[1;32m      2\u001b[0m                            \u001b[0mtrain_loader\u001b[0m\u001b[0;34m,\u001b[0m\u001b[0;34m\u001b[0m\u001b[0;34m\u001b[0m\u001b[0m\n\u001b[1;32m      3\u001b[0m                            \u001b[0mtest_loader\u001b[0m\u001b[0;34m,\u001b[0m\u001b[0;34m\u001b[0m\u001b[0;34m\u001b[0m\u001b[0m\n\u001b[1;32m      4\u001b[0m                            \u001b[0mcriterion\u001b[0m\u001b[0;34m,\u001b[0m\u001b[0;34m\u001b[0m\u001b[0;34m\u001b[0m\u001b[0m\n\u001b[1;32m      5\u001b[0m                            \u001b[0mmetric\u001b[0m\u001b[0;34m,\u001b[0m\u001b[0;34m\u001b[0m\u001b[0;34m\u001b[0m\u001b[0m\n",
            "\u001b[0;32m/content/local_utils.py\u001b[0m in \u001b[0;36mtraining\u001b[0;34m(model, train_loader, test_loader, loss_fcn, metric, optimizer, update_period, epoch_max, device)\u001b[0m\n\u001b[1;32m    207\u001b[0m         \u001b[0mprint\u001b[0m\u001b[0;34m(\u001b[0m\u001b[0;34mf'Epoch {epoch} / {epoch_max}: STARTED'\u001b[0m\u001b[0;34m)\u001b[0m\u001b[0;34m\u001b[0m\u001b[0;34m\u001b[0m\u001b[0m\n\u001b[1;32m    208\u001b[0m         \u001b[0mprint\u001b[0m\u001b[0;34m(\u001b[0m\u001b[0;34m'TRAINING'\u001b[0m\u001b[0;34m)\u001b[0m\u001b[0;34m\u001b[0m\u001b[0;34m\u001b[0m\u001b[0m\n\u001b[0;32m--> 209\u001b[0;31m         net, loss, metric_value = train_test_pass(model,\n\u001b[0m\u001b[1;32m    210\u001b[0m                                          \u001b[0mtrain_loader\u001b[0m\u001b[0;34m,\u001b[0m\u001b[0;34m\u001b[0m\u001b[0;34m\u001b[0m\u001b[0m\n\u001b[1;32m    211\u001b[0m                                          \u001b[0mloss_fcn\u001b[0m\u001b[0;34m,\u001b[0m\u001b[0;34m\u001b[0m\u001b[0;34m\u001b[0m\u001b[0m\n",
            "\u001b[0;32m/content/local_utils.py\u001b[0m in \u001b[0;36mtrain_test_pass\u001b[0;34m(model, data_generator, criterion, metric, optimizer, update_period, mode, device, repeat)\u001b[0m\n\u001b[1;32m    149\u001b[0m             \u001b[0;32mif\u001b[0m \u001b[0mmode\u001b[0m \u001b[0;34m==\u001b[0m \u001b[0;34m'train'\u001b[0m\u001b[0;34m:\u001b[0m\u001b[0;34m\u001b[0m\u001b[0;34m\u001b[0m\u001b[0m\n\u001b[1;32m    150\u001b[0m                 \u001b[0;31m# designate gradient based on loss\u001b[0m\u001b[0;34m\u001b[0m\u001b[0;34m\u001b[0m\u001b[0;34m\u001b[0m\u001b[0m\n\u001b[0;32m--> 151\u001b[0;31m                 \u001b[0mloss\u001b[0m\u001b[0;34m.\u001b[0m\u001b[0mbackward\u001b[0m\u001b[0;34m(\u001b[0m\u001b[0;34m)\u001b[0m\u001b[0;34m\u001b[0m\u001b[0;34m\u001b[0m\u001b[0m\n\u001b[0m\u001b[1;32m    152\u001b[0m \u001b[0;34m\u001b[0m\u001b[0m\n\u001b[1;32m    153\u001b[0m             \u001b[0;32mif\u001b[0m \u001b[0mmode\u001b[0m \u001b[0;34m==\u001b[0m \u001b[0;34m'train'\u001b[0m \u001b[0;32mand\u001b[0m \u001b[0;34m(\u001b[0m\u001b[0mi\u001b[0m\u001b[0;34m+\u001b[0m\u001b[0;36m1\u001b[0m\u001b[0;34m)\u001b[0m \u001b[0;34m%\u001b[0m \u001b[0mupdate_period\u001b[0m \u001b[0;34m==\u001b[0m \u001b[0;36m0\u001b[0m\u001b[0;34m:\u001b[0m\u001b[0;34m\u001b[0m\u001b[0;34m\u001b[0m\u001b[0m\n",
            "\u001b[0;32m/usr/local/lib/python3.8/dist-packages/torch/_tensor.py\u001b[0m in \u001b[0;36mbackward\u001b[0;34m(self, gradient, retain_graph, create_graph, inputs)\u001b[0m\n\u001b[1;32m    486\u001b[0m                 \u001b[0minputs\u001b[0m\u001b[0;34m=\u001b[0m\u001b[0minputs\u001b[0m\u001b[0;34m,\u001b[0m\u001b[0;34m\u001b[0m\u001b[0;34m\u001b[0m\u001b[0m\n\u001b[1;32m    487\u001b[0m             )\n\u001b[0;32m--> 488\u001b[0;31m         torch.autograd.backward(\n\u001b[0m\u001b[1;32m    489\u001b[0m             \u001b[0mself\u001b[0m\u001b[0;34m,\u001b[0m \u001b[0mgradient\u001b[0m\u001b[0;34m,\u001b[0m \u001b[0mretain_graph\u001b[0m\u001b[0;34m,\u001b[0m \u001b[0mcreate_graph\u001b[0m\u001b[0;34m,\u001b[0m \u001b[0minputs\u001b[0m\u001b[0;34m=\u001b[0m\u001b[0minputs\u001b[0m\u001b[0;34m\u001b[0m\u001b[0;34m\u001b[0m\u001b[0m\n\u001b[1;32m    490\u001b[0m         )\n",
            "\u001b[0;32m/usr/local/lib/python3.8/dist-packages/torch/autograd/__init__.py\u001b[0m in \u001b[0;36mbackward\u001b[0;34m(tensors, grad_tensors, retain_graph, create_graph, grad_variables, inputs)\u001b[0m\n\u001b[1;32m    195\u001b[0m     \u001b[0;31m# some Python versions print out the first line of a multi-line function\u001b[0m\u001b[0;34m\u001b[0m\u001b[0;34m\u001b[0m\u001b[0;34m\u001b[0m\u001b[0m\n\u001b[1;32m    196\u001b[0m     \u001b[0;31m# calls in the traceback and some print out the last line\u001b[0m\u001b[0;34m\u001b[0m\u001b[0;34m\u001b[0m\u001b[0;34m\u001b[0m\u001b[0m\n\u001b[0;32m--> 197\u001b[0;31m     Variable._execution_engine.run_backward(  # Calls into the C++ engine to run the backward pass\n\u001b[0m\u001b[1;32m    198\u001b[0m         \u001b[0mtensors\u001b[0m\u001b[0;34m,\u001b[0m \u001b[0mgrad_tensors_\u001b[0m\u001b[0;34m,\u001b[0m \u001b[0mretain_graph\u001b[0m\u001b[0;34m,\u001b[0m \u001b[0mcreate_graph\u001b[0m\u001b[0;34m,\u001b[0m \u001b[0minputs\u001b[0m\u001b[0;34m,\u001b[0m\u001b[0;34m\u001b[0m\u001b[0;34m\u001b[0m\u001b[0m\n\u001b[1;32m    199\u001b[0m         allow_unreachable=True, accumulate_grad=True)  # Calls into the C++ engine to run the backward pass\n",
            "\u001b[0;31mKeyboardInterrupt\u001b[0m: "
          ]
        }
      ],
      "source": [
        "net, history = lu.training(net,\n",
        "                           train_loader,\n",
        "                           test_loader,\n",
        "                           criterion,\n",
        "                           metric,\n",
        "                           optimizer,\n",
        "                           update_period=2,\n",
        "                           epoch_max=60,\n",
        "                           device=device)\n",
        "lu.plot_history(history)"
      ]
    },
    {
      "cell_type": "code",
      "execution_count": null,
      "metadata": {
        "id": "ntAaRYsrFUje"
      },
      "outputs": [],
      "source": [
        "def evaluate(model, dtype=None, device=None, repeat=30):\n",
        "    \n",
        "    tm = lu.TimeMeasurement(\"\", len(eval_loader) * eval_loader.batch_size * repeat)\n",
        "    eval_loader.data = eval_loader.data.to(dtype).to(device)\n",
        "    eval_loader.labels = eval_loader.labels.to(dtype).to(device)\n",
        "    \n",
        "    with tm:\n",
        "        net, loss, acc = lu.train_test_pass(model,\n",
        "                                            eval_loader,\n",
        "                                            criterion,\n",
        "                                            metric,\n",
        "                                            optimizer=None,\n",
        "                                            update_period=None,\n",
        "                                            mode='test',\n",
        "                                            device=device,\n",
        "                                            repeat=repeat)\n",
        "    print(\"loss =\", loss)\n",
        "    print(\"loss =\", acc)\n",
        "    print(str(tm))"
      ]
    },
    {
      "cell_type": "code",
      "execution_count": null,
      "metadata": {
        "id": "pU4rf7vpFUjf"
      },
      "outputs": [],
      "source": [
        "for X, Y in train_loader:\n",
        "    net.eval()\n",
        "    with torch.no_grad():\n",
        "        Y_pred = net(X.to(device)).cpu()\n",
        "    for i in range(min(8, train_loader.batch_size)):\n",
        "        plt.gray()\n",
        "        plt.imshow(X[i][0])\n",
        "        plt.show()\n",
        "        fig, axes = plt.subplots(1, Y[i].shape[0], figsize=(20,2))\n",
        "        axes = np.array(axes).flatten().tolist()\n",
        "        for cls, (a, y) in enumerate(zip(axes, Y[i])):\n",
        "            a.imshow(y)\n",
        "            a.set_title(str(cls))\n",
        "        plt.show()\n",
        "        fig, axes = plt.subplots(1, Y_pred[i].shape[0], figsize=(20,2))\n",
        "        axes = np.array(axes).flatten().tolist()\n",
        "        for cls, (a, y) in enumerate(zip(axes, Y_pred[i])):\n",
        "            a.imshow(y)\n",
        "            a.set_title(str(cls))\n",
        "        plt.show()\n",
        "    break"
      ]
    },
    {
      "cell_type": "code",
      "execution_count": null,
      "metadata": {
        "id": "h6mUSWe4FUjg"
      },
      "outputs": [],
      "source": [
        "model = net"
      ]
    },
    {
      "cell_type": "markdown",
      "metadata": {
        "id": "jAgBzS74FUjg"
      },
      "source": [
        "### Basic PyTorch"
      ]
    },
    {
      "cell_type": "code",
      "execution_count": null,
      "metadata": {
        "id": "RWHWI6LyFUjg"
      },
      "outputs": [],
      "source": [
        "evaluate(net, torch.float32, \"cuda\")"
      ]
    },
    {
      "cell_type": "markdown",
      "metadata": {
        "id": "oI5oNZzoFUjh"
      },
      "source": [
        "### Trace model"
      ]
    },
    {
      "cell_type": "code",
      "execution_count": null,
      "metadata": {
        "id": "G0MI2u7IFUjh"
      },
      "outputs": [],
      "source": [
        "traced_model = torch.jit.trace(model, torch.empty([1,1,32,32]).to(\"cuda\"))\n",
        "traced_model"
      ]
    },
    {
      "cell_type": "code",
      "execution_count": null,
      "metadata": {
        "id": "F9Kc4E49FUjh"
      },
      "outputs": [],
      "source": [
        "evaluate(traced_model, device=torch.device('cuda'))"
      ]
    },
    {
      "cell_type": "markdown",
      "metadata": {
        "id": "uwnutzzqFUji"
      },
      "source": [
        "### Script model"
      ]
    },
    {
      "cell_type": "code",
      "execution_count": null,
      "metadata": {
        "id": "QHrKSGH_FUji"
      },
      "outputs": [],
      "source": [
        "script_model = torch.jit.script(model)\n",
        "script_model"
      ]
    },
    {
      "cell_type": "code",
      "execution_count": null,
      "metadata": {
        "id": "UWXnDJaBFUji"
      },
      "outputs": [],
      "source": [
        "evaluate(script_model)"
      ]
    },
    {
      "cell_type": "markdown",
      "metadata": {
        "id": "gR6zXdUFFUji"
      },
      "source": [
        "### Compile with Tensor-RT"
      ]
    },
    {
      "cell_type": "code",
      "execution_count": null,
      "metadata": {
        "id": "bAkHLHVrFUjj"
      },
      "outputs": [],
      "source": [
        "import torch_tensorrt\n",
        "\n",
        "dtype = torch.float32\n",
        "# We use a batch-size of 1024, and half precision\n",
        "trt_ts_module = torch_tensorrt.compile(traced_model, inputs=[\n",
        "    torch_tensorrt.Input((1, INPUT_CHANNELS, INPUT_HEIGHT, INPUT_WIDTH),dtype=torch.float32\n",
        "    )], \n",
        "    enabled_precisions = {dtype})\n",
        "\n",
        "input_data = torch.randn((1, INPUT_CHANNELS, INPUT_HEIGHT, INPUT_WIDTH))\n",
        "input_data = input_data.to(dtype).to(\"cuda\")\n",
        "\n",
        "input_data = input_data.to(dtype)\n",
        "result = trt_ts_module(input_data)\n",
        "torch.jit.save(trt_ts_module, \"trt_ts_module.ts\")"
      ]
    },
    {
      "cell_type": "code",
      "execution_count": null,
      "metadata": {
        "id": "5-6DTzwRFUjj"
      },
      "outputs": [],
      "source": [
        "evaluate(trt_ts_module, dtype, \"cuda\")"
      ]
    },
    {
      "cell_type": "markdown",
      "metadata": {
        "id": "pe0544CiFUjj"
      },
      "source": [
        "## PTQ"
      ]
    },
    {
      "cell_type": "code",
      "execution_count": null,
      "metadata": {
        "id": "PMIM4UJFFUjk"
      },
      "outputs": [],
      "source": [
        "# NOT SUPPORTED ON HOST DEVICE\n",
        "# calibrator = torch_tensorrt.ptq.DataLoaderCalibrator(eval_loader,\n",
        "#                                                      use_cache=False,\n",
        "#                                                      algo_type=torch_tensorrt.ptq.CalibrationAlgo.MINMAX_CALIBRATION,\n",
        "#                                                      device=torch.device('cuda:0'))\n",
        "# compile_spec = {\n",
        "#          \"inputs\": [torch_tensorrt.Input([1, INPUT_CHANNELS, INPUT_HEIGHT, INPUT_WIDTH])],\n",
        "#          \"enabled_precisions\": torch.int8,\n",
        "#          \"calibrator\": calibrator,\n",
        "#          \"truncate_long_and_double\": True\n",
        "         \n",
        "#      }\n",
        "# trt_ptq = torch_tensorrt.compile(model, **compile_spec)\n"
      ]
    },
    {
      "cell_type": "code",
      "execution_count": null,
      "metadata": {
        "id": "akPZmEF-FUjk"
      },
      "outputs": [],
      "source": [
        "evaluate(trt_ptq, None, \"cuda:0\")"
      ]
    }
  ],
  "metadata": {
    "kernelspec": {
      "display_name": "Python 3 (ipykernel)",
      "language": "python",
      "name": "python3"
    },
    "language_info": {
      "codemirror_mode": {
        "name": "ipython",
        "version": 3
      },
      "file_extension": ".py",
      "mimetype": "text/x-python",
      "name": "python",
      "nbconvert_exporter": "python",
      "pygments_lexer": "ipython3",
      "version": "3.10.6"
    },
    "orig_nbformat": 4,
    "vscode": {
      "interpreter": {
        "hash": "767d51c1340bd893661ea55ea3124f6de3c7a262a8b4abca0554b478b1e2ff90"
      }
    },
    "colab": {
      "provenance": []
    },
    "accelerator": "GPU",
    "gpuClass": "standard"
  },
  "nbformat": 4,
  "nbformat_minor": 0
}