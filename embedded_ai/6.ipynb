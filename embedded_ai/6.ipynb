{
  "cells": [
    {
      "cell_type": "markdown",
      "metadata": {
        "id": "zj4O3aKG24R_"
      },
      "source": [
        "# Introduction to prunning\n"
      ]
    },
    {
      "cell_type": "markdown",
      "metadata": {
        "id": "OM2FE1JJ24SH"
      },
      "source": [
        "Prunning is a set of technics that allow for network size reduction.\n",
        "\n",
        "The basic apprach is based on weights values and remove connections with small weights.\n",
        "\n",
        "There is many different aproaches to prunning for example:\n",
        "\n",
        "    1) statical weights analysis to check importance of input channel,\n",
        "\n",
        "    2) statical weights analysis to check filters simmilarity,\n",
        "\n",
        "    3) prunning by trainable parameters as channels importance levels.\n",
        "\n",
        "This tutorial presents second approach."
      ]
    },
    {
      "cell_type": "code",
      "execution_count": 4,
      "metadata": {
        "colab": {
          "base_uri": "https://localhost:8080/"
        },
        "id": "3BHD4jup24SJ",
        "outputId": "082e2d70-6f3f-4ebf-ec7e-f73992088645"
      },
      "outputs": [
        {
          "output_type": "stream",
          "name": "stdout",
          "text": [
            "mkdir: cannot create directory ‘data’: File exists\n"
          ]
        }
      ],
      "source": [
        "!mkdir data"
      ]
    },
    {
      "cell_type": "code",
      "execution_count": 3,
      "metadata": {
        "colab": {
          "base_uri": "https://localhost:8080/"
        },
        "id": "-mllPikP24SN",
        "outputId": "6e8b5cab-3714-4439-d7d3-89ec0abc8e15"
      },
      "outputs": [
        {
          "output_type": "stream",
          "name": "stdout",
          "text": [
            "cuda\n"
          ]
        }
      ],
      "source": [
        "import torch\n",
        "from torchvision import datasets\n",
        "from torch.utils.data import DataLoader\n",
        "from torch import nn\n",
        "from torch import optim\n",
        "import numpy as np\n",
        "import matplotlib.pyplot as plt\n",
        "import random\n",
        "from typing import List, Tuple\n",
        "\n",
        "# local_utils file contains util functions for training or display\n",
        "# CHECK IT\n",
        "import local_utils as lu\n",
        "\n",
        "device = torch.device('cuda') if torch.cuda.is_available() else torch.device('cpu')\n",
        "print(device)\n",
        "\n",
        "def set_random_seed(seed:int = 0):\n",
        "    torch.manual_seed(seed)\n",
        "    np.random.seed(seed)\n",
        "    random.seed(seed)\n",
        "    "
      ]
    },
    {
      "cell_type": "markdown",
      "metadata": {
        "id": "u9_jgSBi24SP"
      },
      "source": [
        "Datasets"
      ]
    },
    {
      "cell_type": "code",
      "execution_count": 5,
      "metadata": {
        "colab": {
          "base_uri": "https://localhost:8080/",
          "height": 645,
          "referenced_widgets": [
            "25daa33e35614ea3822feef5777fb459",
            "1a1c7d69a3c9461a995e541c66c13802",
            "37e4c869750d48f2a8a36dc403ed4db6",
            "1857cbf8bd774914902c7e32c1b26e75",
            "103eba2ce05f4c5691bdb6ed9d5e9b8d",
            "e175e7112c6a44429fccec6a15ea09fb",
            "0935a87bb3bc444db5b55d71c335366c",
            "f527bd4d63024554b273b4f0f141d3c7",
            "88d344bb5bb44600bea177c4bbd3c65a",
            "82c4f59ed2e44bc2856209c6cdf3568e",
            "8a409baa298b4b0d89573e98afb2ed2c",
            "8fd0bccf0ba049d79608473c523499bd",
            "76af6865c8714e51a3ef558315ca7419",
            "1011d778f1dc45a2b34bb308876c5541",
            "35517eb3a3ad4845b8ee8bb593bd7029",
            "0f0f464a0c474bb9970945b8828940cf",
            "dd7d90c6fe96461588ce653a433070ff",
            "d64d021d9e7944e2a66094d9765ebcbb",
            "9d2efff7c24e4ae18c66c59b8d840fcc",
            "16c179da3e42431d86021850d523e01f",
            "88ae7c8304504eef87e7ee279dc2593e",
            "5a5b2c9352f64db187fc42cc2df22e5c",
            "96b1eded355f49dda88b7bf295c1756e",
            "56052727207c45828890a99222c2ade8",
            "ec5b8feee1a3447cac35d67e5e8c24e6",
            "a95b308375f440288a38b538946a9f4f",
            "366793f8824849548397223e7bbb5fec",
            "85da8ef00d144a069b3a104f52465f31",
            "a0123a0e6394486ca58a5cbcbac6b4cb",
            "e3c9af43770b48d4b0a6cb7f7ae20a3f",
            "4705daf7f1c24a739c63bbe7d1b963ef",
            "3ab66c5efb0547649e6fb753a7a01f11",
            "88db4bcfbc0f4b639ba4086d4ef38ace",
            "7171431834ab487c8fd0e7f22954c075",
            "7dacc84311ef406ca19f4088a951c948",
            "fbe5ee4a1baf4d3cb17134366865900b",
            "0377b991144c43a1a5c3c994d791c7b2",
            "b6f641450e8b43a893a9570b974ee60e",
            "3a9f7844c2d742cebffcfef2758a12ce",
            "a6f59b1043324801bfd06f639791824d",
            "ded1753ee02144a8b15bc1094ae339a8",
            "db24a6a7f9bf4c6a9f301a7575d22df7",
            "7abf0131aa854bde9cff701a81b19db8",
            "4359b9f4f76e4e21921a253383ad561c"
          ]
        },
        "id": "gAn43NkB24SQ",
        "outputId": "f2879700-d106-40a7-e63c-8dc14d4ded82"
      },
      "outputs": [
        {
          "output_type": "stream",
          "name": "stdout",
          "text": [
            "Downloading http://yann.lecun.com/exdb/mnist/train-images-idx3-ubyte.gz\n",
            "Downloading http://yann.lecun.com/exdb/mnist/train-images-idx3-ubyte.gz to data/MNIST/raw/train-images-idx3-ubyte.gz\n"
          ]
        },
        {
          "output_type": "display_data",
          "data": {
            "text/plain": [
              "  0%|          | 0/9912422 [00:00<?, ?it/s]"
            ],
            "application/vnd.jupyter.widget-view+json": {
              "version_major": 2,
              "version_minor": 0,
              "model_id": "25daa33e35614ea3822feef5777fb459"
            }
          },
          "metadata": {}
        },
        {
          "output_type": "stream",
          "name": "stdout",
          "text": [
            "Extracting data/MNIST/raw/train-images-idx3-ubyte.gz to data/MNIST/raw\n",
            "\n",
            "Downloading http://yann.lecun.com/exdb/mnist/train-labels-idx1-ubyte.gz\n",
            "Downloading http://yann.lecun.com/exdb/mnist/train-labels-idx1-ubyte.gz to data/MNIST/raw/train-labels-idx1-ubyte.gz\n"
          ]
        },
        {
          "output_type": "display_data",
          "data": {
            "text/plain": [
              "  0%|          | 0/28881 [00:00<?, ?it/s]"
            ],
            "application/vnd.jupyter.widget-view+json": {
              "version_major": 2,
              "version_minor": 0,
              "model_id": "8fd0bccf0ba049d79608473c523499bd"
            }
          },
          "metadata": {}
        },
        {
          "output_type": "stream",
          "name": "stdout",
          "text": [
            "Extracting data/MNIST/raw/train-labels-idx1-ubyte.gz to data/MNIST/raw\n",
            "\n",
            "Downloading http://yann.lecun.com/exdb/mnist/t10k-images-idx3-ubyte.gz\n",
            "Downloading http://yann.lecun.com/exdb/mnist/t10k-images-idx3-ubyte.gz to data/MNIST/raw/t10k-images-idx3-ubyte.gz\n"
          ]
        },
        {
          "output_type": "display_data",
          "data": {
            "text/plain": [
              "  0%|          | 0/1648877 [00:00<?, ?it/s]"
            ],
            "application/vnd.jupyter.widget-view+json": {
              "version_major": 2,
              "version_minor": 0,
              "model_id": "96b1eded355f49dda88b7bf295c1756e"
            }
          },
          "metadata": {}
        },
        {
          "output_type": "stream",
          "name": "stdout",
          "text": [
            "Extracting data/MNIST/raw/t10k-images-idx3-ubyte.gz to data/MNIST/raw\n",
            "\n",
            "Downloading http://yann.lecun.com/exdb/mnist/t10k-labels-idx1-ubyte.gz\n",
            "Downloading http://yann.lecun.com/exdb/mnist/t10k-labels-idx1-ubyte.gz to data/MNIST/raw/t10k-labels-idx1-ubyte.gz\n"
          ]
        },
        {
          "output_type": "display_data",
          "data": {
            "text/plain": [
              "  0%|          | 0/4542 [00:00<?, ?it/s]"
            ],
            "application/vnd.jupyter.widget-view+json": {
              "version_major": 2,
              "version_minor": 0,
              "model_id": "7171431834ab487c8fd0e7f22954c075"
            }
          },
          "metadata": {}
        },
        {
          "output_type": "stream",
          "name": "stdout",
          "text": [
            "Extracting data/MNIST/raw/t10k-labels-idx1-ubyte.gz to data/MNIST/raw\n",
            "\n",
            "len(train_loader) = 938\n",
            "len(test_loader) = 157\n",
            "torch.Size([64, 1, 28, 28])\n",
            "torch.Size([64])\n"
          ]
        },
        {
          "output_type": "display_data",
          "data": {
            "text/plain": [
              "<Figure size 432x288 with 0 Axes>"
            ]
          },
          "metadata": {}
        },
        {
          "output_type": "display_data",
          "data": {
            "text/plain": [
              "<Figure size 2304x288 with 8 Axes>"
            ],
            "image/png": "[encoded data removed]"
          },
          "metadata": {
            "needs_background": "light"
          }
        }
      ],
      "source": [
        "from torchvision.transforms import ToTensor\n",
        "\n",
        "BATCH_SIZE = 64\n",
        "set_random_seed(0)\n",
        "\n",
        "train_dataset = datasets.MNIST('data', \n",
        "                              train=True,\n",
        "                              download=True,\n",
        "                              transform=ToTensor())\n",
        "test_dataset = datasets.MNIST('data', \n",
        "                              train=False,\n",
        "                              download=True,\n",
        "                              transform=ToTensor())\n",
        "\n",
        "train_loader = DataLoader(train_dataset, \n",
        "                          batch_size=BATCH_SIZE,\n",
        "                          shuffle=False)\n",
        "test_loader = DataLoader(test_dataset, \n",
        "                          batch_size=BATCH_SIZE,\n",
        "                          shuffle=False)\n",
        "\n",
        "print(\"len(train_loader) =\", len(train_loader))\n",
        "print(\"len(test_loader) =\", len(test_loader))\n",
        "\n",
        "plt.gray()\n",
        "loader = train_loader\n",
        "for X, y in loader:\n",
        "    print(X.shape)\n",
        "    print(y.shape)\n",
        "    \n",
        "    ROWS, COLS = 1, 8\n",
        "    fig, axs = plt.subplots(ROWS, COLS)\n",
        "    fig.set_size_inches(COLS*4,ROWS*4)\n",
        "    axs = np.array(axs).flatten().tolist()\n",
        "    \n",
        "    for i, ax in enumerate(axs):\n",
        "        img = X[i,:]\n",
        "        class_label = loader.dataset.classes[y[i]]\n",
        "        ax.imshow(img.squeeze())\n",
        "    plt.show()\n",
        "            \n",
        "    break\n",
        "        "
      ]
    },
    {
      "cell_type": "markdown",
      "metadata": {
        "id": "6REZfEgU24SS"
      },
      "source": [
        "Network definition and training"
      ]
    },
    {
      "cell_type": "code",
      "execution_count": 6,
      "metadata": {
        "colab": {
          "base_uri": "https://localhost:8080/"
        },
        "id": "JBofJvx724SU",
        "outputId": "46da511b-b5e7-466a-fe96-f7c7aaf33104"
      },
      "outputs": [
        {
          "output_type": "stream",
          "name": "stdout",
          "text": [
            "Network paramerters number: 1863690\n",
            "Epoch 1 / 30: STARTED\n",
            "TRAINING"
          ]
        },
        {
          "output_type": "stream",
          "name": "stderr",
          "text": [
            "938it [00:09, 96.44it/s] \n"
          ]
        },
        {
          "output_type": "stream",
          "name": "stdout",
          "text": [
            "\rVALIDATION"
          ]
        },
        {
          "output_type": "stream",
          "name": "stderr",
          "text": [
            "157it [00:01, 137.17it/s]\n"
          ]
        },
        {
          "output_type": "stream",
          "name": "stdout",
          "text": [
            "\rAfter epoch 1: loss=2.3015 acc=0.1121 val_loss=2.2980 val_acc=0.1028\n",
            "Epoch 1 / 30: FINISHED\n",
            "\n",
            "Epoch 2 / 30: STARTED\n",
            "TRAINING"
          ]
        },
        {
          "output_type": "stream",
          "name": "stderr",
          "text": [
            "938it [00:06, 138.76it/s]\n"
          ]
        },
        {
          "output_type": "stream",
          "name": "stdout",
          "text": [
            "\rVALIDATION"
          ]
        },
        {
          "output_type": "stream",
          "name": "stderr",
          "text": [
            "157it [00:01, 134.95it/s]\n"
          ]
        },
        {
          "output_type": "stream",
          "name": "stdout",
          "text": [
            "\rAfter epoch 2: loss=2.2918 acc=0.1305 val_loss=2.2703 val_acc=0.1518\n",
            "Epoch 2 / 30: FINISHED\n",
            "\n",
            "Epoch 3 / 30: STARTED\n",
            "TRAINING"
          ]
        },
        {
          "output_type": "stream",
          "name": "stderr",
          "text": [
            "938it [00:06, 136.88it/s]\n"
          ]
        },
        {
          "output_type": "stream",
          "name": "stdout",
          "text": [
            "\rVALIDATION"
          ]
        },
        {
          "output_type": "stream",
          "name": "stderr",
          "text": [
            "157it [00:01, 137.50it/s]\n"
          ]
        },
        {
          "output_type": "stream",
          "name": "stdout",
          "text": [
            "\rAfter epoch 3: loss=2.1816 acc=0.3144 val_loss=2.0202 val_acc=0.5424\n",
            "Epoch 3 / 30: FINISHED\n",
            "\n",
            "Epoch 4 / 30: STARTED\n",
            "TRAINING"
          ]
        },
        {
          "output_type": "stream",
          "name": "stderr",
          "text": [
            "938it [00:06, 135.82it/s]\n"
          ]
        },
        {
          "output_type": "stream",
          "name": "stdout",
          "text": [
            "\rVALIDATION"
          ]
        },
        {
          "output_type": "stream",
          "name": "stderr",
          "text": [
            "157it [00:01, 139.53it/s]\n"
          ]
        },
        {
          "output_type": "stream",
          "name": "stdout",
          "text": [
            "\rAfter epoch 4: loss=1.9086 acc=0.5997 val_loss=1.8296 val_acc=0.6432\n",
            "Epoch 4 / 30: FINISHED\n",
            "\n",
            "Epoch 5 / 30: STARTED\n",
            "TRAINING"
          ]
        },
        {
          "output_type": "stream",
          "name": "stderr",
          "text": [
            "938it [00:07, 133.31it/s]\n"
          ]
        },
        {
          "output_type": "stream",
          "name": "stdout",
          "text": [
            "\rVALIDATION"
          ]
        },
        {
          "output_type": "stream",
          "name": "stderr",
          "text": [
            "157it [00:01, 104.74it/s]\n"
          ]
        },
        {
          "output_type": "stream",
          "name": "stdout",
          "text": [
            "\rAfter epoch 5: loss=1.8016 acc=0.6374 val_loss=1.7772 val_acc=0.6522\n",
            "Epoch 5 / 30: FINISHED\n",
            "\n",
            "Epoch 6 / 30: STARTED\n",
            "TRAINING"
          ]
        },
        {
          "output_type": "stream",
          "name": "stderr",
          "text": [
            "938it [00:06, 139.17it/s]\n"
          ]
        },
        {
          "output_type": "stream",
          "name": "stdout",
          "text": [
            "\rVALIDATION"
          ]
        },
        {
          "output_type": "stream",
          "name": "stderr",
          "text": [
            "157it [00:01, 136.24it/s]\n"
          ]
        },
        {
          "output_type": "stream",
          "name": "stdout",
          "text": [
            "\rAfter epoch 6: loss=1.7637 acc=0.6483 val_loss=1.7496 val_acc=0.6575\n",
            "Epoch 6 / 30: FINISHED\n",
            "\n",
            "Epoch 7 / 30: STARTED\n",
            "TRAINING"
          ]
        },
        {
          "output_type": "stream",
          "name": "stderr",
          "text": [
            "938it [00:07, 123.79it/s]\n"
          ]
        },
        {
          "output_type": "stream",
          "name": "stdout",
          "text": [
            "\rVALIDATION"
          ]
        },
        {
          "output_type": "stream",
          "name": "stderr",
          "text": [
            "157it [00:01, 140.89it/s]\n"
          ]
        },
        {
          "output_type": "stream",
          "name": "stdout",
          "text": [
            "\rAfter epoch 7: loss=1.7388 acc=0.6525 val_loss=1.7271 val_acc=0.6595\n",
            "Epoch 7 / 30: FINISHED\n",
            "\n",
            "Epoch 8 / 30: STARTED\n",
            "TRAINING"
          ]
        },
        {
          "output_type": "stream",
          "name": "stderr",
          "text": [
            "938it [00:06, 138.91it/s]\n"
          ]
        },
        {
          "output_type": "stream",
          "name": "stdout",
          "text": [
            "\rVALIDATION"
          ]
        },
        {
          "output_type": "stream",
          "name": "stderr",
          "text": [
            "157it [00:01, 139.27it/s]\n"
          ]
        },
        {
          "output_type": "stream",
          "name": "stdout",
          "text": [
            "\rAfter epoch 8: loss=1.7186 acc=0.6523 val_loss=1.7081 val_acc=0.6619\n",
            "Epoch 8 / 30: FINISHED\n",
            "\n",
            "Epoch 9 / 30: STARTED\n",
            "TRAINING"
          ]
        },
        {
          "output_type": "stream",
          "name": "stderr",
          "text": [
            "938it [00:06, 135.51it/s]\n"
          ]
        },
        {
          "output_type": "stream",
          "name": "stdout",
          "text": [
            "\rVALIDATION"
          ]
        },
        {
          "output_type": "stream",
          "name": "stderr",
          "text": [
            "157it [00:01, 139.27it/s]\n"
          ]
        },
        {
          "output_type": "stream",
          "name": "stdout",
          "text": [
            "\rAfter epoch 9: loss=1.7016 acc=0.6601 val_loss=1.6919 val_acc=0.6752\n",
            "Epoch 9 / 30: FINISHED\n",
            "\n",
            "Epoch 10 / 30: STARTED\n",
            "TRAINING"
          ]
        },
        {
          "output_type": "stream",
          "name": "stderr",
          "text": [
            "938it [00:06, 136.63it/s]\n"
          ]
        },
        {
          "output_type": "stream",
          "name": "stdout",
          "text": [
            "\rVALIDATION"
          ]
        },
        {
          "output_type": "stream",
          "name": "stderr",
          "text": [
            "157it [00:01, 136.79it/s]\n"
          ]
        },
        {
          "output_type": "stream",
          "name": "stdout",
          "text": [
            "\rAfter epoch 10: loss=1.6856 acc=0.6872 val_loss=1.6747 val_acc=0.7115\n",
            "Epoch 10 / 30: FINISHED\n",
            "\n",
            "Epoch 11 / 30: STARTED\n",
            "TRAINING"
          ]
        },
        {
          "output_type": "stream",
          "name": "stderr",
          "text": [
            "938it [00:06, 136.45it/s]\n"
          ]
        },
        {
          "output_type": "stream",
          "name": "stdout",
          "text": [
            "\rVALIDATION"
          ]
        },
        {
          "output_type": "stream",
          "name": "stderr",
          "text": [
            "157it [00:01, 138.68it/s]\n"
          ]
        },
        {
          "output_type": "stream",
          "name": "stdout",
          "text": [
            "\rAfter epoch 11: loss=1.6684 acc=0.7329 val_loss=1.6573 val_acc=0.7526\n",
            "Epoch 11 / 30: FINISHED\n",
            "\n",
            "Epoch 12 / 30: STARTED\n",
            "TRAINING"
          ]
        },
        {
          "output_type": "stream",
          "name": "stderr",
          "text": [
            "938it [00:06, 137.06it/s]\n"
          ]
        },
        {
          "output_type": "stream",
          "name": "stdout",
          "text": [
            "\rVALIDATION"
          ]
        },
        {
          "output_type": "stream",
          "name": "stderr",
          "text": [
            "157it [00:01, 136.47it/s]\n"
          ]
        },
        {
          "output_type": "stream",
          "name": "stdout",
          "text": [
            "\rAfter epoch 12: loss=1.6539 acc=0.7662 val_loss=1.6446 val_acc=0.7757\n",
            "Epoch 12 / 30: FINISHED\n",
            "\n",
            "Epoch 13 / 30: STARTED\n",
            "TRAINING"
          ]
        },
        {
          "output_type": "stream",
          "name": "stderr",
          "text": [
            "938it [00:06, 137.73it/s]\n"
          ]
        },
        {
          "output_type": "stream",
          "name": "stdout",
          "text": [
            "\rVALIDATION"
          ]
        },
        {
          "output_type": "stream",
          "name": "stderr",
          "text": [
            "157it [00:01, 137.89it/s]\n"
          ]
        },
        {
          "output_type": "stream",
          "name": "stdout",
          "text": [
            "\rAfter epoch 13: loss=1.6438 acc=0.7870 val_loss=1.6353 val_acc=0.7904\n",
            "Epoch 13 / 30: FINISHED\n",
            "\n",
            "Epoch 14 / 30: STARTED\n",
            "TRAINING"
          ]
        },
        {
          "output_type": "stream",
          "name": "stderr",
          "text": [
            "938it [00:06, 137.30it/s]\n"
          ]
        },
        {
          "output_type": "stream",
          "name": "stdout",
          "text": [
            "\rVALIDATION"
          ]
        },
        {
          "output_type": "stream",
          "name": "stderr",
          "text": [
            "157it [00:01, 139.76it/s]\n"
          ]
        },
        {
          "output_type": "stream",
          "name": "stdout",
          "text": [
            "\rAfter epoch 14: loss=1.6356 acc=0.8030 val_loss=1.6271 val_acc=0.7993\n",
            "Epoch 14 / 30: FINISHED\n",
            "\n",
            "Epoch 15 / 30: STARTED\n",
            "TRAINING"
          ]
        },
        {
          "output_type": "stream",
          "name": "stderr",
          "text": [
            "938it [00:06, 137.78it/s]\n"
          ]
        },
        {
          "output_type": "stream",
          "name": "stdout",
          "text": [
            "\rVALIDATION"
          ]
        },
        {
          "output_type": "stream",
          "name": "stderr",
          "text": [
            "157it [00:01, 140.25it/s]\n"
          ]
        },
        {
          "output_type": "stream",
          "name": "stdout",
          "text": [
            "\rAfter epoch 15: loss=1.6279 acc=0.8130 val_loss=1.6189 val_acc=0.8045\n",
            "Epoch 15 / 30: FINISHED\n",
            "\n",
            "Epoch 16 / 30: STARTED\n",
            "TRAINING"
          ]
        },
        {
          "output_type": "stream",
          "name": "stderr",
          "text": [
            "938it [00:06, 137.34it/s]\n"
          ]
        },
        {
          "output_type": "stream",
          "name": "stdout",
          "text": [
            "\rVALIDATION"
          ]
        },
        {
          "output_type": "stream",
          "name": "stderr",
          "text": [
            "157it [00:01, 140.85it/s]\n"
          ]
        },
        {
          "output_type": "stream",
          "name": "stdout",
          "text": [
            "\rAfter epoch 16: loss=1.6204 acc=0.8160 val_loss=1.6118 val_acc=0.8041\n",
            "Epoch 16 / 30: FINISHED\n",
            "\n",
            "Epoch 17 / 30: STARTED\n",
            "TRAINING"
          ]
        },
        {
          "output_type": "stream",
          "name": "stderr",
          "text": [
            "938it [00:06, 138.87it/s]\n"
          ]
        },
        {
          "output_type": "stream",
          "name": "stdout",
          "text": [
            "\rVALIDATION"
          ]
        },
        {
          "output_type": "stream",
          "name": "stderr",
          "text": [
            "157it [00:01, 139.81it/s]\n"
          ]
        },
        {
          "output_type": "stream",
          "name": "stdout",
          "text": [
            "\rAfter epoch 17: loss=1.6142 acc=0.8129 val_loss=1.6064 val_acc=0.8040\n",
            "Epoch 17 / 30: FINISHED\n",
            "\n",
            "Epoch 18 / 30: STARTED\n",
            "TRAINING"
          ]
        },
        {
          "output_type": "stream",
          "name": "stderr",
          "text": [
            "938it [00:06, 139.40it/s]\n"
          ]
        },
        {
          "output_type": "stream",
          "name": "stdout",
          "text": [
            "\rVALIDATION"
          ]
        },
        {
          "output_type": "stream",
          "name": "stderr",
          "text": [
            "157it [00:01, 140.25it/s]\n"
          ]
        },
        {
          "output_type": "stream",
          "name": "stdout",
          "text": [
            "\rAfter epoch 18: loss=1.6092 acc=0.8098 val_loss=1.6020 val_acc=0.8032\n",
            "Epoch 18 / 30: FINISHED\n",
            "\n",
            "Epoch 19 / 30: STARTED\n",
            "TRAINING"
          ]
        },
        {
          "output_type": "stream",
          "name": "stderr",
          "text": [
            "938it [00:06, 139.23it/s]\n"
          ]
        },
        {
          "output_type": "stream",
          "name": "stdout",
          "text": [
            "\rVALIDATION"
          ]
        },
        {
          "output_type": "stream",
          "name": "stderr",
          "text": [
            "157it [00:01, 138.99it/s]\n"
          ]
        },
        {
          "output_type": "stream",
          "name": "stdout",
          "text": [
            "\rAfter epoch 19: loss=1.6051 acc=0.8078 val_loss=1.5983 val_acc=0.8032\n",
            "Epoch 19 / 30: FINISHED\n",
            "\n",
            "Epoch 20 / 30: STARTED\n",
            "TRAINING"
          ]
        },
        {
          "output_type": "stream",
          "name": "stderr",
          "text": [
            "938it [00:06, 139.85it/s]\n"
          ]
        },
        {
          "output_type": "stream",
          "name": "stdout",
          "text": [
            "\rVALIDATION"
          ]
        },
        {
          "output_type": "stream",
          "name": "stderr",
          "text": [
            "157it [00:01, 141.26it/s]\n"
          ]
        },
        {
          "output_type": "stream",
          "name": "stdout",
          "text": [
            "\rAfter epoch 20: loss=1.6015 acc=0.8072 val_loss=1.5950 val_acc=0.8035\n",
            "Epoch 20 / 30: FINISHED\n",
            "\n",
            "Epoch 21 / 30: STARTED\n",
            "TRAINING"
          ]
        },
        {
          "output_type": "stream",
          "name": "stderr",
          "text": [
            "938it [00:06, 139.45it/s]\n"
          ]
        },
        {
          "output_type": "stream",
          "name": "stdout",
          "text": [
            "\rVALIDATION"
          ]
        },
        {
          "output_type": "stream",
          "name": "stderr",
          "text": [
            "157it [00:01, 139.14it/s]\n"
          ]
        },
        {
          "output_type": "stream",
          "name": "stdout",
          "text": [
            "\rAfter epoch 21: loss=1.5984 acc=0.8071 val_loss=1.5921 val_acc=0.8052\n",
            "Epoch 21 / 30: FINISHED\n",
            "\n",
            "Epoch 22 / 30: STARTED\n",
            "TRAINING"
          ]
        },
        {
          "output_type": "stream",
          "name": "stderr",
          "text": [
            "938it [00:06, 139.50it/s]\n"
          ]
        },
        {
          "output_type": "stream",
          "name": "stdout",
          "text": [
            "\rVALIDATION"
          ]
        },
        {
          "output_type": "stream",
          "name": "stderr",
          "text": [
            "157it [00:01, 135.62it/s]\n"
          ]
        },
        {
          "output_type": "stream",
          "name": "stdout",
          "text": [
            "\rAfter epoch 22: loss=1.5955 acc=0.8076 val_loss=1.5895 val_acc=0.8065\n",
            "Epoch 22 / 30: FINISHED\n",
            "\n",
            "Epoch 23 / 30: STARTED\n",
            "TRAINING"
          ]
        },
        {
          "output_type": "stream",
          "name": "stderr",
          "text": [
            "938it [00:07, 124.31it/s]\n"
          ]
        },
        {
          "output_type": "stream",
          "name": "stdout",
          "text": [
            "\rVALIDATION"
          ]
        },
        {
          "output_type": "stream",
          "name": "stderr",
          "text": [
            "157it [00:01, 138.16it/s]\n"
          ]
        },
        {
          "output_type": "stream",
          "name": "stdout",
          "text": [
            "\rAfter epoch 23: loss=1.5929 acc=0.8087 val_loss=1.5871 val_acc=0.8086\n",
            "Epoch 23 / 30: FINISHED\n",
            "\n",
            "Epoch 24 / 30: STARTED\n",
            "TRAINING"
          ]
        },
        {
          "output_type": "stream",
          "name": "stderr",
          "text": [
            "938it [00:06, 136.14it/s]\n"
          ]
        },
        {
          "output_type": "stream",
          "name": "stdout",
          "text": [
            "\rVALIDATION"
          ]
        },
        {
          "output_type": "stream",
          "name": "stderr",
          "text": [
            "157it [00:01, 137.53it/s]\n"
          ]
        },
        {
          "output_type": "stream",
          "name": "stdout",
          "text": [
            "\rAfter epoch 24: loss=1.5906 acc=0.8097 val_loss=1.5849 val_acc=0.8096\n",
            "Epoch 24 / 30: FINISHED\n",
            "\n",
            "Epoch 25 / 30: STARTED\n",
            "TRAINING"
          ]
        },
        {
          "output_type": "stream",
          "name": "stderr",
          "text": [
            "938it [00:06, 137.43it/s]\n"
          ]
        },
        {
          "output_type": "stream",
          "name": "stdout",
          "text": [
            "\rVALIDATION"
          ]
        },
        {
          "output_type": "stream",
          "name": "stderr",
          "text": [
            "157it [00:01, 139.07it/s]\n"
          ]
        },
        {
          "output_type": "stream",
          "name": "stdout",
          "text": [
            "\rAfter epoch 25: loss=1.5883 acc=0.8108 val_loss=1.5828 val_acc=0.8118\n",
            "Epoch 25 / 30: FINISHED\n",
            "\n",
            "Epoch 26 / 30: STARTED\n",
            "TRAINING"
          ]
        },
        {
          "output_type": "stream",
          "name": "stderr",
          "text": [
            "938it [00:06, 137.40it/s]\n"
          ]
        },
        {
          "output_type": "stream",
          "name": "stdout",
          "text": [
            "\rVALIDATION"
          ]
        },
        {
          "output_type": "stream",
          "name": "stderr",
          "text": [
            "157it [00:01, 140.04it/s]\n"
          ]
        },
        {
          "output_type": "stream",
          "name": "stdout",
          "text": [
            "\rAfter epoch 26: loss=1.5863 acc=0.8126 val_loss=1.5808 val_acc=0.8142\n",
            "Epoch 26 / 30: FINISHED\n",
            "\n",
            "Epoch 27 / 30: STARTED\n",
            "TRAINING"
          ]
        },
        {
          "output_type": "stream",
          "name": "stderr",
          "text": [
            "938it [00:06, 138.60it/s]\n"
          ]
        },
        {
          "output_type": "stream",
          "name": "stdout",
          "text": [
            "\rVALIDATION"
          ]
        },
        {
          "output_type": "stream",
          "name": "stderr",
          "text": [
            "157it [00:01, 139.25it/s]\n"
          ]
        },
        {
          "output_type": "stream",
          "name": "stdout",
          "text": [
            "\rAfter epoch 27: loss=1.5844 acc=0.8141 val_loss=1.5790 val_acc=0.8160\n",
            "Epoch 27 / 30: FINISHED\n",
            "\n",
            "Epoch 28 / 30: STARTED\n",
            "TRAINING"
          ]
        },
        {
          "output_type": "stream",
          "name": "stderr",
          "text": [
            "938it [00:06, 137.58it/s]\n"
          ]
        },
        {
          "output_type": "stream",
          "name": "stdout",
          "text": [
            "\rVALIDATION"
          ]
        },
        {
          "output_type": "stream",
          "name": "stderr",
          "text": [
            "157it [00:01, 139.72it/s]\n"
          ]
        },
        {
          "output_type": "stream",
          "name": "stdout",
          "text": [
            "\rAfter epoch 28: loss=1.5825 acc=0.8157 val_loss=1.5773 val_acc=0.8180\n",
            "Epoch 28 / 30: FINISHED\n",
            "\n",
            "Epoch 29 / 30: STARTED\n",
            "TRAINING"
          ]
        },
        {
          "output_type": "stream",
          "name": "stderr",
          "text": [
            "938it [00:06, 137.58it/s]\n"
          ]
        },
        {
          "output_type": "stream",
          "name": "stdout",
          "text": [
            "\rVALIDATION"
          ]
        },
        {
          "output_type": "stream",
          "name": "stderr",
          "text": [
            "157it [00:01, 136.77it/s]\n"
          ]
        },
        {
          "output_type": "stream",
          "name": "stdout",
          "text": [
            "\rAfter epoch 29: loss=1.5808 acc=0.8173 val_loss=1.5757 val_acc=0.8195\n",
            "Epoch 29 / 30: FINISHED\n",
            "\n",
            "Epoch 30 / 30: STARTED\n",
            "TRAINING"
          ]
        },
        {
          "output_type": "stream",
          "name": "stderr",
          "text": [
            "938it [00:06, 137.44it/s]\n"
          ]
        },
        {
          "output_type": "stream",
          "name": "stdout",
          "text": [
            "\rVALIDATION"
          ]
        },
        {
          "output_type": "stream",
          "name": "stderr",
          "text": [
            "157it [00:01, 139.92it/s]"
          ]
        },
        {
          "output_type": "stream",
          "name": "stdout",
          "text": [
            "\rAfter epoch 30: loss=1.5792 acc=0.8188 val_loss=1.5741 val_acc=0.8209\n",
            "Epoch 30 / 30: FINISHED\n",
            "\n"
          ]
        },
        {
          "output_type": "stream",
          "name": "stderr",
          "text": [
            "\n"
          ]
        }
      ],
      "source": [
        "class NeuralNetwork(nn.Module):\n",
        "    def __init__(self, \n",
        "                 input_shape=(1,28,28), \n",
        "                 num_of_classes=10,\n",
        "                 hidden_1_size = 1024,\n",
        "                 hidden_2_size = 1024,\n",
        "                 ) -> None:\n",
        "        super().__init__()\n",
        "        input_len = torch.prod(torch.tensor(input_shape))\n",
        "        self.flatten = nn.Flatten()\n",
        "        self.hidden_1 = nn.Linear(input_len, hidden_1_size)\n",
        "        self.hidden_2 = nn.Linear(hidden_1_size, hidden_2_size)\n",
        "        self.last_layer = nn.Linear(hidden_2_size, num_of_classes)\n",
        "        self.relu = nn.ReLU()\n",
        "        self.sigm = nn.Sigmoid()\n",
        "        \n",
        "        \n",
        "    def forward(self, x: torch.Tensor) -> torch.Tensor:\n",
        "        x = self.flatten(x)\n",
        "        x = self.hidden_1(x)\n",
        "        x = self.sigm(x)\n",
        "        x = self.hidden_2(x)\n",
        "        x = self.sigm(x)\n",
        "        x = self.last_layer(x)\n",
        "        x = self.sigm(x)\n",
        "        \n",
        "        return x\n",
        "\n",
        "\n",
        "set_random_seed(0)\n",
        "net = NeuralNetwork().to(device)\n",
        "net_param_number = lu.count_params(net)\n",
        "print(f\"Network paramerters number: {net_param_number}\")\n",
        "\n",
        "set_random_seed(0)\n",
        "metric = lu.AccuracyMetic()\n",
        "criterion = torch.nn.CrossEntropyLoss()\n",
        "optimizer = torch.optim.SGD(net.parameters(), lr=0.1)\n",
        "\n",
        "set_random_seed(0)\n",
        "net, history = lu.training(net, train_loader, test_loader, criterion, metric, optimizer, 5, 30, device=device)"
      ]
    },
    {
      "cell_type": "markdown",
      "metadata": {
        "id": "TmPvJrVa24SW"
      },
      "source": [
        "1. Extract state dict (and name it - `sd`) from trained model.\n",
        "\n",
        "Create second dictionary `sd_2` and fill it with copies of parameters from extracted state dictionary.\n",
        "\n",
        "Print parameters names, shapes and statistics: min, max, std, mean for each parameter."
      ]
    },
    {
      "cell_type": "code",
      "execution_count": 15,
      "metadata": {
        "colab": {
          "base_uri": "https://localhost:8080/"
        },
        "id": "SCydec9I24SX",
        "outputId": "29feafe3-70fb-499a-cf77-d51ea1c1a55a"
      },
      "outputs": [
        {
          "output_type": "stream",
          "name": "stdout",
          "text": [
            "hidden_1.weight\n",
            "tensor(-0.1775, device='cuda:0')\n",
            "tensor(0.1809, device='cuda:0')\n",
            "tensor(-0.0002, device='cuda:0')\n",
            "tensor(0.0271, device='cuda:0')\n",
            "torch.Size([1024, 784])\n",
            "hidden_1.bias\n",
            "tensor(-0.0664, device='cuda:0')\n",
            "tensor(0.0704, device='cuda:0')\n",
            "tensor(-0.0011, device='cuda:0')\n",
            "tensor(0.0238, device='cuda:0')\n",
            "torch.Size([1024])\n",
            "hidden_2.weight\n",
            "tensor(-0.1189, device='cuda:0')\n",
            "tensor(0.1240, device='cuda:0')\n",
            "tensor(-0.0007, device='cuda:0')\n",
            "tensor(0.0236, device='cuda:0')\n",
            "torch.Size([1024, 1024])\n",
            "hidden_2.bias\n",
            "tensor(-0.0359, device='cuda:0')\n",
            "tensor(0.0353, device='cuda:0')\n",
            "tensor(-0.0001, device='cuda:0')\n",
            "tensor(0.0179, device='cuda:0')\n",
            "torch.Size([1024])\n",
            "last_layer.weight\n",
            "tensor(-0.4985, device='cuda:0')\n",
            "tensor(0.4578, device='cuda:0')\n",
            "tensor(-0.0261, device='cuda:0')\n",
            "tensor(0.1436, device='cuda:0')\n",
            "torch.Size([10, 1024])\n",
            "last_layer.bias\n",
            "tensor(-0.0962, device='cuda:0')\n",
            "tensor(-0.0070, device='cuda:0')\n",
            "tensor(-0.0389, device='cuda:0')\n",
            "tensor(0.0267, device='cuda:0')\n",
            "torch.Size([10])\n",
            "{'hidden_1.weight': tensor([[-0.0003,  0.0192, -0.0294,  ...,  0.0219,  0.0037,  0.0021],\n",
            "        [-0.0198, -0.0150, -0.0104,  ..., -0.0203, -0.0060, -0.0299],\n",
            "        [-0.0201,  0.0149, -0.0333,  ..., -0.0203,  0.0012,  0.0080],\n",
            "        ...,\n",
            "        [-0.0278,  0.0100, -0.0151,  ...,  0.0356,  0.0340, -0.0310],\n",
            "        [ 0.0174,  0.0051,  0.0038,  ...,  0.0176,  0.0174, -0.0338],\n",
            "        [-0.0280, -0.0009,  0.0183,  ...,  0.0242, -0.0098,  0.0033]],\n",
            "       device='cuda:0'), 'hidden_1.bias': tensor([-0.0463,  0.0136, -0.0180,  ..., -0.0133,  0.0246, -0.0356],\n",
            "       device='cuda:0'), 'hidden_2.weight': tensor([[ 0.0447, -0.0190,  0.0006,  ...,  0.0394,  0.0322, -0.0370],\n",
            "        [ 0.0358,  0.0132,  0.0055,  ...,  0.0263,  0.0075, -0.0018],\n",
            "        [-0.0005, -0.0157, -0.0146,  ..., -0.0115, -0.0089, -0.0224],\n",
            "        ...,\n",
            "        [-0.0273, -0.0076,  0.0314,  ..., -0.0237,  0.0292,  0.0268],\n",
            "        [-0.0100,  0.0323, -0.0182,  ...,  0.0129, -0.0072,  0.0113],\n",
            "        [-0.0215,  0.0162, -0.0038,  ..., -0.0096, -0.0326,  0.0080]],\n",
            "       device='cuda:0'), 'hidden_2.bias': tensor([-0.0244, -0.0064,  0.0046,  ...,  0.0100, -0.0263, -0.0298],\n",
            "       device='cuda:0'), 'last_layer.weight': tensor([[-0.0899, -0.1022, -0.0326,  ..., -0.1763,  0.1055,  0.1302],\n",
            "        [-0.0224, -0.0271, -0.1147,  ...,  0.1225, -0.2643, -0.2889],\n",
            "        [ 0.0898, -0.1770,  0.3242,  ..., -0.0586, -0.0944, -0.0711],\n",
            "        ...,\n",
            "        [-0.1160, -0.1354,  0.1796,  ..., -0.0221, -0.0808, -0.0688],\n",
            "        [ 0.2017,  0.1482, -0.0138,  ..., -0.1415,  0.0746,  0.0674],\n",
            "        [ 0.0055,  0.1102,  0.0189,  ...,  0.0559,  0.0263, -0.0506]],\n",
            "       device='cuda:0'), 'last_layer.bias': tensor([-0.0962, -0.0422, -0.0479, -0.0148, -0.0216, -0.0427, -0.0123, -0.0070,\n",
            "        -0.0588, -0.0456], device='cuda:0')}\n"
          ]
        }
      ],
      "source": [
        "sd = net.state_dict()\n",
        "\n",
        "sd2 = []\n",
        "for x in sd:\n",
        "  sd2 = sd[x]\n",
        " \n",
        "for i in sd_2:\n",
        "    print(i)\n",
        "    print(torch.min(sd_2[i]))\n",
        "    print(torch.max(sd_2[i]))\n",
        "    print(torch.mean(sd_2[i]))\n",
        "    print(torch.std(sd_2[i]))\n",
        "    print(sd_2[i].shape)\n",
        "print(sd_2)"
      ]
    },
    {
      "cell_type": "markdown",
      "metadata": {
        "id": "-6zZ7YKn24SZ"
      },
      "source": [
        "2. Define a function `get_mask`, which takes arguments:\n",
        "    - `parameter` - tensor of weights\n",
        "    - `threshold` - threashold of filters (weights for single out channel) corelation\n",
        "\n",
        "Function shoud:\n",
        "1) standardize each row by it's mean and standard deviation and small value epsilon = 1e-6.\n",
        "    - this step is not necessary, you can try different version: with and without standardization \n",
        "2) normalize each row by it's Euclidian norm.\n",
        "3) calculate corelation matrix between filters (rows):\n",
        "    - `torch.matmul`\n",
        "    - `torch.transpose`\n",
        "4) threshold absolute corelation matrix with given parameter `threshold`\n",
        "5) create mask of matrix elements where coloumn idx is higher than row idx - over diagonal matrix.\n",
        "    - `torch.meshgrid`\n",
        "6) create mask of intersection of both masks from 4) and 5)\n",
        "7) crete mask of columns where there are only zero elements.\n",
        "8) return mask as mask of filters to leave untouched (True) and fileter to remove (False).\n"
      ]
    },
    {
      "cell_type": "code",
      "execution_count": 16,
      "metadata": {
        "id": "NhkpDvoj24SZ"
      },
      "outputs": [],
      "source": [
        "def get_mask(parameter: torch.Tensor, threshold: float):\n",
        "    \n",
        "    original_shape = parameter.shape\n",
        "    parameter = parameter.reshape(original_shape[0],-1)\n",
        "    parameter = parameter / (parameter.square().sum(1).reshape(-1,1).sqrt())\n",
        "    \n",
        "    # correlation matrix\n",
        "    corr = torch.matmul(parameter, parameter.transpose(0,1))\n",
        "    \n",
        "    # highly correlated filters mask \n",
        "    corr_mask = corr.abs() > threshold\n",
        "\n",
        "    # print(corr.shape)\n",
        "    \n",
        "    # over diagonal matrix\n",
        "    row_idx, col_idx = torch.meshgrid(torch.arange(0,corr.shape[0]), torch.arange(0,corr.shape[0]),)\n",
        "    analysis_mask = col_idx > row_idx\n",
        "    \n",
        "    # over diagonal part of mask\n",
        "    filters_correlation = corr_mask * analysis_mask.to(parameter.device)\n",
        "\n",
        "    channels_mask = filters_correlation.sum(0) == 0\n",
        "    \n",
        "    return channels_mask\n",
        "\n"
      ]
    },
    {
      "cell_type": "markdown",
      "metadata": {
        "id": "FZyQ2Nis24Sa"
      },
      "source": [
        "3. Calculate masks for both hidden weights from `sd` dict.\n",
        "\n",
        "Hint: work on copy of weights - `torch.Tensor.clone` "
      ]
    },
    {
      "cell_type": "code",
      "execution_count": 18,
      "metadata": {
        "colab": {
          "base_uri": "https://localhost:8080/"
        },
        "id": "lPoO3e4i24Sb",
        "outputId": "de92792d-0d1b-420a-c344-785b2b8b1f42"
      },
      "outputs": [
        {
          "output_type": "stream",
          "name": "stderr",
          "text": [
            "/usr/local/lib/python3.8/dist-packages/torch/functional.py:504: UserWarning: torch.meshgrid: in an upcoming release, it will be required to pass the indexing argument. (Triggered internally at ../aten/src/ATen/native/TensorShape.cpp:3190.)\n",
            "  return _VF.meshgrid(tensors, **kwargs)  # type: ignore[attr-defined]\n"
          ]
        },
        {
          "output_type": "execute_result",
          "data": {
            "text/plain": [
              "torch.Size([1024])"
            ]
          },
          "metadata": {},
          "execution_count": 18
        }
      ],
      "source": [
        "h1_mask = get_mask(torch.Tensor.clone(list(sd.values())[0]),0.5)\n",
        "h2_mask = get_mask(torch.Tensor.clone(list(sd.values())[2]),0.5)\n",
        "h1_mask.size()\n",
        "h2_mask.size()"
      ]
    },
    {
      "cell_type": "markdown",
      "metadata": {
        "id": "snnU3WV524Sc"
      },
      "source": [
        "4. Slice weights of hidden layers based on created masks.\n",
        "\n",
        "Resulted weights assign to proper weight in `sd_2`.\n",
        "\n",
        "Print shapes of weights.\n",
        "\n",
        "Note: Prunning of channels one layer affects to next one layer, but not to the previous layer.\n",
        "\n",
        "Note: first layer must contain the same number of input channels.\n",
        " \n",
        "Note: last layer must contain the same number of output channels.\n",
        "\n",
        "Hint: For slicing on few dimensions, use it separately on results of previous dim slice.\n",
        " "
      ]
    },
    {
      "cell_type": "code",
      "execution_count": 19,
      "metadata": {
        "colab": {
          "base_uri": "https://localhost:8080/"
        },
        "id": "FU2WM3y324Sc",
        "outputId": "d27657ab-f35b-43d3-9d2b-91a39b0276c8"
      },
      "outputs": [
        {
          "output_type": "stream",
          "name": "stdout",
          "text": [
            "torch.Size([1024])\n",
            "torch.Size([1024])\n"
          ]
        }
      ],
      "source": [
        "sd_2[\"hidden_1.weight\"] = h1_mask\n",
        "sd_2[\"hidden_2.weight\"] = h1_mask\n",
        "print(sd_2[\"hidden_1.weight\"].size())\n",
        "print(sd_2[\"hidden_2.weight\"].size())"
      ]
    },
    {
      "cell_type": "markdown",
      "metadata": {
        "id": "N1-w_ydm24Se"
      },
      "source": [
        "5. Bias prunning: slice biases of hidden layers with layers masks.\n",
        "\n",
        "Note: bias is related with layer output channel."
      ]
    },
    {
      "cell_type": "code",
      "execution_count": 20,
      "metadata": {
        "id": "vvNJej2h24Sf"
      },
      "outputs": [],
      "source": [
        "h1_mask = get_mask(torch.Tensor.clone(list(sd.values())[1]),0.5)\n",
        "h2_mask = get_mask(torch.Tensor.clone(list(sd.values())[3]),0.5)\n",
        "sd_2[\"hidden_1.bias\"] = h1_mask\n",
        "sd_2[\"hidden_2.bias\"] = h1_mask"
      ]
    },
    {
      "cell_type": "markdown",
      "metadata": {
        "id": "A-lVXyDa24Sf"
      },
      "source": [
        "6. Instiante second `NeuralNetwork` with hidden size defined by proper mask size.\n",
        "\n",
        "Initialize network with `sd_2`.\n",
        "\n",
        "Print number of parameters."
      ]
    },
    {
      "cell_type": "code",
      "execution_count": 21,
      "metadata": {
        "colab": {
          "base_uri": "https://localhost:8080/",
          "height": 391
        },
        "id": "nfZkOKJG24Sg",
        "outputId": "ce025d5d-588a-440e-b5bc-e30c84344fda"
      },
      "outputs": [
        {
          "output_type": "error",
          "ename": "RuntimeError",
          "evalue": "ignored",
          "traceback": [
            "\u001b[0;31m---------------------------------------------------------------------------\u001b[0m",
            "\u001b[0;31mRuntimeError\u001b[0m                              Traceback (most recent call last)",
            "\u001b[0;32m<ipython-input-21-232c61eb608b>\u001b[0m in \u001b[0;36m<module>\u001b[0;34m\u001b[0m\n\u001b[1;32m      1\u001b[0m \u001b[0mnet_2\u001b[0m \u001b[0;34m=\u001b[0m \u001b[0mNeuralNetwork\u001b[0m\u001b[0;34m(\u001b[0m\u001b[0;34m)\u001b[0m\u001b[0;34m.\u001b[0m\u001b[0mto\u001b[0m\u001b[0;34m(\u001b[0m\u001b[0mdevice\u001b[0m\u001b[0;34m)\u001b[0m\u001b[0;34m\u001b[0m\u001b[0;34m\u001b[0m\u001b[0m\n\u001b[0;32m----> 2\u001b[0;31m \u001b[0mnet_2\u001b[0m\u001b[0;34m.\u001b[0m\u001b[0mload_state_dict\u001b[0m\u001b[0;34m(\u001b[0m\u001b[0msd_2\u001b[0m\u001b[0;34m)\u001b[0m\u001b[0;34m\u001b[0m\u001b[0;34m\u001b[0m\u001b[0m\n\u001b[0m\u001b[1;32m      3\u001b[0m \u001b[0mprint\u001b[0m\u001b[0;34m(\u001b[0m\u001b[0mlu\u001b[0m\u001b[0;34m.\u001b[0m\u001b[0mcount_params\u001b[0m\u001b[0;34m(\u001b[0m\u001b[0mnet_2\u001b[0m\u001b[0;34m)\u001b[0m\u001b[0;34m)\u001b[0m\u001b[0;34m\u001b[0m\u001b[0;34m\u001b[0m\u001b[0m\n",
            "\u001b[0;32m/usr/local/lib/python3.8/dist-packages/torch/nn/modules/module.py\u001b[0m in \u001b[0;36mload_state_dict\u001b[0;34m(self, state_dict, strict)\u001b[0m\n\u001b[1;32m   1669\u001b[0m \u001b[0;34m\u001b[0m\u001b[0m\n\u001b[1;32m   1670\u001b[0m         \u001b[0;32mif\u001b[0m \u001b[0mlen\u001b[0m\u001b[0;34m(\u001b[0m\u001b[0merror_msgs\u001b[0m\u001b[0;34m)\u001b[0m \u001b[0;34m>\u001b[0m \u001b[0;36m0\u001b[0m\u001b[0;34m:\u001b[0m\u001b[0;34m\u001b[0m\u001b[0;34m\u001b[0m\u001b[0m\n\u001b[0;32m-> 1671\u001b[0;31m             raise RuntimeError('Error(s) in loading state_dict for {}:\\n\\t{}'.format(\n\u001b[0m\u001b[1;32m   1672\u001b[0m                                self.__class__.__name__, \"\\n\\t\".join(error_msgs)))\n\u001b[1;32m   1673\u001b[0m         \u001b[0;32mreturn\u001b[0m \u001b[0m_IncompatibleKeys\u001b[0m\u001b[0;34m(\u001b[0m\u001b[0mmissing_keys\u001b[0m\u001b[0;34m,\u001b[0m \u001b[0munexpected_keys\u001b[0m\u001b[0;34m)\u001b[0m\u001b[0;34m\u001b[0m\u001b[0;34m\u001b[0m\u001b[0m\n",
            "\u001b[0;31mRuntimeError\u001b[0m: Error(s) in loading state_dict for NeuralNetwork:\n\tsize mismatch for hidden_1.weight: copying a param with shape torch.Size([1024]) from checkpoint, the shape in current model is torch.Size([1024, 784]).\n\tsize mismatch for hidden_2.weight: copying a param with shape torch.Size([1024]) from checkpoint, the shape in current model is torch.Size([1024, 1024])."
          ]
        }
      ],
      "source": [
        "net_2 = NeuralNetwork().to(device)\n",
        "net_2.load_state_dict(sd_2)\n",
        "print(lu.count_params(net_2))"
      ]
    },
    {
      "cell_type": "markdown",
      "metadata": {
        "id": "mknSrt8t24Si"
      },
      "source": [
        "7. Calculate accuracy and loss for training and validation datasets.\n",
        "\n",
        "P.S. \n",
        "```\n",
        "lu.train_test_pass:\n",
        "\n",
        "optimizer=None,\n",
        "update_period=None,\n",
        "mode='test',\n",
        "device=device\n",
        "```"
      ]
    },
    {
      "cell_type": "code",
      "execution_count": 22,
      "metadata": {
        "colab": {
          "base_uri": "https://localhost:8080/"
        },
        "id": "iflu4O1S24Si",
        "outputId": "c0256002-5c09-45c4-f2a5-ddaa725f37c7"
      },
      "outputs": [
        {
          "output_type": "stream",
          "name": "stderr",
          "text": [
            "938it [00:07, 126.40it/s]\n"
          ]
        },
        {
          "output_type": "stream",
          "name": "stdout",
          "text": [
            "1.5776554679870605 0.8206333333333333\n"
          ]
        },
        {
          "output_type": "stream",
          "name": "stderr",
          "text": [
            "157it [00:01, 137.04it/s]"
          ]
        },
        {
          "output_type": "stream",
          "name": "stdout",
          "text": [
            "1.5726901584625244 0.8219\n"
          ]
        },
        {
          "output_type": "stream",
          "name": "stderr",
          "text": [
            "\n"
          ]
        }
      ],
      "source": [
        "loss, acc = lu.train_test_pass(model=net,\n",
        "                               data_generator=train_loader,\n",
        "                               criterion=criterion,\n",
        "                               metric=metric,\n",
        "                               optimizer=optimizer,\n",
        "                               update_period=5,\n",
        "                               mode='train',\n",
        "                               device=device)[1:]\n",
        "print(loss, acc)\n",
        "loss, acc = lu.train_test_pass(model=net,\n",
        "                               data_generator=test_loader,\n",
        "                               criterion=criterion,\n",
        "                               metric=metric,\n",
        "                               optimizer=optimizer,\n",
        "                               update_period=5,\n",
        "                               mode='test',\n",
        "                               device=device)[1:]\n",
        "print(loss, acc)"
      ]
    },
    {
      "cell_type": "markdown",
      "metadata": {
        "id": "_IyFQWDD24Sj"
      },
      "source": [
        "8. *Aditional: Try 5 different thresholds for `get_mask` function.\n",
        "\n",
        "Print resulted sizes."
      ]
    },
    {
      "cell_type": "code",
      "execution_count": 23,
      "metadata": {
        "colab": {
          "base_uri": "https://localhost:8080/"
        },
        "id": "f88nyWGu24Sj",
        "outputId": "4530ba59-e033-4d32-c2ed-08105d8d919b"
      },
      "outputs": [
        {
          "output_type": "stream",
          "name": "stdout",
          "text": [
            "torch.Size([1024])\n",
            "torch.Size([1024])\n",
            "torch.Size([1024])\n",
            "torch.Size([1024])\n",
            "torch.Size([10])\n"
          ]
        }
      ],
      "source": [
        "h1_mask = get_mask(torch.Tensor.clone(list(sd.values())[0]),0.5)\n",
        "h2_mask = get_mask(torch.Tensor.clone(list(sd.values())[1]),1.2)\n",
        "h3_mask = get_mask(torch.Tensor.clone(list(sd.values())[2]),1.5)\n",
        "h4_mask = get_mask(torch.Tensor.clone(list(sd.values())[3]),2.0)\n",
        "h5_mask = get_mask(torch.Tensor.clone(list(sd.values())[4]),2.5)\n",
        "print(h1_mask.size())\n",
        "print(h2_mask.size())\n",
        "print(h3_mask.size())\n",
        "print(h4_mask.size())\n",
        "print(h5_mask.size())"
      ]
    },
    {
      "cell_type": "markdown",
      "metadata": {
        "id": "G10onYbk24Sl"
      },
      "source": [
        "9. **Additional: Fine tune pruned model (`net_2`) - train it."
      ]
    },
    {
      "cell_type": "code",
      "execution_count": 24,
      "metadata": {
        "colab": {
          "base_uri": "https://localhost:8080/"
        },
        "id": "hwKi7nHi24Sl",
        "outputId": "8fcea400-0772-46b7-f075-7a73e9ac9803"
      },
      "outputs": [
        {
          "output_type": "stream",
          "name": "stderr",
          "text": [
            "938it [00:07, 133.57it/s]\n"
          ]
        }
      ],
      "source": [
        "loss, acc = lu.train_test_pass(model=net_2,\n",
        "                               data_generator=train_loader,\n",
        "                               criterion=criterion,\n",
        "                               metric=metric,\n",
        "                               optimizer=optimizer,\n",
        "                               update_period=5,\n",
        "                               mode='train',\n",
        "                               device=device)[1:]"
      ]
    },
    {
      "cell_type": "markdown",
      "metadata": {
        "id": "moAA9yxG24Sm"
      },
      "source": [
        "6. You can leave a feedback, if you want :)"
      ]
    },
    {
      "cell_type": "markdown",
      "metadata": {
        "id": "eVtETBPI24Sn"
      },
      "source": []
    },
    {
      "cell_type": "markdown",
      "metadata": {
        "id": "ob8E2SHO24So"
      },
      "source": [
        "7. Exercises please upload this file (*.ipynb) to UPEL."
      ]
    },
    {
      "cell_type": "markdown",
      "metadata": {
        "id": "RVD8CUrt24So"
      },
      "source": []
    }
  ],
  "metadata": {
    "kernelspec": {
      "display_name": "Python 3.10.7 64-bit",
      "language": "python",
      "name": "python3"
    },
    "language_info": {
      "codemirror_mode": {
        "name": "ipython",
        "version": 3
      },
      "file_extension": ".py",
      "mimetype": "text/x-python",
      "name": "python",
      "nbconvert_exporter": "python",
      "pygments_lexer": "ipython3",
      "version": "3.10.7"
    },
    "orig_nbformat": 4,
    "vscode": {
      "interpreter": {
        "hash": "814e3fea5aed7c4aab3ab1a9ee8ce6861cb7a1485cdc7c835a0bbd4579d59261"
      }
    },
    "colab": {
      "provenance": []
    },
    "accelerator": "GPU",
    "gpuClass": "standard",
    "widgets": {
      "application/vnd.jupyter.widget-state+json": {
        "25daa33e35614ea3822feef5777fb459": {
          "model_module": "@jupyter-widgets/controls",
          "model_name": "HBoxModel",
          "model_module_version": "1.5.0",
          "state": {
            "_dom_classes": [],
            "_model_module": "@jupyter-widgets/controls",
            "_model_module_version": "1.5.0",
            "_model_name": "HBoxModel",
            "_view_count": null,
            "_view_module": "@jupyter-widgets/controls",
            "_view_module_version": "1.5.0",
            "_view_name": "HBoxView",
            "box_style": "",
            "children": [
              "IPY_MODEL_1a1c7d69a3c9461a995e541c66c13802",
              "IPY_MODEL_37e4c869750d48f2a8a36dc403ed4db6",
              "IPY_MODEL_1857cbf8bd774914902c7e32c1b26e75"
            ],
            "layout": "IPY_MODEL_103eba2ce05f4c5691bdb6ed9d5e9b8d"
          }
        },
        "1a1c7d69a3c9461a995e541c66c13802": {
          "model_module": "@jupyter-widgets/controls",
          "model_name": "HTMLModel",
          "model_module_version": "1.5.0",
          "state": {
            "_dom_classes": [],
            "_model_module": "@jupyter-widgets/controls",
            "_model_module_version": "1.5.0",
            "_model_name": "HTMLModel",
            "_view_count": null,
            "_view_module": "@jupyter-widgets/controls",
            "_view_module_version": "1.5.0",
            "_view_name": "HTMLView",
            "description": "",
            "description_tooltip": null,
            "layout": "IPY_MODEL_e175e7112c6a44429fccec6a15ea09fb",
            "placeholder": "​",
            "style": "IPY_MODEL_0935a87bb3bc444db5b55d71c335366c",
            "value": "100%"
          }
        },
        "37e4c869750d48f2a8a36dc403ed4db6": {
          "model_module": "@jupyter-widgets/controls",
          "model_name": "FloatProgressModel",
          "model_module_version": "1.5.0",
          "state": {
            "_dom_classes": [],
            "_model_module": "@jupyter-widgets/controls",
            "_model_module_version": "1.5.0",
            "_model_name": "FloatProgressModel",
            "_view_count": null,
            "_view_module": "@jupyter-widgets/controls",
            "_view_module_version": "1.5.0",
            "_view_name": "ProgressView",
            "bar_style": "success",
            "description": "",
            "description_tooltip": null,
            "layout": "IPY_MODEL_f527bd4d63024554b273b4f0f141d3c7",
            "max": 9912422,
            "min": 0,
            "orientation": "horizontal",
            "style": "IPY_MODEL_88d344bb5bb44600bea177c4bbd3c65a",
            "value": 9912422
          }
        },
        "1857cbf8bd774914902c7e32c1b26e75": {
          "model_module": "@jupyter-widgets/controls",
          "model_name": "HTMLModel",
          "model_module_version": "1.5.0",
          "state": {
            "_dom_classes": [],
            "_model_module": "@jupyter-widgets/controls",
            "_model_module_version": "1.5.0",
            "_model_name": "HTMLModel",
            "_view_count": null,
            "_view_module": "@jupyter-widgets/controls",
            "_view_module_version": "1.5.0",
            "_view_name": "HTMLView",
            "description": "",
            "description_tooltip": null,
            "layout": "IPY_MODEL_82c4f59ed2e44bc2856209c6cdf3568e",
            "placeholder": "​",
            "style": "IPY_MODEL_8a409baa298b4b0d89573e98afb2ed2c",
            "value": " 9912422/9912422 [00:00&lt;00:00, 181428938.43it/s]"
          }
        },
        "103eba2ce05f4c5691bdb6ed9d5e9b8d": {
          "model_module": "@jupyter-widgets/base",
          "model_name": "LayoutModel",
          "model_module_version": "1.2.0",
          "state": {
            "_model_module": "@jupyter-widgets/base",
            "_model_module_version": "1.2.0",
            "_model_name": "LayoutModel",
            "_view_count": null,
            "_view_module": "@jupyter-widgets/base",
            "_view_module_version": "1.2.0",
            "_view_name": "LayoutView",
            "align_content": null,
            "align_items": null,
            "align_self": null,
            "border": null,
            "bottom": null,
            "display": null,
            "flex": null,
            "flex_flow": null,
            "grid_area": null,
            "grid_auto_columns": null,
            "grid_auto_flow": null,
            "grid_auto_rows": null,
            "grid_column": null,
            "grid_gap": null,
            "grid_row": null,
            "grid_template_areas": null,
            "grid_template_columns": null,
            "grid_template_rows": null,
            "height": null,
            "justify_content": null,
            "justify_items": null,
            "left": null,
            "margin": null,
            "max_height": null,
            "max_width": null,
            "min_height": null,
            "min_width": null,
            "object_fit": null,
            "object_position": null,
            "order": null,
            "overflow": null,
            "overflow_x": null,
            "overflow_y": null,
            "padding": null,
            "right": null,
            "top": null,
            "visibility": null,
            "width": null
          }
        },
        "e175e7112c6a44429fccec6a15ea09fb": {
          "model_module": "@jupyter-widgets/base",
          "model_name": "LayoutModel",
          "model_module_version": "1.2.0",
          "state": {
            "_model_module": "@jupyter-widgets/base",
            "_model_module_version": "1.2.0",
            "_model_name": "LayoutModel",
            "_view_count": null,
            "_view_module": "@jupyter-widgets/base",
            "_view_module_version": "1.2.0",
            "_view_name": "LayoutView",
            "align_content": null,
            "align_items": null,
            "align_self": null,
            "border": null,
            "bottom": null,
            "display": null,
            "flex": null,
            "flex_flow": null,
            "grid_area": null,
            "grid_auto_columns": null,
            "grid_auto_flow": null,
            "grid_auto_rows": null,
            "grid_column": null,
            "grid_gap": null,
            "grid_row": null,
            "grid_template_areas": null,
            "grid_template_columns": null,
            "grid_template_rows": null,
            "height": null,
            "justify_content": null,
            "justify_items": null,
            "left": null,
            "margin": null,
            "max_height": null,
            "max_width": null,
            "min_height": null,
            "min_width": null,
            "object_fit": null,
            "object_position": null,
            "order": null,
            "overflow": null,
            "overflow_x": null,
            "overflow_y": null,
            "padding": null,
            "right": null,
            "top": null,
            "visibility": null,
            "width": null
          }
        },
        "0935a87bb3bc444db5b55d71c335366c": {
          "model_module": "@jupyter-widgets/controls",
          "model_name": "DescriptionStyleModel",
          "model_module_version": "1.5.0",
          "state": {
            "_model_module": "@jupyter-widgets/controls",
            "_model_module_version": "1.5.0",
            "_model_name": "DescriptionStyleModel",
            "_view_count": null,
            "_view_module": "@jupyter-widgets/base",
            "_view_module_version": "1.2.0",
            "_view_name": "StyleView",
            "description_width": ""
          }
        },
        "f527bd4d63024554b273b4f0f141d3c7": {
          "model_module": "@jupyter-widgets/base",
          "model_name": "LayoutModel",
          "model_module_version": "1.2.0",
          "state": {
            "_model_module": "@jupyter-widgets/base",
            "_model_module_version": "1.2.0",
            "_model_name": "LayoutModel",
            "_view_count": null,
            "_view_module": "@jupyter-widgets/base",
            "_view_module_version": "1.2.0",
            "_view_name": "LayoutView",
            "align_content": null,
            "align_items": null,
            "align_self": null,
            "border": null,
            "bottom": null,
            "display": null,
            "flex": null,
            "flex_flow": null,
            "grid_area": null,
            "grid_auto_columns": null,
            "grid_auto_flow": null,
            "grid_auto_rows": null,
            "grid_column": null,
            "grid_gap": null,
            "grid_row": null,
            "grid_template_areas": null,
            "grid_template_columns": null,
            "grid_template_rows": null,
            "height": null,
            "justify_content": null,
            "justify_items": null,
            "left": null,
            "margin": null,
            "max_height": null,
            "max_width": null,
            "min_height": null,
            "min_width": null,
            "object_fit": null,
            "object_position": null,
            "order": null,
            "overflow": null,
            "overflow_x": null,
            "overflow_y": null,
            "padding": null,
            "right": null,
            "top": null,
            "visibility": null,
            "width": null
          }
        },
        "88d344bb5bb44600bea177c4bbd3c65a": {
          "model_module": "@jupyter-widgets/controls",
          "model_name": "ProgressStyleModel",
          "model_module_version": "1.5.0",
          "state": {
            "_model_module": "@jupyter-widgets/controls",
            "_model_module_version": "1.5.0",
            "_model_name": "ProgressStyleModel",
            "_view_count": null,
            "_view_module": "@jupyter-widgets/base",
            "_view_module_version": "1.2.0",
            "_view_name": "StyleView",
            "bar_color": null,
            "description_width": ""
          }
        },
        "82c4f59ed2e44bc2856209c6cdf3568e": {
          "model_module": "@jupyter-widgets/base",
          "model_name": "LayoutModel",
          "model_module_version": "1.2.0",
          "state": {
            "_model_module": "@jupyter-widgets/base",
            "_model_module_version": "1.2.0",
            "_model_name": "LayoutModel",
            "_view_count": null,
            "_view_module": "@jupyter-widgets/base",
            "_view_module_version": "1.2.0",
            "_view_name": "LayoutView",
            "align_content": null,
            "align_items": null,
            "align_self": null,
            "border": null,
            "bottom": null,
            "display": null,
            "flex": null,
            "flex_flow": null,
            "grid_area": null,
            "grid_auto_columns": null,
            "grid_auto_flow": null,
            "grid_auto_rows": null,
            "grid_column": null,
            "grid_gap": null,
            "grid_row": null,
            "grid_template_areas": null,
            "grid_template_columns": null,
            "grid_template_rows": null,
            "height": null,
            "justify_content": null,
            "justify_items": null,
            "left": null,
            "margin": null,
            "max_height": null,
            "max_width": null,
            "min_height": null,
            "min_width": null,
            "object_fit": null,
            "object_position": null,
            "order": null,
            "overflow": null,
            "overflow_x": null,
            "overflow_y": null,
            "padding": null,
            "right": null,
            "top": null,
            "visibility": null,
            "width": null
          }
        },
        "8a409baa298b4b0d89573e98afb2ed2c": {
          "model_module": "@jupyter-widgets/controls",
          "model_name": "DescriptionStyleModel",
          "model_module_version": "1.5.0",
          "state": {
            "_model_module": "@jupyter-widgets/controls",
            "_model_module_version": "1.5.0",
            "_model_name": "DescriptionStyleModel",
            "_view_count": null,
            "_view_module": "@jupyter-widgets/base",
            "_view_module_version": "1.2.0",
            "_view_name": "StyleView",
            "description_width": ""
          }
        },
        "8fd0bccf0ba049d79608473c523499bd": {
          "model_module": "@jupyter-widgets/controls",
          "model_name": "HBoxModel",
          "model_module_version": "1.5.0",
          "state": {
            "_dom_classes": [],
            "_model_module": "@jupyter-widgets/controls",
            "_model_module_version": "1.5.0",
            "_model_name": "HBoxModel",
            "_view_count": null,
            "_view_module": "@jupyter-widgets/controls",
            "_view_module_version": "1.5.0",
            "_view_name": "HBoxView",
            "box_style": "",
            "children": [
              "IPY_MODEL_76af6865c8714e51a3ef558315ca7419",
              "IPY_MODEL_1011d778f1dc45a2b34bb308876c5541",
              "IPY_MODEL_35517eb3a3ad4845b8ee8bb593bd7029"
            ],
            "layout": "IPY_MODEL_0f0f464a0c474bb9970945b8828940cf"
          }
        },
        "76af6865c8714e51a3ef558315ca7419": {
          "model_module": "@jupyter-widgets/controls",
          "model_name": "HTMLModel",
          "model_module_version": "1.5.0",
          "state": {
            "_dom_classes": [],
            "_model_module": "@jupyter-widgets/controls",
            "_model_module_version": "1.5.0",
            "_model_name": "HTMLModel",
            "_view_count": null,
            "_view_module": "@jupyter-widgets/controls",
            "_view_module_version": "1.5.0",
            "_view_name": "HTMLView",
            "description": "",
            "description_tooltip": null,
            "layout": "IPY_MODEL_dd7d90c6fe96461588ce653a433070ff",
            "placeholder": "​",
            "style": "IPY_MODEL_d64d021d9e7944e2a66094d9765ebcbb",
            "value": "100%"
          }
        },
        "1011d778f1dc45a2b34bb308876c5541": {
          "model_module": "@jupyter-widgets/controls",
          "model_name": "FloatProgressModel",
          "model_module_version": "1.5.0",
          "state": {
            "_dom_classes": [],
            "_model_module": "@jupyter-widgets/controls",
            "_model_module_version": "1.5.0",
            "_model_name": "FloatProgressModel",
            "_view_count": null,
            "_view_module": "@jupyter-widgets/controls",
            "_view_module_version": "1.5.0",
            "_view_name": "ProgressView",
            "bar_style": "success",
            "description": "",
            "description_tooltip": null,
            "layout": "IPY_MODEL_9d2efff7c24e4ae18c66c59b8d840fcc",
            "max": 28881,
            "min": 0,
            "orientation": "horizontal",
            "style": "IPY_MODEL_16c179da3e42431d86021850d523e01f",
            "value": 28881
          }
        },
        "35517eb3a3ad4845b8ee8bb593bd7029": {
          "model_module": "@jupyter-widgets/controls",
          "model_name": "HTMLModel",
          "model_module_version": "1.5.0",
          "state": {
            "_dom_classes": [],
            "_model_module": "@jupyter-widgets/controls",
            "_model_module_version": "1.5.0",
            "_model_name": "HTMLModel",
            "_view_count": null,
            "_view_module": "@jupyter-widgets/controls",
            "_view_module_version": "1.5.0",
            "_view_name": "HTMLView",
            "description": "",
            "description_tooltip": null,
            "layout": "IPY_MODEL_88ae7c8304504eef87e7ee279dc2593e",
            "placeholder": "​",
            "style": "IPY_MODEL_5a5b2c9352f64db187fc42cc2df22e5c",
            "value": " 28881/28881 [00:00&lt;00:00, 1393677.88it/s]"
          }
        },
        "0f0f464a0c474bb9970945b8828940cf": {
          "model_module": "@jupyter-widgets/base",
          "model_name": "LayoutModel",
          "model_module_version": "1.2.0",
          "state": {
            "_model_module": "@jupyter-widgets/base",
            "_model_module_version": "1.2.0",
            "_model_name": "LayoutModel",
            "_view_count": null,
            "_view_module": "@jupyter-widgets/base",
            "_view_module_version": "1.2.0",
            "_view_name": "LayoutView",
            "align_content": null,
            "align_items": null,
            "align_self": null,
            "border": null,
            "bottom": null,
            "display": null,
            "flex": null,
            "flex_flow": null,
            "grid_area": null,
            "grid_auto_columns": null,
            "grid_auto_flow": null,
            "grid_auto_rows": null,
            "grid_column": null,
            "grid_gap": null,
            "grid_row": null,
            "grid_template_areas": null,
            "grid_template_columns": null,
            "grid_template_rows": null,
            "height": null,
            "justify_content": null,
            "justify_items": null,
            "left": null,
            "margin": null,
            "max_height": null,
            "max_width": null,
            "min_height": null,
            "min_width": null,
            "object_fit": null,
            "object_position": null,
            "order": null,
            "overflow": null,
            "overflow_x": null,
            "overflow_y": null,
            "padding": null,
            "right": null,
            "top": null,
            "visibility": null,
            "width": null
          }
        },
        "dd7d90c6fe96461588ce653a433070ff": {
          "model_module": "@jupyter-widgets/base",
          "model_name": "LayoutModel",
          "model_module_version": "1.2.0",
          "state": {
            "_model_module": "@jupyter-widgets/base",
            "_model_module_version": "1.2.0",
            "_model_name": "LayoutModel",
            "_view_count": null,
            "_view_module": "@jupyter-widgets/base",
            "_view_module_version": "1.2.0",
            "_view_name": "LayoutView",
            "align_content": null,
            "align_items": null,
            "align_self": null,
            "border": null,
            "bottom": null,
            "display": null,
            "flex": null,
            "flex_flow": null,
            "grid_area": null,
            "grid_auto_columns": null,
            "grid_auto_flow": null,
            "grid_auto_rows": null,
            "grid_column": null,
            "grid_gap": null,
            "grid_row": null,
            "grid_template_areas": null,
            "grid_template_columns": null,
            "grid_template_rows": null,
            "height": null,
            "justify_content": null,
            "justify_items": null,
            "left": null,
            "margin": null,
            "max_height": null,
            "max_width": null,
            "min_height": null,
            "min_width": null,
            "object_fit": null,
            "object_position": null,
            "order": null,
            "overflow": null,
            "overflow_x": null,
            "overflow_y": null,
            "padding": null,
            "right": null,
            "top": null,
            "visibility": null,
            "width": null
          }
        },
        "d64d021d9e7944e2a66094d9765ebcbb": {
          "model_module": "@jupyter-widgets/controls",
          "model_name": "DescriptionStyleModel",
          "model_module_version": "1.5.0",
          "state": {
            "_model_module": "@jupyter-widgets/controls",
            "_model_module_version": "1.5.0",
            "_model_name": "DescriptionStyleModel",
            "_view_count": null,
            "_view_module": "@jupyter-widgets/base",
            "_view_module_version": "1.2.0",
            "_view_name": "StyleView",
            "description_width": ""
          }
        },
        "9d2efff7c24e4ae18c66c59b8d840fcc": {
          "model_module": "@jupyter-widgets/base",
          "model_name": "LayoutModel",
          "model_module_version": "1.2.0",
          "state": {
            "_model_module": "@jupyter-widgets/base",
            "_model_module_version": "1.2.0",
            "_model_name": "LayoutModel",
            "_view_count": null,
            "_view_module": "@jupyter-widgets/base",
            "_view_module_version": "1.2.0",
            "_view_name": "LayoutView",
            "align_content": null,
            "align_items": null,
            "align_self": null,
            "border": null,
            "bottom": null,
            "display": null,
            "flex": null,
            "flex_flow": null,
            "grid_area": null,
            "grid_auto_columns": null,
            "grid_auto_flow": null,
            "grid_auto_rows": null,
            "grid_column": null,
            "grid_gap": null,
            "grid_row": null,
            "grid_template_areas": null,
            "grid_template_columns": null,
            "grid_template_rows": null,
            "height": null,
            "justify_content": null,
            "justify_items": null,
            "left": null,
            "margin": null,
            "max_height": null,
            "max_width": null,
            "min_height": null,
            "min_width": null,
            "object_fit": null,
            "object_position": null,
            "order": null,
            "overflow": null,
            "overflow_x": null,
            "overflow_y": null,
            "padding": null,
            "right": null,
            "top": null,
            "visibility": null,
            "width": null
          }
        },
        "16c179da3e42431d86021850d523e01f": {
          "model_module": "@jupyter-widgets/controls",
          "model_name": "ProgressStyleModel",
          "model_module_version": "1.5.0",
          "state": {
            "_model_module": "@jupyter-widgets/controls",
            "_model_module_version": "1.5.0",
            "_model_name": "ProgressStyleModel",
            "_view_count": null,
            "_view_module": "@jupyter-widgets/base",
            "_view_module_version": "1.2.0",
            "_view_name": "StyleView",
            "bar_color": null,
            "description_width": ""
          }
        },
        "88ae7c8304504eef87e7ee279dc2593e": {
          "model_module": "@jupyter-widgets/base",
          "model_name": "LayoutModel",
          "model_module_version": "1.2.0",
          "state": {
            "_model_module": "@jupyter-widgets/base",
            "_model_module_version": "1.2.0",
            "_model_name": "LayoutModel",
            "_view_count": null,
            "_view_module": "@jupyter-widgets/base",
            "_view_module_version": "1.2.0",
            "_view_name": "LayoutView",
            "align_content": null,
            "align_items": null,
            "align_self": null,
            "border": null,
            "bottom": null,
            "display": null,
            "flex": null,
            "flex_flow": null,
            "grid_area": null,
            "grid_auto_columns": null,
            "grid_auto_flow": null,
            "grid_auto_rows": null,
            "grid_column": null,
            "grid_gap": null,
            "grid_row": null,
            "grid_template_areas": null,
            "grid_template_columns": null,
            "grid_template_rows": null,
            "height": null,
            "justify_content": null,
            "justify_items": null,
            "left": null,
            "margin": null,
            "max_height": null,
            "max_width": null,
            "min_height": null,
            "min_width": null,
            "object_fit": null,
            "object_position": null,
            "order": null,
            "overflow": null,
            "overflow_x": null,
            "overflow_y": null,
            "padding": null,
            "right": null,
            "top": null,
            "visibility": null,
            "width": null
          }
        },
        "5a5b2c9352f64db187fc42cc2df22e5c": {
          "model_module": "@jupyter-widgets/controls",
          "model_name": "DescriptionStyleModel",
          "model_module_version": "1.5.0",
          "state": {
            "_model_module": "@jupyter-widgets/controls",
            "_model_module_version": "1.5.0",
            "_model_name": "DescriptionStyleModel",
            "_view_count": null,
            "_view_module": "@jupyter-widgets/base",
            "_view_module_version": "1.2.0",
            "_view_name": "StyleView",
            "description_width": ""
          }
        },
        "96b1eded355f49dda88b7bf295c1756e": {
          "model_module": "@jupyter-widgets/controls",
          "model_name": "HBoxModel",
          "model_module_version": "1.5.0",
          "state": {
            "_dom_classes": [],
            "_model_module": "@jupyter-widgets/controls",
            "_model_module_version": "1.5.0",
            "_model_name": "HBoxModel",
            "_view_count": null,
            "_view_module": "@jupyter-widgets/controls",
            "_view_module_version": "1.5.0",
            "_view_name": "HBoxView",
            "box_style": "",
            "children": [
              "IPY_MODEL_56052727207c45828890a99222c2ade8",
              "IPY_MODEL_ec5b8feee1a3447cac35d67e5e8c24e6",
              "IPY_MODEL_a95b308375f440288a38b538946a9f4f"
            ],
            "layout": "IPY_MODEL_366793f8824849548397223e7bbb5fec"
          }
        },
        "56052727207c45828890a99222c2ade8": {
          "model_module": "@jupyter-widgets/controls",
          "model_name": "HTMLModel",
          "model_module_version": "1.5.0",
          "state": {
            "_dom_classes": [],
            "_model_module": "@jupyter-widgets/controls",
            "_model_module_version": "1.5.0",
            "_model_name": "HTMLModel",
            "_view_count": null,
            "_view_module": "@jupyter-widgets/controls",
            "_view_module_version": "1.5.0",
            "_view_name": "HTMLView",
            "description": "",
            "description_tooltip": null,
            "layout": "IPY_MODEL_85da8ef00d144a069b3a104f52465f31",
            "placeholder": "​",
            "style": "IPY_MODEL_a0123a0e6394486ca58a5cbcbac6b4cb",
            "value": "100%"
          }
        },
        "ec5b8feee1a3447cac35d67e5e8c24e6": {
          "model_module": "@jupyter-widgets/controls",
          "model_name": "FloatProgressModel",
          "model_module_version": "1.5.0",
          "state": {
            "_dom_classes": [],
            "_model_module": "@jupyter-widgets/controls",
            "_model_module_version": "1.5.0",
            "_model_name": "FloatProgressModel",
            "_view_count": null,
            "_view_module": "@jupyter-widgets/controls",
            "_view_module_version": "1.5.0",
            "_view_name": "ProgressView",
            "bar_style": "success",
            "description": "",
            "description_tooltip": null,
            "layout": "IPY_MODEL_e3c9af43770b48d4b0a6cb7f7ae20a3f",
            "max": 1648877,
            "min": 0,
            "orientation": "horizontal",
            "style": "IPY_MODEL_4705daf7f1c24a739c63bbe7d1b963ef",
            "value": 1648877
          }
        },
        "a95b308375f440288a38b538946a9f4f": {
          "model_module": "@jupyter-widgets/controls",
          "model_name": "HTMLModel",
          "model_module_version": "1.5.0",
          "state": {
            "_dom_classes": [],
            "_model_module": "@jupyter-widgets/controls",
            "_model_module_version": "1.5.0",
            "_model_name": "HTMLModel",
            "_view_count": null,
            "_view_module": "@jupyter-widgets/controls",
            "_view_module_version": "1.5.0",
            "_view_name": "HTMLView",
            "description": "",
            "description_tooltip": null,
            "layout": "IPY_MODEL_3ab66c5efb0547649e6fb753a7a01f11",
            "placeholder": "​",
            "style": "IPY_MODEL_88db4bcfbc0f4b639ba4086d4ef38ace",
            "value": " 1648877/1648877 [00:00&lt;00:00, 9462458.96it/s]"
          }
        },
        "366793f8824849548397223e7bbb5fec": {
          "model_module": "@jupyter-widgets/base",
          "model_name": "LayoutModel",
          "model_module_version": "1.2.0",
          "state": {
            "_model_module": "@jupyter-widgets/base",
            "_model_module_version": "1.2.0",
            "_model_name": "LayoutModel",
            "_view_count": null,
            "_view_module": "@jupyter-widgets/base",
            "_view_module_version": "1.2.0",
            "_view_name": "LayoutView",
            "align_content": null,
            "align_items": null,
            "align_self": null,
            "border": null,
            "bottom": null,
            "display": null,
            "flex": null,
            "flex_flow": null,
            "grid_area": null,
            "grid_auto_columns": null,
            "grid_auto_flow": null,
            "grid_auto_rows": null,
            "grid_column": null,
            "grid_gap": null,
            "grid_row": null,
            "grid_template_areas": null,
            "grid_template_columns": null,
            "grid_template_rows": null,
            "height": null,
            "justify_content": null,
            "justify_items": null,
            "left": null,
            "margin": null,
            "max_height": null,
            "max_width": null,
            "min_height": null,
            "min_width": null,
            "object_fit": null,
            "object_position": null,
            "order": null,
            "overflow": null,
            "overflow_x": null,
            "overflow_y": null,
            "padding": null,
            "right": null,
            "top": null,
            "visibility": null,
            "width": null
          }
        },
        "85da8ef00d144a069b3a104f52465f31": {
          "model_module": "@jupyter-widgets/base",
          "model_name": "LayoutModel",
          "model_module_version": "1.2.0",
          "state": {
            "_model_module": "@jupyter-widgets/base",
            "_model_module_version": "1.2.0",
            "_model_name": "LayoutModel",
            "_view_count": null,
            "_view_module": "@jupyter-widgets/base",
            "_view_module_version": "1.2.0",
            "_view_name": "LayoutView",
            "align_content": null,
            "align_items": null,
            "align_self": null,
            "border": null,
            "bottom": null,
            "display": null,
            "flex": null,
            "flex_flow": null,
            "grid_area": null,
            "grid_auto_columns": null,
            "grid_auto_flow": null,
            "grid_auto_rows": null,
            "grid_column": null,
            "grid_gap": null,
            "grid_row": null,
            "grid_template_areas": null,
            "grid_template_columns": null,
            "grid_template_rows": null,
            "height": null,
            "justify_content": null,
            "justify_items": null,
            "left": null,
            "margin": null,
            "max_height": null,
            "max_width": null,
            "min_height": null,
            "min_width": null,
            "object_fit": null,
            "object_position": null,
            "order": null,
            "overflow": null,
            "overflow_x": null,
            "overflow_y": null,
            "padding": null,
            "right": null,
            "top": null,
            "visibility": null,
            "width": null
          }
        },
        "a0123a0e6394486ca58a5cbcbac6b4cb": {
          "model_module": "@jupyter-widgets/controls",
          "model_name": "DescriptionStyleModel",
          "model_module_version": "1.5.0",
          "state": {
            "_model_module": "@jupyter-widgets/controls",
            "_model_module_version": "1.5.0",
            "_model_name": "DescriptionStyleModel",
            "_view_count": null,
            "_view_module": "@jupyter-widgets/base",
            "_view_module_version": "1.2.0",
            "_view_name": "StyleView",
            "description_width": ""
          }
        },
        "e3c9af43770b48d4b0a6cb7f7ae20a3f": {
          "model_module": "@jupyter-widgets/base",
          "model_name": "LayoutModel",
          "model_module_version": "1.2.0",
          "state": {
            "_model_module": "@jupyter-widgets/base",
            "_model_module_version": "1.2.0",
            "_model_name": "LayoutModel",
            "_view_count": null,
            "_view_module": "@jupyter-widgets/base",
            "_view_module_version": "1.2.0",
            "_view_name": "LayoutView",
            "align_content": null,
            "align_items": null,
            "align_self": null,
            "border": null,
            "bottom": null,
            "display": null,
            "flex": null,
            "flex_flow": null,
            "grid_area": null,
            "grid_auto_columns": null,
            "grid_auto_flow": null,
            "grid_auto_rows": null,
            "grid_column": null,
            "grid_gap": null,
            "grid_row": null,
            "grid_template_areas": null,
            "grid_template_columns": null,
            "grid_template_rows": null,
            "height": null,
            "justify_content": null,
            "justify_items": null,
            "left": null,
            "margin": null,
            "max_height": null,
            "max_width": null,
            "min_height": null,
            "min_width": null,
            "object_fit": null,
            "object_position": null,
            "order": null,
            "overflow": null,
            "overflow_x": null,
            "overflow_y": null,
            "padding": null,
            "right": null,
            "top": null,
            "visibility": null,
            "width": null
          }
        },
        "4705daf7f1c24a739c63bbe7d1b963ef": {
          "model_module": "@jupyter-widgets/controls",
          "model_name": "ProgressStyleModel",
          "model_module_version": "1.5.0",
          "state": {
            "_model_module": "@jupyter-widgets/controls",
            "_model_module_version": "1.5.0",
            "_model_name": "ProgressStyleModel",
            "_view_count": null,
            "_view_module": "@jupyter-widgets/base",
            "_view_module_version": "1.2.0",
            "_view_name": "StyleView",
            "bar_color": null,
            "description_width": ""
          }
        },
        "3ab66c5efb0547649e6fb753a7a01f11": {
          "model_module": "@jupyter-widgets/base",
          "model_name": "LayoutModel",
          "model_module_version": "1.2.0",
          "state": {
            "_model_module": "@jupyter-widgets/base",
            "_model_module_version": "1.2.0",
            "_model_name": "LayoutModel",
            "_view_count": null,
            "_view_module": "@jupyter-widgets/base",
            "_view_module_version": "1.2.0",
            "_view_name": "LayoutView",
            "align_content": null,
            "align_items": null,
            "align_self": null,
            "border": null,
            "bottom": null,
            "display": null,
            "flex": null,
            "flex_flow": null,
            "grid_area": null,
            "grid_auto_columns": null,
            "grid_auto_flow": null,
            "grid_auto_rows": null,
            "grid_column": null,
            "grid_gap": null,
            "grid_row": null,
            "grid_template_areas": null,
            "grid_template_columns": null,
            "grid_template_rows": null,
            "height": null,
            "justify_content": null,
            "justify_items": null,
            "left": null,
            "margin": null,
            "max_height": null,
            "max_width": null,
            "min_height": null,
            "min_width": null,
            "object_fit": null,
            "object_position": null,
            "order": null,
            "overflow": null,
            "overflow_x": null,
            "overflow_y": null,
            "padding": null,
            "right": null,
            "top": null,
            "visibility": null,
            "width": null
          }
        },
        "88db4bcfbc0f4b639ba4086d4ef38ace": {
          "model_module": "@jupyter-widgets/controls",
          "model_name": "DescriptionStyleModel",
          "model_module_version": "1.5.0",
          "state": {
            "_model_module": "@jupyter-widgets/controls",
            "_model_module_version": "1.5.0",
            "_model_name": "DescriptionStyleModel",
            "_view_count": null,
            "_view_module": "@jupyter-widgets/base",
            "_view_module_version": "1.2.0",
            "_view_name": "StyleView",
            "description_width": ""
          }
        },
        "7171431834ab487c8fd0e7f22954c075": {
          "model_module": "@jupyter-widgets/controls",
          "model_name": "HBoxModel",
          "model_module_version": "1.5.0",
          "state": {
            "_dom_classes": [],
            "_model_module": "@jupyter-widgets/controls",
            "_model_module_version": "1.5.0",
            "_model_name": "HBoxModel",
            "_view_count": null,
            "_view_module": "@jupyter-widgets/controls",
            "_view_module_version": "1.5.0",
            "_view_name": "HBoxView",
            "box_style": "",
            "children": [
              "IPY_MODEL_7dacc84311ef406ca19f4088a951c948",
              "IPY_MODEL_fbe5ee4a1baf4d3cb17134366865900b",
              "IPY_MODEL_0377b991144c43a1a5c3c994d791c7b2"
            ],
            "layout": "IPY_MODEL_b6f641450e8b43a893a9570b974ee60e"
          }
        },
        "7dacc84311ef406ca19f4088a951c948": {
          "model_module": "@jupyter-widgets/controls",
          "model_name": "HTMLModel",
          "model_module_version": "1.5.0",
          "state": {
            "_dom_classes": [],
            "_model_module": "@jupyter-widgets/controls",
            "_model_module_version": "1.5.0",
            "_model_name": "HTMLModel",
            "_view_count": null,
            "_view_module": "@jupyter-widgets/controls",
            "_view_module_version": "1.5.0",
            "_view_name": "HTMLView",
            "description": "",
            "description_tooltip": null,
            "layout": "IPY_MODEL_3a9f7844c2d742cebffcfef2758a12ce",
            "placeholder": "​",
            "style": "IPY_MODEL_a6f59b1043324801bfd06f639791824d",
            "value": "100%"
          }
        },
        "fbe5ee4a1baf4d3cb17134366865900b": {
          "model_module": "@jupyter-widgets/controls",
          "model_name": "FloatProgressModel",
          "model_module_version": "1.5.0",
          "state": {
            "_dom_classes": [],
            "_model_module": "@jupyter-widgets/controls",
            "_model_module_version": "1.5.0",
            "_model_name": "FloatProgressModel",
            "_view_count": null,
            "_view_module": "@jupyter-widgets/controls",
            "_view_module_version": "1.5.0",
            "_view_name": "ProgressView",
            "bar_style": "success",
            "description": "",
            "description_tooltip": null,
            "layout": "IPY_MODEL_ded1753ee02144a8b15bc1094ae339a8",
            "max": 4542,
            "min": 0,
            "orientation": "horizontal",
            "style": "IPY_MODEL_db24a6a7f9bf4c6a9f301a7575d22df7",
            "value": 4542
          }
        },
        "0377b991144c43a1a5c3c994d791c7b2": {
          "model_module": "@jupyter-widgets/controls",
          "model_name": "HTMLModel",
          "model_module_version": "1.5.0",
          "state": {
            "_dom_classes": [],
            "_model_module": "@jupyter-widgets/controls",
            "_model_module_version": "1.5.0",
            "_model_name": "HTMLModel",
            "_view_count": null,
            "_view_module": "@jupyter-widgets/controls",
            "_view_module_version": "1.5.0",
            "_view_name": "HTMLView",
            "description": "",
            "description_tooltip": null,
            "layout": "IPY_MODEL_7abf0131aa854bde9cff701a81b19db8",
            "placeholder": "​",
            "style": "IPY_MODEL_4359b9f4f76e4e21921a253383ad561c",
            "value": " 4542/4542 [00:00&lt;00:00, 269589.31it/s]"
          }
        },
        "b6f641450e8b43a893a9570b974ee60e": {
          "model_module": "@jupyter-widgets/base",
          "model_name": "LayoutModel",
          "model_module_version": "1.2.0",
          "state": {
            "_model_module": "@jupyter-widgets/base",
            "_model_module_version": "1.2.0",
            "_model_name": "LayoutModel",
            "_view_count": null,
            "_view_module": "@jupyter-widgets/base",
            "_view_module_version": "1.2.0",
            "_view_name": "LayoutView",
            "align_content": null,
            "align_items": null,
            "align_self": null,
            "border": null,
            "bottom": null,
            "display": null,
            "flex": null,
            "flex_flow": null,
            "grid_area": null,
            "grid_auto_columns": null,
            "grid_auto_flow": null,
            "grid_auto_rows": null,
            "grid_column": null,
            "grid_gap": null,
            "grid_row": null,
            "grid_template_areas": null,
            "grid_template_columns": null,
            "grid_template_rows": null,
            "height": null,
            "justify_content": null,
            "justify_items": null,
            "left": null,
            "margin": null,
            "max_height": null,
            "max_width": null,
            "min_height": null,
            "min_width": null,
            "object_fit": null,
            "object_position": null,
            "order": null,
            "overflow": null,
            "overflow_x": null,
            "overflow_y": null,
            "padding": null,
            "right": null,
            "top": null,
            "visibility": null,
            "width": null
          }
        },
        "3a9f7844c2d742cebffcfef2758a12ce": {
          "model_module": "@jupyter-widgets/base",
          "model_name": "LayoutModel",
          "model_module_version": "1.2.0",
          "state": {
            "_model_module": "@jupyter-widgets/base",
            "_model_module_version": "1.2.0",
            "_model_name": "LayoutModel",
            "_view_count": null,
            "_view_module": "@jupyter-widgets/base",
            "_view_module_version": "1.2.0",
            "_view_name": "LayoutView",
            "align_content": null,
            "align_items": null,
            "align_self": null,
            "border": null,
            "bottom": null,
            "display": null,
            "flex": null,
            "flex_flow": null,
            "grid_area": null,
            "grid_auto_columns": null,
            "grid_auto_flow": null,
            "grid_auto_rows": null,
            "grid_column": null,
            "grid_gap": null,
            "grid_row": null,
            "grid_template_areas": null,
            "grid_template_columns": null,
            "grid_template_rows": null,
            "height": null,
            "justify_content": null,
            "justify_items": null,
            "left": null,
            "margin": null,
            "max_height": null,
            "max_width": null,
            "min_height": null,
            "min_width": null,
            "object_fit": null,
            "object_position": null,
            "order": null,
            "overflow": null,
            "overflow_x": null,
            "overflow_y": null,
            "padding": null,
            "right": null,
            "top": null,
            "visibility": null,
            "width": null
          }
        },
        "a6f59b1043324801bfd06f639791824d": {
          "model_module": "@jupyter-widgets/controls",
          "model_name": "DescriptionStyleModel",
          "model_module_version": "1.5.0",
          "state": {
            "_model_module": "@jupyter-widgets/controls",
            "_model_module_version": "1.5.0",
            "_model_name": "DescriptionStyleModel",
            "_view_count": null,
            "_view_module": "@jupyter-widgets/base",
            "_view_module_version": "1.2.0",
            "_view_name": "StyleView",
            "description_width": ""
          }
        },
        "ded1753ee02144a8b15bc1094ae339a8": {
          "model_module": "@jupyter-widgets/base",
          "model_name": "LayoutModel",
          "model_module_version": "1.2.0",
          "state": {
            "_model_module": "@jupyter-widgets/base",
            "_model_module_version": "1.2.0",
            "_model_name": "LayoutModel",
            "_view_count": null,
            "_view_module": "@jupyter-widgets/base",
            "_view_module_version": "1.2.0",
            "_view_name": "LayoutView",
            "align_content": null,
            "align_items": null,
            "align_self": null,
            "border": null,
            "bottom": null,
            "display": null,
            "flex": null,
            "flex_flow": null,
            "grid_area": null,
            "grid_auto_columns": null,
            "grid_auto_flow": null,
            "grid_auto_rows": null,
            "grid_column": null,
            "grid_gap": null,
            "grid_row": null,
            "grid_template_areas": null,
            "grid_template_columns": null,
            "grid_template_rows": null,
            "height": null,
            "justify_content": null,
            "justify_items": null,
            "left": null,
            "margin": null,
            "max_height": null,
            "max_width": null,
            "min_height": null,
            "min_width": null,
            "object_fit": null,
            "object_position": null,
            "order": null,
            "overflow": null,
            "overflow_x": null,
            "overflow_y": null,
            "padding": null,
            "right": null,
            "top": null,
            "visibility": null,
            "width": null
          }
        },
        "db24a6a7f9bf4c6a9f301a7575d22df7": {
          "model_module": "@jupyter-widgets/controls",
          "model_name": "ProgressStyleModel",
          "model_module_version": "1.5.0",
          "state": {
            "_model_module": "@jupyter-widgets/controls",
            "_model_module_version": "1.5.0",
            "_model_name": "ProgressStyleModel",
            "_view_count": null,
            "_view_module": "@jupyter-widgets/base",
            "_view_module_version": "1.2.0",
            "_view_name": "StyleView",
            "bar_color": null,
            "description_width": ""
          }
        },
        "7abf0131aa854bde9cff701a81b19db8": {
          "model_module": "@jupyter-widgets/base",
          "model_name": "LayoutModel",
          "model_module_version": "1.2.0",
          "state": {
            "_model_module": "@jupyter-widgets/base",
            "_model_module_version": "1.2.0",
            "_model_name": "LayoutModel",
            "_view_count": null,
            "_view_module": "@jupyter-widgets/base",
            "_view_module_version": "1.2.0",
            "_view_name": "LayoutView",
            "align_content": null,
            "align_items": null,
            "align_self": null,
            "border": null,
            "bottom": null,
            "display": null,
            "flex": null,
            "flex_flow": null,
            "grid_area": null,
            "grid_auto_columns": null,
            "grid_auto_flow": null,
            "grid_auto_rows": null,
            "grid_column": null,
            "grid_gap": null,
            "grid_row": null,
            "grid_template_areas": null,
            "grid_template_columns": null,
            "grid_template_rows": null,
            "height": null,
            "justify_content": null,
            "justify_items": null,
            "left": null,
            "margin": null,
            "max_height": null,
            "max_width": null,
            "min_height": null,
            "min_width": null,
            "object_fit": null,
            "object_position": null,
            "order": null,
            "overflow": null,
            "overflow_x": null,
            "overflow_y": null,
            "padding": null,
            "right": null,
            "top": null,
            "visibility": null,
            "width": null
          }
        },
        "4359b9f4f76e4e21921a253383ad561c": {
          "model_module": "@jupyter-widgets/controls",
          "model_name": "DescriptionStyleModel",
          "model_module_version": "1.5.0",
          "state": {
            "_model_module": "@jupyter-widgets/controls",
            "_model_module_version": "1.5.0",
            "_model_name": "DescriptionStyleModel",
            "_view_count": null,
            "_view_module": "@jupyter-widgets/base",
            "_view_module_version": "1.2.0",
            "_view_name": "StyleView",
            "description_width": ""
          }
        }
      }
    }
  },
  "nbformat": 4,
  "nbformat_minor": 0
}